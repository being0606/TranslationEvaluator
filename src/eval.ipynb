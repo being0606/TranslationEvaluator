{
 "cells": [
  {
   "cell_type": "code",
   "execution_count": 1,
   "metadata": {},
   "outputs": [
    {
     "name": "stdout",
     "output_type": "stream",
     "text": [
      "Defaulting to user installation because normal site-packages is not writeable\n",
      "Requirement already satisfied: evaluate in /Users/being/Library/Python/3.9/lib/python/site-packages (from -r ../requirements.txt (line 1)) (0.4.3)\n",
      "Requirement already satisfied: sacrebleu in /Users/being/Library/Python/3.9/lib/python/site-packages (from -r ../requirements.txt (line 2)) (2.4.3)\n",
      "Collecting rouge_score\n",
      "  Downloading rouge_score-0.1.2.tar.gz (17 kB)\n",
      "Requirement already satisfied: requests>=2.19.0 in /Users/being/Library/Python/3.9/lib/python/site-packages (from evaluate->-r ../requirements.txt (line 1)) (2.32.3)\n",
      "Requirement already satisfied: huggingface-hub>=0.7.0 in /Users/being/Library/Python/3.9/lib/python/site-packages (from evaluate->-r ../requirements.txt (line 1)) (0.23.2)\n",
      "Requirement already satisfied: datasets>=2.0.0 in /Users/being/Library/Python/3.9/lib/python/site-packages (from evaluate->-r ../requirements.txt (line 1)) (3.0.1)\n",
      "Requirement already satisfied: packaging in /Users/being/Library/Python/3.9/lib/python/site-packages (from evaluate->-r ../requirements.txt (line 1)) (24.1)\n",
      "Requirement already satisfied: numpy>=1.17 in /Users/being/Library/Python/3.9/lib/python/site-packages (from evaluate->-r ../requirements.txt (line 1)) (1.23.1)\n",
      "Requirement already satisfied: pandas in /Users/being/Library/Python/3.9/lib/python/site-packages (from evaluate->-r ../requirements.txt (line 1)) (1.5.3)\n",
      "Requirement already satisfied: tqdm>=4.62.1 in /Users/being/Library/Python/3.9/lib/python/site-packages (from evaluate->-r ../requirements.txt (line 1)) (4.66.5)\n",
      "Requirement already satisfied: dill in /Users/being/Library/Python/3.9/lib/python/site-packages (from evaluate->-r ../requirements.txt (line 1)) (0.3.8)\n",
      "Requirement already satisfied: xxhash in /Users/being/Library/Python/3.9/lib/python/site-packages (from evaluate->-r ../requirements.txt (line 1)) (3.4.1)\n",
      "Requirement already satisfied: multiprocess in /Users/being/Library/Python/3.9/lib/python/site-packages (from evaluate->-r ../requirements.txt (line 1)) (0.70.16)\n",
      "Requirement already satisfied: fsspec[http]>=2021.05.0 in /Users/being/Library/Python/3.9/lib/python/site-packages (from evaluate->-r ../requirements.txt (line 1)) (2023.12.2)\n",
      "Requirement already satisfied: portalocker in /Users/being/Library/Python/3.9/lib/python/site-packages (from sacrebleu->-r ../requirements.txt (line 2)) (3.0.0)\n",
      "Requirement already satisfied: tabulate>=0.8.9 in /Users/being/Library/Python/3.9/lib/python/site-packages (from sacrebleu->-r ../requirements.txt (line 2)) (0.9.0)\n",
      "Requirement already satisfied: colorama in /Users/being/Library/Python/3.9/lib/python/site-packages (from sacrebleu->-r ../requirements.txt (line 2)) (0.4.6)\n",
      "Requirement already satisfied: lxml in /Users/being/Library/Python/3.9/lib/python/site-packages (from sacrebleu->-r ../requirements.txt (line 2)) (4.9.3)\n",
      "Requirement already satisfied: regex in /Users/being/Library/Python/3.9/lib/python/site-packages (from sacrebleu->-r ../requirements.txt (line 2)) (2023.10.3)\n",
      "Requirement already satisfied: absl-py in /Users/being/Library/Python/3.9/lib/python/site-packages (from rouge_score->-r ../requirements.txt (line 3)) (2.0.0)\n",
      "Requirement already satisfied: nltk in /Users/being/Library/Python/3.9/lib/python/site-packages (from rouge_score->-r ../requirements.txt (line 3)) (3.8.1)\n",
      "Requirement already satisfied: six>=1.14.0 in /Users/being/Library/Python/3.9/lib/python/site-packages (from rouge_score->-r ../requirements.txt (line 3)) (1.16.0)\n",
      "Requirement already satisfied: pyarrow>=15.0.0 in /Users/being/Library/Python/3.9/lib/python/site-packages (from datasets>=2.0.0->evaluate->-r ../requirements.txt (line 1)) (17.0.0)\n",
      "Requirement already satisfied: filelock in /Users/being/Library/Python/3.9/lib/python/site-packages (from datasets>=2.0.0->evaluate->-r ../requirements.txt (line 1)) (3.12.4)\n",
      "Requirement already satisfied: aiohttp in /Users/being/Library/Python/3.9/lib/python/site-packages (from datasets>=2.0.0->evaluate->-r ../requirements.txt (line 1)) (3.9.5)\n",
      "Requirement already satisfied: pyyaml>=5.1 in /Users/being/Library/Python/3.9/lib/python/site-packages (from datasets>=2.0.0->evaluate->-r ../requirements.txt (line 1)) (6.0.1)\n",
      "Requirement already satisfied: yarl<2.0,>=1.0 in /Users/being/Library/Python/3.9/lib/python/site-packages (from aiohttp->datasets>=2.0.0->evaluate->-r ../requirements.txt (line 1)) (1.9.4)\n",
      "Requirement already satisfied: async-timeout<5.0,>=4.0 in /Users/being/Library/Python/3.9/lib/python/site-packages (from aiohttp->datasets>=2.0.0->evaluate->-r ../requirements.txt (line 1)) (4.0.3)\n",
      "Requirement already satisfied: attrs>=17.3.0 in /Users/being/Library/Python/3.9/lib/python/site-packages (from aiohttp->datasets>=2.0.0->evaluate->-r ../requirements.txt (line 1)) (23.1.0)\n",
      "Requirement already satisfied: multidict<7.0,>=4.5 in /Users/being/Library/Python/3.9/lib/python/site-packages (from aiohttp->datasets>=2.0.0->evaluate->-r ../requirements.txt (line 1)) (6.0.5)\n",
      "Requirement already satisfied: aiosignal>=1.1.2 in /Users/being/Library/Python/3.9/lib/python/site-packages (from aiohttp->datasets>=2.0.0->evaluate->-r ../requirements.txt (line 1)) (1.3.1)\n",
      "Requirement already satisfied: frozenlist>=1.1.1 in /Users/being/Library/Python/3.9/lib/python/site-packages (from aiohttp->datasets>=2.0.0->evaluate->-r ../requirements.txt (line 1)) (1.4.1)\n",
      "Requirement already satisfied: typing-extensions>=3.7.4.3 in /Users/being/Library/Python/3.9/lib/python/site-packages (from huggingface-hub>=0.7.0->evaluate->-r ../requirements.txt (line 1)) (4.12.2)\n",
      "Requirement already satisfied: charset-normalizer<4,>=2 in /Users/being/Library/Python/3.9/lib/python/site-packages (from requests>=2.19.0->evaluate->-r ../requirements.txt (line 1)) (3.2.0)\n",
      "Requirement already satisfied: idna<4,>=2.5 in /Users/being/Library/Python/3.9/lib/python/site-packages (from requests>=2.19.0->evaluate->-r ../requirements.txt (line 1)) (3.4)\n",
      "Requirement already satisfied: certifi>=2017.4.17 in /Users/being/Library/Python/3.9/lib/python/site-packages (from requests>=2.19.0->evaluate->-r ../requirements.txt (line 1)) (2023.7.22)\n",
      "Requirement already satisfied: urllib3<3,>=1.21.1 in /Users/being/Library/Python/3.9/lib/python/site-packages (from requests>=2.19.0->evaluate->-r ../requirements.txt (line 1)) (2.2.1)\n",
      "Requirement already satisfied: click in /Users/being/Library/Python/3.9/lib/python/site-packages (from nltk->rouge_score->-r ../requirements.txt (line 3)) (8.1.7)\n",
      "Requirement already satisfied: joblib in /Users/being/Library/Python/3.9/lib/python/site-packages (from nltk->rouge_score->-r ../requirements.txt (line 3)) (1.3.2)\n",
      "Requirement already satisfied: python-dateutil>=2.8.1 in /Users/being/Library/Python/3.9/lib/python/site-packages (from pandas->evaluate->-r ../requirements.txt (line 1)) (2.8.2)\n",
      "Requirement already satisfied: pytz>=2020.1 in /Users/being/Library/Python/3.9/lib/python/site-packages (from pandas->evaluate->-r ../requirements.txt (line 1)) (2023.3.post1)\n",
      "Building wheels for collected packages: rouge-score\n",
      "  Building wheel for rouge-score (setup.py) ... \u001b[?25ldone\n",
      "\u001b[?25h  Created wheel for rouge-score: filename=rouge_score-0.1.2-py3-none-any.whl size=24935 sha256=540bbc6dad4ea2260247d1627b5a6a2f46c958515ad8fd7d2dc53fa65bbdd01d\n",
      "  Stored in directory: /Users/being/Library/Caches/pip/wheels/9b/3d/39/09558097d3119ca0a4d462df68f22c6f3c1b345ac63a09b86e\n",
      "Successfully built rouge-score\n",
      "Installing collected packages: rouge-score\n",
      "Successfully installed rouge-score-0.1.2\n",
      "\u001b[33mWARNING: You are using pip version 21.2.4; however, version 24.3.1 is available.\n",
      "You should consider upgrading via the '/Library/Developer/CommandLineTools/usr/bin/python3 -m pip install --upgrade pip' command.\u001b[0m\n"
     ]
    }
   ],
   "source": [
    "!pip3 install -r ../requirements.txt"
   ]
  },
  {
   "cell_type": "code",
   "execution_count": 2,
   "metadata": {},
   "outputs": [
    {
     "name": "stderr",
     "output_type": "stream",
     "text": [
      "/Users/being/Library/Python/3.9/lib/python/site-packages/urllib3/__init__.py:35: NotOpenSSLWarning: urllib3 v2 only supports OpenSSL 1.1.1+, currently the 'ssl' module is compiled with 'LibreSSL 2.8.3'. See: https://github.com/urllib3/urllib3/issues/3020\n",
      "  warnings.warn(\n"
     ]
    }
   ],
   "source": [
    "import evaluate"
   ]
  },
  {
   "cell_type": "code",
   "execution_count": null,
   "metadata": {},
   "outputs": [
    {
     "name": "stderr",
     "output_type": "stream",
     "text": [
      "[nltk_data] Downloading package wordnet to /Users/being/nltk_data...\n",
      "[nltk_data]   Package wordnet is already up-to-date!\n",
      "[nltk_data] Downloading package punkt to /Users/being/nltk_data...\n",
      "[nltk_data]   Package punkt is already up-to-date!\n",
      "[nltk_data] Downloading package omw-1.4 to /Users/being/nltk_data...\n",
      "[nltk_data]   Package omw-1.4 is already up-to-date!\n"
     ]
    },
    {
     "name": "stdout",
     "output_type": "stream",
     "text": [
      "Results saved to /Users/being/Desktop/workspace2024/TranslationEvaluator/src/evaluation_results.csv\n"
     ]
    }
   ],
   "source": [
    "import evaluate\n",
    "import pandas as pd\n",
    "import os\n",
    "\n",
    "class TranslationEvaluator:\n",
    "    def __init__(self, predictions, references, output_path='evaluation_results.csv'):\n",
    "        self.predictions = predictions\n",
    "        self.references = references\n",
    "        self.output_path = output_path\n",
    "        self._validate_inputs()\n",
    "        self.metrics = {\n",
    "            'bleu': evaluate.load('bleu'),\n",
    "            'meteor': evaluate.load('meteor'),\n",
    "            'ter': evaluate.load('ter'),\n",
    "            'rouge': evaluate.load('rouge')\n",
    "        }\n",
    "        self.results = []\n",
    "\n",
    "    def _validate_inputs(self):\n",
    "        if not isinstance(self.predictions, list) or not isinstance(self.references, list):\n",
    "            raise ValueError(\"Predictions and references should be lists.\")\n",
    "        if len(self.predictions) != len(self.references):\n",
    "            raise ValueError(\"Predictions and references must have the same length.\")\n",
    "        ref_len = len(self.references[0])\n",
    "        for ref in self.references:\n",
    "            if len(ref) != ref_len:\n",
    "                raise ValueError(\"Each reference list must have the same number of sentences.\")\n",
    "\n",
    "    def compute_scores(self):\n",
    "        for idx, (pred, ref) in enumerate(zip(self.predictions, self.references)):\n",
    "            row = {\n",
    "                'index': idx,\n",
    "                'sentence_references': ' ||| '.join(ref),\n",
    "                'sentence_predictions': pred\n",
    "            }\n",
    "            for metric_name, metric in self.metrics.items():\n",
    "                score = metric.compute(predictions=[pred], references=[ref])\n",
    "                if metric_name == 'rouge':\n",
    "                    row.update({f'Metric_{metric_name}_{k}': v for k, v in score.items()})\n",
    "                elif metric_name == 'ter':\n",
    "                    row[f'Metric_{metric_name}'] = score['score']\n",
    "                else:\n",
    "                    row[f'Metric_{metric_name}'] = score[metric_name]\n",
    "            self.results.append(row)\n",
    "\n",
    "    def save_to_csv(self):\n",
    "        df = pd.DataFrame(self.results)\n",
    "        df.to_csv(self.output_path, index=False)\n",
    "        print(f\"Results saved to {os.path.abspath(self.output_path)}\")\n",
    "\n",
    "# 예시 데이터\n",
    "references = [\n",
    "    [\"이것은 예시 번역입니다.\", \"이것은 또 다른 예시입니다.\"],\n",
    "    [\"이것은 또 다른 예시입니다.\", \"또 다른 예시 번역입니다.\"]\n",
    "]\n",
    "\n",
    "\n",
    "predictions = [\n",
    "    \"이것은 예시 번역입니다.\",\n",
    "    \"또 다른 예시 번역입니다.\"\n",
    "]\n",
    "\n",
    "\n",
    "\n",
    "# 클래스 사용 예시\n",
    "evaluator = TranslationEvaluator(predictions, references)\n",
    "evaluator.compute_scores()\n",
    "evaluator.save_to_csv()"
   ]
  },
  {
   "cell_type": "code",
   "execution_count": null,
   "metadata": {},
   "outputs": [],
   "source": []
  }
 ],
 "metadata": {
  "kernelspec": {
   "display_name": "Python 3",
   "language": "python",
   "name": "python3"
  },
  "language_info": {
   "codemirror_mode": {
    "name": "ipython",
    "version": 3
   },
   "file_extension": ".py",
   "mimetype": "text/x-python",
   "name": "python",
   "nbconvert_exporter": "python",
   "pygments_lexer": "ipython3",
   "version": "3.9.6"
  }
 },
 "nbformat": 4,
 "nbformat_minor": 2
}
