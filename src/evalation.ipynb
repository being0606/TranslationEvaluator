{
 "cells": [
  {
   "cell_type": "code",
   "execution_count": 1,
   "metadata": {},
   "outputs": [
    {
     "name": "stderr",
     "output_type": "stream",
     "text": [
      "/Users/being/Library/Python/3.9/lib/python/site-packages/urllib3/__init__.py:35: NotOpenSSLWarning: urllib3 v2 only supports OpenSSL 1.1.1+, currently the 'ssl' module is compiled with 'LibreSSL 2.8.3'. See: https://github.com/urllib3/urllib3/issues/3020\n",
      "  warnings.warn(\n"
     ]
    }
   ],
   "source": [
    "import evaluate\n",
    "import pandas as pd\n",
    "import os\n",
    "\n",
    "from eval import TranslationEvaluator"
   ]
  },
  {
   "cell_type": "code",
   "execution_count": 2,
   "metadata": {},
   "outputs": [
    {
     "name": "stderr",
     "output_type": "stream",
     "text": [
      "[nltk_data] Downloading package wordnet to /Users/being/nltk_data...\n",
      "[nltk_data]   Package wordnet is already up-to-date!\n",
      "[nltk_data] Downloading package punkt to /Users/being/nltk_data...\n",
      "[nltk_data]   Package punkt is already up-to-date!\n",
      "[nltk_data] Downloading package omw-1.4 to /Users/being/nltk_data...\n",
      "[nltk_data]   Package omw-1.4 is already up-to-date!\n",
      "Evaluating:   0%|          | 0/1000 [00:00<?, ?it/s]"
     ]
    },
    {
     "name": "stdout",
     "output_type": "stream",
     "text": [
      "bleu took 0.01 seconds\n"
     ]
    },
    {
     "name": "stderr",
     "output_type": "stream",
     "text": [
      "Evaluating:   0%|          | 3/1000 [00:01<04:43,  3.52it/s]"
     ]
    },
    {
     "name": "stdout",
     "output_type": "stream",
     "text": [
      "meteor took 0.85 seconds\n",
      "rouge took 0.08 seconds\n",
      "bleu took 0.00 seconds\n",
      "meteor took 0.00 seconds\n",
      "rouge took 0.05 seconds\n",
      "bleu took 0.00 seconds\n",
      "meteor took 0.01 seconds\n",
      "rouge took 0.05 seconds\n",
      "bleu took 0.00 seconds\n",
      "meteor took 0.01 seconds\n"
     ]
    },
    {
     "name": "stderr",
     "output_type": "stream",
     "text": [
      "Evaluating:   0%|          | 5/1000 [00:01<03:08,  5.27it/s]"
     ]
    },
    {
     "name": "stdout",
     "output_type": "stream",
     "text": [
      "rouge took 0.13 seconds\n",
      "bleu took 0.00 seconds\n",
      "meteor took 0.01 seconds\n",
      "rouge took 0.05 seconds\n",
      "bleu took 0.00 seconds\n",
      "meteor took 0.01 seconds\n",
      "rouge took 0.05 seconds\n",
      "bleu took 0.01 seconds\n",
      "meteor took 0.04 seconds\n"
     ]
    },
    {
     "name": "stderr",
     "output_type": "stream",
     "text": [
      "Evaluating:   1%|          | 9/1000 [00:01<01:59,  8.27it/s]"
     ]
    },
    {
     "name": "stdout",
     "output_type": "stream",
     "text": [
      "rouge took 0.13 seconds\n",
      "bleu took 0.00 seconds\n",
      "meteor took 0.00 seconds\n",
      "rouge took 0.05 seconds\n",
      "bleu took 0.00 seconds\n",
      "meteor took 0.01 seconds\n",
      "rouge took 0.05 seconds\n",
      "bleu took 0.00 seconds\n",
      "meteor took 0.01 seconds\n",
      "rouge took 0.05 seconds\n",
      "bleu took 0.00 seconds\n",
      "meteor took 0.03 seconds\n"
     ]
    },
    {
     "name": "stderr",
     "output_type": "stream",
     "text": [
      "Evaluating:   1%|▏         | 13/1000 [00:01<01:32, 10.71it/s]"
     ]
    },
    {
     "name": "stdout",
     "output_type": "stream",
     "text": [
      "rouge took 0.12 seconds\n",
      "bleu took 0.00 seconds\n",
      "meteor took 0.00 seconds\n",
      "rouge took 0.05 seconds\n",
      "bleu took 0.00 seconds\n",
      "meteor took 0.00 seconds\n",
      "rouge took 0.05 seconds\n",
      "bleu took 0.00 seconds\n",
      "meteor took 0.00 seconds\n",
      "rouge took 0.05 seconds\n",
      "bleu took 0.00 seconds\n",
      "meteor took 0.01 seconds\n"
     ]
    },
    {
     "name": "stderr",
     "output_type": "stream",
     "text": [
      "Evaluating:   2%|▏         | 17/1000 [00:02<01:12, 13.48it/s]"
     ]
    },
    {
     "name": "stdout",
     "output_type": "stream",
     "text": [
      "rouge took 0.05 seconds\n",
      "bleu took 0.00 seconds\n",
      "meteor took 0.01 seconds\n",
      "rouge took 0.05 seconds\n",
      "bleu took 0.00 seconds\n",
      "meteor took 0.00 seconds\n",
      "rouge took 0.05 seconds\n",
      "bleu took 0.00 seconds\n",
      "meteor took 0.01 seconds\n",
      "rouge took 0.05 seconds\n",
      "bleu took 0.00 seconds\n",
      "meteor took 0.00 seconds\n"
     ]
    },
    {
     "name": "stderr",
     "output_type": "stream",
     "text": [
      "Evaluating:   2%|▏         | 21/1000 [00:02<01:05, 14.86it/s]"
     ]
    },
    {
     "name": "stdout",
     "output_type": "stream",
     "text": [
      "rouge took 0.06 seconds\n",
      "bleu took 0.01 seconds\n",
      "meteor took 0.00 seconds\n",
      "rouge took 0.05 seconds\n",
      "bleu took 0.00 seconds\n",
      "meteor took 0.01 seconds\n",
      "rouge took 0.05 seconds\n",
      "bleu took 0.00 seconds\n",
      "meteor took 0.00 seconds\n",
      "rouge took 0.05 seconds\n",
      "bleu took 0.00 seconds\n",
      "meteor took 0.00 seconds\n"
     ]
    },
    {
     "name": "stderr",
     "output_type": "stream",
     "text": [
      "Evaluating:   2%|▎         | 25/1000 [00:02<01:11, 13.64it/s]"
     ]
    },
    {
     "name": "stdout",
     "output_type": "stream",
     "text": [
      "rouge took 0.05 seconds\n",
      "bleu took 0.01 seconds\n",
      "meteor took 0.03 seconds\n",
      "rouge took 0.11 seconds\n",
      "bleu took 0.00 seconds\n",
      "meteor took 0.00 seconds\n",
      "rouge took 0.04 seconds\n",
      "bleu took 0.00 seconds\n",
      "meteor took 0.00 seconds\n"
     ]
    },
    {
     "name": "stderr",
     "output_type": "stream",
     "text": [
      "Evaluating:   3%|▎         | 27/1000 [00:02<01:05, 14.93it/s]"
     ]
    },
    {
     "name": "stdout",
     "output_type": "stream",
     "text": [
      "rouge took 0.05 seconds\n",
      "bleu took 0.00 seconds\n",
      "meteor took 0.00 seconds\n",
      "rouge took 0.05 seconds\n",
      "bleu took 0.00 seconds\n",
      "meteor took 0.00 seconds\n",
      "rouge took 0.05 seconds\n",
      "bleu took 0.01 seconds\n",
      "meteor took 0.09 seconds\n"
     ]
    },
    {
     "name": "stderr",
     "output_type": "stream",
     "text": [
      "Evaluating:   3%|▎         | 31/1000 [00:03<01:53,  8.55it/s]"
     ]
    },
    {
     "name": "stdout",
     "output_type": "stream",
     "text": [
      "rouge took 0.50 seconds\n",
      "bleu took 0.00 seconds\n",
      "meteor took 0.00 seconds\n",
      "rouge took 0.05 seconds\n",
      "bleu took 0.00 seconds\n",
      "meteor took 0.00 seconds\n",
      "rouge took 0.05 seconds\n",
      "bleu took 0.00 seconds\n",
      "meteor took 0.00 seconds\n",
      "rouge took 0.05 seconds\n",
      "bleu took 0.00 seconds\n",
      "meteor took 0.00 seconds\n"
     ]
    },
    {
     "name": "stderr",
     "output_type": "stream",
     "text": [
      "Evaluating:   4%|▎         | 35/1000 [00:03<01:21, 11.87it/s]"
     ]
    },
    {
     "name": "stdout",
     "output_type": "stream",
     "text": [
      "rouge took 0.05 seconds\n",
      "bleu took 0.00 seconds\n",
      "meteor took 0.00 seconds\n",
      "rouge took 0.05 seconds\n",
      "bleu took 0.00 seconds\n",
      "meteor took 0.01 seconds\n",
      "rouge took 0.05 seconds\n",
      "bleu took 0.00 seconds\n",
      "meteor took 0.00 seconds\n",
      "rouge took 0.05 seconds\n",
      "bleu took 0.00 seconds\n",
      "meteor took 0.00 seconds\n"
     ]
    },
    {
     "name": "stderr",
     "output_type": "stream",
     "text": [
      "Evaluating:   4%|▍         | 39/1000 [00:04<01:19, 12.09it/s]"
     ]
    },
    {
     "name": "stdout",
     "output_type": "stream",
     "text": [
      "rouge took 0.05 seconds\n",
      "bleu took 0.00 seconds\n",
      "meteor took 0.00 seconds\n",
      "rouge took 0.05 seconds\n",
      "bleu took 0.00 seconds\n",
      "meteor took 0.02 seconds\n",
      "rouge took 0.12 seconds\n",
      "bleu took 0.00 seconds\n"
     ]
    },
    {
     "name": "stderr",
     "output_type": "stream",
     "text": [
      "Evaluating:   4%|▍         | 41/1000 [00:04<01:10, 13.58it/s]"
     ]
    },
    {
     "name": "stdout",
     "output_type": "stream",
     "text": [
      "meteor took 0.00 seconds\n",
      "rouge took 0.05 seconds\n",
      "bleu took 0.00 seconds\n",
      "meteor took 0.00 seconds\n",
      "rouge took 0.05 seconds\n",
      "bleu took 0.00 seconds\n",
      "meteor took 0.01 seconds\n",
      "rouge took 0.06 seconds\n",
      "bleu took 0.00 seconds\n",
      "meteor took 0.00 seconds\n"
     ]
    },
    {
     "name": "stderr",
     "output_type": "stream",
     "text": [
      "Evaluating:   4%|▍         | 45/1000 [00:04<01:15, 12.57it/s]"
     ]
    },
    {
     "name": "stdout",
     "output_type": "stream",
     "text": [
      "rouge took 0.06 seconds\n",
      "bleu took 0.01 seconds\n",
      "meteor took 0.07 seconds\n",
      "rouge took 0.07 seconds\n",
      "bleu took 0.00 seconds\n",
      "meteor took 0.00 seconds\n",
      "rouge took 0.05 seconds\n",
      "bleu took 0.00 seconds\n",
      "meteor took 0.00 seconds\n",
      "rouge took 0.05 seconds\n",
      "bleu took 0.01 seconds\n",
      "meteor took 0.05 seconds\n"
     ]
    },
    {
     "name": "stderr",
     "output_type": "stream",
     "text": [
      "Evaluating:   5%|▍         | 49/1000 [00:05<01:34, 10.11it/s]"
     ]
    },
    {
     "name": "stdout",
     "output_type": "stream",
     "text": [
      "rouge took 0.30 seconds\n",
      "bleu took 0.00 seconds\n",
      "meteor took 0.00 seconds\n",
      "rouge took 0.05 seconds\n",
      "bleu took 0.00 seconds\n",
      "meteor took 0.00 seconds\n",
      "rouge took 0.05 seconds\n",
      "bleu took 0.00 seconds\n",
      "meteor took 0.00 seconds\n",
      "rouge took 0.05 seconds\n",
      "bleu took 0.00 seconds\n",
      "meteor took 0.00 seconds\n"
     ]
    },
    {
     "name": "stderr",
     "output_type": "stream",
     "text": [
      "Evaluating:   5%|▌         | 53/1000 [00:05<01:11, 13.17it/s]"
     ]
    },
    {
     "name": "stdout",
     "output_type": "stream",
     "text": [
      "rouge took 0.05 seconds\n",
      "bleu took 0.00 seconds\n",
      "meteor took 0.00 seconds\n",
      "rouge took 0.05 seconds\n",
      "bleu took 0.00 seconds\n",
      "meteor took 0.00 seconds\n",
      "rouge took 0.05 seconds\n",
      "bleu took 0.00 seconds\n",
      "meteor took 0.00 seconds\n",
      "rouge took 0.05 seconds\n",
      "bleu took 0.00 seconds\n",
      "meteor took 0.00 seconds\n"
     ]
    },
    {
     "name": "stderr",
     "output_type": "stream",
     "text": [
      "Evaluating:   6%|▌         | 57/1000 [00:05<01:00, 15.60it/s]"
     ]
    },
    {
     "name": "stdout",
     "output_type": "stream",
     "text": [
      "rouge took 0.05 seconds\n",
      "bleu took 0.00 seconds\n",
      "meteor took 0.00 seconds\n",
      "rouge took 0.05 seconds\n",
      "bleu took 0.00 seconds\n",
      "meteor took 0.00 seconds\n",
      "rouge took 0.04 seconds\n",
      "bleu took 0.00 seconds\n",
      "meteor took 0.01 seconds\n",
      "rouge took 0.06 seconds\n",
      "bleu took 0.00 seconds\n",
      "meteor took 0.01 seconds\n"
     ]
    },
    {
     "name": "stderr",
     "output_type": "stream",
     "text": [
      "Evaluating:   6%|▌         | 61/1000 [00:05<00:59, 15.65it/s]"
     ]
    },
    {
     "name": "stdout",
     "output_type": "stream",
     "text": [
      "rouge took 0.06 seconds\n",
      "bleu took 0.00 seconds\n",
      "meteor took 0.00 seconds\n",
      "rouge took 0.05 seconds\n",
      "bleu took 0.00 seconds\n",
      "meteor took 0.00 seconds\n",
      "rouge took 0.05 seconds\n",
      "bleu took 0.00 seconds\n",
      "meteor took 0.00 seconds\n",
      "rouge took 0.05 seconds\n",
      "bleu took 0.00 seconds\n",
      "meteor took 0.00 seconds\n"
     ]
    },
    {
     "name": "stderr",
     "output_type": "stream",
     "text": [
      "Evaluating:   6%|▋         | 65/1000 [00:05<00:55, 16.85it/s]"
     ]
    },
    {
     "name": "stdout",
     "output_type": "stream",
     "text": [
      "rouge took 0.05 seconds\n",
      "bleu took 0.00 seconds\n",
      "meteor took 0.00 seconds\n",
      "rouge took 0.05 seconds\n",
      "bleu took 0.00 seconds\n",
      "meteor took 0.00 seconds\n",
      "rouge took 0.05 seconds\n",
      "bleu took 0.00 seconds\n",
      "meteor took 0.00 seconds\n",
      "rouge took 0.05 seconds\n",
      "bleu took 0.01 seconds\n",
      "meteor took 0.11 seconds\n"
     ]
    },
    {
     "name": "stderr",
     "output_type": "stream",
     "text": [
      "Evaluating:   7%|▋         | 69/1000 [00:06<01:39,  9.36it/s]"
     ]
    },
    {
     "name": "stdout",
     "output_type": "stream",
     "text": [
      "rouge took 0.41 seconds\n",
      "bleu took 0.00 seconds\n",
      "meteor took 0.01 seconds\n",
      "rouge took 0.05 seconds\n",
      "bleu took 0.00 seconds\n",
      "meteor took 0.00 seconds\n",
      "rouge took 0.05 seconds\n",
      "bleu took 0.00 seconds\n",
      "meteor took 0.00 seconds\n",
      "rouge took 0.05 seconds\n",
      "bleu took 0.00 seconds\n",
      "meteor took 0.00 seconds\n"
     ]
    },
    {
     "name": "stderr",
     "output_type": "stream",
     "text": [
      "Evaluating:   7%|▋         | 73/1000 [00:06<01:13, 12.63it/s]"
     ]
    },
    {
     "name": "stdout",
     "output_type": "stream",
     "text": [
      "rouge took 0.05 seconds\n",
      "bleu took 0.00 seconds\n",
      "meteor took 0.00 seconds\n",
      "rouge took 0.05 seconds\n",
      "bleu took 0.00 seconds\n",
      "meteor took 0.00 seconds\n",
      "rouge took 0.05 seconds\n",
      "bleu took 0.00 seconds\n",
      "meteor took 0.00 seconds\n",
      "rouge took 0.05 seconds\n",
      "bleu took 0.00 seconds\n",
      "meteor took 0.00 seconds\n"
     ]
    },
    {
     "name": "stderr",
     "output_type": "stream",
     "text": [
      "Evaluating:   8%|▊         | 77/1000 [00:07<01:01, 15.03it/s]"
     ]
    },
    {
     "name": "stdout",
     "output_type": "stream",
     "text": [
      "rouge took 0.05 seconds\n",
      "bleu took 0.00 seconds\n",
      "meteor took 0.00 seconds\n",
      "rouge took 0.05 seconds\n",
      "bleu took 0.00 seconds\n",
      "meteor took 0.00 seconds\n",
      "rouge took 0.05 seconds\n",
      "bleu took 0.00 seconds\n",
      "meteor took 0.00 seconds\n",
      "rouge took 0.05 seconds\n",
      "bleu took 0.00 seconds\n",
      "meteor took 0.00 seconds\n"
     ]
    },
    {
     "name": "stderr",
     "output_type": "stream",
     "text": [
      "Evaluating:   8%|▊         | 81/1000 [00:07<00:56, 16.26it/s]"
     ]
    },
    {
     "name": "stdout",
     "output_type": "stream",
     "text": [
      "rouge took 0.05 seconds\n",
      "bleu took 0.00 seconds\n",
      "meteor took 0.01 seconds\n",
      "rouge took 0.05 seconds\n",
      "bleu took 0.00 seconds\n",
      "meteor took 0.00 seconds\n",
      "rouge took 0.05 seconds\n",
      "bleu took 0.00 seconds\n",
      "meteor took 0.01 seconds\n",
      "rouge took 0.06 seconds\n",
      "bleu took 0.00 seconds\n",
      "meteor took 0.00 seconds\n"
     ]
    },
    {
     "name": "stderr",
     "output_type": "stream",
     "text": [
      "Evaluating:   8%|▊         | 85/1000 [00:07<00:53, 17.11it/s]"
     ]
    },
    {
     "name": "stdout",
     "output_type": "stream",
     "text": [
      "rouge took 0.05 seconds\n",
      "bleu took 0.00 seconds\n",
      "meteor took 0.00 seconds\n",
      "rouge took 0.05 seconds\n",
      "bleu took 0.00 seconds\n",
      "meteor took 0.00 seconds\n",
      "rouge took 0.05 seconds\n",
      "bleu took 0.00 seconds\n"
     ]
    },
    {
     "name": "stderr",
     "output_type": "stream",
     "text": [
      "Evaluating:   9%|▊         | 87/1000 [00:07<01:19, 11.54it/s]"
     ]
    },
    {
     "name": "stdout",
     "output_type": "stream",
     "text": [
      "meteor took 0.19 seconds\n",
      "rouge took 0.05 seconds\n",
      "bleu took 0.00 seconds\n",
      "meteor took 0.01 seconds\n",
      "rouge took 0.05 seconds\n",
      "bleu took 0.00 seconds\n",
      "meteor took 0.07 seconds\n"
     ]
    },
    {
     "name": "stderr",
     "output_type": "stream",
     "text": [
      "Evaluating:   9%|▉         | 89/1000 [00:08<01:25, 10.60it/s]"
     ]
    },
    {
     "name": "stdout",
     "output_type": "stream",
     "text": [
      "rouge took 0.07 seconds\n",
      "bleu took 0.00 seconds\n",
      "meteor took 0.01 seconds\n",
      "rouge took 0.06 seconds\n",
      "bleu took 0.01 seconds\n",
      "meteor took 0.01 seconds\n",
      "rouge took 0.06 seconds\n",
      "bleu took 0.01 seconds\n",
      "meteor took 0.00 seconds\n"
     ]
    },
    {
     "name": "stderr",
     "output_type": "stream",
     "text": [
      "Evaluating:   9%|▉         | 93/1000 [00:08<01:13, 12.36it/s]"
     ]
    },
    {
     "name": "stdout",
     "output_type": "stream",
     "text": [
      "rouge took 0.07 seconds\n",
      "bleu took 0.01 seconds\n",
      "meteor took 0.00 seconds\n",
      "rouge took 0.06 seconds\n",
      "bleu took 0.00 seconds\n",
      "meteor took 0.00 seconds\n",
      "rouge took 0.05 seconds\n",
      "bleu took 0.00 seconds\n",
      "meteor took 0.01 seconds\n",
      "rouge took 0.06 seconds\n",
      "bleu took 0.00 seconds\n",
      "meteor took 0.01 seconds\n"
     ]
    },
    {
     "name": "stderr",
     "output_type": "stream",
     "text": [
      "Evaluating:  10%|▉         | 97/1000 [00:08<01:09, 13.07it/s]"
     ]
    },
    {
     "name": "stdout",
     "output_type": "stream",
     "text": [
      "rouge took 0.05 seconds\n",
      "bleu took 0.00 seconds\n",
      "meteor took 0.00 seconds\n",
      "rouge took 0.05 seconds\n",
      "bleu took 0.01 seconds\n",
      "meteor took 0.02 seconds\n",
      "rouge took 0.07 seconds\n",
      "bleu took 0.00 seconds\n",
      "meteor took 0.00 seconds\n"
     ]
    },
    {
     "name": "stderr",
     "output_type": "stream",
     "text": [
      "Evaluating:  10%|█         | 101/1000 [00:08<00:58, 15.27it/s]"
     ]
    },
    {
     "name": "stdout",
     "output_type": "stream",
     "text": [
      "rouge took 0.05 seconds\n",
      "bleu took 0.00 seconds\n",
      "meteor took 0.00 seconds\n",
      "rouge took 0.05 seconds\n",
      "bleu took 0.00 seconds\n",
      "meteor took 0.00 seconds\n",
      "rouge took 0.05 seconds\n",
      "bleu took 0.00 seconds\n",
      "meteor took 0.00 seconds\n",
      "rouge took 0.05 seconds\n",
      "bleu took 0.00 seconds\n",
      "meteor took 0.01 seconds\n"
     ]
    },
    {
     "name": "stderr",
     "output_type": "stream",
     "text": [
      "Evaluating:  10%|█         | 105/1000 [00:09<01:01, 14.49it/s]"
     ]
    },
    {
     "name": "stdout",
     "output_type": "stream",
     "text": [
      "rouge took 0.08 seconds\n",
      "bleu took 0.01 seconds\n",
      "meteor took 0.00 seconds\n",
      "rouge took 0.06 seconds\n",
      "bleu took 0.01 seconds\n",
      "meteor took 0.01 seconds\n",
      "rouge took 0.06 seconds\n",
      "bleu took 0.00 seconds\n",
      "meteor took 0.00 seconds\n",
      "rouge took 0.05 seconds\n"
     ]
    },
    {
     "name": "stderr",
     "output_type": "stream",
     "text": [
      "Evaluating:  11%|█         | 107/1000 [00:09<01:01, 14.62it/s]"
     ]
    },
    {
     "name": "stdout",
     "output_type": "stream",
     "text": [
      "bleu took 0.00 seconds\n",
      "meteor took 0.01 seconds\n",
      "rouge took 0.07 seconds\n",
      "bleu took 0.00 seconds\n",
      "meteor took 0.00 seconds\n",
      "rouge took 0.05 seconds\n",
      "bleu took 0.00 seconds\n",
      "meteor took 0.00 seconds\n",
      "rouge took 0.05 seconds\n",
      "bleu took 0.00 seconds\n",
      "meteor took 0.00 seconds\n"
     ]
    },
    {
     "name": "stderr",
     "output_type": "stream",
     "text": [
      "Evaluating:  11%|█         | 111/1000 [00:09<00:56, 15.73it/s]"
     ]
    },
    {
     "name": "stdout",
     "output_type": "stream",
     "text": [
      "rouge took 0.05 seconds\n",
      "bleu took 0.00 seconds\n",
      "meteor took 0.01 seconds\n",
      "rouge took 0.06 seconds\n",
      "bleu took 0.00 seconds\n",
      "meteor took 0.00 seconds\n",
      "rouge took 0.05 seconds\n",
      "bleu took 0.00 seconds\n",
      "meteor took 0.01 seconds\n",
      "rouge took 0.06 seconds\n",
      "bleu took 0.00 seconds\n",
      "meteor took 0.00 seconds\n"
     ]
    },
    {
     "name": "stderr",
     "output_type": "stream",
     "text": [
      "Evaluating:  12%|█▏        | 115/1000 [00:09<00:54, 16.13it/s]"
     ]
    },
    {
     "name": "stdout",
     "output_type": "stream",
     "text": [
      "rouge took 0.05 seconds\n",
      "bleu took 0.00 seconds\n",
      "meteor took 0.01 seconds\n",
      "rouge took 0.05 seconds\n",
      "bleu took 0.00 seconds\n",
      "meteor took 0.00 seconds\n",
      "rouge took 0.05 seconds\n",
      "bleu took 0.00 seconds\n",
      "meteor took 0.01 seconds\n",
      "rouge took 0.06 seconds\n"
     ]
    },
    {
     "name": "stderr",
     "output_type": "stream",
     "text": [
      "Evaluating:  12%|█▏        | 117/1000 [00:09<00:58, 15.11it/s]"
     ]
    },
    {
     "name": "stdout",
     "output_type": "stream",
     "text": [
      "bleu took 0.00 seconds\n",
      "meteor took 0.00 seconds\n",
      "rouge took 0.07 seconds\n",
      "bleu took 0.00 seconds\n",
      "meteor took 0.01 seconds\n",
      "rouge took 0.06 seconds\n",
      "bleu took 0.01 seconds\n",
      "meteor took 0.04 seconds\n"
     ]
    },
    {
     "name": "stderr",
     "output_type": "stream",
     "text": [
      "Evaluating:  12%|█▏        | 121/1000 [00:10<01:16, 11.51it/s]"
     ]
    },
    {
     "name": "stdout",
     "output_type": "stream",
     "text": [
      "rouge took 0.22 seconds\n",
      "bleu took 0.00 seconds\n",
      "meteor took 0.01 seconds\n",
      "rouge took 0.06 seconds\n",
      "bleu took 0.00 seconds\n",
      "meteor took 0.00 seconds\n",
      "rouge took 0.05 seconds\n",
      "bleu took 0.00 seconds\n",
      "meteor took 0.00 seconds\n",
      "rouge took 0.05 seconds\n",
      "bleu took 0.00 seconds\n",
      "meteor took 0.00 seconds\n"
     ]
    },
    {
     "name": "stderr",
     "output_type": "stream",
     "text": [
      "Evaluating:  12%|█▏        | 123/1000 [00:10<01:08, 12.80it/s]"
     ]
    },
    {
     "name": "stdout",
     "output_type": "stream",
     "text": [
      "rouge took 0.06 seconds\n",
      "bleu took 0.02 seconds\n",
      "meteor took 0.03 seconds\n",
      "rouge took 0.06 seconds\n",
      "bleu took 0.01 seconds\n",
      "meteor took 0.05 seconds\n"
     ]
    },
    {
     "name": "stderr",
     "output_type": "stream",
     "text": [
      "Evaluating:  13%|█▎        | 127/1000 [00:10<01:26, 10.07it/s]"
     ]
    },
    {
     "name": "stdout",
     "output_type": "stream",
     "text": [
      "rouge took 0.26 seconds\n",
      "bleu took 0.00 seconds\n",
      "meteor took 0.00 seconds\n",
      "rouge took 0.05 seconds\n",
      "bleu took 0.00 seconds\n",
      "meteor took 0.00 seconds\n",
      "rouge took 0.05 seconds\n",
      "bleu took 0.00 seconds\n",
      "meteor took 0.02 seconds\n"
     ]
    },
    {
     "name": "stderr",
     "output_type": "stream",
     "text": [
      "Evaluating:  13%|█▎        | 131/1000 [00:11<01:14, 11.73it/s]"
     ]
    },
    {
     "name": "stdout",
     "output_type": "stream",
     "text": [
      "rouge took 0.09 seconds\n",
      "bleu took 0.00 seconds\n",
      "meteor took 0.01 seconds\n",
      "rouge took 0.07 seconds\n",
      "bleu took 0.00 seconds\n",
      "meteor took 0.00 seconds\n",
      "rouge took 0.05 seconds\n",
      "bleu took 0.00 seconds\n",
      "meteor took 0.01 seconds\n",
      "rouge took 0.05 seconds\n",
      "bleu took 0.00 seconds\n"
     ]
    },
    {
     "name": "stderr",
     "output_type": "stream",
     "text": [
      "Evaluating:  13%|█▎        | 133/1000 [00:11<01:08, 12.72it/s]"
     ]
    },
    {
     "name": "stdout",
     "output_type": "stream",
     "text": [
      "meteor took 0.01 seconds\n",
      "rouge took 0.05 seconds\n",
      "bleu took 0.00 seconds\n",
      "meteor took 0.01 seconds\n",
      "rouge took 0.05 seconds\n",
      "bleu took 0.00 seconds\n",
      "meteor took 0.01 seconds\n",
      "rouge took 0.05 seconds\n",
      "bleu took 0.00 seconds\n",
      "meteor took 0.00 seconds\n"
     ]
    },
    {
     "name": "stderr",
     "output_type": "stream",
     "text": [
      "Evaluating:  14%|█▎        | 137/1000 [00:11<00:57, 14.92it/s]"
     ]
    },
    {
     "name": "stdout",
     "output_type": "stream",
     "text": [
      "rouge took 0.05 seconds\n",
      "bleu took 0.00 seconds\n",
      "meteor took 0.00 seconds\n",
      "rouge took 0.05 seconds\n",
      "bleu took 0.00 seconds\n",
      "meteor took 0.00 seconds\n",
      "rouge took 0.05 seconds\n",
      "bleu took 0.00 seconds\n",
      "meteor took 0.00 seconds\n",
      "rouge took 0.05 seconds\n",
      "bleu took 0.00 seconds\n",
      "meteor took 0.00 seconds\n"
     ]
    },
    {
     "name": "stderr",
     "output_type": "stream",
     "text": [
      "Evaluating:  14%|█▍        | 141/1000 [00:11<00:51, 16.77it/s]"
     ]
    },
    {
     "name": "stdout",
     "output_type": "stream",
     "text": [
      "rouge took 0.05 seconds\n",
      "bleu took 0.00 seconds\n",
      "meteor took 0.00 seconds\n",
      "rouge took 0.05 seconds\n",
      "bleu took 0.00 seconds\n",
      "meteor took 0.00 seconds\n",
      "rouge took 0.05 seconds\n",
      "bleu took 0.00 seconds\n",
      "meteor took 0.00 seconds\n",
      "rouge took 0.05 seconds\n",
      "bleu took 0.00 seconds\n",
      "meteor took 0.00 seconds\n"
     ]
    },
    {
     "name": "stderr",
     "output_type": "stream",
     "text": [
      "Evaluating:  14%|█▍        | 145/1000 [00:12<00:48, 17.72it/s]"
     ]
    },
    {
     "name": "stdout",
     "output_type": "stream",
     "text": [
      "rouge took 0.05 seconds\n",
      "bleu took 0.00 seconds\n",
      "meteor took 0.00 seconds\n",
      "rouge took 0.05 seconds\n",
      "bleu took 0.00 seconds\n",
      "meteor took 0.00 seconds\n",
      "rouge took 0.05 seconds\n",
      "bleu took 0.00 seconds\n",
      "meteor took 0.00 seconds\n",
      "rouge took 0.05 seconds\n",
      "bleu took 0.00 seconds\n",
      "meteor took 0.01 seconds\n"
     ]
    },
    {
     "name": "stderr",
     "output_type": "stream",
     "text": [
      "Evaluating:  15%|█▍        | 149/1000 [00:12<00:52, 16.34it/s]"
     ]
    },
    {
     "name": "stdout",
     "output_type": "stream",
     "text": [
      "rouge took 0.07 seconds\n",
      "bleu took 0.00 seconds\n",
      "meteor took 0.00 seconds\n",
      "rouge took 0.05 seconds\n",
      "bleu took 0.00 seconds\n",
      "meteor took 0.01 seconds\n",
      "rouge took 0.06 seconds\n",
      "bleu took 0.00 seconds\n",
      "meteor took 0.01 seconds\n"
     ]
    },
    {
     "name": "stderr",
     "output_type": "stream",
     "text": [
      "Evaluating:  15%|█▌        | 151/1000 [00:12<00:54, 15.71it/s]"
     ]
    },
    {
     "name": "stdout",
     "output_type": "stream",
     "text": [
      "rouge took 0.07 seconds\n",
      "bleu took 0.00 seconds\n",
      "meteor took 0.00 seconds\n",
      "rouge took 0.05 seconds\n",
      "bleu took 0.00 seconds\n",
      "meteor took 0.01 seconds\n",
      "rouge took 0.06 seconds\n",
      "bleu took 0.00 seconds\n",
      "meteor took 0.01 seconds\n"
     ]
    },
    {
     "name": "stderr",
     "output_type": "stream",
     "text": [
      "Evaluating:  16%|█▌        | 155/1000 [00:12<00:58, 14.50it/s]"
     ]
    },
    {
     "name": "stdout",
     "output_type": "stream",
     "text": [
      "rouge took 0.08 seconds\n",
      "bleu took 0.01 seconds\n",
      "meteor took 0.01 seconds\n",
      "rouge took 0.06 seconds\n",
      "bleu took 0.00 seconds\n",
      "meteor took 0.00 seconds\n",
      "rouge took 0.05 seconds\n",
      "bleu took 0.00 seconds\n",
      "meteor took 0.00 seconds\n",
      "rouge took 0.05 seconds\n",
      "bleu took 0.00 seconds\n",
      "meteor took 0.01 seconds\n"
     ]
    },
    {
     "name": "stderr",
     "output_type": "stream",
     "text": [
      "Evaluating:  16%|█▌        | 159/1000 [00:13<00:57, 14.68it/s]"
     ]
    },
    {
     "name": "stdout",
     "output_type": "stream",
     "text": [
      "rouge took 0.11 seconds\n",
      "bleu took 0.00 seconds\n",
      "meteor took 0.00 seconds\n",
      "rouge took 0.05 seconds\n",
      "bleu took 0.00 seconds\n",
      "meteor took 0.00 seconds\n",
      "rouge took 0.05 seconds\n",
      "bleu took 0.00 seconds\n",
      "meteor took 0.00 seconds\n",
      "rouge took 0.05 seconds\n",
      "bleu took 0.00 seconds\n",
      "meteor took 0.00 seconds\n"
     ]
    },
    {
     "name": "stderr",
     "output_type": "stream",
     "text": [
      "Evaluating:  16%|█▋        | 163/1000 [00:13<00:50, 16.49it/s]"
     ]
    },
    {
     "name": "stdout",
     "output_type": "stream",
     "text": [
      "rouge took 0.05 seconds\n",
      "bleu took 0.00 seconds\n",
      "meteor took 0.00 seconds\n",
      "rouge took 0.05 seconds\n",
      "bleu took 0.00 seconds\n",
      "meteor took 0.00 seconds\n",
      "rouge took 0.05 seconds\n",
      "bleu took 0.00 seconds\n",
      "meteor took 0.00 seconds\n",
      "rouge took 0.05 seconds\n",
      "bleu took 0.00 seconds\n",
      "meteor took 0.00 seconds\n"
     ]
    },
    {
     "name": "stderr",
     "output_type": "stream",
     "text": [
      "Evaluating:  17%|█▋        | 167/1000 [00:13<00:48, 17.28it/s]"
     ]
    },
    {
     "name": "stdout",
     "output_type": "stream",
     "text": [
      "rouge took 0.05 seconds\n",
      "bleu took 0.00 seconds\n",
      "meteor took 0.00 seconds\n",
      "rouge took 0.05 seconds\n",
      "bleu took 0.00 seconds\n",
      "meteor took 0.01 seconds\n",
      "rouge took 0.05 seconds\n",
      "bleu took 0.00 seconds\n",
      "meteor took 0.00 seconds\n",
      "rouge took 0.05 seconds\n",
      "bleu took 0.00 seconds\n",
      "meteor took 0.00 seconds\n"
     ]
    },
    {
     "name": "stderr",
     "output_type": "stream",
     "text": [
      "Evaluating:  17%|█▋        | 171/1000 [00:13<00:46, 17.83it/s]"
     ]
    },
    {
     "name": "stdout",
     "output_type": "stream",
     "text": [
      "rouge took 0.05 seconds\n",
      "bleu took 0.00 seconds\n",
      "meteor took 0.00 seconds\n",
      "rouge took 0.05 seconds\n",
      "bleu took 0.00 seconds\n",
      "meteor took 0.00 seconds\n",
      "rouge took 0.05 seconds\n",
      "bleu took 0.00 seconds\n",
      "meteor took 0.00 seconds\n",
      "rouge took 0.05 seconds\n",
      "bleu took 0.00 seconds\n",
      "meteor took 0.00 seconds\n"
     ]
    },
    {
     "name": "stderr",
     "output_type": "stream",
     "text": [
      "Evaluating:  18%|█▊        | 175/1000 [00:13<00:45, 18.30it/s]"
     ]
    },
    {
     "name": "stdout",
     "output_type": "stream",
     "text": [
      "rouge took 0.05 seconds\n",
      "bleu took 0.00 seconds\n",
      "meteor took 0.00 seconds\n",
      "rouge took 0.05 seconds\n",
      "bleu took 0.00 seconds\n",
      "meteor took 0.00 seconds\n",
      "rouge took 0.05 seconds\n",
      "bleu took 0.00 seconds\n",
      "meteor took 0.00 seconds\n",
      "rouge took 0.05 seconds\n",
      "bleu took 0.00 seconds\n",
      "meteor took 0.00 seconds\n"
     ]
    },
    {
     "name": "stderr",
     "output_type": "stream",
     "text": [
      "Evaluating:  18%|█▊        | 179/1000 [00:14<00:53, 15.38it/s]"
     ]
    },
    {
     "name": "stdout",
     "output_type": "stream",
     "text": [
      "rouge took 0.05 seconds\n",
      "bleu took 0.00 seconds\n",
      "meteor took 0.00 seconds\n",
      "rouge took 0.05 seconds\n",
      "bleu took 0.00 seconds\n",
      "meteor took 0.02 seconds\n",
      "rouge took 0.10 seconds\n",
      "bleu took 0.00 seconds\n",
      "meteor took 0.00 seconds\n"
     ]
    },
    {
     "name": "stderr",
     "output_type": "stream",
     "text": [
      "Evaluating:  18%|█▊        | 181/1000 [00:14<00:51, 15.89it/s]"
     ]
    },
    {
     "name": "stdout",
     "output_type": "stream",
     "text": [
      "rouge took 0.06 seconds\n",
      "bleu took 0.00 seconds\n",
      "meteor took 0.00 seconds\n",
      "rouge took 0.05 seconds\n",
      "bleu took 0.00 seconds\n",
      "meteor took 0.01 seconds\n",
      "rouge took 0.06 seconds\n",
      "bleu took 0.01 seconds\n",
      "meteor took 0.11 seconds\n"
     ]
    },
    {
     "name": "stderr",
     "output_type": "stream",
     "text": [
      "Evaluating:  18%|█▊        | 185/1000 [00:15<02:01,  6.70it/s]"
     ]
    },
    {
     "name": "stdout",
     "output_type": "stream",
     "text": [
      "rouge took 0.78 seconds\n",
      "bleu took 0.00 seconds\n",
      "meteor took 0.00 seconds\n",
      "rouge took 0.05 seconds\n",
      "bleu took 0.00 seconds\n",
      "meteor took 0.00 seconds\n",
      "rouge took 0.05 seconds\n",
      "bleu took 0.00 seconds\n",
      "meteor took 0.00 seconds\n",
      "rouge took 0.05 seconds\n",
      "bleu took 0.00 seconds\n",
      "meteor took 0.00 seconds\n"
     ]
    },
    {
     "name": "stderr",
     "output_type": "stream",
     "text": [
      "Evaluating:  19%|█▉        | 189/1000 [00:15<01:23,  9.72it/s]"
     ]
    },
    {
     "name": "stdout",
     "output_type": "stream",
     "text": [
      "rouge took 0.05 seconds\n",
      "bleu took 0.00 seconds\n",
      "meteor took 0.01 seconds\n",
      "rouge took 0.05 seconds\n",
      "bleu took 0.00 seconds\n",
      "meteor took 0.00 seconds\n",
      "rouge took 0.05 seconds\n",
      "bleu took 0.00 seconds\n",
      "meteor took 0.00 seconds\n",
      "rouge took 0.05 seconds\n",
      "bleu took 0.01 seconds\n"
     ]
    },
    {
     "name": "stderr",
     "output_type": "stream",
     "text": [
      "Evaluating:  19%|█▉        | 191/1000 [00:15<01:31,  8.83it/s]"
     ]
    },
    {
     "name": "stdout",
     "output_type": "stream",
     "text": [
      "meteor took 0.03 seconds\n",
      "rouge took 0.18 seconds\n",
      "bleu took 0.00 seconds\n"
     ]
    },
    {
     "name": "stderr",
     "output_type": "stream",
     "text": [
      "Evaluating:  19%|█▉        | 193/1000 [00:16<01:25,  9.49it/s]"
     ]
    },
    {
     "name": "stdout",
     "output_type": "stream",
     "text": [
      "meteor took 0.02 seconds\n",
      "rouge took 0.09 seconds\n",
      "bleu took 0.00 seconds\n",
      "meteor took 0.01 seconds\n",
      "rouge took 0.05 seconds\n",
      "bleu took 0.00 seconds\n",
      "meteor took 0.01 seconds\n"
     ]
    },
    {
     "name": "stderr",
     "output_type": "stream",
     "text": [
      "Evaluating:  20%|█▉        | 197/1000 [00:16<01:09, 11.48it/s]"
     ]
    },
    {
     "name": "stdout",
     "output_type": "stream",
     "text": [
      "rouge took 0.12 seconds\n",
      "bleu took 0.00 seconds\n",
      "meteor took 0.00 seconds\n",
      "rouge took 0.05 seconds\n",
      "bleu took 0.00 seconds\n",
      "meteor took 0.00 seconds\n",
      "rouge took 0.05 seconds\n",
      "bleu took 0.00 seconds\n",
      "meteor took 0.00 seconds\n",
      "rouge took 0.04 seconds\n",
      "bleu took 0.00 seconds\n",
      "meteor took 0.00 seconds\n"
     ]
    },
    {
     "name": "stderr",
     "output_type": "stream",
     "text": [
      "Evaluating:  20%|██        | 201/1000 [00:16<00:55, 14.31it/s]"
     ]
    },
    {
     "name": "stdout",
     "output_type": "stream",
     "text": [
      "rouge took 0.05 seconds\n",
      "bleu took 0.00 seconds\n",
      "meteor took 0.00 seconds\n",
      "rouge took 0.05 seconds\n",
      "bleu took 0.00 seconds\n",
      "meteor took 0.00 seconds\n",
      "rouge took 0.05 seconds\n",
      "bleu took 0.00 seconds\n",
      "meteor took 0.00 seconds\n",
      "rouge took 0.05 seconds\n",
      "bleu took 0.00 seconds\n",
      "meteor took 0.00 seconds\n"
     ]
    },
    {
     "name": "stderr",
     "output_type": "stream",
     "text": [
      "Evaluating:  20%|██        | 203/1000 [00:16<00:59, 13.32it/s]"
     ]
    },
    {
     "name": "stdout",
     "output_type": "stream",
     "text": [
      "rouge took 0.05 seconds\n",
      "bleu took 0.00 seconds\n",
      "meteor took 0.02 seconds\n",
      "rouge took 0.10 seconds\n",
      "bleu took 0.01 seconds\n",
      "meteor took 0.00 seconds\n",
      "rouge took 0.05 seconds\n",
      "bleu took 0.00 seconds\n",
      "meteor took 0.00 seconds\n"
     ]
    },
    {
     "name": "stderr",
     "output_type": "stream",
     "text": [
      "Evaluating:  21%|██        | 207/1000 [00:16<00:51, 15.33it/s]"
     ]
    },
    {
     "name": "stdout",
     "output_type": "stream",
     "text": [
      "rouge took 0.05 seconds\n",
      "bleu took 0.00 seconds\n",
      "meteor took 0.00 seconds\n",
      "rouge took 0.05 seconds\n",
      "bleu took 0.00 seconds\n",
      "meteor took 0.00 seconds\n",
      "rouge took 0.05 seconds\n",
      "bleu took 0.00 seconds\n",
      "meteor took 0.00 seconds\n",
      "rouge took 0.05 seconds\n",
      "bleu took 0.00 seconds\n",
      "meteor took 0.00 seconds\n"
     ]
    },
    {
     "name": "stderr",
     "output_type": "stream",
     "text": [
      "Evaluating:  21%|██        | 211/1000 [00:17<00:45, 17.24it/s]"
     ]
    },
    {
     "name": "stdout",
     "output_type": "stream",
     "text": [
      "rouge took 0.05 seconds\n",
      "bleu took 0.00 seconds\n",
      "meteor took 0.00 seconds\n",
      "rouge took 0.05 seconds\n",
      "bleu took 0.00 seconds\n",
      "meteor took 0.00 seconds\n",
      "rouge took 0.05 seconds\n",
      "bleu took 0.00 seconds\n",
      "meteor took 0.00 seconds\n",
      "rouge took 0.05 seconds\n",
      "bleu took 0.00 seconds\n",
      "meteor took 0.01 seconds\n"
     ]
    },
    {
     "name": "stderr",
     "output_type": "stream",
     "text": [
      "Evaluating:  22%|██▏       | 215/1000 [00:17<00:45, 17.24it/s]"
     ]
    },
    {
     "name": "stdout",
     "output_type": "stream",
     "text": [
      "rouge took 0.07 seconds\n",
      "bleu took 0.00 seconds\n",
      "meteor took 0.00 seconds\n",
      "rouge took 0.05 seconds\n",
      "bleu took 0.00 seconds\n",
      "meteor took 0.00 seconds\n",
      "rouge took 0.04 seconds\n",
      "bleu took 0.00 seconds\n",
      "meteor took 0.01 seconds\n",
      "rouge took 0.05 seconds\n",
      "bleu took 0.00 seconds\n",
      "meteor took 0.00 seconds\n"
     ]
    },
    {
     "name": "stderr",
     "output_type": "stream",
     "text": [
      "Evaluating:  22%|██▏       | 219/1000 [00:17<00:43, 17.89it/s]"
     ]
    },
    {
     "name": "stdout",
     "output_type": "stream",
     "text": [
      "rouge took 0.05 seconds\n",
      "bleu took 0.00 seconds\n",
      "meteor took 0.00 seconds\n",
      "rouge took 0.05 seconds\n",
      "bleu took 0.00 seconds\n",
      "meteor took 0.00 seconds\n",
      "rouge took 0.04 seconds\n",
      "bleu took 0.01 seconds\n",
      "meteor took 0.03 seconds\n"
     ]
    },
    {
     "name": "stderr",
     "output_type": "stream",
     "text": [
      "Evaluating:  22%|██▏       | 223/1000 [00:18<00:56, 13.86it/s]"
     ]
    },
    {
     "name": "stdout",
     "output_type": "stream",
     "text": [
      "rouge took 0.16 seconds\n",
      "bleu took 0.00 seconds\n",
      "meteor took 0.00 seconds\n",
      "rouge took 0.05 seconds\n",
      "bleu took 0.00 seconds\n",
      "meteor took 0.00 seconds\n",
      "rouge took 0.05 seconds\n",
      "bleu took 0.00 seconds\n",
      "meteor took 0.01 seconds\n",
      "rouge took 0.05 seconds\n",
      "bleu took 0.01 seconds\n",
      "meteor took 0.00 seconds\n"
     ]
    },
    {
     "name": "stderr",
     "output_type": "stream",
     "text": [
      "Evaluating:  23%|██▎       | 227/1000 [00:18<00:50, 15.42it/s]"
     ]
    },
    {
     "name": "stdout",
     "output_type": "stream",
     "text": [
      "rouge took 0.05 seconds\n",
      "bleu took 0.00 seconds\n",
      "meteor took 0.00 seconds\n",
      "rouge took 0.05 seconds\n",
      "bleu took 0.00 seconds\n",
      "meteor took 0.01 seconds\n",
      "rouge took 0.05 seconds\n",
      "bleu took 0.00 seconds\n",
      "meteor took 0.00 seconds\n",
      "rouge took 0.05 seconds\n",
      "bleu took 0.00 seconds\n",
      "meteor took 0.00 seconds\n"
     ]
    },
    {
     "name": "stderr",
     "output_type": "stream",
     "text": [
      "Evaluating:  23%|██▎       | 229/1000 [00:18<00:52, 14.57it/s]"
     ]
    },
    {
     "name": "stdout",
     "output_type": "stream",
     "text": [
      "rouge took 0.10 seconds\n",
      "bleu took 0.00 seconds\n",
      "meteor took 0.00 seconds\n",
      "rouge took 0.05 seconds\n",
      "bleu took 0.00 seconds\n",
      "meteor took 0.00 seconds\n",
      "rouge took 0.05 seconds\n",
      "bleu took 0.01 seconds\n",
      "meteor took 0.02 seconds\n"
     ]
    },
    {
     "name": "stderr",
     "output_type": "stream",
     "text": [
      "Evaluating:  23%|██▎       | 233/1000 [00:18<00:57, 13.26it/s]"
     ]
    },
    {
     "name": "stdout",
     "output_type": "stream",
     "text": [
      "rouge took 0.14 seconds\n",
      "bleu took 0.00 seconds\n",
      "meteor took 0.00 seconds\n",
      "rouge took 0.05 seconds\n",
      "bleu took 0.00 seconds\n",
      "meteor took 0.00 seconds\n",
      "rouge took 0.06 seconds\n",
      "bleu took 0.01 seconds\n",
      "meteor took 0.09 seconds\n"
     ]
    },
    {
     "name": "stderr",
     "output_type": "stream",
     "text": [
      "Evaluating:  24%|██▎       | 237/1000 [00:19<01:28,  8.66it/s]"
     ]
    },
    {
     "name": "stdout",
     "output_type": "stream",
     "text": [
      "rouge took 0.41 seconds\n",
      "bleu took 0.00 seconds\n",
      "meteor took 0.01 seconds\n",
      "rouge took 0.06 seconds\n",
      "bleu took 0.00 seconds\n",
      "meteor took 0.00 seconds\n",
      "rouge took 0.05 seconds\n",
      "bleu took 0.00 seconds\n",
      "meteor took 0.00 seconds\n",
      "rouge took 0.05 seconds\n",
      "bleu took 0.00 seconds\n",
      "meteor took 0.00 seconds\n"
     ]
    },
    {
     "name": "stderr",
     "output_type": "stream",
     "text": [
      "Evaluating:  24%|██▍       | 239/1000 [00:19<01:21,  9.37it/s]"
     ]
    },
    {
     "name": "stdout",
     "output_type": "stream",
     "text": [
      "rouge took 0.05 seconds\n",
      "bleu took 0.01 seconds\n",
      "meteor took 0.02 seconds\n",
      "rouge took 0.08 seconds\n",
      "bleu took 0.00 seconds\n",
      "meteor took 0.00 seconds\n",
      "rouge took 0.05 seconds\n",
      "bleu took 0.00 seconds\n",
      "meteor took 0.00 seconds\n"
     ]
    },
    {
     "name": "stderr",
     "output_type": "stream",
     "text": [
      "Evaluating:  24%|██▍       | 241/1000 [00:19<01:09, 10.88it/s]"
     ]
    },
    {
     "name": "stdout",
     "output_type": "stream",
     "text": [
      "rouge took 0.05 seconds\n",
      "bleu took 0.00 seconds\n",
      "meteor took 0.00 seconds\n",
      "rouge took 0.05 seconds\n",
      "bleu took 0.01 seconds\n",
      "meteor took 0.14 seconds\n"
     ]
    },
    {
     "name": "stderr",
     "output_type": "stream",
     "text": [
      "Evaluating:  24%|██▍       | 245/1000 [00:21<02:25,  5.19it/s]"
     ]
    },
    {
     "name": "stdout",
     "output_type": "stream",
     "text": [
      "rouge took 1.03 seconds\n",
      "bleu took 0.00 seconds\n",
      "meteor took 0.00 seconds\n",
      "rouge took 0.05 seconds\n",
      "bleu took 0.00 seconds\n",
      "meteor took 0.01 seconds\n",
      "rouge took 0.05 seconds\n",
      "bleu took 0.00 seconds\n",
      "meteor took 0.00 seconds\n",
      "rouge took 0.05 seconds\n",
      "bleu took 0.01 seconds\n",
      "meteor took 0.15 seconds\n"
     ]
    },
    {
     "name": "stderr",
     "output_type": "stream",
     "text": [
      "Evaluating:  25%|██▍       | 249/1000 [00:22<03:03,  4.09it/s]"
     ]
    },
    {
     "name": "stdout",
     "output_type": "stream",
     "text": [
      "rouge took 1.02 seconds\n",
      "bleu took 0.00 seconds\n",
      "meteor took 0.00 seconds\n",
      "rouge took 0.05 seconds\n",
      "bleu took 0.00 seconds\n",
      "meteor took 0.01 seconds\n",
      "rouge took 0.06 seconds\n",
      "bleu took 0.00 seconds\n",
      "meteor took 0.01 seconds\n"
     ]
    },
    {
     "name": "stderr",
     "output_type": "stream",
     "text": [
      "Evaluating:  25%|██▌       | 251/1000 [00:22<02:23,  5.23it/s]"
     ]
    },
    {
     "name": "stdout",
     "output_type": "stream",
     "text": [
      "rouge took 0.07 seconds\n",
      "bleu took 0.00 seconds\n",
      "meteor took 0.00 seconds\n",
      "rouge took 0.05 seconds\n",
      "bleu took 0.00 seconds\n",
      "meteor took 0.01 seconds\n"
     ]
    },
    {
     "name": "stderr",
     "output_type": "stream",
     "text": [
      "Evaluating:  25%|██▌       | 253/1000 [00:22<02:08,  5.81it/s]"
     ]
    },
    {
     "name": "stdout",
     "output_type": "stream",
     "text": [
      "rouge took 0.14 seconds\n",
      "bleu took 0.01 seconds\n",
      "meteor took 0.01 seconds\n",
      "rouge took 0.08 seconds\n",
      "bleu took 0.00 seconds\n",
      "meteor took 0.01 seconds\n",
      "rouge took 0.07 seconds\n",
      "bleu took 0.01 seconds\n",
      "meteor took 0.12 seconds\n"
     ]
    },
    {
     "name": "stderr",
     "output_type": "stream",
     "text": [
      "Evaluating:  26%|██▌       | 257/1000 [00:23<02:27,  5.05it/s]"
     ]
    },
    {
     "name": "stdout",
     "output_type": "stream",
     "text": [
      "rouge took 0.66 seconds\n",
      "bleu took 0.00 seconds\n",
      "meteor took 0.00 seconds\n",
      "rouge took 0.05 seconds\n",
      "bleu took 0.00 seconds\n",
      "meteor took 0.01 seconds\n",
      "rouge took 0.08 seconds\n",
      "bleu took 0.00 seconds\n",
      "meteor took 0.01 seconds\n"
     ]
    },
    {
     "name": "stderr",
     "output_type": "stream",
     "text": [
      "Evaluating:  26%|██▌       | 261/1000 [00:24<01:35,  7.74it/s]"
     ]
    },
    {
     "name": "stdout",
     "output_type": "stream",
     "text": [
      "rouge took 0.05 seconds\n",
      "bleu took 0.00 seconds\n",
      "meteor took 0.01 seconds\n",
      "rouge took 0.07 seconds\n",
      "bleu took 0.00 seconds\n",
      "meteor took 0.00 seconds\n",
      "rouge took 0.05 seconds\n",
      "bleu took 0.00 seconds\n",
      "meteor took 0.00 seconds\n",
      "rouge took 0.05 seconds\n"
     ]
    },
    {
     "name": "stderr",
     "output_type": "stream",
     "text": [
      "Evaluating:  26%|██▋       | 263/1000 [00:24<01:24,  8.73it/s]"
     ]
    },
    {
     "name": "stdout",
     "output_type": "stream",
     "text": [
      "bleu took 0.00 seconds\n",
      "meteor took 0.01 seconds\n",
      "rouge took 0.06 seconds\n",
      "bleu took 0.00 seconds\n",
      "meteor took 0.01 seconds\n",
      "rouge took 0.08 seconds\n",
      "bleu took 0.00 seconds\n",
      "meteor took 0.00 seconds\n"
     ]
    },
    {
     "name": "stderr",
     "output_type": "stream",
     "text": [
      "Evaluating:  26%|██▋       | 265/1000 [00:24<01:13, 10.05it/s]"
     ]
    },
    {
     "name": "stdout",
     "output_type": "stream",
     "text": [
      "rouge took 0.06 seconds\n",
      "bleu took 0.00 seconds\n",
      "meteor took 0.00 seconds\n",
      "rouge took 0.05 seconds\n",
      "bleu took 0.01 seconds\n",
      "meteor took 0.03 seconds\n"
     ]
    },
    {
     "name": "stderr",
     "output_type": "stream",
     "text": [
      "Evaluating:  27%|██▋       | 269/1000 [00:24<01:08, 10.69it/s]"
     ]
    },
    {
     "name": "stdout",
     "output_type": "stream",
     "text": [
      "rouge took 0.19 seconds\n",
      "bleu took 0.00 seconds\n",
      "meteor took 0.00 seconds\n",
      "rouge took 0.05 seconds\n",
      "bleu took 0.00 seconds\n",
      "meteor took 0.00 seconds\n",
      "rouge took 0.05 seconds\n",
      "bleu took 0.00 seconds\n",
      "meteor took 0.00 seconds\n",
      "rouge took 0.05 seconds\n",
      "bleu took 0.00 seconds\n",
      "meteor took 0.00 seconds\n"
     ]
    },
    {
     "name": "stderr",
     "output_type": "stream",
     "text": [
      "Evaluating:  27%|██▋       | 273/1000 [00:25<00:56, 12.78it/s]"
     ]
    },
    {
     "name": "stdout",
     "output_type": "stream",
     "text": [
      "rouge took 0.05 seconds\n",
      "bleu took 0.00 seconds\n",
      "meteor took 0.00 seconds\n",
      "rouge took 0.05 seconds\n",
      "bleu took 0.00 seconds\n",
      "meteor took 0.00 seconds\n",
      "rouge took 0.05 seconds\n",
      "bleu took 0.00 seconds\n",
      "meteor took 0.01 seconds\n",
      "rouge took 0.07 seconds\n",
      "bleu took 0.00 seconds\n",
      "meteor took 0.00 seconds\n"
     ]
    },
    {
     "name": "stderr",
     "output_type": "stream",
     "text": [
      "Evaluating:  28%|██▊       | 277/1000 [00:25<00:47, 15.08it/s]"
     ]
    },
    {
     "name": "stdout",
     "output_type": "stream",
     "text": [
      "rouge took 0.05 seconds\n",
      "bleu took 0.00 seconds\n",
      "meteor took 0.00 seconds\n",
      "rouge took 0.05 seconds\n",
      "bleu took 0.00 seconds\n",
      "meteor took 0.00 seconds\n",
      "rouge took 0.05 seconds\n",
      "bleu took 0.00 seconds\n",
      "meteor took 0.01 seconds\n",
      "rouge took 0.05 seconds\n",
      "bleu took 0.00 seconds\n",
      "meteor took 0.01 seconds\n"
     ]
    },
    {
     "name": "stderr",
     "output_type": "stream",
     "text": [
      "Evaluating:  28%|██▊       | 279/1000 [00:25<00:46, 15.49it/s]"
     ]
    },
    {
     "name": "stdout",
     "output_type": "stream",
     "text": [
      "rouge took 0.06 seconds\n",
      "bleu took 0.00 seconds\n",
      "meteor took 0.00 seconds\n",
      "rouge took 0.05 seconds\n",
      "bleu took 0.00 seconds\n",
      "meteor took 0.00 seconds\n",
      "rouge took 0.05 seconds\n",
      "bleu took 0.01 seconds\n",
      "meteor took 0.10 seconds\n"
     ]
    },
    {
     "name": "stderr",
     "output_type": "stream",
     "text": [
      "Evaluating:  28%|██▊       | 281/1000 [00:26<02:22,  5.06it/s]"
     ]
    },
    {
     "name": "stdout",
     "output_type": "stream",
     "text": [
      "rouge took 0.85 seconds\n",
      "bleu took 0.01 seconds\n",
      "meteor took 0.14 seconds\n"
     ]
    },
    {
     "name": "stderr",
     "output_type": "stream",
     "text": [
      "Evaluating:  28%|██▊       | 285/1000 [00:27<02:41,  4.42it/s]"
     ]
    },
    {
     "name": "stdout",
     "output_type": "stream",
     "text": [
      "rouge took 0.88 seconds\n",
      "bleu took 0.00 seconds\n",
      "meteor took 0.00 seconds\n",
      "rouge took 0.05 seconds\n",
      "bleu took 0.00 seconds\n",
      "meteor took 0.00 seconds\n",
      "rouge took 0.05 seconds\n",
      "bleu took 0.00 seconds\n",
      "meteor took 0.00 seconds\n",
      "rouge took 0.04 seconds\n",
      "bleu took 0.00 seconds\n",
      "meteor took 0.00 seconds\n"
     ]
    },
    {
     "name": "stderr",
     "output_type": "stream",
     "text": [
      "Evaluating:  29%|██▉       | 289/1000 [00:27<01:38,  7.24it/s]"
     ]
    },
    {
     "name": "stdout",
     "output_type": "stream",
     "text": [
      "rouge took 0.05 seconds\n",
      "bleu took 0.00 seconds\n",
      "meteor took 0.00 seconds\n",
      "rouge took 0.05 seconds\n",
      "bleu took 0.00 seconds\n",
      "meteor took 0.00 seconds\n",
      "rouge took 0.05 seconds\n",
      "bleu took 0.00 seconds\n",
      "meteor took 0.00 seconds\n",
      "rouge took 0.05 seconds\n",
      "bleu took 0.00 seconds\n",
      "meteor took 0.01 seconds\n"
     ]
    },
    {
     "name": "stderr",
     "output_type": "stream",
     "text": [
      "Evaluating:  29%|██▉       | 291/1000 [00:28<01:37,  7.31it/s]"
     ]
    },
    {
     "name": "stdout",
     "output_type": "stream",
     "text": [
      "rouge took 0.06 seconds\n",
      "bleu took 0.01 seconds\n",
      "meteor took 0.03 seconds\n",
      "rouge took 0.16 seconds\n",
      "bleu took 0.00 seconds\n"
     ]
    },
    {
     "name": "stderr",
     "output_type": "stream",
     "text": [
      "Evaluating:  29%|██▉       | 293/1000 [00:28<01:19,  8.93it/s]"
     ]
    },
    {
     "name": "stdout",
     "output_type": "stream",
     "text": [
      "meteor took 0.00 seconds\n",
      "rouge took 0.05 seconds\n",
      "bleu took 0.00 seconds\n",
      "meteor took 0.00 seconds\n",
      "rouge took 0.05 seconds\n",
      "bleu took 0.00 seconds\n",
      "meteor took 0.00 seconds\n",
      "rouge took 0.05 seconds\n",
      "bleu took 0.00 seconds\n",
      "meteor took 0.01 seconds\n"
     ]
    },
    {
     "name": "stderr",
     "output_type": "stream",
     "text": [
      "Evaluating:  30%|██▉       | 297/1000 [00:28<00:59, 11.84it/s]"
     ]
    },
    {
     "name": "stdout",
     "output_type": "stream",
     "text": [
      "rouge took 0.06 seconds\n",
      "bleu took 0.00 seconds\n",
      "meteor took 0.00 seconds\n",
      "rouge took 0.05 seconds\n",
      "bleu took 0.00 seconds\n",
      "meteor took 0.00 seconds\n",
      "rouge took 0.05 seconds\n",
      "bleu took 0.00 seconds\n",
      "meteor took 0.01 seconds\n",
      "rouge took 0.05 seconds\n",
      "bleu took 0.00 seconds\n",
      "meteor took 0.01 seconds\n"
     ]
    },
    {
     "name": "stderr",
     "output_type": "stream",
     "text": [
      "Evaluating:  30%|███       | 301/1000 [00:28<00:50, 13.79it/s]"
     ]
    },
    {
     "name": "stdout",
     "output_type": "stream",
     "text": [
      "rouge took 0.06 seconds\n",
      "bleu took 0.00 seconds\n",
      "meteor took 0.00 seconds\n",
      "rouge took 0.05 seconds\n",
      "bleu took 0.00 seconds\n",
      "meteor took 0.01 seconds\n",
      "rouge took 0.06 seconds\n",
      "bleu took 0.00 seconds\n",
      "meteor took 0.00 seconds\n",
      "rouge took 0.04 seconds\n",
      "bleu took 0.00 seconds\n",
      "meteor took 0.00 seconds\n"
     ]
    },
    {
     "name": "stderr",
     "output_type": "stream",
     "text": [
      "Evaluating:  30%|███       | 305/1000 [00:28<00:44, 15.45it/s]"
     ]
    },
    {
     "name": "stdout",
     "output_type": "stream",
     "text": [
      "rouge took 0.05 seconds\n",
      "bleu took 0.00 seconds\n",
      "meteor took 0.00 seconds\n",
      "rouge took 0.05 seconds\n",
      "bleu took 0.00 seconds\n",
      "meteor took 0.01 seconds\n",
      "rouge took 0.06 seconds\n",
      "bleu took 0.00 seconds\n",
      "meteor took 0.01 seconds\n",
      "rouge took 0.05 seconds\n",
      "bleu took 0.00 seconds\n",
      "meteor took 0.01 seconds\n"
     ]
    },
    {
     "name": "stderr",
     "output_type": "stream",
     "text": [
      "Evaluating:  31%|███       | 309/1000 [00:29<00:43, 15.92it/s]"
     ]
    },
    {
     "name": "stdout",
     "output_type": "stream",
     "text": [
      "rouge took 0.06 seconds\n",
      "bleu took 0.00 seconds\n",
      "meteor took 0.00 seconds\n",
      "rouge took 0.05 seconds\n",
      "bleu took 0.00 seconds\n",
      "meteor took 0.01 seconds\n",
      "rouge took 0.05 seconds\n",
      "bleu took 0.01 seconds\n",
      "meteor took 0.01 seconds\n",
      "rouge took 0.05 seconds\n",
      "bleu took 0.00 seconds\n",
      "meteor took 0.01 seconds\n"
     ]
    },
    {
     "name": "stderr",
     "output_type": "stream",
     "text": [
      "Evaluating:  31%|███▏      | 313/1000 [00:29<00:45, 15.26it/s]"
     ]
    },
    {
     "name": "stdout",
     "output_type": "stream",
     "text": [
      "rouge took 0.06 seconds\n",
      "bleu took 0.00 seconds\n",
      "meteor took 0.00 seconds\n",
      "rouge took 0.05 seconds\n",
      "bleu took 0.00 seconds\n",
      "meteor took 0.01 seconds\n",
      "rouge took 0.07 seconds\n",
      "bleu took 0.00 seconds\n",
      "meteor took 0.00 seconds\n",
      "rouge took 0.05 seconds\n",
      "bleu took 0.00 seconds\n",
      "meteor took 0.00 seconds\n"
     ]
    },
    {
     "name": "stderr",
     "output_type": "stream",
     "text": [
      "Evaluating:  32%|███▏      | 317/1000 [00:29<00:43, 15.63it/s]"
     ]
    },
    {
     "name": "stdout",
     "output_type": "stream",
     "text": [
      "rouge took 0.10 seconds\n",
      "bleu took 0.00 seconds\n",
      "meteor took 0.00 seconds\n",
      "rouge took 0.05 seconds\n",
      "bleu took 0.00 seconds\n",
      "meteor took 0.00 seconds\n",
      "rouge took 0.05 seconds\n",
      "bleu took 0.00 seconds\n",
      "meteor took 0.00 seconds\n",
      "rouge took 0.05 seconds\n",
      "bleu took 0.00 seconds\n",
      "meteor took 0.00 seconds\n"
     ]
    },
    {
     "name": "stderr",
     "output_type": "stream",
     "text": [
      "Evaluating:  32%|███▏      | 321/1000 [00:29<00:39, 17.05it/s]"
     ]
    },
    {
     "name": "stdout",
     "output_type": "stream",
     "text": [
      "rouge took 0.05 seconds\n",
      "bleu took 0.00 seconds\n",
      "meteor took 0.01 seconds\n",
      "rouge took 0.05 seconds\n",
      "bleu took 0.00 seconds\n",
      "meteor took 0.00 seconds\n",
      "rouge took 0.04 seconds\n",
      "bleu took 0.00 seconds\n",
      "meteor took 0.00 seconds\n",
      "rouge took 0.05 seconds\n",
      "bleu took 0.00 seconds\n",
      "meteor took 0.00 seconds\n"
     ]
    },
    {
     "name": "stderr",
     "output_type": "stream",
     "text": [
      "Evaluating:  32%|███▎      | 325/1000 [00:30<00:37, 17.81it/s]"
     ]
    },
    {
     "name": "stdout",
     "output_type": "stream",
     "text": [
      "rouge took 0.05 seconds\n",
      "bleu took 0.00 seconds\n",
      "meteor took 0.00 seconds\n",
      "rouge took 0.05 seconds\n",
      "bleu took 0.00 seconds\n",
      "meteor took 0.00 seconds\n",
      "rouge took 0.05 seconds\n",
      "bleu took 0.00 seconds\n",
      "meteor took 0.00 seconds\n",
      "rouge took 0.05 seconds\n",
      "bleu took 0.00 seconds\n",
      "meteor took 0.00 seconds\n"
     ]
    },
    {
     "name": "stderr",
     "output_type": "stream",
     "text": [
      "Evaluating:  33%|███▎      | 329/1000 [00:30<00:38, 17.64it/s]"
     ]
    },
    {
     "name": "stdout",
     "output_type": "stream",
     "text": [
      "rouge took 0.05 seconds\n",
      "bleu took 0.00 seconds\n",
      "meteor took 0.00 seconds\n",
      "rouge took 0.05 seconds\n",
      "bleu took 0.00 seconds\n",
      "meteor took 0.00 seconds\n",
      "rouge took 0.05 seconds\n",
      "bleu took 0.01 seconds\n",
      "meteor took 0.00 seconds\n",
      "rouge took 0.05 seconds\n",
      "bleu took 0.00 seconds\n",
      "meteor took 0.00 seconds\n"
     ]
    },
    {
     "name": "stderr",
     "output_type": "stream",
     "text": [
      "Evaluating:  33%|███▎      | 333/1000 [00:30<00:37, 17.79it/s]"
     ]
    },
    {
     "name": "stdout",
     "output_type": "stream",
     "text": [
      "rouge took 0.05 seconds\n",
      "bleu took 0.00 seconds\n",
      "meteor took 0.00 seconds\n",
      "rouge took 0.05 seconds\n",
      "bleu took 0.00 seconds\n",
      "meteor took 0.00 seconds\n",
      "rouge took 0.05 seconds\n",
      "bleu took 0.01 seconds\n",
      "meteor took 0.04 seconds\n"
     ]
    },
    {
     "name": "stderr",
     "output_type": "stream",
     "text": [
      "Evaluating:  34%|███▎      | 337/1000 [00:30<00:52, 12.63it/s]"
     ]
    },
    {
     "name": "stdout",
     "output_type": "stream",
     "text": [
      "rouge took 0.24 seconds\n",
      "bleu took 0.00 seconds\n",
      "meteor took 0.00 seconds\n",
      "rouge took 0.05 seconds\n",
      "bleu took 0.00 seconds\n",
      "meteor took 0.00 seconds\n",
      "rouge took 0.05 seconds\n",
      "bleu took 0.00 seconds\n",
      "meteor took 0.00 seconds\n",
      "rouge took 0.05 seconds\n",
      "bleu took 0.00 seconds\n",
      "meteor took 0.01 seconds\n"
     ]
    },
    {
     "name": "stderr",
     "output_type": "stream",
     "text": [
      "Evaluating:  34%|███▍      | 339/1000 [00:31<00:49, 13.31it/s]"
     ]
    },
    {
     "name": "stdout",
     "output_type": "stream",
     "text": [
      "rouge took 0.07 seconds\n",
      "bleu took 0.00 seconds\n",
      "meteor took 0.00 seconds\n",
      "rouge took 0.05 seconds\n",
      "bleu took 0.00 seconds\n",
      "meteor took 0.01 seconds\n",
      "rouge took 0.09 seconds\n",
      "bleu took 0.00 seconds\n",
      "meteor took 0.00 seconds\n"
     ]
    },
    {
     "name": "stderr",
     "output_type": "stream",
     "text": [
      "Evaluating:  34%|███▍      | 343/1000 [00:31<00:47, 13.81it/s]"
     ]
    },
    {
     "name": "stdout",
     "output_type": "stream",
     "text": [
      "rouge took 0.05 seconds\n",
      "bleu took 0.00 seconds\n",
      "meteor took 0.00 seconds\n",
      "rouge took 0.06 seconds\n",
      "bleu took 0.00 seconds\n",
      "meteor took 0.01 seconds\n",
      "rouge took 0.05 seconds\n",
      "bleu took 0.00 seconds\n",
      "meteor took 0.00 seconds\n",
      "rouge took 0.05 seconds\n",
      "bleu took 0.00 seconds\n",
      "meteor took 0.01 seconds\n"
     ]
    },
    {
     "name": "stderr",
     "output_type": "stream",
     "text": [
      "Evaluating:  34%|███▍      | 345/1000 [00:31<00:44, 14.63it/s]"
     ]
    },
    {
     "name": "stdout",
     "output_type": "stream",
     "text": [
      "rouge took 0.06 seconds\n",
      "bleu took 0.00 seconds\n",
      "meteor took 0.04 seconds\n",
      "rouge took 0.15 seconds\n"
     ]
    },
    {
     "name": "stderr",
     "output_type": "stream",
     "text": [
      "Evaluating:  35%|███▍      | 349/1000 [00:31<00:52, 12.40it/s]"
     ]
    },
    {
     "name": "stdout",
     "output_type": "stream",
     "text": [
      "bleu took 0.01 seconds\n",
      "meteor took 0.00 seconds\n",
      "rouge took 0.06 seconds\n",
      "bleu took 0.00 seconds\n",
      "meteor took 0.00 seconds\n",
      "rouge took 0.07 seconds\n",
      "bleu took 0.00 seconds\n",
      "meteor took 0.00 seconds\n",
      "rouge took 0.04 seconds\n",
      "bleu took 0.00 seconds\n",
      "meteor took 0.02 seconds\n",
      "rouge took 0.09 seconds\n",
      "bleu took 0.00 seconds\n",
      "meteor took 0.02 seconds\n"
     ]
    },
    {
     "name": "stderr",
     "output_type": "stream",
     "text": [
      "Evaluating:  35%|███▌      | 353/1000 [00:32<00:52, 12.25it/s]"
     ]
    },
    {
     "name": "stdout",
     "output_type": "stream",
     "text": [
      "rouge took 0.10 seconds\n",
      "bleu took 0.00 seconds\n",
      "meteor took 0.00 seconds\n",
      "rouge took 0.05 seconds\n",
      "bleu took 0.00 seconds\n",
      "meteor took 0.01 seconds\n",
      "rouge took 0.05 seconds\n",
      "bleu took 0.00 seconds\n",
      "meteor took 0.01 seconds\n"
     ]
    },
    {
     "name": "stderr",
     "output_type": "stream",
     "text": [
      "Evaluating:  36%|███▌      | 357/1000 [00:32<00:46, 13.85it/s]"
     ]
    },
    {
     "name": "stdout",
     "output_type": "stream",
     "text": [
      "rouge took 0.08 seconds\n",
      "bleu took 0.00 seconds\n",
      "meteor took 0.00 seconds\n",
      "rouge took 0.05 seconds\n",
      "bleu took 0.00 seconds\n",
      "meteor took 0.00 seconds\n",
      "rouge took 0.05 seconds\n",
      "bleu took 0.00 seconds\n",
      "meteor took 0.01 seconds\n",
      "rouge took 0.05 seconds\n",
      "bleu took 0.00 seconds\n",
      "meteor took 0.00 seconds\n"
     ]
    },
    {
     "name": "stderr",
     "output_type": "stream",
     "text": [
      "Evaluating:  36%|███▌      | 361/1000 [00:32<00:41, 15.23it/s]"
     ]
    },
    {
     "name": "stdout",
     "output_type": "stream",
     "text": [
      "rouge took 0.06 seconds\n",
      "bleu took 0.00 seconds\n",
      "meteor took 0.00 seconds\n",
      "rouge took 0.05 seconds\n",
      "bleu took 0.00 seconds\n",
      "meteor took 0.00 seconds\n",
      "rouge took 0.05 seconds\n",
      "bleu took 0.00 seconds\n",
      "meteor took 0.01 seconds\n",
      "rouge took 0.05 seconds\n",
      "bleu took 0.00 seconds\n",
      "meteor took 0.01 seconds\n"
     ]
    },
    {
     "name": "stderr",
     "output_type": "stream",
     "text": [
      "Evaluating:  36%|███▋      | 365/1000 [00:32<00:38, 16.56it/s]"
     ]
    },
    {
     "name": "stdout",
     "output_type": "stream",
     "text": [
      "rouge took 0.06 seconds\n",
      "bleu took 0.00 seconds\n",
      "meteor took 0.00 seconds\n",
      "rouge took 0.05 seconds\n",
      "bleu took 0.00 seconds\n",
      "meteor took 0.00 seconds\n",
      "rouge took 0.05 seconds\n",
      "bleu took 0.00 seconds\n",
      "meteor took 0.00 seconds\n",
      "rouge took 0.05 seconds\n",
      "bleu took 0.00 seconds\n",
      "meteor took 0.00 seconds\n"
     ]
    },
    {
     "name": "stderr",
     "output_type": "stream",
     "text": [
      "Evaluating:  37%|███▋      | 367/1000 [00:33<00:42, 14.92it/s]"
     ]
    },
    {
     "name": "stdout",
     "output_type": "stream",
     "text": [
      "rouge took 0.11 seconds\n",
      "bleu took 0.00 seconds\n",
      "meteor took 0.00 seconds\n",
      "rouge took 0.04 seconds\n",
      "bleu took 0.00 seconds\n",
      "meteor took 0.00 seconds\n",
      "rouge took 0.05 seconds\n",
      "bleu took 0.00 seconds\n",
      "meteor took 0.02 seconds\n"
     ]
    },
    {
     "name": "stderr",
     "output_type": "stream",
     "text": [
      "Evaluating:  37%|███▋      | 371/1000 [00:33<00:42, 14.73it/s]"
     ]
    },
    {
     "name": "stdout",
     "output_type": "stream",
     "text": [
      "rouge took 0.09 seconds\n",
      "bleu took 0.00 seconds\n",
      "meteor took 0.00 seconds\n",
      "rouge took 0.05 seconds\n",
      "bleu took 0.00 seconds\n",
      "meteor took 0.01 seconds\n",
      "rouge took 0.06 seconds\n",
      "bleu took 0.00 seconds\n",
      "meteor took 0.01 seconds\n",
      "rouge took 0.05 seconds\n",
      "bleu took 0.00 seconds\n",
      "meteor took 0.00 seconds\n"
     ]
    },
    {
     "name": "stderr",
     "output_type": "stream",
     "text": [
      "Evaluating:  38%|███▊      | 375/1000 [00:33<00:39, 15.82it/s]"
     ]
    },
    {
     "name": "stdout",
     "output_type": "stream",
     "text": [
      "rouge took 0.06 seconds\n",
      "bleu took 0.00 seconds\n",
      "meteor took 0.01 seconds\n",
      "rouge took 0.05 seconds\n",
      "bleu took 0.00 seconds\n",
      "meteor took 0.00 seconds\n",
      "rouge took 0.05 seconds\n",
      "bleu took 0.00 seconds\n",
      "meteor took 0.00 seconds\n",
      "rouge took 0.05 seconds\n",
      "bleu took 0.00 seconds\n",
      "meteor took 0.00 seconds\n"
     ]
    },
    {
     "name": "stderr",
     "output_type": "stream",
     "text": [
      "Evaluating:  38%|███▊      | 379/1000 [00:33<00:36, 17.20it/s]"
     ]
    },
    {
     "name": "stdout",
     "output_type": "stream",
     "text": [
      "rouge took 0.05 seconds\n",
      "bleu took 0.00 seconds\n",
      "meteor took 0.00 seconds\n",
      "rouge took 0.05 seconds\n",
      "bleu took 0.00 seconds\n",
      "meteor took 0.00 seconds\n",
      "rouge took 0.05 seconds\n",
      "bleu took 0.00 seconds\n",
      "meteor took 0.00 seconds\n",
      "rouge took 0.04 seconds\n",
      "bleu took 0.00 seconds\n",
      "meteor took 0.00 seconds\n"
     ]
    },
    {
     "name": "stderr",
     "output_type": "stream",
     "text": [
      "Evaluating:  38%|███▊      | 383/1000 [00:34<00:34, 17.90it/s]"
     ]
    },
    {
     "name": "stdout",
     "output_type": "stream",
     "text": [
      "rouge took 0.05 seconds\n",
      "bleu took 0.00 seconds\n",
      "meteor took 0.00 seconds\n",
      "rouge took 0.05 seconds\n",
      "bleu took 0.00 seconds\n",
      "meteor took 0.00 seconds\n",
      "rouge took 0.05 seconds\n",
      "bleu took 0.01 seconds\n",
      "meteor took 0.03 seconds\n"
     ]
    },
    {
     "name": "stderr",
     "output_type": "stream",
     "text": [
      "Evaluating:  39%|███▊      | 387/1000 [00:34<00:44, 13.76it/s]"
     ]
    },
    {
     "name": "stdout",
     "output_type": "stream",
     "text": [
      "rouge took 0.19 seconds\n",
      "bleu took 0.00 seconds\n",
      "meteor took 0.00 seconds\n",
      "rouge took 0.05 seconds\n",
      "bleu took 0.00 seconds\n",
      "meteor took 0.00 seconds\n",
      "rouge took 0.05 seconds\n",
      "bleu took 0.00 seconds\n",
      "meteor took 0.00 seconds\n",
      "rouge took 0.04 seconds\n",
      "bleu took 0.00 seconds\n",
      "meteor took 0.00 seconds\n"
     ]
    },
    {
     "name": "stderr",
     "output_type": "stream",
     "text": [
      "Evaluating:  39%|███▉      | 391/1000 [00:34<00:38, 15.85it/s]"
     ]
    },
    {
     "name": "stdout",
     "output_type": "stream",
     "text": [
      "rouge took 0.05 seconds\n",
      "bleu took 0.00 seconds\n",
      "meteor took 0.00 seconds\n",
      "rouge took 0.05 seconds\n",
      "bleu took 0.00 seconds\n",
      "meteor took 0.00 seconds\n",
      "rouge took 0.05 seconds\n",
      "bleu took 0.00 seconds\n",
      "meteor took 0.01 seconds\n",
      "rouge took 0.05 seconds\n",
      "bleu took 0.00 seconds\n",
      "meteor took 0.01 seconds\n",
      "rouge took 0.07 seconds\n",
      "bleu took 0.00 seconds\n",
      "meteor took 0.01 seconds\n"
     ]
    },
    {
     "name": "stderr",
     "output_type": "stream",
     "text": [
      "Evaluating:  39%|███▉      | 393/1000 [00:35<00:58, 10.42it/s]"
     ]
    },
    {
     "name": "stdout",
     "output_type": "stream",
     "text": [
      "rouge took 0.25 seconds\n",
      "bleu took 0.01 seconds\n",
      "meteor took 0.01 seconds\n",
      "rouge took 0.13 seconds\n",
      "bleu took 0.01 seconds\n",
      "meteor took 0.01 seconds\n"
     ]
    },
    {
     "name": "stderr",
     "output_type": "stream",
     "text": [
      "Evaluating:  40%|███▉      | 397/1000 [00:35<00:56, 10.63it/s]"
     ]
    },
    {
     "name": "stdout",
     "output_type": "stream",
     "text": [
      "rouge took 0.10 seconds\n",
      "bleu took 0.01 seconds\n",
      "meteor took 0.00 seconds\n",
      "rouge took 0.06 seconds\n",
      "bleu took 0.00 seconds\n",
      "meteor took 0.00 seconds\n",
      "rouge took 0.05 seconds\n",
      "bleu took 0.00 seconds\n",
      "meteor took 0.00 seconds\n",
      "rouge took 0.05 seconds\n",
      "bleu took 0.00 seconds\n",
      "meteor took 0.00 seconds\n"
     ]
    },
    {
     "name": "stderr",
     "output_type": "stream",
     "text": [
      "Evaluating:  40%|███▉      | 399/1000 [00:35<00:49, 12.12it/s]"
     ]
    },
    {
     "name": "stdout",
     "output_type": "stream",
     "text": [
      "rouge took 0.05 seconds\n",
      "bleu took 0.00 seconds\n",
      "meteor took 0.00 seconds\n",
      "rouge took 0.05 seconds\n",
      "bleu took 0.01 seconds\n",
      "meteor took 0.06 seconds\n"
     ]
    },
    {
     "name": "stderr",
     "output_type": "stream",
     "text": [
      "Evaluating:  40%|████      | 403/1000 [00:36<01:03,  9.47it/s]"
     ]
    },
    {
     "name": "stdout",
     "output_type": "stream",
     "text": [
      "rouge took 0.35 seconds\n",
      "bleu took 0.00 seconds\n",
      "meteor took 0.00 seconds\n",
      "rouge took 0.05 seconds\n",
      "bleu took 0.00 seconds\n",
      "meteor took 0.00 seconds\n",
      "rouge took 0.05 seconds\n",
      "bleu took 0.00 seconds\n",
      "meteor took 0.00 seconds\n",
      "rouge took 0.05 seconds\n",
      "bleu took 0.00 seconds\n",
      "meteor took 0.00 seconds\n"
     ]
    },
    {
     "name": "stderr",
     "output_type": "stream",
     "text": [
      "Evaluating:  41%|████      | 407/1000 [00:36<00:54, 10.96it/s]"
     ]
    },
    {
     "name": "stdout",
     "output_type": "stream",
     "text": [
      "rouge took 0.05 seconds\n",
      "bleu took 0.00 seconds\n",
      "meteor took 0.02 seconds\n",
      "rouge took 0.11 seconds\n",
      "bleu took 0.00 seconds\n",
      "meteor took 0.00 seconds\n",
      "rouge took 0.05 seconds\n",
      "bleu took 0.00 seconds\n",
      "meteor took 0.00 seconds\n"
     ]
    },
    {
     "name": "stderr",
     "output_type": "stream",
     "text": [
      "Evaluating:  41%|████      | 409/1000 [00:36<01:00,  9.81it/s]"
     ]
    },
    {
     "name": "stdout",
     "output_type": "stream",
     "text": [
      "rouge took 0.05 seconds\n",
      "bleu took 0.00 seconds\n",
      "meteor took 0.00 seconds\n",
      "rouge took 0.19 seconds\n"
     ]
    },
    {
     "name": "stderr",
     "output_type": "stream",
     "text": [
      "Evaluating:  41%|████      | 411/1000 [00:36<00:52, 11.12it/s]"
     ]
    },
    {
     "name": "stdout",
     "output_type": "stream",
     "text": [
      "bleu took 0.01 seconds\n",
      "meteor took 0.00 seconds\n",
      "rouge took 0.06 seconds\n",
      "bleu took 0.00 seconds\n",
      "meteor took 0.00 seconds\n",
      "rouge took 0.05 seconds\n",
      "bleu took 0.00 seconds\n",
      "meteor took 0.00 seconds\n",
      "rouge took 0.05 seconds\n",
      "bleu took 0.00 seconds\n",
      "meteor took 0.01 seconds\n"
     ]
    },
    {
     "name": "stderr",
     "output_type": "stream",
     "text": [
      "Evaluating:  42%|████▏     | 415/1000 [00:37<00:48, 12.06it/s]"
     ]
    },
    {
     "name": "stdout",
     "output_type": "stream",
     "text": [
      "rouge took 0.08 seconds\n",
      "bleu took 0.00 seconds\n",
      "meteor took 0.02 seconds\n",
      "rouge took 0.07 seconds\n",
      "bleu took 0.00 seconds\n",
      "meteor took 0.01 seconds\n",
      "rouge took 0.05 seconds\n",
      "bleu took 0.00 seconds\n",
      "meteor took 0.00 seconds\n"
     ]
    },
    {
     "name": "stderr",
     "output_type": "stream",
     "text": [
      "Evaluating:  42%|████▏     | 419/1000 [00:37<00:40, 14.47it/s]"
     ]
    },
    {
     "name": "stdout",
     "output_type": "stream",
     "text": [
      "rouge took 0.04 seconds\n",
      "bleu took 0.00 seconds\n",
      "meteor took 0.01 seconds\n",
      "rouge took 0.05 seconds\n",
      "bleu took 0.00 seconds\n",
      "meteor took 0.00 seconds\n",
      "rouge took 0.05 seconds\n",
      "bleu took 0.00 seconds\n",
      "meteor took 0.00 seconds\n",
      "rouge took 0.05 seconds\n",
      "bleu took 0.00 seconds\n",
      "meteor took 0.00 seconds\n"
     ]
    },
    {
     "name": "stderr",
     "output_type": "stream",
     "text": [
      "Evaluating:  42%|████▏     | 421/1000 [00:37<00:38, 15.12it/s]"
     ]
    },
    {
     "name": "stdout",
     "output_type": "stream",
     "text": [
      "rouge took 0.06 seconds\n",
      "bleu took 0.00 seconds\n",
      "meteor took 0.00 seconds\n",
      "rouge took 0.05 seconds\n",
      "bleu took 0.03 seconds\n",
      "meteor took 0.46 seconds\n"
     ]
    },
    {
     "name": "stderr",
     "output_type": "stream",
     "text": [
      "Evaluating:  42%|████▏     | 423/1000 [00:41<06:10,  1.56it/s]"
     ]
    },
    {
     "name": "stdout",
     "output_type": "stream",
     "text": [
      "rouge took 3.41 seconds\n",
      "bleu took 0.02 seconds\n",
      "meteor took 0.01 seconds\n",
      "rouge took 0.06 seconds\n",
      "bleu took 0.00 seconds\n",
      "meteor took 0.00 seconds\n",
      "rouge took 0.06 seconds\n",
      "bleu took 0.00 seconds\n",
      "meteor took 0.00 seconds\n"
     ]
    },
    {
     "name": "stderr",
     "output_type": "stream",
     "text": [
      "Evaluating:  43%|████▎     | 427/1000 [00:41<03:22,  2.83it/s]"
     ]
    },
    {
     "name": "stdout",
     "output_type": "stream",
     "text": [
      "rouge took 0.07 seconds\n",
      "bleu took 0.01 seconds\n",
      "meteor took 0.03 seconds\n",
      "rouge took 0.06 seconds\n",
      "bleu took 0.00 seconds\n",
      "meteor took 0.00 seconds\n",
      "rouge took 0.05 seconds\n",
      "bleu took 0.00 seconds\n",
      "meteor took 0.00 seconds\n",
      "rouge took 0.05 seconds\n"
     ]
    },
    {
     "name": "stderr",
     "output_type": "stream",
     "text": [
      "Evaluating:  43%|████▎     | 431/1000 [00:41<01:56,  4.87it/s]"
     ]
    },
    {
     "name": "stdout",
     "output_type": "stream",
     "text": [
      "bleu took 0.00 seconds\n",
      "meteor took 0.01 seconds\n",
      "rouge took 0.06 seconds\n",
      "bleu took 0.00 seconds\n",
      "meteor took 0.00 seconds\n",
      "rouge took 0.05 seconds\n",
      "bleu took 0.00 seconds\n",
      "meteor took 0.01 seconds\n",
      "rouge took 0.06 seconds\n"
     ]
    },
    {
     "name": "stderr",
     "output_type": "stream",
     "text": [
      "Evaluating:  43%|████▎     | 433/1000 [00:42<01:31,  6.19it/s]"
     ]
    },
    {
     "name": "stdout",
     "output_type": "stream",
     "text": [
      "bleu took 0.00 seconds\n",
      "meteor took 0.01 seconds\n",
      "rouge took 0.06 seconds\n",
      "bleu took 0.00 seconds\n",
      "meteor took 0.00 seconds\n",
      "rouge took 0.05 seconds\n",
      "bleu took 0.00 seconds\n",
      "meteor took 0.00 seconds\n",
      "rouge took 0.05 seconds\n",
      "bleu took 0.00 seconds\n",
      "meteor took 0.00 seconds\n"
     ]
    },
    {
     "name": "stderr",
     "output_type": "stream",
     "text": [
      "Evaluating:  44%|████▎     | 437/1000 [00:42<01:00,  9.30it/s]"
     ]
    },
    {
     "name": "stdout",
     "output_type": "stream",
     "text": [
      "rouge took 0.05 seconds\n",
      "bleu took 0.00 seconds\n",
      "meteor took 0.00 seconds\n",
      "rouge took 0.05 seconds\n",
      "bleu took 0.00 seconds\n",
      "meteor took 0.00 seconds\n",
      "rouge took 0.05 seconds\n",
      "bleu took 0.00 seconds\n",
      "meteor took 0.00 seconds\n",
      "rouge took 0.05 seconds\n",
      "bleu took 0.00 seconds\n",
      "meteor took 0.00 seconds\n"
     ]
    },
    {
     "name": "stderr",
     "output_type": "stream",
     "text": [
      "Evaluating:  44%|████▍     | 441/1000 [00:42<00:46, 12.10it/s]"
     ]
    },
    {
     "name": "stdout",
     "output_type": "stream",
     "text": [
      "rouge took 0.06 seconds\n",
      "bleu took 0.00 seconds\n",
      "meteor took 0.00 seconds\n",
      "rouge took 0.05 seconds\n",
      "bleu took 0.00 seconds\n",
      "meteor took 0.00 seconds\n",
      "rouge took 0.05 seconds\n",
      "bleu took 0.00 seconds\n",
      "meteor took 0.00 seconds\n",
      "rouge took 0.05 seconds\n",
      "bleu took 0.00 seconds\n",
      "meteor took 0.01 seconds\n"
     ]
    },
    {
     "name": "stderr",
     "output_type": "stream",
     "text": [
      "Evaluating:  44%|████▍     | 445/1000 [00:42<00:40, 13.76it/s]"
     ]
    },
    {
     "name": "stdout",
     "output_type": "stream",
     "text": [
      "rouge took 0.08 seconds\n",
      "bleu took 0.00 seconds\n",
      "meteor took 0.00 seconds\n",
      "rouge took 0.05 seconds\n",
      "bleu took 0.00 seconds\n",
      "meteor took 0.00 seconds\n",
      "rouge took 0.05 seconds\n",
      "bleu took 0.02 seconds\n",
      "meteor took 0.10 seconds\n"
     ]
    },
    {
     "name": "stderr",
     "output_type": "stream",
     "text": [
      "Evaluating:  45%|████▍     | 447/1000 [00:43<01:38,  5.59it/s]"
     ]
    },
    {
     "name": "stdout",
     "output_type": "stream",
     "text": [
      "rouge took 0.67 seconds\n",
      "bleu took 0.00 seconds\n",
      "meteor took 0.01 seconds\n",
      "rouge took 0.06 seconds\n",
      "bleu took 0.01 seconds\n",
      "meteor took 0.02 seconds\n",
      "rouge took 0.09 seconds\n",
      "bleu took 0.00 seconds\n"
     ]
    },
    {
     "name": "stderr",
     "output_type": "stream",
     "text": [
      "Evaluating:  45%|████▍     | 449/1000 [00:43<01:28,  6.23it/s]"
     ]
    },
    {
     "name": "stdout",
     "output_type": "stream",
     "text": [
      "meteor took 0.02 seconds\n",
      "rouge took 0.10 seconds\n",
      "bleu took 0.00 seconds\n",
      "meteor took 0.01 seconds\n",
      "rouge took 0.07 seconds\n",
      "bleu took 0.00 seconds\n",
      "meteor took 0.00 seconds\n"
     ]
    },
    {
     "name": "stderr",
     "output_type": "stream",
     "text": [
      "Evaluating:  45%|████▌     | 451/1000 [00:44<01:13,  7.43it/s]"
     ]
    },
    {
     "name": "stdout",
     "output_type": "stream",
     "text": [
      "rouge took 0.05 seconds\n",
      "bleu took 0.00 seconds\n",
      "meteor took 0.00 seconds\n",
      "rouge took 0.05 seconds\n",
      "bleu took 0.01 seconds\n",
      "meteor took 0.08 seconds\n"
     ]
    },
    {
     "name": "stderr",
     "output_type": "stream",
     "text": [
      "Evaluating:  46%|████▌     | 455/1000 [00:44<01:33,  5.84it/s]"
     ]
    },
    {
     "name": "stdout",
     "output_type": "stream",
     "text": [
      "rouge took 0.67 seconds\n",
      "bleu took 0.00 seconds\n",
      "meteor took 0.00 seconds\n",
      "rouge took 0.05 seconds\n",
      "bleu took 0.00 seconds\n",
      "meteor took 0.01 seconds\n",
      "rouge took 0.07 seconds\n",
      "bleu took 0.00 seconds\n",
      "meteor took 0.01 seconds\n",
      "rouge took 0.05 seconds\n"
     ]
    },
    {
     "name": "stderr",
     "output_type": "stream",
     "text": [
      "Evaluating:  46%|████▌     | 459/1000 [00:45<01:02,  8.60it/s]"
     ]
    },
    {
     "name": "stdout",
     "output_type": "stream",
     "text": [
      "bleu took 0.00 seconds\n",
      "meteor took 0.00 seconds\n",
      "rouge took 0.05 seconds\n",
      "bleu took 0.00 seconds\n",
      "meteor took 0.00 seconds\n",
      "rouge took 0.05 seconds\n",
      "bleu took 0.00 seconds\n",
      "meteor took 0.01 seconds\n",
      "rouge took 0.06 seconds\n",
      "bleu took 0.00 seconds\n",
      "meteor took 0.01 seconds\n"
     ]
    },
    {
     "name": "stderr",
     "output_type": "stream",
     "text": [
      "Evaluating:  46%|████▌     | 461/1000 [00:45<01:03,  8.55it/s]"
     ]
    },
    {
     "name": "stdout",
     "output_type": "stream",
     "text": [
      "rouge took 0.05 seconds\n",
      "bleu took 0.01 seconds\n",
      "meteor took 0.02 seconds\n",
      "rouge took 0.15 seconds\n",
      "bleu took 0.00 seconds\n",
      "meteor took 0.00 seconds\n"
     ]
    },
    {
     "name": "stderr",
     "output_type": "stream",
     "text": [
      "Evaluating:  46%|████▋     | 463/1000 [00:45<00:52, 10.18it/s]"
     ]
    },
    {
     "name": "stdout",
     "output_type": "stream",
     "text": [
      "rouge took 0.05 seconds\n",
      "bleu took 0.00 seconds\n",
      "meteor took 0.00 seconds\n",
      "rouge took 0.05 seconds\n",
      "bleu took 0.00 seconds\n",
      "meteor took 0.01 seconds\n",
      "rouge took 0.11 seconds\n",
      "bleu took 0.00 seconds\n",
      "meteor took 0.00 seconds\n"
     ]
    },
    {
     "name": "stderr",
     "output_type": "stream",
     "text": [
      "Evaluating:  47%|████▋     | 467/1000 [00:45<00:45, 11.78it/s]"
     ]
    },
    {
     "name": "stdout",
     "output_type": "stream",
     "text": [
      "rouge took 0.06 seconds\n",
      "bleu took 0.00 seconds\n",
      "meteor took 0.01 seconds\n",
      "rouge took 0.06 seconds\n",
      "bleu took 0.00 seconds\n",
      "meteor took 0.00 seconds\n",
      "rouge took 0.05 seconds\n",
      "bleu took 0.00 seconds\n",
      "meteor took 0.00 seconds\n",
      "rouge took 0.05 seconds\n",
      "bleu took 0.00 seconds\n",
      "meteor took 0.01 seconds\n"
     ]
    },
    {
     "name": "stderr",
     "output_type": "stream",
     "text": [
      "Evaluating:  47%|████▋     | 471/1000 [00:46<00:37, 14.19it/s]"
     ]
    },
    {
     "name": "stdout",
     "output_type": "stream",
     "text": [
      "rouge took 0.06 seconds\n",
      "bleu took 0.00 seconds\n",
      "meteor took 0.00 seconds\n",
      "rouge took 0.05 seconds\n",
      "bleu took 0.00 seconds\n",
      "meteor took 0.00 seconds\n",
      "rouge took 0.05 seconds\n",
      "bleu took 0.00 seconds\n",
      "meteor took 0.00 seconds\n",
      "rouge took 0.05 seconds\n",
      "bleu took 0.00 seconds\n",
      "meteor took 0.00 seconds\n"
     ]
    },
    {
     "name": "stderr",
     "output_type": "stream",
     "text": [
      "Evaluating:  48%|████▊     | 475/1000 [00:46<00:33, 15.50it/s]"
     ]
    },
    {
     "name": "stdout",
     "output_type": "stream",
     "text": [
      "rouge took 0.05 seconds\n",
      "bleu took 0.00 seconds\n",
      "meteor took 0.00 seconds\n",
      "rouge took 0.05 seconds\n",
      "bleu took 0.00 seconds\n",
      "meteor took 0.01 seconds\n",
      "rouge took 0.05 seconds\n",
      "bleu took 0.00 seconds\n",
      "meteor took 0.00 seconds\n",
      "rouge took 0.05 seconds\n",
      "bleu took 0.00 seconds\n",
      "meteor took 0.01 seconds\n"
     ]
    },
    {
     "name": "stderr",
     "output_type": "stream",
     "text": [
      "Evaluating:  48%|████▊     | 479/1000 [00:46<00:35, 14.48it/s]"
     ]
    },
    {
     "name": "stdout",
     "output_type": "stream",
     "text": [
      "rouge took 0.06 seconds\n",
      "bleu took 0.00 seconds\n",
      "meteor took 0.00 seconds\n",
      "rouge took 0.05 seconds\n",
      "bleu took 0.00 seconds\n",
      "meteor took 0.01 seconds\n",
      "rouge took 0.09 seconds\n",
      "bleu took 0.00 seconds\n",
      "meteor took 0.00 seconds\n"
     ]
    },
    {
     "name": "stderr",
     "output_type": "stream",
     "text": [
      "Evaluating:  48%|████▊     | 483/1000 [00:46<00:34, 15.15it/s]"
     ]
    },
    {
     "name": "stdout",
     "output_type": "stream",
     "text": [
      "rouge took 0.05 seconds\n",
      "bleu took 0.00 seconds\n",
      "meteor took 0.00 seconds\n",
      "rouge took 0.05 seconds\n",
      "bleu took 0.00 seconds\n",
      "meteor took 0.01 seconds\n",
      "rouge took 0.06 seconds\n",
      "bleu took 0.00 seconds\n",
      "meteor took 0.01 seconds\n",
      "rouge took 0.05 seconds\n",
      "bleu took 0.00 seconds\n",
      "meteor took 0.00 seconds\n"
     ]
    },
    {
     "name": "stderr",
     "output_type": "stream",
     "text": [
      "Evaluating:  49%|████▊     | 487/1000 [00:47<00:31, 16.32it/s]"
     ]
    },
    {
     "name": "stdout",
     "output_type": "stream",
     "text": [
      "rouge took 0.05 seconds\n",
      "bleu took 0.00 seconds\n",
      "meteor took 0.00 seconds\n",
      "rouge took 0.05 seconds\n",
      "bleu took 0.00 seconds\n",
      "meteor took 0.00 seconds\n",
      "rouge took 0.06 seconds\n",
      "bleu took 0.00 seconds\n",
      "meteor took 0.00 seconds\n",
      "rouge took 0.05 seconds\n",
      "bleu took 0.00 seconds\n",
      "meteor took 0.00 seconds\n"
     ]
    },
    {
     "name": "stderr",
     "output_type": "stream",
     "text": [
      "Evaluating:  49%|████▉     | 491/1000 [00:47<00:30, 16.67it/s]"
     ]
    },
    {
     "name": "stdout",
     "output_type": "stream",
     "text": [
      "rouge took 0.05 seconds\n",
      "bleu took 0.00 seconds\n",
      "meteor took 0.00 seconds\n",
      "rouge took 0.05 seconds\n",
      "bleu took 0.00 seconds\n",
      "meteor took 0.00 seconds\n",
      "rouge took 0.05 seconds\n",
      "bleu took 0.00 seconds\n",
      "meteor took 0.01 seconds\n",
      "rouge took 0.06 seconds\n",
      "bleu took 0.00 seconds\n",
      "meteor took 0.00 seconds\n"
     ]
    },
    {
     "name": "stderr",
     "output_type": "stream",
     "text": [
      "Evaluating:  50%|████▉     | 495/1000 [00:47<00:31, 15.87it/s]"
     ]
    },
    {
     "name": "stdout",
     "output_type": "stream",
     "text": [
      "rouge took 0.05 seconds\n",
      "bleu took 0.00 seconds\n",
      "meteor took 0.00 seconds\n",
      "rouge took 0.05 seconds\n",
      "bleu took 0.00 seconds\n",
      "meteor took 0.01 seconds\n",
      "rouge took 0.08 seconds\n",
      "bleu took 0.00 seconds\n",
      "meteor took 0.00 seconds\n",
      "rouge took 0.05 seconds\n"
     ]
    },
    {
     "name": "stderr",
     "output_type": "stream",
     "text": [
      "Evaluating:  50%|████▉     | 497/1000 [00:47<00:33, 14.80it/s]"
     ]
    },
    {
     "name": "stdout",
     "output_type": "stream",
     "text": [
      "bleu took 0.00 seconds\n",
      "meteor took 0.01 seconds\n",
      "rouge took 0.06 seconds\n",
      "bleu took 0.00 seconds\n",
      "meteor took 0.01 seconds\n",
      "rouge took 0.07 seconds\n",
      "bleu took 0.00 seconds\n",
      "meteor took 0.00 seconds\n"
     ]
    },
    {
     "name": "stderr",
     "output_type": "stream",
     "text": [
      "Evaluating:  50%|████▉     | 499/1000 [00:47<00:36, 13.66it/s]"
     ]
    },
    {
     "name": "stdout",
     "output_type": "stream",
     "text": [
      "rouge took 0.06 seconds\n",
      "bleu took 0.00 seconds\n",
      "meteor took 0.02 seconds\n",
      "rouge took 0.08 seconds\n",
      "bleu took 0.00 seconds\n",
      "meteor took 0.02 seconds\n"
     ]
    },
    {
     "name": "stderr",
     "output_type": "stream",
     "text": [
      "Evaluating:  50%|█████     | 501/1000 [00:48<00:38, 12.91it/s]"
     ]
    },
    {
     "name": "stdout",
     "output_type": "stream",
     "text": [
      "rouge took 0.10 seconds\n",
      "bleu took 0.00 seconds\n",
      "meteor took 0.00 seconds\n",
      "rouge took 0.05 seconds\n",
      "bleu took 0.00 seconds\n",
      "meteor took 0.02 seconds\n",
      "rouge took 0.08 seconds\n",
      "bleu took 0.00 seconds\n",
      "meteor took 0.00 seconds\n"
     ]
    },
    {
     "name": "stderr",
     "output_type": "stream",
     "text": [
      "Evaluating:  50%|█████     | 505/1000 [00:48<00:36, 13.74it/s]"
     ]
    },
    {
     "name": "stdout",
     "output_type": "stream",
     "text": [
      "rouge took 0.05 seconds\n",
      "bleu took 0.00 seconds\n",
      "meteor took 0.00 seconds\n",
      "rouge took 0.05 seconds\n",
      "bleu took 0.00 seconds\n",
      "meteor took 0.00 seconds\n",
      "rouge took 0.05 seconds\n",
      "bleu took 0.00 seconds\n",
      "meteor took 0.01 seconds\n",
      "rouge took 0.07 seconds\n",
      "bleu took 0.01 seconds\n",
      "meteor took 0.06 seconds\n"
     ]
    },
    {
     "name": "stderr",
     "output_type": "stream",
     "text": [
      "Evaluating:  51%|█████     | 509/1000 [00:49<00:52,  9.38it/s]"
     ]
    },
    {
     "name": "stdout",
     "output_type": "stream",
     "text": [
      "rouge took 0.36 seconds\n",
      "bleu took 0.00 seconds\n",
      "meteor took 0.00 seconds\n",
      "rouge took 0.05 seconds\n",
      "bleu took 0.00 seconds\n",
      "meteor took 0.00 seconds\n",
      "rouge took 0.05 seconds\n",
      "bleu took 0.00 seconds\n",
      "meteor took 0.00 seconds\n",
      "rouge took 0.05 seconds\n",
      "bleu took 0.01 seconds\n",
      "meteor took 0.09 seconds\n"
     ]
    },
    {
     "name": "stderr",
     "output_type": "stream",
     "text": [
      "Evaluating:  51%|█████▏    | 513/1000 [00:49<01:08,  7.08it/s]"
     ]
    },
    {
     "name": "stdout",
     "output_type": "stream",
     "text": [
      "rouge took 0.55 seconds\n",
      "bleu took 0.00 seconds\n",
      "meteor took 0.00 seconds\n",
      "rouge took 0.05 seconds\n",
      "bleu took 0.00 seconds\n",
      "meteor took 0.00 seconds\n",
      "rouge took 0.05 seconds\n",
      "bleu took 0.00 seconds\n",
      "meteor took 0.00 seconds\n",
      "rouge took 0.06 seconds\n",
      "bleu took 0.00 seconds\n",
      "meteor took 0.00 seconds\n"
     ]
    },
    {
     "name": "stderr",
     "output_type": "stream",
     "text": [
      "Evaluating:  52%|█████▏    | 517/1000 [00:50<00:47, 10.18it/s]"
     ]
    },
    {
     "name": "stdout",
     "output_type": "stream",
     "text": [
      "rouge took 0.06 seconds\n",
      "bleu took 0.00 seconds\n",
      "meteor took 0.00 seconds\n",
      "rouge took 0.05 seconds\n",
      "bleu took 0.00 seconds\n",
      "meteor took 0.00 seconds\n",
      "rouge took 0.05 seconds\n",
      "bleu took 0.00 seconds\n",
      "meteor took 0.00 seconds\n",
      "rouge took 0.05 seconds\n",
      "bleu took 0.00 seconds\n",
      "meteor took 0.00 seconds\n"
     ]
    },
    {
     "name": "stderr",
     "output_type": "stream",
     "text": [
      "Evaluating:  52%|█████▏    | 521/1000 [00:50<00:35, 13.32it/s]"
     ]
    },
    {
     "name": "stdout",
     "output_type": "stream",
     "text": [
      "rouge took 0.05 seconds\n",
      "bleu took 0.00 seconds\n",
      "meteor took 0.00 seconds\n",
      "rouge took 0.05 seconds\n",
      "bleu took 0.00 seconds\n",
      "meteor took 0.00 seconds\n",
      "rouge took 0.05 seconds\n",
      "bleu took 0.00 seconds\n",
      "meteor took 0.00 seconds\n",
      "rouge took 0.05 seconds\n",
      "bleu took 0.00 seconds\n",
      "meteor took 0.02 seconds\n"
     ]
    },
    {
     "name": "stderr",
     "output_type": "stream",
     "text": [
      "Evaluating:  52%|█████▎    | 525/1000 [00:50<00:35, 13.26it/s]"
     ]
    },
    {
     "name": "stdout",
     "output_type": "stream",
     "text": [
      "rouge took 0.10 seconds\n",
      "bleu took 0.00 seconds\n",
      "meteor took 0.01 seconds\n",
      "rouge took 0.07 seconds\n",
      "bleu took 0.00 seconds\n",
      "meteor took 0.00 seconds\n",
      "rouge took 0.04 seconds\n",
      "bleu took 0.00 seconds\n",
      "meteor took 0.00 seconds\n",
      "rouge took 0.05 seconds\n",
      "bleu took 0.00 seconds\n",
      "meteor took 0.01 seconds\n"
     ]
    },
    {
     "name": "stderr",
     "output_type": "stream",
     "text": [
      "Evaluating:  53%|█████▎    | 529/1000 [00:50<00:30, 15.30it/s]"
     ]
    },
    {
     "name": "stdout",
     "output_type": "stream",
     "text": [
      "rouge took 0.05 seconds\n",
      "bleu took 0.01 seconds\n",
      "meteor took 0.00 seconds\n",
      "rouge took 0.05 seconds\n",
      "bleu took 0.00 seconds\n",
      "meteor took 0.00 seconds\n",
      "rouge took 0.05 seconds\n",
      "bleu took 0.00 seconds\n",
      "meteor took 0.00 seconds\n",
      "rouge took 0.05 seconds\n",
      "bleu took 0.00 seconds\n",
      "meteor took 0.00 seconds\n"
     ]
    },
    {
     "name": "stderr",
     "output_type": "stream",
     "text": [
      "Evaluating:  53%|█████▎    | 531/1000 [00:50<00:29, 16.08it/s]"
     ]
    },
    {
     "name": "stdout",
     "output_type": "stream",
     "text": [
      "rouge took 0.05 seconds\n",
      "bleu took 0.00 seconds\n",
      "meteor took 0.00 seconds\n",
      "rouge took 0.10 seconds\n",
      "bleu took 0.00 seconds\n",
      "meteor took 0.02 seconds\n"
     ]
    },
    {
     "name": "stderr",
     "output_type": "stream",
     "text": [
      "Evaluating:  54%|█████▎    | 535/1000 [00:51<00:34, 13.48it/s]"
     ]
    },
    {
     "name": "stdout",
     "output_type": "stream",
     "text": [
      "rouge took 0.13 seconds\n",
      "bleu took 0.00 seconds\n",
      "meteor took 0.01 seconds\n",
      "rouge took 0.05 seconds\n",
      "bleu took 0.00 seconds\n",
      "meteor took 0.00 seconds\n",
      "rouge took 0.04 seconds\n",
      "bleu took 0.00 seconds\n",
      "meteor took 0.00 seconds\n",
      "rouge took 0.04 seconds\n",
      "bleu took 0.00 seconds\n",
      "meteor took 0.00 seconds\n"
     ]
    },
    {
     "name": "stderr",
     "output_type": "stream",
     "text": [
      "Evaluating:  54%|█████▍    | 539/1000 [00:51<00:29, 15.80it/s]"
     ]
    },
    {
     "name": "stdout",
     "output_type": "stream",
     "text": [
      "rouge took 0.05 seconds\n",
      "bleu took 0.00 seconds\n",
      "meteor took 0.00 seconds\n",
      "rouge took 0.05 seconds\n",
      "bleu took 0.00 seconds\n",
      "meteor took 0.00 seconds\n",
      "rouge took 0.05 seconds\n",
      "bleu took 0.00 seconds\n",
      "meteor took 0.00 seconds\n",
      "rouge took 0.05 seconds\n",
      "bleu took 0.01 seconds\n",
      "meteor took 0.03 seconds\n"
     ]
    },
    {
     "name": "stderr",
     "output_type": "stream",
     "text": [
      "Evaluating:  54%|█████▍    | 543/1000 [00:51<00:31, 14.30it/s]"
     ]
    },
    {
     "name": "stdout",
     "output_type": "stream",
     "text": [
      "rouge took 0.14 seconds\n",
      "bleu took 0.00 seconds\n",
      "meteor took 0.00 seconds\n",
      "rouge took 0.05 seconds\n",
      "bleu took 0.00 seconds\n",
      "meteor took 0.00 seconds\n",
      "rouge took 0.04 seconds\n",
      "bleu took 0.00 seconds\n",
      "meteor took 0.02 seconds\n"
     ]
    },
    {
     "name": "stderr",
     "output_type": "stream",
     "text": [
      "Evaluating:  55%|█████▍    | 547/1000 [00:52<00:32, 13.82it/s]"
     ]
    },
    {
     "name": "stdout",
     "output_type": "stream",
     "text": [
      "rouge took 0.11 seconds\n",
      "bleu took 0.00 seconds\n",
      "meteor took 0.01 seconds\n",
      "rouge took 0.07 seconds\n",
      "bleu took 0.00 seconds\n",
      "meteor took 0.00 seconds\n",
      "rouge took 0.05 seconds\n",
      "bleu took 0.00 seconds\n",
      "meteor took 0.00 seconds\n",
      "rouge took 0.04 seconds\n",
      "bleu took 0.00 seconds\n",
      "meteor took 0.00 seconds\n"
     ]
    },
    {
     "name": "stderr",
     "output_type": "stream",
     "text": [
      "Evaluating:  55%|█████▌    | 551/1000 [00:52<00:27, 16.18it/s]"
     ]
    },
    {
     "name": "stdout",
     "output_type": "stream",
     "text": [
      "rouge took 0.05 seconds\n",
      "bleu took 0.00 seconds\n",
      "meteor took 0.00 seconds\n",
      "rouge took 0.05 seconds\n",
      "bleu took 0.00 seconds\n",
      "meteor took 0.00 seconds\n",
      "rouge took 0.05 seconds\n",
      "bleu took 0.00 seconds\n",
      "meteor took 0.00 seconds\n",
      "rouge took 0.05 seconds\n",
      "bleu took 0.00 seconds\n",
      "meteor took 0.00 seconds\n"
     ]
    },
    {
     "name": "stderr",
     "output_type": "stream",
     "text": [
      "Evaluating:  56%|█████▌    | 555/1000 [00:52<00:25, 17.66it/s]"
     ]
    },
    {
     "name": "stdout",
     "output_type": "stream",
     "text": [
      "rouge took 0.05 seconds\n",
      "bleu took 0.00 seconds\n",
      "meteor took 0.00 seconds\n",
      "rouge took 0.05 seconds\n",
      "bleu took 0.00 seconds\n",
      "meteor took 0.00 seconds\n",
      "rouge took 0.05 seconds\n",
      "bleu took 0.00 seconds\n",
      "meteor took 0.00 seconds\n",
      "rouge took 0.05 seconds\n",
      "bleu took 0.00 seconds\n",
      "meteor took 0.00 seconds\n"
     ]
    },
    {
     "name": "stderr",
     "output_type": "stream",
     "text": [
      "Evaluating:  56%|█████▌    | 559/1000 [00:52<00:24, 18.27it/s]"
     ]
    },
    {
     "name": "stdout",
     "output_type": "stream",
     "text": [
      "rouge took 0.05 seconds\n",
      "bleu took 0.00 seconds\n",
      "meteor took 0.00 seconds\n",
      "rouge took 0.05 seconds\n",
      "bleu took 0.00 seconds\n",
      "meteor took 0.00 seconds\n",
      "rouge took 0.05 seconds\n",
      "bleu took 0.00 seconds\n",
      "meteor took 0.00 seconds\n",
      "rouge took 0.05 seconds\n",
      "bleu took 0.00 seconds\n",
      "meteor took 0.00 seconds\n"
     ]
    },
    {
     "name": "stderr",
     "output_type": "stream",
     "text": [
      "Evaluating:  56%|█████▋    | 563/1000 [00:52<00:24, 17.67it/s]"
     ]
    },
    {
     "name": "stdout",
     "output_type": "stream",
     "text": [
      "rouge took 0.05 seconds\n",
      "bleu took 0.00 seconds\n",
      "meteor took 0.01 seconds\n",
      "rouge took 0.06 seconds\n",
      "bleu took 0.00 seconds\n",
      "meteor took 0.00 seconds\n",
      "rouge took 0.05 seconds\n",
      "bleu took 0.00 seconds\n",
      "meteor took 0.00 seconds\n",
      "rouge took 0.05 seconds\n",
      "bleu took 0.00 seconds\n",
      "meteor took 0.00 seconds\n"
     ]
    },
    {
     "name": "stderr",
     "output_type": "stream",
     "text": [
      "Evaluating:  56%|█████▋    | 565/1000 [00:53<00:29, 14.61it/s]"
     ]
    },
    {
     "name": "stdout",
     "output_type": "stream",
     "text": [
      "rouge took 0.05 seconds\n",
      "bleu took 0.01 seconds\n",
      "meteor took 0.02 seconds\n",
      "rouge took 0.11 seconds\n",
      "bleu took 0.00 seconds\n",
      "meteor took 0.00 seconds\n",
      "rouge took 0.05 seconds\n",
      "bleu took 0.00 seconds\n",
      "meteor took 0.01 seconds\n"
     ]
    },
    {
     "name": "stderr",
     "output_type": "stream",
     "text": [
      "Evaluating:  57%|█████▋    | 569/1000 [00:53<00:31, 13.85it/s]"
     ]
    },
    {
     "name": "stdout",
     "output_type": "stream",
     "text": [
      "rouge took 0.06 seconds\n",
      "bleu took 0.00 seconds\n",
      "meteor took 0.01 seconds\n",
      "rouge took 0.11 seconds\n",
      "bleu took 0.00 seconds\n",
      "meteor took 0.00 seconds\n",
      "rouge took 0.05 seconds\n",
      "bleu took 0.00 seconds\n",
      "meteor took 0.00 seconds\n"
     ]
    },
    {
     "name": "stderr",
     "output_type": "stream",
     "text": [
      "Evaluating:  57%|█████▋    | 573/1000 [00:53<00:28, 14.78it/s]"
     ]
    },
    {
     "name": "stdout",
     "output_type": "stream",
     "text": [
      "rouge took 0.05 seconds\n",
      "bleu took 0.00 seconds\n",
      "meteor took 0.00 seconds\n",
      "rouge took 0.05 seconds\n",
      "bleu took 0.00 seconds\n",
      "meteor took 0.00 seconds\n",
      "rouge took 0.07 seconds\n",
      "bleu took 0.00 seconds\n",
      "meteor took 0.00 seconds\n",
      "rouge took 0.05 seconds\n",
      "bleu took 0.00 seconds\n",
      "meteor took 0.00 seconds\n"
     ]
    },
    {
     "name": "stderr",
     "output_type": "stream",
     "text": [
      "Evaluating:  57%|█████▊    | 575/1000 [00:53<00:28, 15.09it/s]"
     ]
    },
    {
     "name": "stdout",
     "output_type": "stream",
     "text": [
      "rouge took 0.06 seconds\n",
      "bleu took 0.00 seconds\n",
      "meteor took 0.00 seconds\n",
      "rouge took 0.05 seconds\n",
      "bleu took 0.00 seconds\n",
      "meteor took 0.00 seconds\n",
      "rouge took 0.06 seconds\n",
      "bleu took 0.01 seconds\n",
      "meteor took 0.05 seconds\n"
     ]
    },
    {
     "name": "stderr",
     "output_type": "stream",
     "text": [
      "Evaluating:  58%|█████▊    | 579/1000 [00:54<00:38, 10.84it/s]"
     ]
    },
    {
     "name": "stdout",
     "output_type": "stream",
     "text": [
      "rouge took 0.26 seconds\n",
      "bleu took 0.00 seconds\n",
      "meteor took 0.00 seconds\n",
      "rouge took 0.05 seconds\n",
      "bleu took 0.00 seconds\n",
      "meteor took 0.00 seconds\n",
      "rouge took 0.06 seconds\n",
      "bleu took 0.00 seconds\n",
      "meteor took 0.01 seconds\n",
      "rouge took 0.06 seconds\n"
     ]
    },
    {
     "name": "stderr",
     "output_type": "stream",
     "text": [
      "Evaluating:  58%|█████▊    | 581/1000 [00:54<00:35, 11.81it/s]"
     ]
    },
    {
     "name": "stdout",
     "output_type": "stream",
     "text": [
      "bleu took 0.00 seconds\n",
      "meteor took 0.00 seconds\n",
      "rouge took 0.05 seconds\n",
      "bleu took 0.00 seconds\n",
      "meteor took 0.00 seconds\n",
      "rouge took 0.05 seconds\n",
      "bleu took 0.01 seconds\n",
      "meteor took 0.04 seconds\n"
     ]
    },
    {
     "name": "stderr",
     "output_type": "stream",
     "text": [
      "Evaluating:  58%|█████▊    | 585/1000 [00:55<00:41,  9.94it/s]"
     ]
    },
    {
     "name": "stdout",
     "output_type": "stream",
     "text": [
      "rouge took 0.26 seconds\n",
      "bleu took 0.00 seconds\n",
      "meteor took 0.01 seconds\n",
      "rouge took 0.07 seconds\n",
      "bleu took 0.00 seconds\n",
      "meteor took 0.00 seconds\n",
      "rouge took 0.05 seconds\n",
      "bleu took 0.00 seconds\n",
      "meteor took 0.01 seconds\n",
      "rouge took 0.05 seconds\n"
     ]
    },
    {
     "name": "stderr",
     "output_type": "stream",
     "text": [
      "Evaluating:  59%|█████▉    | 589/1000 [00:55<00:32, 12.60it/s]"
     ]
    },
    {
     "name": "stdout",
     "output_type": "stream",
     "text": [
      "bleu took 0.00 seconds\n",
      "meteor took 0.01 seconds\n",
      "rouge took 0.05 seconds\n",
      "bleu took 0.00 seconds\n",
      "meteor took 0.00 seconds\n",
      "rouge took 0.05 seconds\n",
      "bleu took 0.00 seconds\n",
      "meteor took 0.01 seconds\n",
      "rouge took 0.05 seconds\n",
      "bleu took 0.00 seconds\n",
      "meteor took 0.01 seconds\n"
     ]
    },
    {
     "name": "stderr",
     "output_type": "stream",
     "text": [
      "Evaluating:  59%|█████▉    | 591/1000 [00:55<00:32, 12.55it/s]"
     ]
    },
    {
     "name": "stdout",
     "output_type": "stream",
     "text": [
      "rouge took 0.06 seconds\n",
      "bleu took 0.00 seconds\n",
      "meteor took 0.01 seconds\n",
      "rouge took 0.08 seconds\n",
      "bleu took 0.00 seconds\n",
      "meteor took 0.00 seconds\n",
      "rouge took 0.05 seconds\n",
      "bleu took 0.00 seconds\n",
      "meteor took 0.02 seconds\n"
     ]
    },
    {
     "name": "stderr",
     "output_type": "stream",
     "text": [
      "Evaluating:  60%|█████▉    | 595/1000 [00:55<00:35, 11.51it/s]"
     ]
    },
    {
     "name": "stdout",
     "output_type": "stream",
     "text": [
      "rouge took 0.21 seconds\n",
      "bleu took 0.00 seconds\n",
      "meteor took 0.00 seconds\n",
      "rouge took 0.05 seconds\n",
      "bleu took 0.00 seconds\n",
      "meteor took 0.00 seconds\n",
      "rouge took 0.05 seconds\n",
      "bleu took 0.00 seconds\n",
      "meteor took 0.00 seconds\n",
      "rouge took 0.05 seconds\n",
      "bleu took 0.01 seconds\n",
      "meteor took 0.12 seconds\n"
     ]
    },
    {
     "name": "stderr",
     "output_type": "stream",
     "text": [
      "Evaluating:  60%|█████▉    | 599/1000 [00:56<00:55,  7.28it/s]"
     ]
    },
    {
     "name": "stdout",
     "output_type": "stream",
     "text": [
      "rouge took 0.57 seconds\n",
      "bleu took 0.00 seconds\n",
      "meteor took 0.00 seconds\n",
      "rouge took 0.05 seconds\n",
      "bleu took 0.00 seconds\n",
      "meteor took 0.00 seconds\n",
      "rouge took 0.04 seconds\n",
      "bleu took 0.00 seconds\n",
      "meteor took 0.00 seconds\n",
      "rouge took 0.05 seconds\n",
      "bleu took 0.00 seconds\n",
      "meteor took 0.01 seconds\n"
     ]
    },
    {
     "name": "stderr",
     "output_type": "stream",
     "text": [
      "Evaluating:  60%|██████    | 603/1000 [00:56<00:39, 10.02it/s]"
     ]
    },
    {
     "name": "stdout",
     "output_type": "stream",
     "text": [
      "rouge took 0.07 seconds\n",
      "bleu took 0.00 seconds\n",
      "meteor took 0.01 seconds\n",
      "rouge took 0.06 seconds\n",
      "bleu took 0.00 seconds\n",
      "meteor took 0.01 seconds\n",
      "rouge took 0.05 seconds\n",
      "bleu took 0.00 seconds\n",
      "meteor took 0.00 seconds\n",
      "rouge took 0.05 seconds\n",
      "bleu took 0.00 seconds\n",
      "meteor took 0.00 seconds\n"
     ]
    },
    {
     "name": "stderr",
     "output_type": "stream",
     "text": [
      "Evaluating:  61%|██████    | 607/1000 [00:57<00:30, 12.88it/s]"
     ]
    },
    {
     "name": "stdout",
     "output_type": "stream",
     "text": [
      "rouge took 0.05 seconds\n",
      "bleu took 0.00 seconds\n",
      "meteor took 0.00 seconds\n",
      "rouge took 0.05 seconds\n",
      "bleu took 0.00 seconds\n",
      "meteor took 0.00 seconds\n",
      "rouge took 0.05 seconds\n",
      "bleu took 0.00 seconds\n",
      "meteor took 0.00 seconds\n",
      "rouge took 0.05 seconds\n",
      "bleu took 0.00 seconds\n",
      "meteor took 0.01 seconds\n"
     ]
    },
    {
     "name": "stderr",
     "output_type": "stream",
     "text": [
      "Evaluating:  61%|██████    | 611/1000 [00:57<00:26, 14.76it/s]"
     ]
    },
    {
     "name": "stdout",
     "output_type": "stream",
     "text": [
      "rouge took 0.06 seconds\n",
      "bleu took 0.00 seconds\n",
      "meteor took 0.00 seconds\n",
      "rouge took 0.05 seconds\n",
      "bleu took 0.00 seconds\n",
      "meteor took 0.01 seconds\n",
      "rouge took 0.05 seconds\n",
      "bleu took 0.00 seconds\n",
      "meteor took 0.00 seconds\n",
      "rouge took 0.05 seconds\n",
      "bleu took 0.00 seconds\n",
      "meteor took 0.00 seconds\n"
     ]
    },
    {
     "name": "stderr",
     "output_type": "stream",
     "text": [
      "Evaluating:  61%|██████▏   | 613/1000 [00:57<00:24, 15.71it/s]"
     ]
    },
    {
     "name": "stdout",
     "output_type": "stream",
     "text": [
      "rouge took 0.05 seconds\n",
      "bleu took 0.02 seconds\n",
      "meteor took 0.14 seconds\n"
     ]
    },
    {
     "name": "stderr",
     "output_type": "stream",
     "text": [
      "Evaluating:  62%|██████▏   | 617/1000 [00:58<01:00,  6.32it/s]"
     ]
    },
    {
     "name": "stdout",
     "output_type": "stream",
     "text": [
      "rouge took 0.80 seconds\n",
      "bleu took 0.00 seconds\n",
      "meteor took 0.01 seconds\n",
      "rouge took 0.06 seconds\n",
      "bleu took 0.00 seconds\n",
      "meteor took 0.00 seconds\n",
      "rouge took 0.05 seconds\n",
      "bleu took 0.00 seconds\n",
      "meteor took 0.00 seconds\n",
      "rouge took 0.06 seconds\n",
      "bleu took 0.00 seconds\n",
      "meteor took 0.00 seconds\n"
     ]
    },
    {
     "name": "stderr",
     "output_type": "stream",
     "text": [
      "Evaluating:  62%|██████▏   | 619/1000 [00:58<00:51,  7.39it/s]"
     ]
    },
    {
     "name": "stdout",
     "output_type": "stream",
     "text": [
      "rouge took 0.05 seconds\n",
      "bleu took 0.00 seconds\n",
      "meteor took 0.01 seconds\n",
      "rouge took 0.09 seconds\n",
      "bleu took 0.00 seconds\n",
      "meteor took 0.00 seconds\n",
      "rouge took 0.05 seconds\n",
      "bleu took 0.00 seconds\n",
      "meteor took 0.00 seconds\n"
     ]
    },
    {
     "name": "stderr",
     "output_type": "stream",
     "text": [
      "Evaluating:  62%|██████▏   | 623/1000 [00:59<00:35, 10.66it/s]"
     ]
    },
    {
     "name": "stdout",
     "output_type": "stream",
     "text": [
      "rouge took 0.05 seconds\n",
      "bleu took 0.00 seconds\n",
      "meteor took 0.00 seconds\n",
      "rouge took 0.05 seconds\n",
      "bleu took 0.00 seconds\n",
      "meteor took 0.00 seconds\n",
      "rouge took 0.05 seconds\n",
      "bleu took 0.00 seconds\n",
      "meteor took 0.00 seconds\n",
      "rouge took 0.05 seconds\n",
      "bleu took 0.00 seconds\n",
      "meteor took 0.00 seconds\n"
     ]
    },
    {
     "name": "stderr",
     "output_type": "stream",
     "text": [
      "Evaluating:  63%|██████▎   | 627/1000 [00:59<00:32, 11.65it/s]"
     ]
    },
    {
     "name": "stdout",
     "output_type": "stream",
     "text": [
      "rouge took 0.05 seconds\n",
      "bleu took 0.00 seconds\n",
      "meteor took 0.01 seconds\n",
      "rouge took 0.13 seconds\n",
      "bleu took 0.00 seconds\n",
      "meteor took 0.00 seconds\n",
      "rouge took 0.05 seconds\n",
      "bleu took 0.00 seconds\n",
      "meteor took 0.01 seconds\n"
     ]
    },
    {
     "name": "stderr",
     "output_type": "stream",
     "text": [
      "Evaluating:  63%|██████▎   | 631/1000 [00:59<00:27, 13.65it/s]"
     ]
    },
    {
     "name": "stdout",
     "output_type": "stream",
     "text": [
      "rouge took 0.05 seconds\n",
      "bleu took 0.00 seconds\n",
      "meteor took 0.00 seconds\n",
      "rouge took 0.05 seconds\n",
      "bleu took 0.00 seconds\n",
      "meteor took 0.01 seconds\n",
      "rouge took 0.06 seconds\n",
      "bleu took 0.00 seconds\n",
      "meteor took 0.00 seconds\n",
      "rouge took 0.04 seconds\n",
      "bleu took 0.00 seconds\n",
      "meteor took 0.00 seconds\n"
     ]
    },
    {
     "name": "stderr",
     "output_type": "stream",
     "text": [
      "Evaluating:  64%|██████▎   | 635/1000 [00:59<00:23, 15.56it/s]"
     ]
    },
    {
     "name": "stdout",
     "output_type": "stream",
     "text": [
      "rouge took 0.05 seconds\n",
      "bleu took 0.00 seconds\n",
      "meteor took 0.00 seconds\n",
      "rouge took 0.05 seconds\n",
      "bleu took 0.00 seconds\n",
      "meteor took 0.00 seconds\n",
      "rouge took 0.05 seconds\n",
      "bleu took 0.00 seconds\n",
      "meteor took 0.00 seconds\n",
      "rouge took 0.05 seconds\n",
      "bleu took 0.00 seconds\n",
      "meteor took 0.01 seconds\n",
      "rouge took 0.05 seconds\n",
      "bleu took 0.01 seconds\n",
      "meteor took 0.06 seconds\n"
     ]
    },
    {
     "name": "stderr",
     "output_type": "stream",
     "text": [
      "Evaluating:  64%|██████▍   | 639/1000 [01:00<00:40,  8.97it/s]"
     ]
    },
    {
     "name": "stdout",
     "output_type": "stream",
     "text": [
      "rouge took 0.42 seconds\n",
      "bleu took 0.00 seconds\n",
      "meteor took 0.02 seconds\n",
      "rouge took 0.07 seconds\n",
      "bleu took 0.00 seconds\n",
      "meteor took 0.01 seconds\n",
      "rouge took 0.05 seconds\n",
      "bleu took 0.01 seconds\n",
      "meteor took 0.01 seconds\n"
     ]
    },
    {
     "name": "stderr",
     "output_type": "stream",
     "text": [
      "Evaluating:  64%|██████▍   | 643/1000 [01:00<00:29, 11.94it/s]"
     ]
    },
    {
     "name": "stdout",
     "output_type": "stream",
     "text": [
      "rouge took 0.06 seconds\n",
      "bleu took 0.00 seconds\n",
      "meteor took 0.00 seconds\n",
      "rouge took 0.05 seconds\n",
      "bleu took 0.00 seconds\n",
      "meteor took 0.00 seconds\n",
      "rouge took 0.05 seconds\n",
      "bleu took 0.00 seconds\n",
      "meteor took 0.00 seconds\n",
      "rouge took 0.05 seconds\n",
      "bleu took 0.00 seconds\n",
      "meteor took 0.00 seconds\n"
     ]
    },
    {
     "name": "stderr",
     "output_type": "stream",
     "text": [
      "Evaluating:  65%|██████▍   | 647/1000 [01:00<00:24, 14.31it/s]"
     ]
    },
    {
     "name": "stdout",
     "output_type": "stream",
     "text": [
      "rouge took 0.05 seconds\n",
      "bleu took 0.00 seconds\n",
      "meteor took 0.00 seconds\n",
      "rouge took 0.05 seconds\n",
      "bleu took 0.00 seconds\n",
      "meteor took 0.00 seconds\n",
      "rouge took 0.05 seconds\n",
      "bleu took 0.00 seconds\n",
      "meteor took 0.00 seconds\n",
      "rouge took 0.05 seconds\n",
      "bleu took 0.00 seconds\n",
      "meteor took 0.00 seconds\n"
     ]
    },
    {
     "name": "stderr",
     "output_type": "stream",
     "text": [
      "Evaluating:  65%|██████▌   | 651/1000 [01:01<00:21, 16.25it/s]"
     ]
    },
    {
     "name": "stdout",
     "output_type": "stream",
     "text": [
      "rouge took 0.05 seconds\n",
      "bleu took 0.00 seconds\n",
      "meteor took 0.00 seconds\n",
      "rouge took 0.05 seconds\n",
      "bleu took 0.00 seconds\n",
      "meteor took 0.00 seconds\n",
      "rouge took 0.05 seconds\n",
      "bleu took 0.00 seconds\n",
      "meteor took 0.00 seconds\n",
      "rouge took 0.05 seconds\n",
      "bleu took 0.00 seconds\n",
      "meteor took 0.00 seconds\n"
     ]
    },
    {
     "name": "stderr",
     "output_type": "stream",
     "text": [
      "Evaluating:  66%|██████▌   | 655/1000 [01:01<00:19, 17.52it/s]"
     ]
    },
    {
     "name": "stdout",
     "output_type": "stream",
     "text": [
      "rouge took 0.05 seconds\n",
      "bleu took 0.00 seconds\n",
      "meteor took 0.00 seconds\n",
      "rouge took 0.05 seconds\n",
      "bleu took 0.00 seconds\n",
      "meteor took 0.00 seconds\n",
      "rouge took 0.05 seconds\n",
      "bleu took 0.00 seconds\n",
      "meteor took 0.00 seconds\n",
      "rouge took 0.05 seconds\n",
      "bleu took 0.00 seconds\n",
      "meteor took 0.00 seconds\n"
     ]
    },
    {
     "name": "stderr",
     "output_type": "stream",
     "text": [
      "Evaluating:  66%|██████▌   | 659/1000 [01:01<00:19, 17.12it/s]"
     ]
    },
    {
     "name": "stdout",
     "output_type": "stream",
     "text": [
      "rouge took 0.05 seconds\n",
      "bleu took 0.00 seconds\n",
      "meteor took 0.01 seconds\n",
      "rouge took 0.07 seconds\n",
      "bleu took 0.00 seconds\n",
      "meteor took 0.00 seconds\n",
      "rouge took 0.05 seconds\n",
      "bleu took 0.00 seconds\n",
      "meteor took 0.00 seconds\n",
      "rouge took 0.05 seconds\n",
      "bleu took 0.00 seconds\n",
      "meteor took 0.00 seconds\n"
     ]
    },
    {
     "name": "stderr",
     "output_type": "stream",
     "text": [
      "Evaluating:  66%|██████▌   | 661/1000 [01:01<00:19, 17.14it/s]"
     ]
    },
    {
     "name": "stdout",
     "output_type": "stream",
     "text": [
      "rouge took 0.05 seconds\n",
      "bleu took 0.00 seconds\n",
      "meteor took 0.00 seconds\n",
      "rouge took 0.05 seconds\n",
      "bleu took 0.00 seconds\n",
      "meteor took 0.00 seconds\n",
      "rouge took 0.10 seconds\n",
      "bleu took 0.00 seconds\n",
      "meteor took 0.00 seconds\n"
     ]
    },
    {
     "name": "stderr",
     "output_type": "stream",
     "text": [
      "Evaluating:  66%|██████▋   | 665/1000 [01:02<00:21, 15.60it/s]"
     ]
    },
    {
     "name": "stdout",
     "output_type": "stream",
     "text": [
      "rouge took 0.05 seconds\n",
      "bleu took 0.00 seconds\n",
      "meteor took 0.01 seconds\n",
      "rouge took 0.05 seconds\n",
      "bleu took 0.00 seconds\n",
      "meteor took 0.00 seconds\n",
      "rouge took 0.05 seconds\n",
      "bleu took 0.00 seconds\n",
      "meteor took 0.01 seconds\n",
      "rouge took 0.06 seconds\n",
      "bleu took 0.00 seconds\n",
      "meteor took 0.00 seconds\n"
     ]
    },
    {
     "name": "stderr",
     "output_type": "stream",
     "text": [
      "Evaluating:  67%|██████▋   | 669/1000 [01:02<00:20, 15.92it/s]"
     ]
    },
    {
     "name": "stdout",
     "output_type": "stream",
     "text": [
      "rouge took 0.05 seconds\n",
      "bleu took 0.01 seconds\n",
      "meteor took 0.00 seconds\n",
      "rouge took 0.05 seconds\n",
      "bleu took 0.00 seconds\n",
      "meteor took 0.00 seconds\n",
      "rouge took 0.05 seconds\n",
      "bleu took 0.00 seconds\n",
      "meteor took 0.00 seconds\n",
      "rouge took 0.05 seconds\n",
      "bleu took 0.00 seconds\n",
      "meteor took 0.01 seconds\n"
     ]
    },
    {
     "name": "stderr",
     "output_type": "stream",
     "text": [
      "Evaluating:  67%|██████▋   | 671/1000 [01:02<00:20, 15.95it/s]"
     ]
    },
    {
     "name": "stdout",
     "output_type": "stream",
     "text": [
      "rouge took 0.06 seconds\n",
      "bleu took 0.01 seconds\n",
      "meteor took 0.03 seconds\n"
     ]
    },
    {
     "name": "stderr",
     "output_type": "stream",
     "text": [
      "Evaluating:  67%|██████▋   | 673/1000 [01:02<00:28, 11.46it/s]"
     ]
    },
    {
     "name": "stdout",
     "output_type": "stream",
     "text": [
      "rouge took 0.18 seconds\n",
      "bleu took 0.00 seconds\n",
      "meteor took 0.01 seconds\n",
      "rouge took 0.06 seconds\n",
      "bleu took 0.00 seconds\n",
      "meteor took 0.00 seconds\n",
      "rouge took 0.05 seconds\n",
      "bleu took 0.00 seconds\n",
      "meteor took 0.02 seconds\n"
     ]
    },
    {
     "name": "stderr",
     "output_type": "stream",
     "text": [
      "Evaluating:  68%|██████▊   | 677/1000 [01:03<00:27, 11.77it/s]"
     ]
    },
    {
     "name": "stdout",
     "output_type": "stream",
     "text": [
      "rouge took 0.13 seconds\n",
      "bleu took 0.00 seconds\n",
      "meteor took 0.01 seconds\n",
      "rouge took 0.06 seconds\n",
      "bleu took 0.00 seconds\n",
      "meteor took 0.00 seconds\n",
      "rouge took 0.05 seconds\n",
      "bleu took 0.00 seconds\n",
      "meteor took 0.01 seconds\n",
      "rouge took 0.05 seconds\n"
     ]
    },
    {
     "name": "stderr",
     "output_type": "stream",
     "text": [
      "Evaluating:  68%|██████▊   | 679/1000 [01:03<00:27, 11.87it/s]"
     ]
    },
    {
     "name": "stdout",
     "output_type": "stream",
     "text": [
      "bleu took 0.01 seconds\n",
      "meteor took 0.01 seconds\n",
      "rouge took 0.08 seconds\n",
      "bleu took 0.00 seconds\n",
      "meteor took 0.00 seconds\n",
      "rouge took 0.05 seconds\n",
      "bleu took 0.00 seconds\n",
      "meteor took 0.00 seconds\n"
     ]
    },
    {
     "name": "stderr",
     "output_type": "stream",
     "text": [
      "Evaluating:  68%|██████▊   | 683/1000 [01:03<00:22, 14.35it/s]"
     ]
    },
    {
     "name": "stdout",
     "output_type": "stream",
     "text": [
      "rouge took 0.05 seconds\n",
      "bleu took 0.00 seconds\n",
      "meteor took 0.00 seconds\n",
      "rouge took 0.05 seconds\n",
      "bleu took 0.00 seconds\n",
      "meteor took 0.00 seconds\n",
      "rouge took 0.05 seconds\n",
      "bleu took 0.00 seconds\n",
      "meteor took 0.00 seconds\n",
      "rouge took 0.05 seconds\n",
      "bleu took 0.00 seconds\n",
      "meteor took 0.01 seconds\n"
     ]
    },
    {
     "name": "stderr",
     "output_type": "stream",
     "text": [
      "Evaluating:  68%|██████▊   | 685/1000 [01:03<00:22, 14.22it/s]"
     ]
    },
    {
     "name": "stdout",
     "output_type": "stream",
     "text": [
      "rouge took 0.08 seconds\n",
      "bleu took 0.01 seconds\n",
      "meteor took 0.02 seconds\n"
     ]
    },
    {
     "name": "stderr",
     "output_type": "stream",
     "text": [
      "Evaluating:  69%|██████▉   | 689/1000 [01:03<00:25, 12.39it/s]"
     ]
    },
    {
     "name": "stdout",
     "output_type": "stream",
     "text": [
      "rouge took 0.20 seconds\n",
      "bleu took 0.00 seconds\n",
      "meteor took 0.00 seconds\n",
      "rouge took 0.05 seconds\n",
      "bleu took 0.00 seconds\n",
      "meteor took 0.00 seconds\n",
      "rouge took 0.05 seconds\n",
      "bleu took 0.00 seconds\n",
      "meteor took 0.00 seconds\n",
      "rouge took 0.05 seconds\n",
      "bleu took 0.00 seconds\n",
      "meteor took 0.00 seconds\n",
      "rouge took 0.05 seconds\n",
      "bleu took 0.01 seconds\n",
      "meteor took 0.09 seconds\n"
     ]
    },
    {
     "name": "stderr",
     "output_type": "stream",
     "text": [
      "Evaluating:  69%|██████▉   | 693/1000 [01:04<00:39,  7.85it/s]"
     ]
    },
    {
     "name": "stdout",
     "output_type": "stream",
     "text": [
      "rouge took 0.50 seconds\n",
      "bleu took 0.00 seconds\n",
      "meteor took 0.01 seconds\n",
      "rouge took 0.06 seconds\n",
      "bleu took 0.00 seconds\n",
      "meteor took 0.01 seconds\n",
      "rouge took 0.05 seconds\n",
      "bleu took 0.00 seconds\n",
      "meteor took 0.00 seconds\n",
      "rouge took 0.05 seconds\n",
      "bleu took 0.00 seconds\n",
      "meteor took 0.00 seconds\n"
     ]
    },
    {
     "name": "stderr",
     "output_type": "stream",
     "text": [
      "Evaluating:  70%|██████▉   | 697/1000 [01:04<00:27, 11.00it/s]"
     ]
    },
    {
     "name": "stdout",
     "output_type": "stream",
     "text": [
      "rouge took 0.06 seconds\n",
      "bleu took 0.00 seconds\n",
      "meteor took 0.00 seconds\n",
      "rouge took 0.05 seconds\n",
      "bleu took 0.00 seconds\n",
      "meteor took 0.00 seconds\n",
      "rouge took 0.05 seconds\n",
      "bleu took 0.00 seconds\n",
      "meteor took 0.00 seconds\n",
      "rouge took 0.05 seconds\n",
      "bleu took 0.00 seconds\n",
      "meteor took 0.00 seconds\n"
     ]
    },
    {
     "name": "stderr",
     "output_type": "stream",
     "text": [
      "Evaluating:  70%|███████   | 701/1000 [01:05<00:22, 13.31it/s]"
     ]
    },
    {
     "name": "stdout",
     "output_type": "stream",
     "text": [
      "rouge took 0.05 seconds\n",
      "bleu took 0.01 seconds\n",
      "meteor took 0.01 seconds\n",
      "rouge took 0.06 seconds\n",
      "bleu took 0.00 seconds\n",
      "meteor took 0.00 seconds\n",
      "rouge took 0.05 seconds\n",
      "bleu took 0.00 seconds\n",
      "meteor took 0.00 seconds\n",
      "rouge took 0.05 seconds\n",
      "bleu took 0.00 seconds\n",
      "meteor took 0.01 seconds\n"
     ]
    },
    {
     "name": "stderr",
     "output_type": "stream",
     "text": [
      "Evaluating:  70%|███████   | 705/1000 [01:05<00:19, 15.07it/s]"
     ]
    },
    {
     "name": "stdout",
     "output_type": "stream",
     "text": [
      "rouge took 0.06 seconds\n",
      "bleu took 0.00 seconds\n",
      "meteor took 0.00 seconds\n",
      "rouge took 0.05 seconds\n",
      "bleu took 0.00 seconds\n",
      "meteor took 0.01 seconds\n",
      "rouge took 0.05 seconds\n",
      "bleu took 0.00 seconds\n",
      "meteor took 0.00 seconds\n",
      "rouge took 0.05 seconds\n",
      "bleu took 0.00 seconds\n",
      "meteor took 0.00 seconds\n"
     ]
    },
    {
     "name": "stderr",
     "output_type": "stream",
     "text": [
      "Evaluating:  71%|███████   | 709/1000 [01:05<00:17, 16.65it/s]"
     ]
    },
    {
     "name": "stdout",
     "output_type": "stream",
     "text": [
      "rouge took 0.05 seconds\n",
      "bleu took 0.00 seconds\n",
      "meteor took 0.00 seconds\n",
      "rouge took 0.05 seconds\n",
      "bleu took 0.00 seconds\n",
      "meteor took 0.00 seconds\n",
      "rouge took 0.05 seconds\n",
      "bleu took 0.00 seconds\n",
      "meteor took 0.00 seconds\n",
      "rouge took 0.05 seconds\n",
      "bleu took 0.00 seconds\n",
      "meteor took 0.01 seconds\n"
     ]
    },
    {
     "name": "stderr",
     "output_type": "stream",
     "text": [
      "Evaluating:  71%|███████▏  | 713/1000 [01:05<00:17, 16.43it/s]"
     ]
    },
    {
     "name": "stdout",
     "output_type": "stream",
     "text": [
      "rouge took 0.05 seconds\n",
      "bleu took 0.00 seconds\n",
      "meteor took 0.00 seconds\n",
      "rouge took 0.07 seconds\n",
      "bleu took 0.00 seconds\n",
      "meteor took 0.00 seconds\n",
      "rouge took 0.05 seconds\n",
      "bleu took 0.01 seconds\n",
      "meteor took 0.02 seconds\n"
     ]
    },
    {
     "name": "stderr",
     "output_type": "stream",
     "text": [
      "Evaluating:  72%|███████▏  | 715/1000 [01:06<00:21, 13.18it/s]"
     ]
    },
    {
     "name": "stdout",
     "output_type": "stream",
     "text": [
      "rouge took 0.14 seconds\n",
      "bleu took 0.00 seconds\n",
      "meteor took 0.00 seconds\n",
      "rouge took 0.05 seconds\n",
      "bleu took 0.00 seconds\n",
      "meteor took 0.00 seconds\n",
      "rouge took 0.08 seconds\n",
      "bleu took 0.02 seconds\n",
      "meteor took 0.02 seconds\n"
     ]
    },
    {
     "name": "stderr",
     "output_type": "stream",
     "text": [
      "Evaluating:  72%|███████▏  | 719/1000 [01:06<00:21, 13.18it/s]"
     ]
    },
    {
     "name": "stdout",
     "output_type": "stream",
     "text": [
      "rouge took 0.08 seconds\n",
      "bleu took 0.00 seconds\n",
      "meteor took 0.01 seconds\n",
      "rouge took 0.05 seconds\n",
      "bleu took 0.00 seconds\n",
      "meteor took 0.00 seconds\n",
      "rouge took 0.05 seconds\n",
      "bleu took 0.00 seconds\n",
      "meteor took 0.00 seconds\n",
      "rouge took 0.05 seconds\n",
      "bleu took 0.00 seconds\n",
      "meteor took 0.01 seconds\n"
     ]
    },
    {
     "name": "stderr",
     "output_type": "stream",
     "text": [
      "Evaluating:  72%|███████▏  | 723/1000 [01:06<00:18, 14.63it/s]"
     ]
    },
    {
     "name": "stdout",
     "output_type": "stream",
     "text": [
      "rouge took 0.07 seconds\n",
      "bleu took 0.00 seconds\n",
      "meteor took 0.01 seconds\n",
      "rouge took 0.05 seconds\n",
      "bleu took 0.00 seconds\n",
      "meteor took 0.00 seconds\n",
      "rouge took 0.05 seconds\n",
      "bleu took 0.00 seconds\n",
      "meteor took 0.00 seconds\n",
      "rouge took 0.05 seconds\n",
      "bleu took 0.00 seconds\n",
      "meteor took 0.00 seconds\n"
     ]
    },
    {
     "name": "stderr",
     "output_type": "stream",
     "text": [
      "Evaluating:  73%|███████▎  | 727/1000 [01:06<00:17, 15.24it/s]"
     ]
    },
    {
     "name": "stdout",
     "output_type": "stream",
     "text": [
      "rouge took 0.05 seconds\n",
      "bleu took 0.01 seconds\n",
      "meteor took 0.01 seconds\n",
      "rouge took 0.06 seconds\n",
      "bleu took 0.00 seconds\n",
      "meteor took 0.01 seconds\n",
      "rouge took 0.06 seconds\n",
      "bleu took 0.00 seconds\n",
      "meteor took 0.01 seconds\n"
     ]
    },
    {
     "name": "stderr",
     "output_type": "stream",
     "text": [
      "Evaluating:  73%|███████▎  | 731/1000 [01:07<00:16, 16.12it/s]"
     ]
    },
    {
     "name": "stdout",
     "output_type": "stream",
     "text": [
      "rouge took 0.06 seconds\n",
      "bleu took 0.00 seconds\n",
      "meteor took 0.01 seconds\n",
      "rouge took 0.06 seconds\n",
      "bleu took 0.00 seconds\n",
      "meteor took 0.00 seconds\n",
      "rouge took 0.05 seconds\n",
      "bleu took 0.00 seconds\n",
      "meteor took 0.00 seconds\n",
      "rouge took 0.05 seconds\n",
      "bleu took 0.00 seconds\n",
      "meteor took 0.01 seconds\n"
     ]
    },
    {
     "name": "stderr",
     "output_type": "stream",
     "text": [
      "Evaluating:  74%|███████▎  | 735/1000 [01:07<00:16, 16.20it/s]"
     ]
    },
    {
     "name": "stdout",
     "output_type": "stream",
     "text": [
      "rouge took 0.06 seconds\n",
      "bleu took 0.00 seconds\n",
      "meteor took 0.00 seconds\n",
      "rouge took 0.05 seconds\n",
      "bleu took 0.00 seconds\n",
      "meteor took 0.00 seconds\n",
      "rouge took 0.05 seconds\n",
      "bleu took 0.00 seconds\n",
      "meteor took 0.01 seconds\n",
      "rouge took 0.05 seconds\n",
      "bleu took 0.00 seconds\n",
      "meteor took 0.00 seconds\n"
     ]
    },
    {
     "name": "stderr",
     "output_type": "stream",
     "text": [
      "Evaluating:  74%|███████▍  | 739/1000 [01:07<00:15, 16.53it/s]"
     ]
    },
    {
     "name": "stdout",
     "output_type": "stream",
     "text": [
      "rouge took 0.05 seconds\n",
      "bleu took 0.00 seconds\n",
      "meteor took 0.01 seconds\n",
      "rouge took 0.06 seconds\n",
      "bleu took 0.00 seconds\n",
      "meteor took 0.00 seconds\n",
      "rouge took 0.05 seconds\n",
      "bleu took 0.00 seconds\n",
      "meteor took 0.00 seconds\n",
      "rouge took 0.05 seconds\n",
      "bleu took 0.00 seconds\n",
      "meteor took 0.00 seconds\n"
     ]
    },
    {
     "name": "stderr",
     "output_type": "stream",
     "text": [
      "Evaluating:  74%|███████▍  | 743/1000 [01:07<00:14, 17.62it/s]"
     ]
    },
    {
     "name": "stdout",
     "output_type": "stream",
     "text": [
      "rouge took 0.05 seconds\n",
      "bleu took 0.00 seconds\n",
      "meteor took 0.00 seconds\n",
      "rouge took 0.05 seconds\n",
      "bleu took 0.00 seconds\n",
      "meteor took 0.00 seconds\n",
      "rouge took 0.05 seconds\n",
      "bleu took 0.00 seconds\n",
      "meteor took 0.00 seconds\n",
      "rouge took 0.05 seconds\n",
      "bleu took 0.00 seconds\n",
      "meteor took 0.00 seconds\n"
     ]
    },
    {
     "name": "stderr",
     "output_type": "stream",
     "text": [
      "Evaluating:  75%|███████▍  | 747/1000 [01:08<00:13, 18.20it/s]"
     ]
    },
    {
     "name": "stdout",
     "output_type": "stream",
     "text": [
      "rouge took 0.05 seconds\n",
      "bleu took 0.00 seconds\n",
      "meteor took 0.00 seconds\n",
      "rouge took 0.05 seconds\n",
      "bleu took 0.00 seconds\n",
      "meteor took 0.00 seconds\n",
      "rouge took 0.05 seconds\n",
      "bleu took 0.00 seconds\n",
      "meteor took 0.00 seconds\n",
      "rouge took 0.05 seconds\n",
      "bleu took 0.00 seconds\n",
      "meteor took 0.00 seconds\n"
     ]
    },
    {
     "name": "stderr",
     "output_type": "stream",
     "text": [
      "Evaluating:  75%|███████▍  | 749/1000 [01:08<00:14, 17.83it/s]"
     ]
    },
    {
     "name": "stdout",
     "output_type": "stream",
     "text": [
      "rouge took 0.06 seconds\n",
      "bleu took 0.00 seconds\n",
      "meteor took 0.00 seconds\n",
      "rouge took 0.05 seconds\n",
      "bleu took 0.00 seconds\n",
      "meteor took 0.00 seconds\n",
      "rouge took 0.11 seconds\n",
      "bleu took 0.00 seconds\n",
      "meteor took 0.00 seconds\n"
     ]
    },
    {
     "name": "stderr",
     "output_type": "stream",
     "text": [
      "Evaluating:  75%|███████▌  | 753/1000 [01:08<00:15, 15.84it/s]"
     ]
    },
    {
     "name": "stdout",
     "output_type": "stream",
     "text": [
      "rouge took 0.06 seconds\n",
      "bleu took 0.00 seconds\n",
      "meteor took 0.00 seconds\n",
      "rouge took 0.05 seconds\n",
      "bleu took 0.00 seconds\n",
      "meteor took 0.00 seconds\n",
      "rouge took 0.05 seconds\n",
      "bleu took 0.00 seconds\n",
      "meteor took 0.01 seconds\n",
      "rouge took 0.05 seconds\n",
      "bleu took 0.00 seconds\n",
      "meteor took 0.00 seconds\n"
     ]
    },
    {
     "name": "stderr",
     "output_type": "stream",
     "text": [
      "Evaluating:  76%|███████▌  | 757/1000 [01:08<00:15, 15.39it/s]"
     ]
    },
    {
     "name": "stdout",
     "output_type": "stream",
     "text": [
      "rouge took 0.05 seconds\n",
      "bleu took 0.01 seconds\n",
      "meteor took 0.02 seconds\n",
      "rouge took 0.07 seconds\n",
      "bleu took 0.00 seconds\n",
      "meteor took 0.00 seconds\n",
      "rouge took 0.05 seconds\n",
      "bleu took 0.00 seconds\n",
      "meteor took 0.00 seconds\n",
      "rouge took 0.05 seconds\n",
      "bleu took 0.00 seconds\n"
     ]
    },
    {
     "name": "stderr",
     "output_type": "stream",
     "text": [
      "Evaluating:  76%|███████▌  | 761/1000 [01:08<00:14, 16.46it/s]"
     ]
    },
    {
     "name": "stdout",
     "output_type": "stream",
     "text": [
      "meteor took 0.01 seconds\n",
      "rouge took 0.05 seconds\n",
      "bleu took 0.00 seconds\n",
      "meteor took 0.00 seconds\n",
      "rouge took 0.05 seconds\n",
      "bleu took 0.00 seconds\n",
      "meteor took 0.00 seconds\n",
      "rouge took 0.05 seconds\n",
      "bleu took 0.01 seconds\n",
      "meteor took 0.00 seconds\n"
     ]
    },
    {
     "name": "stderr",
     "output_type": "stream",
     "text": [
      "Evaluating:  76%|███████▋  | 763/1000 [01:09<00:15, 15.50it/s]"
     ]
    },
    {
     "name": "stdout",
     "output_type": "stream",
     "text": [
      "rouge took 0.06 seconds\n",
      "bleu took 0.01 seconds\n",
      "meteor took 0.01 seconds\n",
      "rouge took 0.06 seconds\n",
      "bleu took 0.00 seconds\n",
      "meteor took 0.01 seconds\n",
      "rouge took 0.06 seconds\n",
      "bleu took 0.00 seconds\n",
      "meteor took 0.01 seconds\n"
     ]
    },
    {
     "name": "stderr",
     "output_type": "stream",
     "text": [
      "Evaluating:  77%|███████▋  | 767/1000 [01:09<00:14, 16.45it/s]"
     ]
    },
    {
     "name": "stdout",
     "output_type": "stream",
     "text": [
      "rouge took 0.05 seconds\n",
      "bleu took 0.00 seconds\n",
      "meteor took 0.00 seconds\n",
      "rouge took 0.05 seconds\n",
      "bleu took 0.00 seconds\n",
      "meteor took 0.00 seconds\n",
      "rouge took 0.05 seconds\n",
      "bleu took 0.00 seconds\n",
      "meteor took 0.01 seconds\n",
      "rouge took 0.06 seconds\n",
      "bleu took 0.00 seconds\n",
      "meteor took 0.00 seconds\n"
     ]
    },
    {
     "name": "stderr",
     "output_type": "stream",
     "text": [
      "Evaluating:  77%|███████▋  | 771/1000 [01:09<00:14, 16.03it/s]"
     ]
    },
    {
     "name": "stdout",
     "output_type": "stream",
     "text": [
      "rouge took 0.05 seconds\n",
      "bleu took 0.00 seconds\n",
      "meteor took 0.01 seconds\n",
      "rouge took 0.06 seconds\n",
      "bleu took 0.00 seconds\n",
      "meteor took 0.00 seconds\n",
      "rouge took 0.04 seconds\n",
      "bleu took 0.00 seconds\n",
      "meteor took 0.00 seconds\n",
      "rouge took 0.05 seconds\n",
      "bleu took 0.00 seconds\n",
      "meteor took 0.02 seconds\n"
     ]
    },
    {
     "name": "stderr",
     "output_type": "stream",
     "text": [
      "Evaluating:  78%|███████▊  | 775/1000 [01:09<00:14, 15.39it/s]"
     ]
    },
    {
     "name": "stdout",
     "output_type": "stream",
     "text": [
      "rouge took 0.10 seconds\n",
      "bleu took 0.00 seconds\n",
      "meteor took 0.00 seconds\n",
      "rouge took 0.05 seconds\n",
      "bleu took 0.00 seconds\n",
      "meteor took 0.00 seconds\n",
      "rouge took 0.04 seconds\n",
      "bleu took 0.00 seconds\n",
      "meteor took 0.00 seconds\n",
      "rouge took 0.05 seconds\n",
      "bleu took 0.00 seconds\n",
      "meteor took 0.01 seconds\n"
     ]
    },
    {
     "name": "stderr",
     "output_type": "stream",
     "text": [
      "Evaluating:  78%|███████▊  | 779/1000 [01:10<00:15, 13.87it/s]"
     ]
    },
    {
     "name": "stdout",
     "output_type": "stream",
     "text": [
      "rouge took 0.07 seconds\n",
      "bleu took 0.00 seconds\n",
      "meteor took 0.00 seconds\n",
      "rouge took 0.10 seconds\n",
      "bleu took 0.00 seconds\n",
      "meteor took 0.01 seconds\n",
      "rouge took 0.06 seconds\n",
      "bleu took 0.00 seconds\n",
      "meteor took 0.00 seconds\n"
     ]
    },
    {
     "name": "stderr",
     "output_type": "stream",
     "text": [
      "Evaluating:  78%|███████▊  | 783/1000 [01:10<00:14, 14.98it/s]"
     ]
    },
    {
     "name": "stdout",
     "output_type": "stream",
     "text": [
      "rouge took 0.07 seconds\n",
      "bleu took 0.00 seconds\n",
      "meteor took 0.01 seconds\n",
      "rouge took 0.05 seconds\n",
      "bleu took 0.00 seconds\n",
      "meteor took 0.00 seconds\n",
      "rouge took 0.05 seconds\n",
      "bleu took 0.00 seconds\n",
      "meteor took 0.01 seconds\n",
      "rouge took 0.05 seconds\n",
      "bleu took 0.00 seconds\n",
      "meteor took 0.01 seconds\n"
     ]
    },
    {
     "name": "stderr",
     "output_type": "stream",
     "text": [
      "Evaluating:  79%|███████▊  | 787/1000 [01:10<00:13, 15.88it/s]"
     ]
    },
    {
     "name": "stdout",
     "output_type": "stream",
     "text": [
      "rouge took 0.07 seconds\n",
      "bleu took 0.00 seconds\n",
      "meteor took 0.00 seconds\n",
      "rouge took 0.05 seconds\n",
      "bleu took 0.00 seconds\n",
      "meteor took 0.00 seconds\n",
      "rouge took 0.05 seconds\n",
      "bleu took 0.00 seconds\n",
      "meteor took 0.00 seconds\n",
      "rouge took 0.05 seconds\n",
      "bleu took 0.00 seconds\n",
      "meteor took 0.00 seconds\n"
     ]
    },
    {
     "name": "stderr",
     "output_type": "stream",
     "text": [
      "Evaluating:  79%|███████▉  | 791/1000 [01:10<00:12, 17.36it/s]"
     ]
    },
    {
     "name": "stdout",
     "output_type": "stream",
     "text": [
      "rouge took 0.05 seconds\n",
      "bleu took 0.00 seconds\n",
      "meteor took 0.00 seconds\n",
      "rouge took 0.05 seconds\n",
      "bleu took 0.00 seconds\n",
      "meteor took 0.00 seconds\n",
      "rouge took 0.05 seconds\n",
      "bleu took 0.00 seconds\n",
      "meteor took 0.00 seconds\n",
      "rouge took 0.04 seconds\n",
      "bleu took 0.00 seconds\n",
      "meteor took 0.00 seconds\n"
     ]
    },
    {
     "name": "stderr",
     "output_type": "stream",
     "text": [
      "Evaluating:  80%|███████▉  | 795/1000 [01:11<00:11, 17.97it/s]"
     ]
    },
    {
     "name": "stdout",
     "output_type": "stream",
     "text": [
      "rouge took 0.05 seconds\n",
      "bleu took 0.00 seconds\n",
      "meteor took 0.00 seconds\n",
      "rouge took 0.05 seconds\n",
      "bleu took 0.00 seconds\n",
      "meteor took 0.00 seconds\n",
      "rouge took 0.05 seconds\n",
      "bleu took 0.00 seconds\n",
      "meteor took 0.00 seconds\n",
      "rouge took 0.05 seconds\n",
      "bleu took 0.00 seconds\n",
      "meteor took 0.00 seconds\n"
     ]
    },
    {
     "name": "stderr",
     "output_type": "stream",
     "text": [
      "Evaluating:  80%|███████▉  | 799/1000 [01:11<00:11, 17.74it/s]"
     ]
    },
    {
     "name": "stdout",
     "output_type": "stream",
     "text": [
      "rouge took 0.05 seconds\n",
      "bleu took 0.00 seconds\n",
      "meteor took 0.00 seconds\n",
      "rouge took 0.05 seconds\n",
      "bleu took 0.00 seconds\n",
      "meteor took 0.00 seconds\n",
      "rouge took 0.05 seconds\n",
      "bleu took 0.00 seconds\n",
      "meteor took 0.00 seconds\n",
      "rouge took 0.05 seconds\n",
      "bleu took 0.00 seconds\n",
      "meteor took 0.01 seconds\n"
     ]
    },
    {
     "name": "stderr",
     "output_type": "stream",
     "text": [
      "Evaluating:  80%|████████  | 803/1000 [01:11<00:11, 16.91it/s]"
     ]
    },
    {
     "name": "stdout",
     "output_type": "stream",
     "text": [
      "rouge took 0.08 seconds\n",
      "bleu took 0.00 seconds\n",
      "meteor took 0.00 seconds\n",
      "rouge took 0.04 seconds\n",
      "bleu took 0.00 seconds\n",
      "meteor took 0.00 seconds\n",
      "rouge took 0.05 seconds\n",
      "bleu took 0.00 seconds\n",
      "meteor took 0.00 seconds\n",
      "rouge took 0.05 seconds\n",
      "bleu took 0.00 seconds\n",
      "meteor took 0.00 seconds\n"
     ]
    },
    {
     "name": "stderr",
     "output_type": "stream",
     "text": [
      "Evaluating:  81%|████████  | 807/1000 [01:11<00:11, 17.23it/s]"
     ]
    },
    {
     "name": "stdout",
     "output_type": "stream",
     "text": [
      "rouge took 0.05 seconds\n",
      "bleu took 0.00 seconds\n",
      "meteor took 0.00 seconds\n",
      "rouge took 0.05 seconds\n",
      "bleu took 0.00 seconds\n",
      "meteor took 0.00 seconds\n",
      "rouge took 0.05 seconds\n",
      "bleu took 0.00 seconds\n",
      "meteor took 0.01 seconds\n",
      "rouge took 0.06 seconds\n",
      "bleu took 0.00 seconds\n",
      "meteor took 0.00 seconds\n"
     ]
    },
    {
     "name": "stderr",
     "output_type": "stream",
     "text": [
      "Evaluating:  81%|████████  | 809/1000 [01:12<00:12, 15.10it/s]"
     ]
    },
    {
     "name": "stdout",
     "output_type": "stream",
     "text": [
      "rouge took 0.05 seconds\n",
      "bleu took 0.00 seconds\n",
      "meteor took 0.01 seconds\n",
      "rouge took 0.10 seconds\n",
      "bleu took 0.00 seconds\n",
      "meteor took 0.00 seconds\n",
      "rouge took 0.05 seconds\n",
      "bleu took 0.00 seconds\n",
      "meteor took 0.00 seconds\n"
     ]
    },
    {
     "name": "stderr",
     "output_type": "stream",
     "text": [
      "Evaluating:  81%|████████  | 811/1000 [01:12<00:12, 15.55it/s]"
     ]
    },
    {
     "name": "stdout",
     "output_type": "stream",
     "text": [
      "rouge took 0.06 seconds\n",
      "bleu took 0.00 seconds\n",
      "meteor took 0.00 seconds\n",
      "rouge took 0.05 seconds\n",
      "bleu took 0.01 seconds\n",
      "meteor took 0.04 seconds\n"
     ]
    },
    {
     "name": "stderr",
     "output_type": "stream",
     "text": [
      "Evaluating:  82%|████████▏ | 815/1000 [01:12<00:16, 11.24it/s]"
     ]
    },
    {
     "name": "stdout",
     "output_type": "stream",
     "text": [
      "rouge took 0.26 seconds\n",
      "bleu took 0.00 seconds\n",
      "meteor took 0.00 seconds\n",
      "rouge took 0.05 seconds\n",
      "bleu took 0.00 seconds\n",
      "meteor took 0.01 seconds\n",
      "rouge took 0.07 seconds\n",
      "bleu took 0.00 seconds\n",
      "meteor took 0.00 seconds\n",
      "rouge took 0.05 seconds\n",
      "bleu took 0.00 seconds\n",
      "meteor took 0.00 seconds\n"
     ]
    },
    {
     "name": "stderr",
     "output_type": "stream",
     "text": [
      "Evaluating:  82%|████████▏ | 819/1000 [01:12<00:12, 14.20it/s]"
     ]
    },
    {
     "name": "stdout",
     "output_type": "stream",
     "text": [
      "rouge took 0.05 seconds\n",
      "bleu took 0.00 seconds\n",
      "meteor took 0.00 seconds\n",
      "rouge took 0.05 seconds\n",
      "bleu took 0.00 seconds\n",
      "meteor took 0.00 seconds\n",
      "rouge took 0.05 seconds\n",
      "bleu took 0.00 seconds\n",
      "meteor took 0.01 seconds\n",
      "rouge took 0.06 seconds\n",
      "bleu took 0.00 seconds\n",
      "meteor took 0.00 seconds\n"
     ]
    },
    {
     "name": "stderr",
     "output_type": "stream",
     "text": [
      "Evaluating:  82%|████████▏ | 823/1000 [01:13<00:12, 13.83it/s]"
     ]
    },
    {
     "name": "stdout",
     "output_type": "stream",
     "text": [
      "rouge took 0.05 seconds\n",
      "bleu took 0.01 seconds\n",
      "meteor took 0.02 seconds\n",
      "rouge took 0.09 seconds\n",
      "bleu took 0.00 seconds\n",
      "meteor took 0.00 seconds\n",
      "rouge took 0.04 seconds\n",
      "bleu took 0.00 seconds\n",
      "meteor took 0.00 seconds\n",
      "rouge took 0.05 seconds\n",
      "bleu took 0.01 seconds\n",
      "meteor took 0.03 seconds\n"
     ]
    },
    {
     "name": "stderr",
     "output_type": "stream",
     "text": [
      "Evaluating:  83%|████████▎ | 827/1000 [01:13<00:14, 11.86it/s]"
     ]
    },
    {
     "name": "stdout",
     "output_type": "stream",
     "text": [
      "rouge took 0.21 seconds\n",
      "bleu took 0.00 seconds\n",
      "meteor took 0.01 seconds\n",
      "rouge took 0.05 seconds\n",
      "bleu took 0.00 seconds\n",
      "meteor took 0.00 seconds\n",
      "rouge took 0.04 seconds\n",
      "bleu took 0.00 seconds\n",
      "meteor took 0.00 seconds\n",
      "rouge took 0.05 seconds\n",
      "bleu took 0.00 seconds\n",
      "meteor took 0.01 seconds\n"
     ]
    },
    {
     "name": "stderr",
     "output_type": "stream",
     "text": [
      "Evaluating:  83%|████████▎ | 829/1000 [01:13<00:13, 12.91it/s]"
     ]
    },
    {
     "name": "stdout",
     "output_type": "stream",
     "text": [
      "rouge took 0.06 seconds\n",
      "bleu took 0.00 seconds\n",
      "meteor took 0.00 seconds\n",
      "rouge took 0.05 seconds\n",
      "bleu took 0.01 seconds\n",
      "meteor took 0.03 seconds\n"
     ]
    },
    {
     "name": "stderr",
     "output_type": "stream",
     "text": [
      "Evaluating:  83%|████████▎ | 834/1000 [01:14<00:13, 12.67it/s]"
     ]
    },
    {
     "name": "stdout",
     "output_type": "stream",
     "text": [
      "rouge took 0.19 seconds\n",
      "bleu took 0.00 seconds\n",
      "meteor took 0.00 seconds\n",
      "rouge took 0.05 seconds\n",
      "bleu took 0.00 seconds\n",
      "meteor took 0.00 seconds\n",
      "rouge took 0.04 seconds\n",
      "bleu took 0.00 seconds\n",
      "meteor took 0.00 seconds\n",
      "rouge took 0.05 seconds\n",
      "bleu took 0.00 seconds\n",
      "meteor took 0.00 seconds\n"
     ]
    },
    {
     "name": "stderr",
     "output_type": "stream",
     "text": [
      "Evaluating:  84%|████████▎ | 836/1000 [01:14<00:11, 13.93it/s]"
     ]
    },
    {
     "name": "stdout",
     "output_type": "stream",
     "text": [
      "rouge took 0.05 seconds\n",
      "bleu took 0.00 seconds\n",
      "meteor took 0.00 seconds\n",
      "rouge took 0.05 seconds\n",
      "bleu took 0.00 seconds\n",
      "meteor took 0.00 seconds\n",
      "rouge took 0.10 seconds\n",
      "bleu took 0.00 seconds\n",
      "meteor took 0.01 seconds\n"
     ]
    },
    {
     "name": "stderr",
     "output_type": "stream",
     "text": [
      "Evaluating:  84%|████████▍ | 840/1000 [01:14<00:11, 14.35it/s]"
     ]
    },
    {
     "name": "stdout",
     "output_type": "stream",
     "text": [
      "rouge took 0.06 seconds\n",
      "bleu took 0.00 seconds\n",
      "meteor took 0.00 seconds\n",
      "rouge took 0.05 seconds\n",
      "bleu took 0.00 seconds\n",
      "meteor took 0.00 seconds\n",
      "rouge took 0.05 seconds\n",
      "bleu took 0.00 seconds\n",
      "meteor took 0.00 seconds\n",
      "rouge took 0.05 seconds\n",
      "bleu took 0.00 seconds\n",
      "meteor took 0.00 seconds\n"
     ]
    },
    {
     "name": "stderr",
     "output_type": "stream",
     "text": [
      "Evaluating:  84%|████████▍ | 842/1000 [01:14<00:10, 15.14it/s]"
     ]
    },
    {
     "name": "stdout",
     "output_type": "stream",
     "text": [
      "rouge took 0.05 seconds\n",
      "bleu took 0.01 seconds\n",
      "meteor took 0.03 seconds\n",
      "rouge took 0.16 seconds\n",
      "bleu took 0.00 seconds\n",
      "meteor took 0.00 seconds\n"
     ]
    },
    {
     "name": "stderr",
     "output_type": "stream",
     "text": [
      "Evaluating:  85%|████████▍ | 846/1000 [01:14<00:11, 13.54it/s]"
     ]
    },
    {
     "name": "stdout",
     "output_type": "stream",
     "text": [
      "rouge took 0.05 seconds\n",
      "bleu took 0.00 seconds\n",
      "meteor took 0.00 seconds\n",
      "rouge took 0.05 seconds\n",
      "bleu took 0.00 seconds\n",
      "meteor took 0.00 seconds\n",
      "rouge took 0.05 seconds\n",
      "bleu took 0.00 seconds\n",
      "meteor took 0.01 seconds\n",
      "rouge took 0.06 seconds\n",
      "bleu took 0.00 seconds\n",
      "meteor took 0.01 seconds\n"
     ]
    },
    {
     "name": "stderr",
     "output_type": "stream",
     "text": [
      "Evaluating:  85%|████████▌ | 850/1000 [01:15<00:10, 14.57it/s]"
     ]
    },
    {
     "name": "stdout",
     "output_type": "stream",
     "text": [
      "rouge took 0.07 seconds\n",
      "bleu took 0.00 seconds\n",
      "meteor took 0.00 seconds\n",
      "rouge took 0.05 seconds\n",
      "bleu took 0.00 seconds\n",
      "meteor took 0.00 seconds\n",
      "rouge took 0.04 seconds\n",
      "bleu took 0.00 seconds\n",
      "meteor took 0.00 seconds\n",
      "rouge took 0.05 seconds\n",
      "bleu took 0.00 seconds\n",
      "meteor took 0.00 seconds\n"
     ]
    },
    {
     "name": "stderr",
     "output_type": "stream",
     "text": [
      "Evaluating:  85%|████████▌ | 852/1000 [01:15<00:09, 15.68it/s]"
     ]
    },
    {
     "name": "stdout",
     "output_type": "stream",
     "text": [
      "rouge took 0.05 seconds\n",
      "bleu took 0.01 seconds\n",
      "meteor took 0.03 seconds\n",
      "rouge took 0.14 seconds\n",
      "bleu took 0.00 seconds\n",
      "meteor took 0.00 seconds\n"
     ]
    },
    {
     "name": "stderr",
     "output_type": "stream",
     "text": [
      "Evaluating:  86%|████████▌ | 856/1000 [01:15<00:10, 13.98it/s]"
     ]
    },
    {
     "name": "stdout",
     "output_type": "stream",
     "text": [
      "rouge took 0.06 seconds\n",
      "bleu took 0.00 seconds\n",
      "meteor took 0.00 seconds\n",
      "rouge took 0.05 seconds\n",
      "bleu took 0.00 seconds\n",
      "meteor took 0.00 seconds\n",
      "rouge took 0.04 seconds\n",
      "bleu took 0.00 seconds\n",
      "meteor took 0.00 seconds\n",
      "rouge took 0.05 seconds\n",
      "bleu took 0.00 seconds\n",
      "meteor took 0.00 seconds\n"
     ]
    },
    {
     "name": "stderr",
     "output_type": "stream",
     "text": [
      "Evaluating:  86%|████████▌ | 860/1000 [01:15<00:08, 15.95it/s]"
     ]
    },
    {
     "name": "stdout",
     "output_type": "stream",
     "text": [
      "rouge took 0.05 seconds\n",
      "bleu took 0.00 seconds\n",
      "meteor took 0.01 seconds\n",
      "rouge took 0.05 seconds\n",
      "bleu took 0.00 seconds\n",
      "meteor took 0.00 seconds\n",
      "rouge took 0.05 seconds\n",
      "bleu took 0.00 seconds\n",
      "meteor took 0.01 seconds\n"
     ]
    },
    {
     "name": "stderr",
     "output_type": "stream",
     "text": [
      "Evaluating:  86%|████████▋ | 864/1000 [01:16<00:08, 15.87it/s]"
     ]
    },
    {
     "name": "stdout",
     "output_type": "stream",
     "text": [
      "rouge took 0.08 seconds\n",
      "bleu took 0.00 seconds\n",
      "meteor took 0.01 seconds\n",
      "rouge took 0.05 seconds\n",
      "bleu took 0.00 seconds\n",
      "meteor took 0.00 seconds\n",
      "rouge took 0.05 seconds\n",
      "bleu took 0.00 seconds\n",
      "meteor took 0.00 seconds\n",
      "rouge took 0.04 seconds\n",
      "bleu took 0.00 seconds\n",
      "meteor took 0.00 seconds\n"
     ]
    },
    {
     "name": "stderr",
     "output_type": "stream",
     "text": [
      "Evaluating:  87%|████████▋ | 868/1000 [01:16<00:07, 17.09it/s]"
     ]
    },
    {
     "name": "stdout",
     "output_type": "stream",
     "text": [
      "rouge took 0.05 seconds\n",
      "bleu took 0.00 seconds\n",
      "meteor took 0.00 seconds\n",
      "rouge took 0.05 seconds\n",
      "bleu took 0.00 seconds\n",
      "meteor took 0.00 seconds\n",
      "rouge took 0.05 seconds\n",
      "bleu took 0.00 seconds\n",
      "meteor took 0.00 seconds\n",
      "rouge took 0.05 seconds\n",
      "bleu took 0.00 seconds\n",
      "meteor took 0.02 seconds\n"
     ]
    },
    {
     "name": "stderr",
     "output_type": "stream",
     "text": [
      "Evaluating:  87%|████████▋ | 870/1000 [01:16<00:08, 15.27it/s]"
     ]
    },
    {
     "name": "stdout",
     "output_type": "stream",
     "text": [
      "rouge took 0.09 seconds\n",
      "bleu took 0.00 seconds\n",
      "meteor took 0.00 seconds\n",
      "rouge took 0.05 seconds\n",
      "bleu took 0.00 seconds\n",
      "meteor took 0.01 seconds\n",
      "rouge took 0.11 seconds\n",
      "bleu took 0.00 seconds\n",
      "meteor took 0.01 seconds\n"
     ]
    },
    {
     "name": "stderr",
     "output_type": "stream",
     "text": [
      "Evaluating:  87%|████████▋ | 874/1000 [01:16<00:09, 13.46it/s]"
     ]
    },
    {
     "name": "stdout",
     "output_type": "stream",
     "text": [
      "rouge took 0.06 seconds\n",
      "bleu took 0.00 seconds\n",
      "meteor took 0.01 seconds\n",
      "rouge took 0.07 seconds\n",
      "bleu took 0.00 seconds\n",
      "meteor took 0.00 seconds\n",
      "rouge took 0.05 seconds\n",
      "bleu took 0.00 seconds\n",
      "meteor took 0.00 seconds\n",
      "rouge took 0.04 seconds\n",
      "bleu took 0.00 seconds\n",
      "meteor took 0.00 seconds\n"
     ]
    },
    {
     "name": "stderr",
     "output_type": "stream",
     "text": [
      "Evaluating:  88%|████████▊ | 879/1000 [01:17<00:07, 16.47it/s]"
     ]
    },
    {
     "name": "stdout",
     "output_type": "stream",
     "text": [
      "rouge took 0.05 seconds\n",
      "bleu took 0.00 seconds\n",
      "meteor took 0.00 seconds\n",
      "rouge took 0.04 seconds\n",
      "bleu took 0.00 seconds\n",
      "meteor took 0.00 seconds\n",
      "rouge took 0.05 seconds\n",
      "bleu took 0.00 seconds\n",
      "meteor took 0.00 seconds\n",
      "rouge took 0.05 seconds\n",
      "bleu took 0.00 seconds\n",
      "meteor took 0.00 seconds\n"
     ]
    },
    {
     "name": "stderr",
     "output_type": "stream",
     "text": [
      "Evaluating:  88%|████████▊ | 883/1000 [01:17<00:07, 16.27it/s]"
     ]
    },
    {
     "name": "stdout",
     "output_type": "stream",
     "text": [
      "rouge took 0.05 seconds\n",
      "bleu took 0.00 seconds\n",
      "meteor took 0.00 seconds\n",
      "rouge took 0.05 seconds\n",
      "bleu took 0.00 seconds\n",
      "meteor took 0.01 seconds\n",
      "rouge took 0.07 seconds\n",
      "bleu took 0.00 seconds\n",
      "meteor took 0.00 seconds\n",
      "rouge took 0.05 seconds\n",
      "bleu took 0.00 seconds\n"
     ]
    },
    {
     "name": "stderr",
     "output_type": "stream",
     "text": [
      "Evaluating:  88%|████████▊ | 885/1000 [01:17<00:06, 16.75it/s]"
     ]
    },
    {
     "name": "stdout",
     "output_type": "stream",
     "text": [
      "meteor took 0.00 seconds\n",
      "rouge took 0.05 seconds\n",
      "bleu took 0.00 seconds\n",
      "meteor took 0.00 seconds\n",
      "rouge took 0.05 seconds\n",
      "bleu took 0.00 seconds\n",
      "meteor took 0.00 seconds\n",
      "rouge took 0.05 seconds\n",
      "bleu took 0.01 seconds\n",
      "meteor took 0.05 seconds\n"
     ]
    },
    {
     "name": "stderr",
     "output_type": "stream",
     "text": [
      "Evaluating:  89%|████████▉ | 890/1000 [01:18<00:09, 11.74it/s]"
     ]
    },
    {
     "name": "stdout",
     "output_type": "stream",
     "text": [
      "rouge took 0.30 seconds\n",
      "bleu took 0.00 seconds\n",
      "meteor took 0.00 seconds\n",
      "rouge took 0.04 seconds\n",
      "bleu took 0.00 seconds\n",
      "meteor took 0.00 seconds\n",
      "rouge took 0.04 seconds\n",
      "bleu took 0.00 seconds\n",
      "meteor took 0.01 seconds\n",
      "rouge took 0.07 seconds\n",
      "bleu took 0.01 seconds\n",
      "meteor took 0.03 seconds\n",
      "rouge took 0.18 seconds\n",
      "bleu took 0.01 seconds\n",
      "meteor took 0.06 seconds\n"
     ]
    },
    {
     "name": "stderr",
     "output_type": "stream",
     "text": [
      "Evaluating:  89%|████████▉ | 894/1000 [01:18<00:14,  7.36it/s]"
     ]
    },
    {
     "name": "stdout",
     "output_type": "stream",
     "text": [
      "rouge took 0.47 seconds\n",
      "bleu took 0.01 seconds\n",
      "meteor took 0.00 seconds\n",
      "rouge took 0.06 seconds\n",
      "bleu took 0.00 seconds\n",
      "meteor took 0.00 seconds\n",
      "rouge took 0.05 seconds\n",
      "bleu took 0.00 seconds\n",
      "meteor took 0.00 seconds\n",
      "rouge took 0.05 seconds\n",
      "bleu took 0.00 seconds\n",
      "meteor took 0.00 seconds\n"
     ]
    },
    {
     "name": "stderr",
     "output_type": "stream",
     "text": [
      "Evaluating:  90%|████████▉ | 896/1000 [01:19<00:11,  8.93it/s]"
     ]
    },
    {
     "name": "stdout",
     "output_type": "stream",
     "text": [
      "rouge took 0.05 seconds\n",
      "bleu took 0.01 seconds\n",
      "meteor took 0.02 seconds\n",
      "rouge took 0.15 seconds\n",
      "bleu took 0.00 seconds\n",
      "meteor took 0.01 seconds\n"
     ]
    },
    {
     "name": "stderr",
     "output_type": "stream",
     "text": [
      "Evaluating:  90%|█████████ | 900/1000 [01:19<00:10,  9.93it/s]"
     ]
    },
    {
     "name": "stdout",
     "output_type": "stream",
     "text": [
      "rouge took 0.08 seconds\n",
      "bleu took 0.00 seconds\n",
      "meteor took 0.00 seconds\n",
      "rouge took 0.05 seconds\n",
      "bleu took 0.00 seconds\n",
      "meteor took 0.00 seconds\n",
      "rouge took 0.05 seconds\n",
      "bleu took 0.00 seconds\n",
      "meteor took 0.01 seconds\n",
      "rouge took 0.06 seconds\n",
      "bleu took 0.00 seconds\n",
      "meteor took 0.00 seconds\n"
     ]
    },
    {
     "name": "stderr",
     "output_type": "stream",
     "text": [
      "Evaluating:  90%|█████████ | 904/1000 [01:19<00:07, 12.42it/s]"
     ]
    },
    {
     "name": "stdout",
     "output_type": "stream",
     "text": [
      "rouge took 0.05 seconds\n",
      "bleu took 0.00 seconds\n",
      "meteor took 0.01 seconds\n",
      "rouge took 0.05 seconds\n",
      "bleu took 0.00 seconds\n",
      "meteor took 0.00 seconds\n",
      "rouge took 0.05 seconds\n",
      "bleu took 0.00 seconds\n",
      "meteor took 0.00 seconds\n",
      "rouge took 0.05 seconds\n",
      "bleu took 0.00 seconds\n",
      "meteor took 0.00 seconds\n"
     ]
    },
    {
     "name": "stderr",
     "output_type": "stream",
     "text": [
      "Evaluating:  91%|█████████ | 908/1000 [01:19<00:06, 14.73it/s]"
     ]
    },
    {
     "name": "stdout",
     "output_type": "stream",
     "text": [
      "rouge took 0.06 seconds\n",
      "bleu took 0.00 seconds\n",
      "meteor took 0.00 seconds\n",
      "rouge took 0.05 seconds\n",
      "bleu took 0.00 seconds\n",
      "meteor took 0.00 seconds\n",
      "rouge took 0.05 seconds\n",
      "bleu took 0.00 seconds\n",
      "meteor took 0.01 seconds\n",
      "rouge took 0.08 seconds\n"
     ]
    },
    {
     "name": "stderr",
     "output_type": "stream",
     "text": [
      "Evaluating:  91%|█████████ | 910/1000 [01:20<00:06, 14.23it/s]"
     ]
    },
    {
     "name": "stdout",
     "output_type": "stream",
     "text": [
      "bleu took 0.00 seconds\n",
      "meteor took 0.00 seconds\n",
      "rouge took 0.05 seconds\n",
      "bleu took 0.00 seconds\n",
      "meteor took 0.02 seconds\n",
      "rouge took 0.11 seconds\n",
      "bleu took 0.00 seconds\n",
      "meteor took 0.00 seconds\n"
     ]
    },
    {
     "name": "stderr",
     "output_type": "stream",
     "text": [
      "Evaluating:  91%|█████████ | 912/1000 [01:20<00:06, 13.02it/s]"
     ]
    },
    {
     "name": "stdout",
     "output_type": "stream",
     "text": [
      "rouge took 0.05 seconds\n",
      "bleu took 0.01 seconds\n",
      "meteor took 0.02 seconds\n",
      "rouge took 0.13 seconds\n",
      "bleu took 0.00 seconds\n",
      "meteor took 0.01 seconds\n"
     ]
    },
    {
     "name": "stderr",
     "output_type": "stream",
     "text": [
      "Evaluating:  92%|█████████▏| 916/1000 [01:20<00:07, 11.85it/s]"
     ]
    },
    {
     "name": "stdout",
     "output_type": "stream",
     "text": [
      "rouge took 0.09 seconds\n",
      "bleu took 0.00 seconds\n",
      "meteor took 0.00 seconds\n",
      "rouge took 0.05 seconds\n",
      "bleu took 0.00 seconds\n",
      "meteor took 0.00 seconds\n",
      "rouge took 0.05 seconds\n",
      "bleu took 0.00 seconds\n",
      "meteor took 0.00 seconds\n",
      "rouge took 0.05 seconds\n",
      "bleu took 0.00 seconds\n",
      "meteor took 0.00 seconds\n"
     ]
    },
    {
     "name": "stderr",
     "output_type": "stream",
     "text": [
      "Evaluating:  92%|█████████▏| 920/1000 [01:20<00:05, 13.92it/s]"
     ]
    },
    {
     "name": "stdout",
     "output_type": "stream",
     "text": [
      "rouge took 0.08 seconds\n",
      "bleu took 0.00 seconds\n",
      "meteor took 0.00 seconds\n",
      "rouge took 0.05 seconds\n",
      "bleu took 0.00 seconds\n",
      "meteor took 0.00 seconds\n",
      "rouge took 0.05 seconds\n",
      "bleu took 0.00 seconds\n",
      "meteor took 0.01 seconds\n",
      "rouge took 0.05 seconds\n",
      "bleu took 0.00 seconds\n",
      "meteor took 0.00 seconds\n"
     ]
    },
    {
     "name": "stderr",
     "output_type": "stream",
     "text": [
      "Evaluating:  92%|█████████▏| 924/1000 [01:21<00:05, 14.51it/s]"
     ]
    },
    {
     "name": "stdout",
     "output_type": "stream",
     "text": [
      "rouge took 0.05 seconds\n",
      "bleu took 0.00 seconds\n",
      "meteor took 0.00 seconds\n",
      "rouge took 0.05 seconds\n",
      "bleu took 0.00 seconds\n",
      "meteor took 0.01 seconds\n",
      "rouge took 0.07 seconds\n",
      "bleu took 0.00 seconds\n",
      "meteor took 0.00 seconds\n",
      "rouge took 0.05 seconds\n",
      "bleu took 0.00 seconds\n",
      "meteor took 0.00 seconds\n"
     ]
    },
    {
     "name": "stderr",
     "output_type": "stream",
     "text": [
      "Evaluating:  93%|█████████▎| 928/1000 [01:21<00:04, 16.02it/s]"
     ]
    },
    {
     "name": "stdout",
     "output_type": "stream",
     "text": [
      "rouge took 0.05 seconds\n",
      "bleu took 0.00 seconds\n",
      "meteor took 0.01 seconds\n",
      "rouge took 0.05 seconds\n",
      "bleu took 0.00 seconds\n",
      "meteor took 0.00 seconds\n",
      "rouge took 0.05 seconds\n",
      "bleu took 0.00 seconds\n",
      "meteor took 0.00 seconds\n",
      "rouge took 0.06 seconds\n",
      "bleu took 0.01 seconds\n"
     ]
    },
    {
     "name": "stderr",
     "output_type": "stream",
     "text": [
      "Evaluating:  93%|█████████▎| 930/1000 [01:21<00:05, 12.47it/s]"
     ]
    },
    {
     "name": "stdout",
     "output_type": "stream",
     "text": [
      "meteor took 0.02 seconds\n",
      "rouge took 0.15 seconds\n",
      "bleu took 0.00 seconds\n",
      "meteor took 0.00 seconds\n"
     ]
    },
    {
     "name": "stderr",
     "output_type": "stream",
     "text": [
      "Evaluating:  93%|█████████▎| 932/1000 [01:21<00:05, 13.49it/s]"
     ]
    },
    {
     "name": "stdout",
     "output_type": "stream",
     "text": [
      "rouge took 0.05 seconds\n",
      "bleu took 0.00 seconds\n",
      "meteor took 0.00 seconds\n",
      "rouge took 0.05 seconds\n",
      "bleu took 0.01 seconds\n",
      "meteor took 0.01 seconds\n",
      "rouge took 0.06 seconds\n",
      "bleu took 0.00 seconds\n",
      "meteor took 0.01 seconds\n"
     ]
    },
    {
     "name": "stderr",
     "output_type": "stream",
     "text": [
      "Evaluating:  94%|█████████▎| 936/1000 [01:22<00:04, 13.47it/s]"
     ]
    },
    {
     "name": "stdout",
     "output_type": "stream",
     "text": [
      "rouge took 0.09 seconds\n",
      "bleu took 0.00 seconds\n",
      "meteor took 0.00 seconds\n",
      "rouge took 0.05 seconds\n",
      "bleu took 0.00 seconds\n",
      "meteor took 0.01 seconds\n",
      "rouge took 0.06 seconds\n",
      "bleu took 0.00 seconds\n",
      "meteor took 0.00 seconds\n",
      "rouge took 0.04 seconds\n",
      "bleu took 0.00 seconds\n",
      "meteor took 0.00 seconds\n"
     ]
    },
    {
     "name": "stderr",
     "output_type": "stream",
     "text": [
      "Evaluating:  94%|█████████▍| 940/1000 [01:22<00:04, 14.78it/s]"
     ]
    },
    {
     "name": "stdout",
     "output_type": "stream",
     "text": [
      "rouge took 0.05 seconds\n",
      "bleu took 0.01 seconds\n",
      "meteor took 0.01 seconds\n",
      "rouge took 0.07 seconds\n",
      "bleu took 0.00 seconds\n",
      "meteor took 0.00 seconds\n",
      "rouge took 0.04 seconds\n",
      "bleu took 0.00 seconds\n",
      "meteor took 0.00 seconds\n",
      "rouge took 0.05 seconds\n",
      "bleu took 0.00 seconds\n",
      "meteor took 0.00 seconds\n"
     ]
    },
    {
     "name": "stderr",
     "output_type": "stream",
     "text": [
      "Evaluating:  94%|█████████▍| 944/1000 [01:22<00:03, 16.46it/s]"
     ]
    },
    {
     "name": "stdout",
     "output_type": "stream",
     "text": [
      "rouge took 0.05 seconds\n",
      "bleu took 0.00 seconds\n",
      "meteor took 0.00 seconds\n",
      "rouge took 0.04 seconds\n",
      "bleu took 0.00 seconds\n",
      "meteor took 0.00 seconds\n",
      "rouge took 0.05 seconds\n",
      "bleu took 0.00 seconds\n",
      "meteor took 0.00 seconds\n",
      "rouge took 0.05 seconds\n",
      "bleu took 0.00 seconds\n",
      "meteor took 0.00 seconds\n"
     ]
    },
    {
     "name": "stderr",
     "output_type": "stream",
     "text": [
      "Evaluating:  95%|█████████▍| 948/1000 [01:22<00:03, 17.26it/s]"
     ]
    },
    {
     "name": "stdout",
     "output_type": "stream",
     "text": [
      "rouge took 0.05 seconds\n",
      "bleu took 0.00 seconds\n",
      "meteor took 0.00 seconds\n",
      "rouge took 0.05 seconds\n",
      "bleu took 0.00 seconds\n",
      "meteor took 0.00 seconds\n",
      "rouge took 0.05 seconds\n",
      "bleu took 0.00 seconds\n",
      "meteor took 0.00 seconds\n",
      "rouge took 0.05 seconds\n",
      "bleu took 0.00 seconds\n",
      "meteor took 0.00 seconds\n"
     ]
    },
    {
     "name": "stderr",
     "output_type": "stream",
     "text": [
      "Evaluating:  95%|█████████▌| 952/1000 [01:22<00:02, 17.07it/s]"
     ]
    },
    {
     "name": "stdout",
     "output_type": "stream",
     "text": [
      "rouge took 0.07 seconds\n",
      "bleu took 0.00 seconds\n",
      "meteor took 0.00 seconds\n",
      "rouge took 0.05 seconds\n",
      "bleu took 0.00 seconds\n",
      "meteor took 0.00 seconds\n",
      "rouge took 0.05 seconds\n",
      "bleu took 0.00 seconds\n",
      "meteor took 0.00 seconds\n",
      "rouge took 0.04 seconds\n",
      "bleu took 0.00 seconds\n",
      "meteor took 0.00 seconds\n"
     ]
    },
    {
     "name": "stderr",
     "output_type": "stream",
     "text": [
      "Evaluating:  96%|█████████▌| 956/1000 [01:23<00:03, 14.59it/s]"
     ]
    },
    {
     "name": "stdout",
     "output_type": "stream",
     "text": [
      "rouge took 0.12 seconds\n",
      "bleu took 0.00 seconds\n",
      "meteor took 0.00 seconds\n",
      "rouge took 0.05 seconds\n",
      "bleu took 0.00 seconds\n",
      "meteor took 0.01 seconds\n",
      "rouge took 0.07 seconds\n",
      "bleu took 0.00 seconds\n",
      "meteor took 0.00 seconds\n",
      "rouge took 0.05 seconds\n"
     ]
    },
    {
     "name": "stderr",
     "output_type": "stream",
     "text": [
      "Evaluating:  96%|█████████▌| 958/1000 [01:23<00:03, 12.08it/s]"
     ]
    },
    {
     "name": "stdout",
     "output_type": "stream",
     "text": [
      "bleu took 0.01 seconds\n",
      "meteor took 0.02 seconds\n",
      "rouge took 0.15 seconds\n",
      "bleu took 0.00 seconds\n",
      "meteor took 0.00 seconds\n"
     ]
    },
    {
     "name": "stderr",
     "output_type": "stream",
     "text": [
      "Evaluating:  96%|█████████▌| 962/1000 [01:23<00:02, 13.65it/s]"
     ]
    },
    {
     "name": "stdout",
     "output_type": "stream",
     "text": [
      "rouge took 0.05 seconds\n",
      "bleu took 0.00 seconds\n",
      "meteor took 0.00 seconds\n",
      "rouge took 0.05 seconds\n",
      "bleu took 0.01 seconds\n",
      "meteor took 0.01 seconds\n",
      "rouge took 0.07 seconds\n",
      "bleu took 0.00 seconds\n",
      "meteor took 0.00 seconds\n",
      "rouge took 0.05 seconds\n"
     ]
    },
    {
     "name": "stderr",
     "output_type": "stream",
     "text": [
      "Evaluating:  96%|█████████▋| 964/1000 [01:23<00:02, 13.17it/s]"
     ]
    },
    {
     "name": "stdout",
     "output_type": "stream",
     "text": [
      "bleu took 0.01 seconds\n",
      "meteor took 0.01 seconds\n",
      "rouge took 0.07 seconds\n",
      "bleu took 0.00 seconds\n",
      "meteor took 0.01 seconds\n",
      "rouge took 0.07 seconds\n",
      "bleu took 0.01 seconds\n",
      "meteor took 0.01 seconds\n"
     ]
    },
    {
     "name": "stderr",
     "output_type": "stream",
     "text": [
      "Evaluating:  97%|█████████▋| 966/1000 [01:24<00:02, 12.58it/s]"
     ]
    },
    {
     "name": "stdout",
     "output_type": "stream",
     "text": [
      "rouge took 0.07 seconds\n",
      "bleu took 0.01 seconds\n",
      "meteor took 0.01 seconds\n",
      "rouge took 0.06 seconds\n",
      "bleu took 0.01 seconds\n",
      "meteor took 0.01 seconds\n",
      "rouge took 0.07 seconds\n",
      "bleu took 0.00 seconds\n",
      "meteor took 0.00 seconds\n"
     ]
    },
    {
     "name": "stderr",
     "output_type": "stream",
     "text": [
      "Evaluating:  97%|█████████▋| 970/1000 [01:24<00:02, 14.01it/s]"
     ]
    },
    {
     "name": "stdout",
     "output_type": "stream",
     "text": [
      "rouge took 0.06 seconds\n",
      "bleu took 0.00 seconds\n",
      "meteor took 0.00 seconds\n",
      "rouge took 0.05 seconds\n",
      "bleu took 0.00 seconds\n",
      "meteor took 0.00 seconds\n",
      "rouge took 0.05 seconds\n",
      "bleu took 0.00 seconds\n",
      "meteor took 0.00 seconds\n",
      "rouge took 0.05 seconds\n",
      "bleu took 0.00 seconds\n",
      "meteor took 0.01 seconds\n"
     ]
    },
    {
     "name": "stderr",
     "output_type": "stream",
     "text": [
      "Evaluating:  97%|█████████▋| 974/1000 [01:24<00:01, 14.60it/s]"
     ]
    },
    {
     "name": "stdout",
     "output_type": "stream",
     "text": [
      "rouge took 0.06 seconds\n",
      "bleu took 0.00 seconds\n",
      "meteor took 0.00 seconds\n",
      "rouge took 0.06 seconds\n",
      "bleu took 0.00 seconds\n",
      "meteor took 0.01 seconds\n",
      "rouge took 0.05 seconds\n",
      "bleu took 0.00 seconds\n",
      "meteor took 0.00 seconds\n",
      "rouge took 0.05 seconds\n",
      "bleu took 0.00 seconds\n",
      "meteor took 0.00 seconds\n"
     ]
    },
    {
     "name": "stderr",
     "output_type": "stream",
     "text": [
      "Evaluating:  98%|█████████▊| 978/1000 [01:24<00:01, 15.47it/s]"
     ]
    },
    {
     "name": "stdout",
     "output_type": "stream",
     "text": [
      "rouge took 0.05 seconds\n",
      "bleu took 0.00 seconds\n",
      "meteor took 0.00 seconds\n",
      "rouge took 0.05 seconds\n",
      "bleu took 0.00 seconds\n",
      "meteor took 0.00 seconds\n",
      "rouge took 0.06 seconds\n",
      "bleu took 0.01 seconds\n",
      "meteor took 0.02 seconds\n",
      "rouge took 0.08 seconds\n",
      "bleu took 0.01 seconds\n",
      "meteor took 0.04 seconds\n"
     ]
    },
    {
     "name": "stderr",
     "output_type": "stream",
     "text": [
      "Evaluating:  98%|█████████▊| 982/1000 [01:25<00:01, 11.57it/s]"
     ]
    },
    {
     "name": "stdout",
     "output_type": "stream",
     "text": [
      "rouge took 0.21 seconds\n",
      "bleu took 0.00 seconds\n",
      "meteor took 0.00 seconds\n",
      "rouge took 0.05 seconds\n",
      "bleu took 0.00 seconds\n",
      "meteor took 0.00 seconds\n",
      "rouge took 0.05 seconds\n",
      "bleu took 0.00 seconds\n",
      "meteor took 0.00 seconds\n",
      "rouge took 0.05 seconds\n",
      "bleu took 0.00 seconds\n",
      "meteor took 0.00 seconds\n"
     ]
    },
    {
     "name": "stderr",
     "output_type": "stream",
     "text": [
      "Evaluating:  98%|█████████▊| 984/1000 [01:25<00:01, 13.14it/s]"
     ]
    },
    {
     "name": "stdout",
     "output_type": "stream",
     "text": [
      "rouge took 0.05 seconds\n",
      "bleu took 0.00 seconds\n",
      "meteor took 0.00 seconds\n",
      "rouge took 0.05 seconds\n",
      "bleu took 0.01 seconds\n",
      "meteor took 0.08 seconds\n"
     ]
    },
    {
     "name": "stderr",
     "output_type": "stream",
     "text": [
      "Evaluating:  99%|█████████▉| 988/1000 [01:26<00:01,  7.31it/s]"
     ]
    },
    {
     "name": "stdout",
     "output_type": "stream",
     "text": [
      "rouge took 0.54 seconds\n",
      "bleu took 0.00 seconds\n",
      "meteor took 0.00 seconds\n",
      "rouge took 0.13 seconds\n",
      "bleu took 0.00 seconds\n",
      "meteor took 0.00 seconds\n",
      "rouge took 0.04 seconds\n",
      "bleu took 0.00 seconds\n",
      "meteor took 0.01 seconds\n"
     ]
    },
    {
     "name": "stderr",
     "output_type": "stream",
     "text": [
      "Evaluating:  99%|█████████▉| 992/1000 [01:26<00:00, 10.51it/s]"
     ]
    },
    {
     "name": "stdout",
     "output_type": "stream",
     "text": [
      "rouge took 0.06 seconds\n",
      "bleu took 0.00 seconds\n",
      "meteor took 0.00 seconds\n",
      "rouge took 0.05 seconds\n",
      "bleu took 0.00 seconds\n",
      "meteor took 0.00 seconds\n",
      "rouge took 0.05 seconds\n",
      "bleu took 0.00 seconds\n",
      "meteor took 0.00 seconds\n",
      "rouge took 0.05 seconds\n",
      "bleu took 0.00 seconds\n",
      "meteor took 0.00 seconds\n"
     ]
    },
    {
     "name": "stderr",
     "output_type": "stream",
     "text": [
      "Evaluating: 100%|█████████▉| 996/1000 [01:26<00:00, 13.04it/s]"
     ]
    },
    {
     "name": "stdout",
     "output_type": "stream",
     "text": [
      "rouge took 0.05 seconds\n",
      "bleu took 0.00 seconds\n",
      "meteor took 0.01 seconds\n",
      "rouge took 0.05 seconds\n",
      "bleu took 0.00 seconds\n",
      "meteor took 0.00 seconds\n",
      "rouge took 0.05 seconds\n",
      "bleu took 0.00 seconds\n",
      "meteor took 0.00 seconds\n",
      "rouge took 0.05 seconds\n",
      "bleu took 0.00 seconds\n",
      "meteor took 0.01 seconds\n"
     ]
    },
    {
     "name": "stderr",
     "output_type": "stream",
     "text": [
      "Evaluating: 100%|█████████▉| 998/1000 [01:26<00:00, 12.41it/s]"
     ]
    },
    {
     "name": "stdout",
     "output_type": "stream",
     "text": [
      "rouge took 0.07 seconds\n",
      "bleu took 0.00 seconds\n",
      "meteor took 0.01 seconds\n",
      "rouge took 0.07 seconds\n",
      "bleu took 0.01 seconds\n",
      "meteor took 0.01 seconds\n",
      "rouge took 0.05 seconds\n",
      "bleu took 0.00 seconds\n",
      "meteor took 0.00 seconds\n"
     ]
    },
    {
     "name": "stderr",
     "output_type": "stream",
     "text": [
      "Evaluating: 100%|██████████| 1000/1000 [01:27<00:00, 11.49it/s]"
     ]
    },
    {
     "name": "stdout",
     "output_type": "stream",
     "text": [
      "rouge took 0.05 seconds\n",
      "Results saved to /Users/being/Desktop/workspace2024/TranslationEvaluator/src/evaluation_results.csv\n"
     ]
    },
    {
     "name": "stderr",
     "output_type": "stream",
     "text": [
      "\n"
     ]
    }
   ],
   "source": [
    "df_sentence_pair = pd.read_csv('../data/processed/batchoutput_1000_gpt-4o.csv')\n",
    "\n",
    "# 예측 및 참조 문장 리스트 생성\n",
    "predictions = df_sentence_pair[\"english\"].tolist()\n",
    "references = df_sentence_pair[\"predictions_Eng\"].tolist()\n",
    "\n",
    "# references를 리스트의 리스트로 변환\n",
    "references = [[ref] if isinstance(ref, str) else ref for ref in references]\n",
    "\n",
    "evaluator = TranslationEvaluator(predictions, references)\n",
    "evaluator.compute_scores()\n",
    "evaluator.save_to_csv()"
   ]
  },
  {
   "cell_type": "code",
   "execution_count": 4,
   "metadata": {},
   "outputs": [
    {
     "name": "stderr",
     "output_type": "stream",
     "text": [
      "[nltk_data] Downloading package wordnet to /Users/being/nltk_data...\n",
      "[nltk_data]   Package wordnet is already up-to-date!\n",
      "[nltk_data] Downloading package punkt to /Users/being/nltk_data...\n",
      "[nltk_data]   Package punkt is already up-to-date!\n",
      "[nltk_data] Downloading package omw-1.4 to /Users/being/nltk_data...\n",
      "[nltk_data]   Package omw-1.4 is already up-to-date!\n",
      "Evaluating:   0%|          | 1/1000 [00:00<02:03,  8.10it/s]"
     ]
    },
    {
     "name": "stdout",
     "output_type": "stream",
     "text": [
      "bleu took 0.03 seconds\n",
      "meteor took 0.02 seconds\n",
      "rouge took 0.08 seconds\n",
      "bleu took 0.00 seconds\n",
      "meteor took 0.00 seconds\n",
      "rouge took 0.05 seconds\n",
      "bleu took 0.00 seconds\n",
      "meteor took 0.01 seconds\n"
     ]
    },
    {
     "name": "stderr",
     "output_type": "stream",
     "text": [
      "Evaluating:   0%|          | 5/1000 [00:00<01:05, 15.11it/s]"
     ]
    },
    {
     "name": "stdout",
     "output_type": "stream",
     "text": [
      "rouge took 0.05 seconds\n",
      "bleu took 0.00 seconds\n",
      "meteor took 0.01 seconds\n",
      "rouge took 0.05 seconds\n",
      "bleu took 0.00 seconds\n",
      "meteor took 0.00 seconds\n",
      "rouge took 0.05 seconds\n",
      "bleu took 0.00 seconds\n",
      "meteor took 0.01 seconds\n",
      "rouge took 0.05 seconds\n",
      "bleu took 0.01 seconds\n"
     ]
    },
    {
     "name": "stderr",
     "output_type": "stream",
     "text": [
      "Evaluating:   1%|          | 7/1000 [00:00<01:24, 11.80it/s]"
     ]
    },
    {
     "name": "stdout",
     "output_type": "stream",
     "text": [
      "meteor took 0.02 seconds\n",
      "rouge took 0.13 seconds\n",
      "bleu took 0.00 seconds\n",
      "meteor took 0.00 seconds\n",
      "rouge took 0.05 seconds\n",
      "bleu took 0.00 seconds\n",
      "meteor took 0.01 seconds\n"
     ]
    },
    {
     "name": "stderr",
     "output_type": "stream",
     "text": [
      "Evaluating:   1%|          | 11/1000 [00:00<01:20, 12.26it/s]"
     ]
    },
    {
     "name": "stdout",
     "output_type": "stream",
     "text": [
      "rouge took 0.05 seconds\n",
      "bleu took 0.00 seconds\n",
      "meteor took 0.00 seconds\n",
      "rouge took 0.05 seconds\n",
      "bleu took 0.00 seconds\n",
      "meteor took 0.02 seconds\n",
      "rouge took 0.11 seconds\n",
      "bleu took 0.00 seconds\n",
      "meteor took 0.00 seconds\n"
     ]
    },
    {
     "name": "stderr",
     "output_type": "stream",
     "text": [
      "Evaluating:   2%|▏         | 15/1000 [00:01<01:06, 14.90it/s]"
     ]
    },
    {
     "name": "stdout",
     "output_type": "stream",
     "text": [
      "rouge took 0.05 seconds\n",
      "bleu took 0.00 seconds\n",
      "meteor took 0.00 seconds\n",
      "rouge took 0.05 seconds\n",
      "bleu took 0.00 seconds\n",
      "meteor took 0.00 seconds\n",
      "rouge took 0.05 seconds\n",
      "bleu took 0.00 seconds\n",
      "meteor took 0.01 seconds\n",
      "rouge took 0.05 seconds\n",
      "bleu took 0.00 seconds\n",
      "meteor took 0.01 seconds\n"
     ]
    },
    {
     "name": "stderr",
     "output_type": "stream",
     "text": [
      "Evaluating:   2%|▏         | 19/1000 [00:01<01:03, 15.42it/s]"
     ]
    },
    {
     "name": "stdout",
     "output_type": "stream",
     "text": [
      "rouge took 0.05 seconds\n",
      "bleu took 0.01 seconds\n",
      "meteor took 0.01 seconds\n",
      "rouge took 0.05 seconds\n",
      "bleu took 0.00 seconds\n",
      "meteor took 0.01 seconds\n",
      "rouge took 0.05 seconds\n",
      "bleu took 0.00 seconds\n",
      "meteor took 0.00 seconds\n",
      "rouge took 0.05 seconds\n",
      "bleu took 0.00 seconds\n",
      "meteor took 0.00 seconds\n"
     ]
    },
    {
     "name": "stderr",
     "output_type": "stream",
     "text": [
      "Evaluating:   2%|▏         | 23/1000 [00:01<00:57, 16.96it/s]"
     ]
    },
    {
     "name": "stdout",
     "output_type": "stream",
     "text": [
      "rouge took 0.05 seconds\n",
      "bleu took 0.00 seconds\n",
      "meteor took 0.00 seconds\n",
      "rouge took 0.05 seconds\n",
      "bleu took 0.00 seconds\n",
      "meteor took 0.00 seconds\n",
      "rouge took 0.05 seconds\n",
      "bleu took 0.00 seconds\n",
      "meteor took 0.00 seconds\n",
      "rouge took 0.05 seconds\n",
      "bleu took 0.00 seconds\n",
      "meteor took 0.02 seconds\n"
     ]
    },
    {
     "name": "stderr",
     "output_type": "stream",
     "text": [
      "Evaluating:   3%|▎         | 27/1000 [00:01<01:03, 15.28it/s]"
     ]
    },
    {
     "name": "stdout",
     "output_type": "stream",
     "text": [
      "rouge took 0.12 seconds\n",
      "bleu took 0.00 seconds\n",
      "meteor took 0.00 seconds\n",
      "rouge took 0.05 seconds\n",
      "bleu took 0.00 seconds\n",
      "meteor took 0.00 seconds\n",
      "rouge took 0.05 seconds\n",
      "bleu took 0.00 seconds\n",
      "meteor took 0.00 seconds\n",
      "rouge took 0.05 seconds\n",
      "bleu took 0.00 seconds\n",
      "meteor took 0.00 seconds\n",
      "rouge took 0.05 seconds\n",
      "bleu took 0.01 seconds\n",
      "meteor took 0.07 seconds\n"
     ]
    },
    {
     "name": "stderr",
     "output_type": "stream",
     "text": [
      "Evaluating:   3%|▎         | 31/1000 [00:02<01:52,  8.61it/s]"
     ]
    },
    {
     "name": "stdout",
     "output_type": "stream",
     "text": [
      "rouge took 0.51 seconds\n",
      "bleu took 0.00 seconds\n",
      "meteor took 0.00 seconds\n",
      "rouge took 0.05 seconds\n",
      "bleu took 0.00 seconds\n",
      "meteor took 0.00 seconds\n",
      "rouge took 0.05 seconds\n",
      "bleu took 0.00 seconds\n",
      "meteor took 0.00 seconds\n",
      "rouge took 0.05 seconds\n",
      "bleu took 0.00 seconds\n",
      "meteor took 0.00 seconds\n"
     ]
    },
    {
     "name": "stderr",
     "output_type": "stream",
     "text": [
      "Evaluating:   4%|▎         | 35/1000 [00:02<01:20, 11.92it/s]"
     ]
    },
    {
     "name": "stdout",
     "output_type": "stream",
     "text": [
      "rouge took 0.05 seconds\n",
      "bleu took 0.00 seconds\n",
      "meteor took 0.00 seconds\n",
      "rouge took 0.05 seconds\n",
      "bleu took 0.00 seconds\n",
      "meteor took 0.00 seconds\n",
      "rouge took 0.05 seconds\n",
      "bleu took 0.00 seconds\n",
      "meteor took 0.00 seconds\n",
      "rouge took 0.05 seconds\n",
      "bleu took 0.00 seconds\n",
      "meteor took 0.00 seconds\n"
     ]
    },
    {
     "name": "stderr",
     "output_type": "stream",
     "text": [
      "Evaluating:   4%|▍         | 39/1000 [00:03<01:18, 12.22it/s]"
     ]
    },
    {
     "name": "stdout",
     "output_type": "stream",
     "text": [
      "rouge took 0.05 seconds\n",
      "bleu took 0.00 seconds\n",
      "meteor took 0.00 seconds\n",
      "rouge took 0.05 seconds\n",
      "bleu took 0.01 seconds\n",
      "meteor took 0.02 seconds\n",
      "rouge took 0.11 seconds\n",
      "bleu took 0.00 seconds\n",
      "meteor took 0.00 seconds\n"
     ]
    },
    {
     "name": "stderr",
     "output_type": "stream",
     "text": [
      "Evaluating:   4%|▍         | 43/1000 [00:03<01:12, 13.24it/s]"
     ]
    },
    {
     "name": "stdout",
     "output_type": "stream",
     "text": [
      "rouge took 0.10 seconds\n",
      "bleu took 0.00 seconds\n",
      "meteor took 0.00 seconds\n",
      "rouge took 0.05 seconds\n",
      "bleu took 0.00 seconds\n",
      "meteor took 0.01 seconds\n",
      "rouge took 0.06 seconds\n",
      "bleu took 0.00 seconds\n",
      "meteor took 0.00 seconds\n",
      "rouge took 0.05 seconds\n",
      "bleu took 0.00 seconds\n",
      "meteor took 0.01 seconds\n"
     ]
    },
    {
     "name": "stderr",
     "output_type": "stream",
     "text": [
      "Evaluating:   4%|▍         | 45/1000 [00:03<01:10, 13.58it/s]"
     ]
    },
    {
     "name": "stdout",
     "output_type": "stream",
     "text": [
      "rouge took 0.07 seconds\n",
      "bleu took 0.00 seconds\n",
      "meteor took 0.00 seconds\n",
      "rouge took 0.05 seconds\n",
      "bleu took 0.00 seconds\n",
      "meteor took 0.00 seconds\n",
      "rouge took 0.05 seconds\n",
      "bleu took 0.01 seconds\n",
      "meteor took 0.04 seconds\n"
     ]
    },
    {
     "name": "stderr",
     "output_type": "stream",
     "text": [
      "Evaluating:   5%|▍         | 49/1000 [00:04<01:25, 11.12it/s]"
     ]
    },
    {
     "name": "stdout",
     "output_type": "stream",
     "text": [
      "rouge took 0.27 seconds\n",
      "bleu took 0.00 seconds\n",
      "meteor took 0.00 seconds\n",
      "rouge took 0.05 seconds\n",
      "bleu took 0.00 seconds\n",
      "meteor took 0.00 seconds\n",
      "rouge took 0.04 seconds\n",
      "bleu took 0.00 seconds\n",
      "meteor took 0.00 seconds\n",
      "rouge took 0.05 seconds\n",
      "bleu took 0.00 seconds\n",
      "meteor took 0.00 seconds\n"
     ]
    },
    {
     "name": "stderr",
     "output_type": "stream",
     "text": [
      "Evaluating:   5%|▌         | 53/1000 [00:04<01:09, 13.69it/s]"
     ]
    },
    {
     "name": "stdout",
     "output_type": "stream",
     "text": [
      "rouge took 0.05 seconds\n",
      "bleu took 0.00 seconds\n",
      "meteor took 0.00 seconds\n",
      "rouge took 0.05 seconds\n",
      "bleu took 0.00 seconds\n",
      "meteor took 0.00 seconds\n",
      "rouge took 0.05 seconds\n",
      "bleu took 0.00 seconds\n",
      "meteor took 0.00 seconds\n",
      "rouge took 0.05 seconds\n",
      "bleu took 0.00 seconds\n",
      "meteor took 0.00 seconds\n"
     ]
    },
    {
     "name": "stderr",
     "output_type": "stream",
     "text": [
      "Evaluating:   6%|▌         | 57/1000 [00:04<00:59, 15.93it/s]"
     ]
    },
    {
     "name": "stdout",
     "output_type": "stream",
     "text": [
      "rouge took 0.05 seconds\n",
      "bleu took 0.00 seconds\n",
      "meteor took 0.00 seconds\n",
      "rouge took 0.05 seconds\n",
      "bleu took 0.00 seconds\n",
      "meteor took 0.00 seconds\n",
      "rouge took 0.05 seconds\n",
      "bleu took 0.00 seconds\n",
      "meteor took 0.01 seconds\n",
      "rouge took 0.06 seconds\n",
      "bleu took 0.00 seconds\n",
      "meteor took 0.01 seconds\n"
     ]
    },
    {
     "name": "stderr",
     "output_type": "stream",
     "text": [
      "Evaluating:   6%|▌         | 61/1000 [00:04<00:56, 16.63it/s]"
     ]
    },
    {
     "name": "stdout",
     "output_type": "stream",
     "text": [
      "rouge took 0.06 seconds\n",
      "bleu took 0.00 seconds\n",
      "meteor took 0.00 seconds\n",
      "rouge took 0.05 seconds\n",
      "bleu took 0.00 seconds\n",
      "meteor took 0.00 seconds\n",
      "rouge took 0.05 seconds\n",
      "bleu took 0.00 seconds\n",
      "meteor took 0.00 seconds\n",
      "rouge took 0.05 seconds\n",
      "bleu took 0.00 seconds\n",
      "meteor took 0.00 seconds\n"
     ]
    },
    {
     "name": "stderr",
     "output_type": "stream",
     "text": [
      "Evaluating:   6%|▋         | 65/1000 [00:04<00:52, 17.88it/s]"
     ]
    },
    {
     "name": "stdout",
     "output_type": "stream",
     "text": [
      "rouge took 0.05 seconds\n",
      "bleu took 0.00 seconds\n",
      "meteor took 0.00 seconds\n",
      "rouge took 0.05 seconds\n",
      "bleu took 0.00 seconds\n",
      "meteor took 0.00 seconds\n",
      "rouge took 0.05 seconds\n",
      "bleu took 0.00 seconds\n",
      "meteor took 0.00 seconds\n",
      "rouge took 0.05 seconds\n",
      "bleu took 0.01 seconds\n",
      "meteor took 0.13 seconds\n"
     ]
    },
    {
     "name": "stderr",
     "output_type": "stream",
     "text": [
      "Evaluating:   7%|▋         | 69/1000 [00:05<02:12,  7.03it/s]"
     ]
    },
    {
     "name": "stdout",
     "output_type": "stream",
     "text": [
      "rouge took 0.75 seconds\n",
      "bleu took 0.00 seconds\n",
      "meteor took 0.01 seconds\n",
      "rouge took 0.05 seconds\n",
      "bleu took 0.00 seconds\n",
      "meteor took 0.00 seconds\n",
      "rouge took 0.05 seconds\n",
      "bleu took 0.00 seconds\n",
      "meteor took 0.00 seconds\n",
      "rouge took 0.05 seconds\n",
      "bleu took 0.00 seconds\n",
      "meteor took 0.00 seconds\n"
     ]
    },
    {
     "name": "stderr",
     "output_type": "stream",
     "text": [
      "Evaluating:   7%|▋         | 73/1000 [00:06<01:30, 10.30it/s]"
     ]
    },
    {
     "name": "stdout",
     "output_type": "stream",
     "text": [
      "rouge took 0.05 seconds\n",
      "bleu took 0.00 seconds\n",
      "meteor took 0.00 seconds\n",
      "rouge took 0.05 seconds\n",
      "bleu took 0.00 seconds\n",
      "meteor took 0.00 seconds\n",
      "rouge took 0.05 seconds\n",
      "bleu took 0.00 seconds\n",
      "meteor took 0.00 seconds\n",
      "rouge took 0.05 seconds\n",
      "bleu took 0.00 seconds\n",
      "meteor took 0.00 seconds\n"
     ]
    },
    {
     "name": "stderr",
     "output_type": "stream",
     "text": [
      "Evaluating:   8%|▊         | 77/1000 [00:06<01:09, 13.19it/s]"
     ]
    },
    {
     "name": "stdout",
     "output_type": "stream",
     "text": [
      "rouge took 0.06 seconds\n",
      "bleu took 0.00 seconds\n",
      "meteor took 0.00 seconds\n",
      "rouge took 0.05 seconds\n",
      "bleu took 0.00 seconds\n",
      "meteor took 0.00 seconds\n",
      "rouge took 0.05 seconds\n",
      "bleu took 0.00 seconds\n",
      "meteor took 0.00 seconds\n",
      "rouge took 0.05 seconds\n",
      "bleu took 0.00 seconds\n",
      "meteor took 0.00 seconds\n"
     ]
    },
    {
     "name": "stderr",
     "output_type": "stream",
     "text": [
      "Evaluating:   8%|▊         | 81/1000 [00:06<01:01, 14.93it/s]"
     ]
    },
    {
     "name": "stdout",
     "output_type": "stream",
     "text": [
      "rouge took 0.05 seconds\n",
      "bleu took 0.00 seconds\n",
      "meteor took 0.01 seconds\n",
      "rouge took 0.06 seconds\n",
      "bleu took 0.00 seconds\n",
      "meteor took 0.00 seconds\n",
      "rouge took 0.05 seconds\n",
      "bleu took 0.00 seconds\n",
      "meteor took 0.01 seconds\n",
      "rouge took 0.05 seconds\n",
      "bleu took 0.00 seconds\n",
      "meteor took 0.00 seconds\n"
     ]
    },
    {
     "name": "stderr",
     "output_type": "stream",
     "text": [
      "Evaluating:   8%|▊         | 85/1000 [00:06<01:00, 15.16it/s]"
     ]
    },
    {
     "name": "stdout",
     "output_type": "stream",
     "text": [
      "rouge took 0.10 seconds\n",
      "bleu took 0.00 seconds\n",
      "meteor took 0.00 seconds\n",
      "rouge took 0.05 seconds\n",
      "bleu took 0.00 seconds\n",
      "meteor took 0.00 seconds\n",
      "rouge took 0.05 seconds\n",
      "bleu took 0.00 seconds\n",
      "meteor took 0.00 seconds\n",
      "rouge took 0.05 seconds\n",
      "bleu took 0.00 seconds\n",
      "meteor took 0.01 seconds\n"
     ]
    },
    {
     "name": "stderr",
     "output_type": "stream",
     "text": [
      "Evaluating:   9%|▉         | 89/1000 [00:07<01:00, 14.96it/s]"
     ]
    },
    {
     "name": "stdout",
     "output_type": "stream",
     "text": [
      "rouge took 0.06 seconds\n",
      "bleu took 0.01 seconds\n",
      "meteor took 0.01 seconds\n",
      "rouge took 0.06 seconds\n",
      "bleu took 0.00 seconds\n",
      "meteor took 0.01 seconds\n",
      "rouge took 0.06 seconds\n",
      "bleu took 0.00 seconds\n",
      "meteor took 0.00 seconds\n",
      "rouge took 0.05 seconds\n",
      "bleu took 0.00 seconds\n",
      "meteor took 0.00 seconds\n"
     ]
    },
    {
     "name": "stderr",
     "output_type": "stream",
     "text": [
      "Evaluating:   9%|▉         | 93/1000 [00:07<00:54, 16.67it/s]"
     ]
    },
    {
     "name": "stdout",
     "output_type": "stream",
     "text": [
      "rouge took 0.05 seconds\n",
      "bleu took 0.00 seconds\n",
      "meteor took 0.00 seconds\n",
      "rouge took 0.05 seconds\n",
      "bleu took 0.00 seconds\n",
      "meteor took 0.00 seconds\n",
      "rouge took 0.05 seconds\n",
      "bleu took 0.00 seconds\n",
      "meteor took 0.01 seconds\n",
      "rouge took 0.05 seconds\n",
      "bleu took 0.00 seconds\n",
      "meteor took 0.01 seconds\n"
     ]
    },
    {
     "name": "stderr",
     "output_type": "stream",
     "text": [
      "Evaluating:  10%|▉         | 97/1000 [00:07<00:58, 15.53it/s]"
     ]
    },
    {
     "name": "stdout",
     "output_type": "stream",
     "text": [
      "rouge took 0.06 seconds\n",
      "bleu took 0.00 seconds\n",
      "meteor took 0.00 seconds\n",
      "rouge took 0.05 seconds\n",
      "bleu took 0.00 seconds\n",
      "meteor took 0.01 seconds\n",
      "rouge took 0.07 seconds\n",
      "bleu took 0.00 seconds\n",
      "meteor took 0.00 seconds\n",
      "rouge took 0.05 seconds\n",
      "bleu took 0.00 seconds\n",
      "meteor took 0.00 seconds\n"
     ]
    },
    {
     "name": "stderr",
     "output_type": "stream",
     "text": [
      "Evaluating:  10%|█         | 101/1000 [00:07<00:53, 16.90it/s]"
     ]
    },
    {
     "name": "stdout",
     "output_type": "stream",
     "text": [
      "rouge took 0.05 seconds\n",
      "bleu took 0.00 seconds\n",
      "meteor took 0.00 seconds\n",
      "rouge took 0.05 seconds\n",
      "bleu took 0.00 seconds\n",
      "meteor took 0.00 seconds\n",
      "rouge took 0.05 seconds\n",
      "bleu took 0.00 seconds\n",
      "meteor took 0.01 seconds\n",
      "rouge took 0.06 seconds\n",
      "bleu took 0.00 seconds\n",
      "meteor took 0.00 seconds\n"
     ]
    },
    {
     "name": "stderr",
     "output_type": "stream",
     "text": [
      "Evaluating:  10%|█         | 105/1000 [00:08<00:55, 16.24it/s]"
     ]
    },
    {
     "name": "stdout",
     "output_type": "stream",
     "text": [
      "rouge took 0.05 seconds\n",
      "bleu took 0.00 seconds\n",
      "meteor took 0.01 seconds\n",
      "rouge took 0.06 seconds\n",
      "bleu took 0.00 seconds\n",
      "meteor took 0.00 seconds\n",
      "rouge took 0.05 seconds\n",
      "bleu took 0.00 seconds\n",
      "meteor took 0.01 seconds\n"
     ]
    },
    {
     "name": "stderr",
     "output_type": "stream",
     "text": [
      "Evaluating:  11%|█         | 109/1000 [00:08<00:56, 15.89it/s]"
     ]
    },
    {
     "name": "stdout",
     "output_type": "stream",
     "text": [
      "rouge took 0.08 seconds\n",
      "bleu took 0.00 seconds\n",
      "meteor took 0.00 seconds\n",
      "rouge took 0.05 seconds\n",
      "bleu took 0.00 seconds\n",
      "meteor took 0.00 seconds\n",
      "rouge took 0.06 seconds\n",
      "bleu took 0.00 seconds\n",
      "meteor took 0.00 seconds\n",
      "rouge took 0.05 seconds\n",
      "bleu took 0.00 seconds\n",
      "meteor took 0.01 seconds\n"
     ]
    },
    {
     "name": "stderr",
     "output_type": "stream",
     "text": [
      "Evaluating:  11%|█▏        | 113/1000 [00:08<00:55, 16.09it/s]"
     ]
    },
    {
     "name": "stdout",
     "output_type": "stream",
     "text": [
      "rouge took 0.07 seconds\n",
      "bleu took 0.00 seconds\n",
      "meteor took 0.00 seconds\n",
      "rouge took 0.05 seconds\n",
      "bleu took 0.00 seconds\n",
      "meteor took 0.01 seconds\n",
      "rouge took 0.06 seconds\n",
      "bleu took 0.00 seconds\n",
      "meteor took 0.00 seconds\n",
      "rouge took 0.05 seconds\n",
      "bleu took 0.00 seconds\n",
      "meteor took 0.01 seconds\n"
     ]
    },
    {
     "name": "stderr",
     "output_type": "stream",
     "text": [
      "Evaluating:  12%|█▏        | 117/1000 [00:08<00:55, 15.86it/s]"
     ]
    },
    {
     "name": "stdout",
     "output_type": "stream",
     "text": [
      "rouge took 0.06 seconds\n",
      "bleu took 0.00 seconds\n",
      "meteor took 0.00 seconds\n",
      "rouge took 0.05 seconds\n",
      "bleu took 0.00 seconds\n",
      "meteor took 0.01 seconds\n",
      "rouge took 0.07 seconds\n",
      "bleu took 0.00 seconds\n",
      "meteor took 0.00 seconds\n",
      "rouge took 0.05 seconds\n",
      "bleu took 0.00 seconds\n",
      "meteor took 0.01 seconds\n",
      "rouge took 0.07 seconds\n",
      "bleu took 0.01 seconds\n",
      "meteor took 0.04 seconds\n"
     ]
    },
    {
     "name": "stderr",
     "output_type": "stream",
     "text": [
      "Evaluating:  12%|█▏        | 121/1000 [00:09<01:15, 11.70it/s]"
     ]
    },
    {
     "name": "stdout",
     "output_type": "stream",
     "text": [
      "rouge took 0.23 seconds\n",
      "bleu took 0.00 seconds\n",
      "meteor took 0.01 seconds\n",
      "rouge took 0.06 seconds\n",
      "bleu took 0.00 seconds\n",
      "meteor took 0.00 seconds\n",
      "rouge took 0.05 seconds\n",
      "bleu took 0.00 seconds\n",
      "meteor took 0.00 seconds\n",
      "rouge took 0.05 seconds\n",
      "bleu took 0.00 seconds\n",
      "meteor took 0.00 seconds\n"
     ]
    },
    {
     "name": "stderr",
     "output_type": "stream",
     "text": [
      "Evaluating:  12%|█▏        | 123/1000 [00:09<01:07, 13.05it/s]"
     ]
    },
    {
     "name": "stdout",
     "output_type": "stream",
     "text": [
      "rouge took 0.05 seconds\n",
      "bleu took 0.00 seconds\n",
      "meteor took 0.00 seconds\n",
      "rouge took 0.10 seconds\n",
      "bleu took 0.01 seconds\n",
      "meteor took 0.04 seconds\n"
     ]
    },
    {
     "name": "stderr",
     "output_type": "stream",
     "text": [
      "Evaluating:  13%|█▎        | 127/1000 [00:09<01:24, 10.31it/s]"
     ]
    },
    {
     "name": "stdout",
     "output_type": "stream",
     "text": [
      "rouge took 0.25 seconds\n",
      "bleu took 0.00 seconds\n",
      "meteor took 0.00 seconds\n",
      "rouge took 0.05 seconds\n",
      "bleu took 0.00 seconds\n",
      "meteor took 0.00 seconds\n",
      "rouge took 0.05 seconds\n",
      "bleu took 0.00 seconds\n",
      "meteor took 0.01 seconds\n"
     ]
    },
    {
     "name": "stderr",
     "output_type": "stream",
     "text": [
      "Evaluating:  13%|█▎        | 129/1000 [00:10<01:23, 10.48it/s]"
     ]
    },
    {
     "name": "stdout",
     "output_type": "stream",
     "text": [
      "rouge took 0.08 seconds\n",
      "bleu took 0.00 seconds\n",
      "meteor took 0.01 seconds\n",
      "rouge took 0.07 seconds\n",
      "bleu took 0.00 seconds\n",
      "meteor took 0.00 seconds\n",
      "rouge took 0.05 seconds\n",
      "bleu took 0.00 seconds\n",
      "meteor took 0.01 seconds\n"
     ]
    },
    {
     "name": "stderr",
     "output_type": "stream",
     "text": [
      "Evaluating:  13%|█▎        | 133/1000 [00:10<01:09, 12.47it/s]"
     ]
    },
    {
     "name": "stdout",
     "output_type": "stream",
     "text": [
      "rouge took 0.05 seconds\n",
      "bleu took 0.00 seconds\n",
      "meteor took 0.01 seconds\n",
      "rouge took 0.06 seconds\n",
      "bleu took 0.00 seconds\n",
      "meteor took 0.01 seconds\n",
      "rouge took 0.06 seconds\n",
      "bleu took 0.00 seconds\n",
      "meteor took 0.01 seconds\n",
      "rouge took 0.05 seconds\n"
     ]
    },
    {
     "name": "stderr",
     "output_type": "stream",
     "text": [
      "Evaluating:  14%|█▎        | 137/1000 [00:10<00:57, 14.90it/s]"
     ]
    },
    {
     "name": "stdout",
     "output_type": "stream",
     "text": [
      "bleu took 0.00 seconds\n",
      "meteor took 0.00 seconds\n",
      "rouge took 0.05 seconds\n",
      "bleu took 0.00 seconds\n",
      "meteor took 0.00 seconds\n",
      "rouge took 0.05 seconds\n",
      "bleu took 0.00 seconds\n",
      "meteor took 0.00 seconds\n",
      "rouge took 0.05 seconds\n",
      "bleu took 0.00 seconds\n",
      "meteor took 0.00 seconds\n"
     ]
    },
    {
     "name": "stderr",
     "output_type": "stream",
     "text": [
      "Evaluating:  14%|█▍        | 141/1000 [00:10<00:52, 16.42it/s]"
     ]
    },
    {
     "name": "stdout",
     "output_type": "stream",
     "text": [
      "rouge took 0.05 seconds\n",
      "bleu took 0.00 seconds\n",
      "meteor took 0.00 seconds\n",
      "rouge took 0.05 seconds\n",
      "bleu took 0.00 seconds\n",
      "meteor took 0.00 seconds\n",
      "rouge took 0.05 seconds\n",
      "bleu took 0.00 seconds\n",
      "meteor took 0.00 seconds\n",
      "rouge took 0.05 seconds\n",
      "bleu took 0.00 seconds\n",
      "meteor took 0.00 seconds\n"
     ]
    },
    {
     "name": "stderr",
     "output_type": "stream",
     "text": [
      "Evaluating:  14%|█▍        | 145/1000 [00:11<00:49, 17.14it/s]"
     ]
    },
    {
     "name": "stdout",
     "output_type": "stream",
     "text": [
      "rouge took 0.05 seconds\n",
      "bleu took 0.00 seconds\n",
      "meteor took 0.00 seconds\n",
      "rouge took 0.05 seconds\n",
      "bleu took 0.00 seconds\n",
      "meteor took 0.00 seconds\n",
      "rouge took 0.05 seconds\n",
      "bleu took 0.00 seconds\n",
      "meteor took 0.00 seconds\n",
      "rouge took 0.05 seconds\n",
      "bleu took 0.00 seconds\n",
      "meteor took 0.00 seconds\n"
     ]
    },
    {
     "name": "stderr",
     "output_type": "stream",
     "text": [
      "Evaluating:  15%|█▍        | 149/1000 [00:11<00:52, 16.34it/s]"
     ]
    },
    {
     "name": "stdout",
     "output_type": "stream",
     "text": [
      "rouge took 0.06 seconds\n",
      "bleu took 0.00 seconds\n",
      "meteor took 0.01 seconds\n",
      "rouge took 0.05 seconds\n",
      "bleu took 0.00 seconds\n",
      "meteor took 0.00 seconds\n",
      "rouge took 0.05 seconds\n",
      "bleu took 0.00 seconds\n",
      "meteor took 0.01 seconds\n",
      "rouge took 0.06 seconds\n",
      "bleu took 0.00 seconds\n"
     ]
    },
    {
     "name": "stderr",
     "output_type": "stream",
     "text": [
      "Evaluating:  15%|█▌        | 151/1000 [00:11<00:54, 15.57it/s]"
     ]
    },
    {
     "name": "stdout",
     "output_type": "stream",
     "text": [
      "meteor took 0.01 seconds\n",
      "rouge took 0.07 seconds\n",
      "bleu took 0.00 seconds\n",
      "meteor took 0.00 seconds\n",
      "rouge took 0.05 seconds\n",
      "bleu took 0.00 seconds\n",
      "meteor took 0.01 seconds\n",
      "rouge took 0.06 seconds\n"
     ]
    },
    {
     "name": "stderr",
     "output_type": "stream",
     "text": [
      "Evaluating:  15%|█▌        | 153/1000 [00:11<01:03, 13.25it/s]"
     ]
    },
    {
     "name": "stdout",
     "output_type": "stream",
     "text": [
      "bleu took 0.00 seconds\n",
      "meteor took 0.01 seconds\n",
      "rouge took 0.12 seconds\n",
      "bleu took 0.01 seconds\n",
      "meteor took 0.01 seconds\n",
      "rouge took 0.05 seconds\n",
      "bleu took 0.00 seconds\n",
      "meteor took 0.00 seconds\n"
     ]
    },
    {
     "name": "stderr",
     "output_type": "stream",
     "text": [
      "Evaluating:  16%|█▌        | 157/1000 [00:11<00:56, 14.86it/s]"
     ]
    },
    {
     "name": "stdout",
     "output_type": "stream",
     "text": [
      "rouge took 0.05 seconds\n",
      "bleu took 0.00 seconds\n",
      "meteor took 0.00 seconds\n",
      "rouge took 0.05 seconds\n",
      "bleu took 0.00 seconds\n",
      "meteor took 0.01 seconds\n",
      "rouge took 0.06 seconds\n",
      "bleu took 0.00 seconds\n",
      "meteor took 0.00 seconds\n",
      "rouge took 0.05 seconds\n",
      "bleu took 0.00 seconds\n",
      "meteor took 0.00 seconds\n"
     ]
    },
    {
     "name": "stderr",
     "output_type": "stream",
     "text": [
      "Evaluating:  16%|█▌        | 161/1000 [00:12<00:50, 16.68it/s]"
     ]
    },
    {
     "name": "stdout",
     "output_type": "stream",
     "text": [
      "rouge took 0.05 seconds\n",
      "bleu took 0.00 seconds\n",
      "meteor took 0.00 seconds\n",
      "rouge took 0.05 seconds\n",
      "bleu took 0.00 seconds\n",
      "meteor took 0.00 seconds\n",
      "rouge took 0.05 seconds\n",
      "bleu took 0.00 seconds\n",
      "meteor took 0.00 seconds\n",
      "rouge took 0.05 seconds\n",
      "bleu took 0.00 seconds\n",
      "meteor took 0.00 seconds\n"
     ]
    },
    {
     "name": "stderr",
     "output_type": "stream",
     "text": [
      "Evaluating:  16%|█▋        | 165/1000 [00:12<00:47, 17.50it/s]"
     ]
    },
    {
     "name": "stdout",
     "output_type": "stream",
     "text": [
      "rouge took 0.05 seconds\n",
      "bleu took 0.00 seconds\n",
      "meteor took 0.00 seconds\n",
      "rouge took 0.05 seconds\n",
      "bleu took 0.00 seconds\n",
      "meteor took 0.00 seconds\n",
      "rouge took 0.05 seconds\n",
      "bleu took 0.00 seconds\n",
      "meteor took 0.00 seconds\n",
      "rouge took 0.05 seconds\n",
      "bleu took 0.00 seconds\n",
      "meteor took 0.01 seconds\n"
     ]
    },
    {
     "name": "stderr",
     "output_type": "stream",
     "text": [
      "Evaluating:  17%|█▋        | 169/1000 [00:12<00:48, 17.19it/s]"
     ]
    },
    {
     "name": "stdout",
     "output_type": "stream",
     "text": [
      "rouge took 0.06 seconds\n",
      "bleu took 0.00 seconds\n",
      "meteor took 0.00 seconds\n",
      "rouge took 0.06 seconds\n",
      "bleu took 0.00 seconds\n",
      "meteor took 0.00 seconds\n",
      "rouge took 0.04 seconds\n",
      "bleu took 0.00 seconds\n",
      "meteor took 0.00 seconds\n",
      "rouge took 0.04 seconds\n",
      "bleu took 0.00 seconds\n",
      "meteor took 0.00 seconds\n"
     ]
    },
    {
     "name": "stderr",
     "output_type": "stream",
     "text": [
      "Evaluating:  17%|█▋        | 173/1000 [00:12<00:45, 18.19it/s]"
     ]
    },
    {
     "name": "stdout",
     "output_type": "stream",
     "text": [
      "rouge took 0.05 seconds\n",
      "bleu took 0.00 seconds\n",
      "meteor took 0.00 seconds\n",
      "rouge took 0.05 seconds\n",
      "bleu took 0.00 seconds\n",
      "meteor took 0.00 seconds\n",
      "rouge took 0.05 seconds\n",
      "bleu took 0.01 seconds\n",
      "meteor took 0.00 seconds\n",
      "rouge took 0.05 seconds\n",
      "bleu took 0.00 seconds\n",
      "meteor took 0.00 seconds\n"
     ]
    },
    {
     "name": "stderr",
     "output_type": "stream",
     "text": [
      "Evaluating:  18%|█▊        | 177/1000 [00:13<00:47, 17.42it/s]"
     ]
    },
    {
     "name": "stdout",
     "output_type": "stream",
     "text": [
      "rouge took 0.05 seconds\n",
      "bleu took 0.00 seconds\n",
      "meteor took 0.01 seconds\n",
      "rouge took 0.05 seconds\n",
      "bleu took 0.00 seconds\n",
      "meteor took 0.00 seconds\n",
      "rouge took 0.06 seconds\n",
      "bleu took 0.00 seconds\n",
      "meteor took 0.00 seconds\n",
      "rouge took 0.05 seconds\n",
      "bleu took 0.00 seconds\n",
      "meteor took 0.02 seconds\n"
     ]
    },
    {
     "name": "stderr",
     "output_type": "stream",
     "text": [
      "Evaluating:  18%|█▊        | 181/1000 [00:13<00:51, 15.99it/s]"
     ]
    },
    {
     "name": "stdout",
     "output_type": "stream",
     "text": [
      "rouge took 0.10 seconds\n",
      "bleu took 0.00 seconds\n",
      "meteor took 0.00 seconds\n",
      "rouge took 0.05 seconds\n",
      "bleu took 0.00 seconds\n",
      "meteor took 0.00 seconds\n",
      "rouge took 0.05 seconds\n",
      "bleu took 0.00 seconds\n",
      "meteor took 0.01 seconds\n",
      "rouge took 0.06 seconds\n",
      "bleu took 0.01 seconds\n",
      "meteor took 0.13 seconds\n"
     ]
    },
    {
     "name": "stderr",
     "output_type": "stream",
     "text": [
      "Evaluating:  18%|█▊        | 185/1000 [00:14<02:00,  6.79it/s]"
     ]
    },
    {
     "name": "stdout",
     "output_type": "stream",
     "text": [
      "rouge took 0.75 seconds\n",
      "bleu took 0.00 seconds\n",
      "meteor took 0.00 seconds\n",
      "rouge took 0.05 seconds\n",
      "bleu took 0.00 seconds\n",
      "meteor took 0.00 seconds\n",
      "rouge took 0.05 seconds\n",
      "bleu took 0.00 seconds\n",
      "meteor took 0.00 seconds\n",
      "rouge took 0.05 seconds\n",
      "bleu took 0.00 seconds\n",
      "meteor took 0.00 seconds\n"
     ]
    },
    {
     "name": "stderr",
     "output_type": "stream",
     "text": [
      "Evaluating:  19%|█▉        | 189/1000 [00:14<01:22,  9.82it/s]"
     ]
    },
    {
     "name": "stdout",
     "output_type": "stream",
     "text": [
      "rouge took 0.05 seconds\n",
      "bleu took 0.00 seconds\n",
      "meteor took 0.01 seconds\n",
      "rouge took 0.05 seconds\n",
      "bleu took 0.00 seconds\n",
      "meteor took 0.00 seconds\n",
      "rouge took 0.05 seconds\n",
      "bleu took 0.00 seconds\n",
      "meteor took 0.00 seconds\n",
      "rouge took 0.05 seconds\n",
      "bleu took 0.01 seconds\n"
     ]
    },
    {
     "name": "stderr",
     "output_type": "stream",
     "text": [
      "Evaluating:  19%|█▉        | 191/1000 [00:14<01:28,  9.11it/s]"
     ]
    },
    {
     "name": "stdout",
     "output_type": "stream",
     "text": [
      "meteor took 0.03 seconds\n",
      "rouge took 0.17 seconds\n",
      "bleu took 0.00 seconds\n"
     ]
    },
    {
     "name": "stderr",
     "output_type": "stream",
     "text": [
      "Evaluating:  19%|█▉        | 193/1000 [00:15<01:30,  8.90it/s]"
     ]
    },
    {
     "name": "stdout",
     "output_type": "stream",
     "text": [
      "meteor took 0.05 seconds\n",
      "rouge took 0.12 seconds\n",
      "bleu took 0.00 seconds\n",
      "meteor took 0.01 seconds\n",
      "rouge took 0.05 seconds\n",
      "bleu took 0.00 seconds\n",
      "meteor took 0.01 seconds\n"
     ]
    },
    {
     "name": "stderr",
     "output_type": "stream",
     "text": [
      "Evaluating:  20%|█▉        | 197/1000 [00:15<01:09, 11.57it/s]"
     ]
    },
    {
     "name": "stdout",
     "output_type": "stream",
     "text": [
      "rouge took 0.08 seconds\n",
      "bleu took 0.00 seconds\n",
      "meteor took 0.00 seconds\n",
      "rouge took 0.05 seconds\n",
      "bleu took 0.00 seconds\n",
      "meteor took 0.00 seconds\n",
      "rouge took 0.05 seconds\n",
      "bleu took 0.00 seconds\n",
      "meteor took 0.00 seconds\n",
      "rouge took 0.04 seconds\n",
      "bleu took 0.00 seconds\n",
      "meteor took 0.00 seconds\n"
     ]
    },
    {
     "name": "stderr",
     "output_type": "stream",
     "text": [
      "Evaluating:  20%|██        | 201/1000 [00:15<00:55, 14.27it/s]"
     ]
    },
    {
     "name": "stdout",
     "output_type": "stream",
     "text": [
      "rouge took 0.05 seconds\n",
      "bleu took 0.00 seconds\n",
      "meteor took 0.00 seconds\n",
      "rouge took 0.05 seconds\n",
      "bleu took 0.00 seconds\n",
      "meteor took 0.00 seconds\n",
      "rouge took 0.05 seconds\n",
      "bleu took 0.00 seconds\n",
      "meteor took 0.00 seconds\n",
      "rouge took 0.05 seconds\n",
      "bleu took 0.00 seconds\n",
      "meteor took 0.00 seconds\n"
     ]
    },
    {
     "name": "stderr",
     "output_type": "stream",
     "text": [
      "Evaluating:  20%|██        | 203/1000 [00:15<01:00, 13.26it/s]"
     ]
    },
    {
     "name": "stdout",
     "output_type": "stream",
     "text": [
      "rouge took 0.05 seconds\n",
      "bleu took 0.00 seconds\n",
      "meteor took 0.02 seconds\n",
      "rouge took 0.10 seconds\n",
      "bleu took 0.00 seconds\n",
      "meteor took 0.00 seconds\n",
      "rouge took 0.05 seconds\n",
      "bleu took 0.00 seconds\n",
      "meteor took 0.00 seconds\n"
     ]
    },
    {
     "name": "stderr",
     "output_type": "stream",
     "text": [
      "Evaluating:  21%|██        | 207/1000 [00:15<00:51, 15.48it/s]"
     ]
    },
    {
     "name": "stdout",
     "output_type": "stream",
     "text": [
      "rouge took 0.05 seconds\n",
      "bleu took 0.00 seconds\n",
      "meteor took 0.00 seconds\n",
      "rouge took 0.05 seconds\n",
      "bleu took 0.00 seconds\n",
      "meteor took 0.00 seconds\n",
      "rouge took 0.05 seconds\n",
      "bleu took 0.00 seconds\n",
      "meteor took 0.00 seconds\n",
      "rouge took 0.05 seconds\n",
      "bleu took 0.00 seconds\n",
      "meteor took 0.00 seconds\n"
     ]
    },
    {
     "name": "stderr",
     "output_type": "stream",
     "text": [
      "Evaluating:  21%|██        | 211/1000 [00:16<00:45, 17.16it/s]"
     ]
    },
    {
     "name": "stdout",
     "output_type": "stream",
     "text": [
      "rouge took 0.05 seconds\n",
      "bleu took 0.00 seconds\n",
      "meteor took 0.00 seconds\n",
      "rouge took 0.05 seconds\n",
      "bleu took 0.00 seconds\n",
      "meteor took 0.00 seconds\n",
      "rouge took 0.05 seconds\n",
      "bleu took 0.00 seconds\n",
      "meteor took 0.00 seconds\n",
      "rouge took 0.05 seconds\n",
      "bleu took 0.00 seconds\n",
      "meteor took 0.01 seconds\n"
     ]
    },
    {
     "name": "stderr",
     "output_type": "stream",
     "text": [
      "Evaluating:  22%|██▏       | 215/1000 [00:16<00:45, 17.09it/s]"
     ]
    },
    {
     "name": "stdout",
     "output_type": "stream",
     "text": [
      "rouge took 0.07 seconds\n",
      "bleu took 0.00 seconds\n",
      "meteor took 0.00 seconds\n",
      "rouge took 0.05 seconds\n",
      "bleu took 0.00 seconds\n",
      "meteor took 0.00 seconds\n",
      "rouge took 0.05 seconds\n",
      "bleu took 0.00 seconds\n",
      "meteor took 0.01 seconds\n",
      "rouge took 0.05 seconds\n",
      "bleu took 0.00 seconds\n",
      "meteor took 0.00 seconds\n"
     ]
    },
    {
     "name": "stderr",
     "output_type": "stream",
     "text": [
      "Evaluating:  22%|██▏       | 219/1000 [00:16<00:47, 16.51it/s]"
     ]
    },
    {
     "name": "stdout",
     "output_type": "stream",
     "text": [
      "rouge took 0.06 seconds\n",
      "bleu took 0.00 seconds\n",
      "meteor took 0.00 seconds\n",
      "rouge took 0.05 seconds\n",
      "bleu took 0.00 seconds\n",
      "meteor took 0.00 seconds\n",
      "rouge took 0.07 seconds\n",
      "bleu took 0.02 seconds\n",
      "meteor took 0.06 seconds\n"
     ]
    },
    {
     "name": "stderr",
     "output_type": "stream",
     "text": [
      "Evaluating:  22%|██▏       | 223/1000 [00:17<01:07, 11.59it/s]"
     ]
    },
    {
     "name": "stdout",
     "output_type": "stream",
     "text": [
      "rouge took 0.23 seconds\n",
      "bleu took 0.01 seconds\n",
      "meteor took 0.01 seconds\n",
      "rouge took 0.06 seconds\n",
      "bleu took 0.00 seconds\n",
      "meteor took 0.00 seconds\n",
      "rouge took 0.05 seconds\n",
      "bleu took 0.00 seconds\n",
      "meteor took 0.01 seconds\n",
      "rouge took 0.05 seconds\n",
      "bleu took 0.00 seconds\n",
      "meteor took 0.00 seconds\n"
     ]
    },
    {
     "name": "stderr",
     "output_type": "stream",
     "text": [
      "Evaluating:  23%|██▎       | 227/1000 [00:17<00:54, 14.11it/s]"
     ]
    },
    {
     "name": "stdout",
     "output_type": "stream",
     "text": [
      "rouge took 0.05 seconds\n",
      "bleu took 0.00 seconds\n",
      "meteor took 0.00 seconds\n",
      "rouge took 0.04 seconds\n",
      "bleu took 0.00 seconds\n",
      "meteor took 0.01 seconds\n",
      "rouge took 0.05 seconds\n",
      "bleu took 0.00 seconds\n",
      "meteor took 0.00 seconds\n",
      "rouge took 0.05 seconds\n",
      "bleu took 0.00 seconds\n",
      "meteor took 0.00 seconds\n"
     ]
    },
    {
     "name": "stderr",
     "output_type": "stream",
     "text": [
      "Evaluating:  23%|██▎       | 229/1000 [00:17<01:05, 11.73it/s]"
     ]
    },
    {
     "name": "stdout",
     "output_type": "stream",
     "text": [
      "rouge took 0.15 seconds\n",
      "bleu took 0.02 seconds\n",
      "meteor took 0.00 seconds\n",
      "rouge took 0.06 seconds\n",
      "bleu took 0.00 seconds\n",
      "meteor took 0.00 seconds\n",
      "rouge took 0.06 seconds\n",
      "bleu took 0.01 seconds\n",
      "meteor took 0.03 seconds\n"
     ]
    },
    {
     "name": "stderr",
     "output_type": "stream",
     "text": [
      "Evaluating:  23%|██▎       | 233/1000 [00:18<01:06, 11.60it/s]"
     ]
    },
    {
     "name": "stdout",
     "output_type": "stream",
     "text": [
      "rouge took 0.15 seconds\n",
      "bleu took 0.00 seconds\n",
      "meteor took 0.00 seconds\n",
      "rouge took 0.06 seconds\n",
      "bleu took 0.00 seconds\n",
      "meteor took 0.00 seconds\n",
      "rouge took 0.05 seconds\n",
      "bleu took 0.01 seconds\n",
      "meteor took 0.07 seconds\n"
     ]
    },
    {
     "name": "stderr",
     "output_type": "stream",
     "text": [
      "Evaluating:  24%|██▎       | 235/1000 [00:18<01:58,  6.47it/s]"
     ]
    },
    {
     "name": "stdout",
     "output_type": "stream",
     "text": [
      "rouge took 0.42 seconds\n",
      "bleu took 0.00 seconds\n",
      "meteor took 0.01 seconds\n",
      "rouge took 0.12 seconds\n",
      "bleu took 0.01 seconds\n",
      "meteor took 0.00 seconds\n"
     ]
    },
    {
     "name": "stderr",
     "output_type": "stream",
     "text": [
      "Evaluating:  24%|██▎       | 237/1000 [00:18<01:37,  7.81it/s]"
     ]
    },
    {
     "name": "stdout",
     "output_type": "stream",
     "text": [
      "rouge took 0.06 seconds\n",
      "bleu took 0.00 seconds\n",
      "meteor took 0.00 seconds\n",
      "rouge took 0.06 seconds\n",
      "bleu took 0.00 seconds\n",
      "meteor took 0.00 seconds\n",
      "rouge took 0.05 seconds\n",
      "bleu took 0.00 seconds\n",
      "meteor took 0.01 seconds\n"
     ]
    },
    {
     "name": "stderr",
     "output_type": "stream",
     "text": [
      "Evaluating:  24%|██▍       | 241/1000 [00:19<01:12, 10.42it/s]"
     ]
    },
    {
     "name": "stdout",
     "output_type": "stream",
     "text": [
      "rouge took 0.08 seconds\n",
      "bleu took 0.00 seconds\n",
      "meteor took 0.01 seconds\n",
      "rouge took 0.05 seconds\n",
      "bleu took 0.00 seconds\n",
      "meteor took 0.00 seconds\n",
      "rouge took 0.04 seconds\n",
      "bleu took 0.00 seconds\n",
      "meteor took 0.00 seconds\n",
      "rouge took 0.05 seconds\n",
      "bleu took 0.01 seconds\n",
      "meteor took 0.14 seconds\n"
     ]
    },
    {
     "name": "stderr",
     "output_type": "stream",
     "text": [
      "Evaluating:  24%|██▍       | 245/1000 [00:20<02:23,  5.27it/s]"
     ]
    },
    {
     "name": "stdout",
     "output_type": "stream",
     "text": [
      "rouge took 0.97 seconds\n",
      "bleu took 0.00 seconds\n",
      "meteor took 0.00 seconds\n",
      "rouge took 0.05 seconds\n",
      "bleu took 0.00 seconds\n",
      "meteor took 0.01 seconds\n",
      "rouge took 0.06 seconds\n",
      "bleu took 0.00 seconds\n",
      "meteor took 0.00 seconds\n",
      "rouge took 0.05 seconds\n",
      "bleu took 0.01 seconds\n",
      "meteor took 0.13 seconds\n"
     ]
    },
    {
     "name": "stderr",
     "output_type": "stream",
     "text": [
      "Evaluating:  25%|██▍       | 249/1000 [00:21<02:58,  4.20it/s]"
     ]
    },
    {
     "name": "stdout",
     "output_type": "stream",
     "text": [
      "rouge took 1.00 seconds\n",
      "bleu took 0.00 seconds\n",
      "meteor took 0.00 seconds\n",
      "rouge took 0.05 seconds\n",
      "bleu took 0.00 seconds\n",
      "meteor took 0.01 seconds\n",
      "rouge took 0.06 seconds\n",
      "bleu took 0.00 seconds\n",
      "meteor took 0.01 seconds\n",
      "rouge took 0.06 seconds\n"
     ]
    },
    {
     "name": "stderr",
     "output_type": "stream",
     "text": [
      "Evaluating:  25%|██▌       | 251/1000 [00:21<02:18,  5.40it/s]"
     ]
    },
    {
     "name": "stdout",
     "output_type": "stream",
     "text": [
      "bleu took 0.00 seconds\n",
      "meteor took 0.00 seconds\n",
      "rouge took 0.05 seconds\n",
      "bleu took 0.00 seconds\n",
      "meteor took 0.01 seconds\n",
      "rouge took 0.05 seconds\n",
      "bleu took 0.00 seconds\n",
      "meteor took 0.01 seconds\n"
     ]
    },
    {
     "name": "stderr",
     "output_type": "stream",
     "text": [
      "Evaluating:  25%|██▌       | 253/1000 [00:21<01:53,  6.56it/s]"
     ]
    },
    {
     "name": "stdout",
     "output_type": "stream",
     "text": [
      "rouge took 0.08 seconds\n",
      "bleu took 0.00 seconds\n",
      "meteor took 0.01 seconds\n",
      "rouge took 0.06 seconds\n",
      "bleu took 0.01 seconds\n",
      "meteor took 0.11 seconds\n"
     ]
    },
    {
     "name": "stderr",
     "output_type": "stream",
     "text": [
      "Evaluating:  26%|██▌       | 256/1000 [00:23<02:58,  4.17it/s]"
     ]
    },
    {
     "name": "stdout",
     "output_type": "stream",
     "text": [
      "rouge took 0.80 seconds\n",
      "bleu took 0.01 seconds\n",
      "meteor took 0.00 seconds\n",
      "rouge took 0.15 seconds\n",
      "bleu took 0.01 seconds\n",
      "meteor took 0.02 seconds\n"
     ]
    },
    {
     "name": "stderr",
     "output_type": "stream",
     "text": [
      "Evaluating:  26%|██▌       | 259/1000 [00:23<02:16,  5.42it/s]"
     ]
    },
    {
     "name": "stdout",
     "output_type": "stream",
     "text": [
      "rouge took 0.23 seconds\n",
      "bleu took 0.00 seconds\n",
      "meteor took 0.01 seconds\n",
      "rouge took 0.05 seconds\n",
      "bleu took 0.00 seconds\n",
      "meteor took 0.02 seconds\n",
      "rouge took 0.08 seconds\n",
      "bleu took 0.00 seconds\n",
      "meteor took 0.00 seconds\n"
     ]
    },
    {
     "name": "stderr",
     "output_type": "stream",
     "text": [
      "Evaluating:  26%|██▌       | 261/1000 [00:23<01:44,  7.07it/s]"
     ]
    },
    {
     "name": "stdout",
     "output_type": "stream",
     "text": [
      "rouge took 0.06 seconds\n",
      "bleu took 0.00 seconds\n",
      "meteor took 0.00 seconds\n",
      "rouge took 0.05 seconds\n",
      "bleu took 0.00 seconds\n",
      "meteor took 0.01 seconds\n",
      "rouge took 0.05 seconds\n",
      "bleu took 0.00 seconds\n",
      "meteor took 0.01 seconds\n"
     ]
    },
    {
     "name": "stderr",
     "output_type": "stream",
     "text": [
      "Evaluating:  26%|██▋       | 265/1000 [00:23<01:14,  9.83it/s]"
     ]
    },
    {
     "name": "stdout",
     "output_type": "stream",
     "text": [
      "rouge took 0.08 seconds\n",
      "bleu took 0.00 seconds\n",
      "meteor took 0.01 seconds\n",
      "rouge took 0.06 seconds\n",
      "bleu took 0.00 seconds\n",
      "meteor took 0.00 seconds\n",
      "rouge took 0.05 seconds\n",
      "bleu took 0.01 seconds\n",
      "meteor took 0.03 seconds\n"
     ]
    },
    {
     "name": "stderr",
     "output_type": "stream",
     "text": [
      "Evaluating:  27%|██▋       | 269/1000 [00:24<01:08, 10.69it/s]"
     ]
    },
    {
     "name": "stdout",
     "output_type": "stream",
     "text": [
      "rouge took 0.17 seconds\n",
      "bleu took 0.00 seconds\n",
      "meteor took 0.00 seconds\n",
      "rouge took 0.05 seconds\n",
      "bleu took 0.00 seconds\n",
      "meteor took 0.00 seconds\n",
      "rouge took 0.05 seconds\n",
      "bleu took 0.00 seconds\n",
      "meteor took 0.00 seconds\n",
      "rouge took 0.05 seconds\n",
      "bleu took 0.00 seconds\n",
      "meteor took 0.00 seconds\n"
     ]
    },
    {
     "name": "stderr",
     "output_type": "stream",
     "text": [
      "Evaluating:  27%|██▋       | 273/1000 [00:24<00:55, 13.01it/s]"
     ]
    },
    {
     "name": "stdout",
     "output_type": "stream",
     "text": [
      "rouge took 0.05 seconds\n",
      "bleu took 0.00 seconds\n",
      "meteor took 0.00 seconds\n",
      "rouge took 0.05 seconds\n",
      "bleu took 0.00 seconds\n",
      "meteor took 0.00 seconds\n",
      "rouge took 0.05 seconds\n",
      "bleu took 0.00 seconds\n",
      "meteor took 0.01 seconds\n",
      "rouge took 0.06 seconds\n",
      "bleu took 0.00 seconds\n",
      "meteor took 0.00 seconds\n"
     ]
    },
    {
     "name": "stderr",
     "output_type": "stream",
     "text": [
      "Evaluating:  28%|██▊       | 277/1000 [00:24<00:47, 15.09it/s]"
     ]
    },
    {
     "name": "stdout",
     "output_type": "stream",
     "text": [
      "rouge took 0.05 seconds\n",
      "bleu took 0.00 seconds\n",
      "meteor took 0.00 seconds\n",
      "rouge took 0.04 seconds\n",
      "bleu took 0.00 seconds\n",
      "meteor took 0.00 seconds\n",
      "rouge took 0.05 seconds\n",
      "bleu took 0.01 seconds\n",
      "meteor took 0.01 seconds\n",
      "rouge took 0.05 seconds\n",
      "bleu took 0.00 seconds\n",
      "meteor took 0.01 seconds\n"
     ]
    },
    {
     "name": "stderr",
     "output_type": "stream",
     "text": [
      "Evaluating:  28%|██▊       | 279/1000 [00:24<00:48, 14.84it/s]"
     ]
    },
    {
     "name": "stdout",
     "output_type": "stream",
     "text": [
      "rouge took 0.06 seconds\n",
      "bleu took 0.01 seconds\n",
      "meteor took 0.01 seconds\n",
      "rouge took 0.05 seconds\n",
      "bleu took 0.00 seconds\n",
      "meteor took 0.00 seconds\n",
      "rouge took 0.05 seconds\n",
      "bleu took 0.01 seconds\n",
      "meteor took 0.12 seconds\n"
     ]
    },
    {
     "name": "stderr",
     "output_type": "stream",
     "text": [
      "Evaluating:  28%|██▊       | 281/1000 [00:25<02:15,  5.29it/s]"
     ]
    },
    {
     "name": "stdout",
     "output_type": "stream",
     "text": [
      "rouge took 0.76 seconds\n",
      "bleu took 0.01 seconds\n",
      "meteor took 0.13 seconds\n"
     ]
    },
    {
     "name": "stderr",
     "output_type": "stream",
     "text": [
      "Evaluating:  28%|██▊       | 285/1000 [00:26<02:35,  4.59it/s]"
     ]
    },
    {
     "name": "stdout",
     "output_type": "stream",
     "text": [
      "rouge took 0.83 seconds\n",
      "bleu took 0.00 seconds\n",
      "meteor took 0.00 seconds\n",
      "rouge took 0.05 seconds\n",
      "bleu took 0.00 seconds\n",
      "meteor took 0.00 seconds\n",
      "rouge took 0.06 seconds\n",
      "bleu took 0.00 seconds\n",
      "meteor took 0.00 seconds\n",
      "rouge took 0.05 seconds\n",
      "bleu took 0.00 seconds\n",
      "meteor took 0.00 seconds\n"
     ]
    },
    {
     "name": "stderr",
     "output_type": "stream",
     "text": [
      "Evaluating:  29%|██▉       | 289/1000 [00:27<01:35,  7.42it/s]"
     ]
    },
    {
     "name": "stdout",
     "output_type": "stream",
     "text": [
      "rouge took 0.05 seconds\n",
      "bleu took 0.00 seconds\n",
      "meteor took 0.00 seconds\n",
      "rouge took 0.05 seconds\n",
      "bleu took 0.00 seconds\n",
      "meteor took 0.00 seconds\n",
      "rouge took 0.05 seconds\n",
      "bleu took 0.00 seconds\n",
      "meteor took 0.00 seconds\n",
      "rouge took 0.05 seconds\n",
      "bleu took 0.00 seconds\n",
      "meteor took 0.01 seconds\n",
      "rouge took 0.06 seconds\n",
      "bleu took 0.10 seconds\n",
      "meteor took 0.04 seconds\n"
     ]
    },
    {
     "name": "stderr",
     "output_type": "stream",
     "text": [
      "Evaluating:  29%|██▉       | 293/1000 [00:27<01:25,  8.26it/s]"
     ]
    },
    {
     "name": "stdout",
     "output_type": "stream",
     "text": [
      "rouge took 0.16 seconds\n",
      "bleu took 0.00 seconds\n",
      "meteor took 0.00 seconds\n",
      "rouge took 0.05 seconds\n",
      "bleu took 0.00 seconds\n",
      "meteor took 0.00 seconds\n",
      "rouge took 0.05 seconds\n",
      "bleu took 0.00 seconds\n",
      "meteor took 0.00 seconds\n",
      "rouge took 0.05 seconds\n",
      "bleu took 0.00 seconds\n",
      "meteor took 0.01 seconds\n"
     ]
    },
    {
     "name": "stderr",
     "output_type": "stream",
     "text": [
      "Evaluating:  30%|██▉       | 297/1000 [00:27<01:02, 11.24it/s]"
     ]
    },
    {
     "name": "stdout",
     "output_type": "stream",
     "text": [
      "rouge took 0.05 seconds\n",
      "bleu took 0.00 seconds\n",
      "meteor took 0.00 seconds\n",
      "rouge took 0.05 seconds\n",
      "bleu took 0.00 seconds\n",
      "meteor took 0.00 seconds\n",
      "rouge took 0.05 seconds\n",
      "bleu took 0.00 seconds\n",
      "meteor took 0.01 seconds\n",
      "rouge took 0.05 seconds\n",
      "bleu took 0.00 seconds\n",
      "meteor took 0.01 seconds\n"
     ]
    },
    {
     "name": "stderr",
     "output_type": "stream",
     "text": [
      "Evaluating:  30%|███       | 301/1000 [00:28<00:52, 13.27it/s]"
     ]
    },
    {
     "name": "stdout",
     "output_type": "stream",
     "text": [
      "rouge took 0.06 seconds\n",
      "bleu took 0.00 seconds\n",
      "meteor took 0.00 seconds\n",
      "rouge took 0.05 seconds\n",
      "bleu took 0.00 seconds\n",
      "meteor took 0.01 seconds\n",
      "rouge took 0.06 seconds\n",
      "bleu took 0.00 seconds\n",
      "meteor took 0.00 seconds\n",
      "rouge took 0.05 seconds\n",
      "bleu took 0.00 seconds\n",
      "meteor took 0.00 seconds\n"
     ]
    },
    {
     "name": "stderr",
     "output_type": "stream",
     "text": [
      "Evaluating:  30%|███       | 305/1000 [00:28<00:46, 15.10it/s]"
     ]
    },
    {
     "name": "stdout",
     "output_type": "stream",
     "text": [
      "rouge took 0.06 seconds\n",
      "bleu took 0.00 seconds\n",
      "meteor took 0.00 seconds\n",
      "rouge took 0.05 seconds\n",
      "bleu took 0.00 seconds\n",
      "meteor took 0.01 seconds\n",
      "rouge took 0.05 seconds\n",
      "bleu took 0.00 seconds\n",
      "meteor took 0.01 seconds\n",
      "rouge took 0.05 seconds\n",
      "bleu took 0.00 seconds\n",
      "meteor took 0.01 seconds\n"
     ]
    },
    {
     "name": "stderr",
     "output_type": "stream",
     "text": [
      "Evaluating:  31%|███       | 309/1000 [00:28<00:44, 15.67it/s]"
     ]
    },
    {
     "name": "stdout",
     "output_type": "stream",
     "text": [
      "rouge took 0.06 seconds\n",
      "bleu took 0.00 seconds\n",
      "meteor took 0.00 seconds\n",
      "rouge took 0.05 seconds\n",
      "bleu took 0.00 seconds\n",
      "meteor took 0.01 seconds\n",
      "rouge took 0.05 seconds\n",
      "bleu took 0.00 seconds\n",
      "meteor took 0.00 seconds\n",
      "rouge took 0.05 seconds\n",
      "bleu took 0.00 seconds\n",
      "meteor took 0.01 seconds\n"
     ]
    },
    {
     "name": "stderr",
     "output_type": "stream",
     "text": [
      "Evaluating:  31%|███▏      | 313/1000 [00:28<00:44, 15.43it/s]"
     ]
    },
    {
     "name": "stdout",
     "output_type": "stream",
     "text": [
      "rouge took 0.05 seconds\n",
      "bleu took 0.00 seconds\n",
      "meteor took 0.00 seconds\n",
      "rouge took 0.05 seconds\n",
      "bleu took 0.00 seconds\n",
      "meteor took 0.01 seconds\n",
      "rouge took 0.07 seconds\n",
      "bleu took 0.00 seconds\n",
      "meteor took 0.00 seconds\n",
      "rouge took 0.05 seconds\n",
      "bleu took 0.00 seconds\n",
      "meteor took 0.00 seconds\n"
     ]
    },
    {
     "name": "stderr",
     "output_type": "stream",
     "text": [
      "Evaluating:  32%|███▏      | 317/1000 [00:29<00:40, 16.76it/s]"
     ]
    },
    {
     "name": "stdout",
     "output_type": "stream",
     "text": [
      "rouge took 0.06 seconds\n",
      "bleu took 0.00 seconds\n",
      "meteor took 0.00 seconds\n",
      "rouge took 0.05 seconds\n",
      "bleu took 0.00 seconds\n",
      "meteor took 0.00 seconds\n",
      "rouge took 0.05 seconds\n",
      "bleu took 0.00 seconds\n",
      "meteor took 0.00 seconds\n",
      "rouge took 0.04 seconds\n",
      "bleu took 0.00 seconds\n",
      "meteor took 0.00 seconds\n"
     ]
    },
    {
     "name": "stderr",
     "output_type": "stream",
     "text": [
      "Evaluating:  32%|███▏      | 321/1000 [00:29<00:38, 17.69it/s]"
     ]
    },
    {
     "name": "stdout",
     "output_type": "stream",
     "text": [
      "rouge took 0.05 seconds\n",
      "bleu took 0.00 seconds\n",
      "meteor took 0.01 seconds\n",
      "rouge took 0.05 seconds\n",
      "bleu took 0.00 seconds\n",
      "meteor took 0.00 seconds\n",
      "rouge took 0.05 seconds\n",
      "bleu took 0.00 seconds\n",
      "meteor took 0.00 seconds\n",
      "rouge took 0.05 seconds\n",
      "bleu took 0.00 seconds\n",
      "meteor took 0.00 seconds\n"
     ]
    },
    {
     "name": "stderr",
     "output_type": "stream",
     "text": [
      "Evaluating:  32%|███▎      | 325/1000 [00:29<00:36, 18.24it/s]"
     ]
    },
    {
     "name": "stdout",
     "output_type": "stream",
     "text": [
      "rouge took 0.05 seconds\n",
      "bleu took 0.00 seconds\n",
      "meteor took 0.00 seconds\n",
      "rouge took 0.05 seconds\n",
      "bleu took 0.00 seconds\n",
      "meteor took 0.00 seconds\n",
      "rouge took 0.05 seconds\n",
      "bleu took 0.00 seconds\n",
      "meteor took 0.00 seconds\n",
      "rouge took 0.05 seconds\n",
      "bleu took 0.00 seconds\n",
      "meteor took 0.00 seconds\n"
     ]
    },
    {
     "name": "stderr",
     "output_type": "stream",
     "text": [
      "Evaluating:  33%|███▎      | 329/1000 [00:29<00:40, 16.44it/s]"
     ]
    },
    {
     "name": "stdout",
     "output_type": "stream",
     "text": [
      "rouge took 0.05 seconds\n",
      "bleu took 0.00 seconds\n",
      "meteor took 0.00 seconds\n",
      "rouge took 0.10 seconds\n",
      "bleu took 0.00 seconds\n",
      "meteor took 0.00 seconds\n",
      "rouge took 0.04 seconds\n",
      "bleu took 0.00 seconds\n",
      "meteor took 0.00 seconds\n"
     ]
    },
    {
     "name": "stderr",
     "output_type": "stream",
     "text": [
      "Evaluating:  33%|███▎      | 333/1000 [00:30<00:37, 17.69it/s]"
     ]
    },
    {
     "name": "stdout",
     "output_type": "stream",
     "text": [
      "rouge took 0.05 seconds\n",
      "bleu took 0.00 seconds\n",
      "meteor took 0.00 seconds\n",
      "rouge took 0.05 seconds\n",
      "bleu took 0.00 seconds\n",
      "meteor took 0.00 seconds\n",
      "rouge took 0.05 seconds\n",
      "bleu took 0.00 seconds\n",
      "meteor took 0.00 seconds\n",
      "rouge took 0.05 seconds\n",
      "bleu took 0.01 seconds\n",
      "meteor took 0.03 seconds\n"
     ]
    },
    {
     "name": "stderr",
     "output_type": "stream",
     "text": [
      "Evaluating:  34%|███▎      | 337/1000 [00:30<00:51, 12.93it/s]"
     ]
    },
    {
     "name": "stdout",
     "output_type": "stream",
     "text": [
      "rouge took 0.23 seconds\n",
      "bleu took 0.00 seconds\n",
      "meteor took 0.00 seconds\n",
      "rouge took 0.04 seconds\n",
      "bleu took 0.00 seconds\n",
      "meteor took 0.00 seconds\n",
      "rouge took 0.05 seconds\n",
      "bleu took 0.00 seconds\n",
      "meteor took 0.00 seconds\n",
      "rouge took 0.05 seconds\n",
      "bleu took 0.00 seconds\n",
      "meteor took 0.01 seconds\n"
     ]
    },
    {
     "name": "stderr",
     "output_type": "stream",
     "text": [
      "Evaluating:  34%|███▍      | 341/1000 [00:30<00:47, 13.88it/s]"
     ]
    },
    {
     "name": "stdout",
     "output_type": "stream",
     "text": [
      "rouge took 0.06 seconds\n",
      "bleu took 0.00 seconds\n",
      "meteor took 0.00 seconds\n",
      "rouge took 0.05 seconds\n",
      "bleu took 0.00 seconds\n",
      "meteor took 0.01 seconds\n",
      "rouge took 0.07 seconds\n",
      "bleu took 0.00 seconds\n",
      "meteor took 0.00 seconds\n",
      "rouge took 0.05 seconds\n",
      "bleu took 0.00 seconds\n",
      "meteor took 0.00 seconds\n"
     ]
    },
    {
     "name": "stderr",
     "output_type": "stream",
     "text": [
      "Evaluating:  34%|███▍      | 345/1000 [00:30<00:41, 15.75it/s]"
     ]
    },
    {
     "name": "stdout",
     "output_type": "stream",
     "text": [
      "rouge took 0.05 seconds\n",
      "bleu took 0.00 seconds\n",
      "meteor took 0.01 seconds\n",
      "rouge took 0.05 seconds\n",
      "bleu took 0.00 seconds\n",
      "meteor took 0.00 seconds\n",
      "rouge took 0.05 seconds\n",
      "bleu took 0.00 seconds\n",
      "meteor took 0.00 seconds\n",
      "rouge took 0.05 seconds\n",
      "bleu took 0.00 seconds\n",
      "meteor took 0.01 seconds\n"
     ]
    },
    {
     "name": "stderr",
     "output_type": "stream",
     "text": [
      "Evaluating:  35%|███▍      | 349/1000 [00:31<00:39, 16.63it/s]"
     ]
    },
    {
     "name": "stdout",
     "output_type": "stream",
     "text": [
      "rouge took 0.06 seconds\n",
      "bleu took 0.00 seconds\n",
      "meteor took 0.00 seconds\n",
      "rouge took 0.06 seconds\n",
      "bleu took 0.00 seconds\n",
      "meteor took 0.00 seconds\n",
      "rouge took 0.05 seconds\n",
      "bleu took 0.00 seconds\n",
      "meteor took 0.00 seconds\n",
      "rouge took 0.05 seconds\n",
      "bleu took 0.00 seconds\n",
      "meteor took 0.01 seconds\n"
     ]
    },
    {
     "name": "stderr",
     "output_type": "stream",
     "text": [
      "Evaluating:  35%|███▌      | 351/1000 [00:31<00:49, 13.19it/s]"
     ]
    },
    {
     "name": "stdout",
     "output_type": "stream",
     "text": [
      "rouge took 0.09 seconds\n",
      "bleu took 0.00 seconds\n",
      "meteor took 0.02 seconds\n",
      "rouge took 0.09 seconds\n",
      "bleu took 0.00 seconds\n",
      "meteor took 0.00 seconds\n",
      "rouge took 0.05 seconds\n",
      "bleu took 0.00 seconds\n",
      "meteor took 0.01 seconds\n"
     ]
    },
    {
     "name": "stderr",
     "output_type": "stream",
     "text": [
      "Evaluating:  36%|███▌      | 355/1000 [00:31<00:46, 13.94it/s]"
     ]
    },
    {
     "name": "stdout",
     "output_type": "stream",
     "text": [
      "rouge took 0.05 seconds\n",
      "bleu took 0.01 seconds\n",
      "meteor took 0.01 seconds\n",
      "rouge took 0.08 seconds\n",
      "bleu took 0.00 seconds\n",
      "meteor took 0.00 seconds\n",
      "rouge took 0.05 seconds\n",
      "bleu took 0.00 seconds\n",
      "meteor took 0.00 seconds\n",
      "rouge took 0.04 seconds\n",
      "bleu took 0.00 seconds\n"
     ]
    },
    {
     "name": "stderr",
     "output_type": "stream",
     "text": [
      "Evaluating:  36%|███▌      | 359/1000 [00:31<00:40, 15.78it/s]"
     ]
    },
    {
     "name": "stdout",
     "output_type": "stream",
     "text": [
      "meteor took 0.01 seconds\n",
      "rouge took 0.05 seconds\n",
      "bleu took 0.00 seconds\n",
      "meteor took 0.00 seconds\n",
      "rouge took 0.05 seconds\n",
      "bleu took 0.00 seconds\n",
      "meteor took 0.00 seconds\n",
      "rouge took 0.05 seconds\n",
      "bleu took 0.00 seconds\n",
      "meteor took 0.00 seconds\n"
     ]
    },
    {
     "name": "stderr",
     "output_type": "stream",
     "text": [
      "Evaluating:  36%|███▋      | 363/1000 [00:32<00:38, 16.51it/s]"
     ]
    },
    {
     "name": "stdout",
     "output_type": "stream",
     "text": [
      "rouge took 0.05 seconds\n",
      "bleu took 0.00 seconds\n",
      "meteor took 0.01 seconds\n",
      "rouge took 0.06 seconds\n",
      "bleu took 0.00 seconds\n",
      "meteor took 0.01 seconds\n",
      "rouge took 0.05 seconds\n",
      "bleu took 0.00 seconds\n",
      "meteor took 0.00 seconds\n",
      "rouge took 0.04 seconds\n",
      "bleu took 0.00 seconds\n",
      "meteor took 0.00 seconds\n"
     ]
    },
    {
     "name": "stderr",
     "output_type": "stream",
     "text": [
      "Evaluating:  37%|███▋      | 367/1000 [00:32<00:39, 16.17it/s]"
     ]
    },
    {
     "name": "stdout",
     "output_type": "stream",
     "text": [
      "rouge took 0.09 seconds\n",
      "bleu took 0.01 seconds\n",
      "meteor took 0.00 seconds\n",
      "rouge took 0.04 seconds\n",
      "bleu took 0.00 seconds\n",
      "meteor took 0.00 seconds\n",
      "rouge took 0.05 seconds\n",
      "bleu took 0.00 seconds\n",
      "meteor took 0.00 seconds\n",
      "rouge took 0.04 seconds\n",
      "bleu took 0.00 seconds\n",
      "meteor took 0.00 seconds\n"
     ]
    },
    {
     "name": "stderr",
     "output_type": "stream",
     "text": [
      "Evaluating:  37%|███▋      | 369/1000 [00:32<00:40, 15.40it/s]"
     ]
    },
    {
     "name": "stdout",
     "output_type": "stream",
     "text": [
      "rouge took 0.05 seconds\n",
      "bleu took 0.00 seconds\n",
      "meteor took 0.01 seconds\n",
      "rouge took 0.07 seconds\n",
      "bleu took 0.00 seconds\n",
      "meteor took 0.00 seconds\n",
      "rouge took 0.05 seconds\n",
      "bleu took 0.00 seconds\n",
      "meteor took 0.01 seconds\n"
     ]
    },
    {
     "name": "stderr",
     "output_type": "stream",
     "text": [
      "Evaluating:  37%|███▋      | 373/1000 [00:32<00:38, 16.15it/s]"
     ]
    },
    {
     "name": "stdout",
     "output_type": "stream",
     "text": [
      "rouge took 0.06 seconds\n",
      "bleu took 0.00 seconds\n",
      "meteor took 0.01 seconds\n",
      "rouge took 0.05 seconds\n",
      "bleu took 0.00 seconds\n",
      "meteor took 0.00 seconds\n",
      "rouge took 0.05 seconds\n",
      "bleu took 0.00 seconds\n",
      "meteor took 0.01 seconds\n",
      "rouge took 0.05 seconds\n",
      "bleu took 0.00 seconds\n",
      "meteor took 0.00 seconds\n"
     ]
    },
    {
     "name": "stderr",
     "output_type": "stream",
     "text": [
      "Evaluating:  38%|███▊      | 377/1000 [00:32<00:36, 16.96it/s]"
     ]
    },
    {
     "name": "stdout",
     "output_type": "stream",
     "text": [
      "rouge took 0.05 seconds\n",
      "bleu took 0.00 seconds\n",
      "meteor took 0.01 seconds\n",
      "rouge took 0.05 seconds\n",
      "bleu took 0.00 seconds\n",
      "meteor took 0.00 seconds\n",
      "rouge took 0.05 seconds\n",
      "bleu took 0.00 seconds\n",
      "meteor took 0.00 seconds\n",
      "rouge took 0.04 seconds\n",
      "bleu took 0.00 seconds\n",
      "meteor took 0.00 seconds\n"
     ]
    },
    {
     "name": "stderr",
     "output_type": "stream",
     "text": [
      "Evaluating:  38%|███▊      | 381/1000 [00:33<00:36, 16.83it/s]"
     ]
    },
    {
     "name": "stdout",
     "output_type": "stream",
     "text": [
      "rouge took 0.05 seconds\n",
      "bleu took 0.00 seconds\n",
      "meteor took 0.01 seconds\n",
      "rouge took 0.06 seconds\n",
      "bleu took 0.00 seconds\n",
      "meteor took 0.00 seconds\n",
      "rouge took 0.05 seconds\n",
      "bleu took 0.00 seconds\n",
      "meteor took 0.00 seconds\n",
      "rouge took 0.05 seconds\n",
      "bleu took 0.00 seconds\n",
      "meteor took 0.00 seconds\n"
     ]
    },
    {
     "name": "stderr",
     "output_type": "stream",
     "text": [
      "Evaluating:  38%|███▊      | 383/1000 [00:33<00:35, 17.26it/s]"
     ]
    },
    {
     "name": "stdout",
     "output_type": "stream",
     "text": [
      "rouge took 0.05 seconds\n",
      "bleu took 0.01 seconds\n",
      "meteor took 0.04 seconds\n"
     ]
    },
    {
     "name": "stderr",
     "output_type": "stream",
     "text": [
      "Evaluating:  39%|███▊      | 387/1000 [00:33<00:49, 12.50it/s]"
     ]
    },
    {
     "name": "stdout",
     "output_type": "stream",
     "text": [
      "rouge took 0.25 seconds\n",
      "bleu took 0.00 seconds\n",
      "meteor took 0.00 seconds\n",
      "rouge took 0.05 seconds\n",
      "bleu took 0.00 seconds\n",
      "meteor took 0.00 seconds\n",
      "rouge took 0.05 seconds\n",
      "bleu took 0.00 seconds\n",
      "meteor took 0.00 seconds\n",
      "rouge took 0.04 seconds\n",
      "bleu took 0.00 seconds\n",
      "meteor took 0.00 seconds\n"
     ]
    },
    {
     "name": "stderr",
     "output_type": "stream",
     "text": [
      "Evaluating:  39%|███▉      | 391/1000 [00:33<00:40, 14.94it/s]"
     ]
    },
    {
     "name": "stdout",
     "output_type": "stream",
     "text": [
      "rouge took 0.05 seconds\n",
      "bleu took 0.00 seconds\n",
      "meteor took 0.00 seconds\n",
      "rouge took 0.05 seconds\n",
      "bleu took 0.00 seconds\n",
      "meteor took 0.00 seconds\n",
      "rouge took 0.05 seconds\n",
      "bleu took 0.00 seconds\n",
      "meteor took 0.01 seconds\n",
      "rouge took 0.05 seconds\n",
      "bleu took 0.00 seconds\n",
      "meteor took 0.01 seconds\n"
     ]
    },
    {
     "name": "stderr",
     "output_type": "stream",
     "text": [
      "Evaluating:  40%|███▉      | 395/1000 [00:34<00:37, 15.98it/s]"
     ]
    },
    {
     "name": "stdout",
     "output_type": "stream",
     "text": [
      "rouge took 0.06 seconds\n",
      "bleu took 0.00 seconds\n",
      "meteor took 0.01 seconds\n",
      "rouge took 0.05 seconds\n",
      "bleu took 0.00 seconds\n",
      "meteor took 0.00 seconds\n",
      "rouge took 0.05 seconds\n",
      "bleu took 0.00 seconds\n",
      "meteor took 0.00 seconds\n",
      "rouge took 0.05 seconds\n",
      "bleu took 0.00 seconds\n",
      "meteor took 0.00 seconds\n"
     ]
    },
    {
     "name": "stderr",
     "output_type": "stream",
     "text": [
      "Evaluating:  40%|███▉      | 399/1000 [00:34<00:34, 17.43it/s]"
     ]
    },
    {
     "name": "stdout",
     "output_type": "stream",
     "text": [
      "rouge took 0.05 seconds\n",
      "bleu took 0.00 seconds\n",
      "meteor took 0.00 seconds\n",
      "rouge took 0.05 seconds\n",
      "bleu took 0.00 seconds\n",
      "meteor took 0.00 seconds\n",
      "rouge took 0.05 seconds\n",
      "bleu took 0.00 seconds\n",
      "meteor took 0.00 seconds\n",
      "rouge took 0.04 seconds\n",
      "bleu took 0.00 seconds\n",
      "meteor took 0.00 seconds\n",
      "rouge took 0.05 seconds\n",
      "bleu took 0.01 seconds\n",
      "meteor took 0.10 seconds\n"
     ]
    },
    {
     "name": "stderr",
     "output_type": "stream",
     "text": [
      "Evaluating:  40%|████      | 403/1000 [00:35<00:56, 10.65it/s]"
     ]
    },
    {
     "name": "stdout",
     "output_type": "stream",
     "text": [
      "rouge took 0.32 seconds\n",
      "bleu took 0.00 seconds\n",
      "meteor took 0.00 seconds\n",
      "rouge took 0.05 seconds\n",
      "bleu took 0.00 seconds\n",
      "meteor took 0.00 seconds\n",
      "rouge took 0.05 seconds\n",
      "bleu took 0.00 seconds\n",
      "meteor took 0.00 seconds\n",
      "rouge took 0.05 seconds\n",
      "bleu took 0.00 seconds\n",
      "meteor took 0.00 seconds\n"
     ]
    },
    {
     "name": "stderr",
     "output_type": "stream",
     "text": [
      "Evaluating:  41%|████      | 407/1000 [00:35<00:51, 11.60it/s]"
     ]
    },
    {
     "name": "stdout",
     "output_type": "stream",
     "text": [
      "rouge took 0.05 seconds\n",
      "bleu took 0.00 seconds\n",
      "meteor took 0.03 seconds\n",
      "rouge took 0.11 seconds\n",
      "bleu took 0.00 seconds\n",
      "meteor took 0.00 seconds\n",
      "rouge took 0.04 seconds\n",
      "bleu took 0.00 seconds\n"
     ]
    },
    {
     "name": "stderr",
     "output_type": "stream",
     "text": [
      "Evaluating:  41%|████      | 409/1000 [00:35<00:45, 13.13it/s]"
     ]
    },
    {
     "name": "stdout",
     "output_type": "stream",
     "text": [
      "meteor took 0.00 seconds\n",
      "rouge took 0.05 seconds\n",
      "bleu took 0.00 seconds\n",
      "meteor took 0.00 seconds\n",
      "rouge took 0.05 seconds\n",
      "bleu took 0.00 seconds\n",
      "meteor took 0.00 seconds\n",
      "rouge took 0.05 seconds\n",
      "bleu took 0.00 seconds\n",
      "meteor took 0.00 seconds\n"
     ]
    },
    {
     "name": "stderr",
     "output_type": "stream",
     "text": [
      "Evaluating:  41%|████▏     | 413/1000 [00:35<00:40, 14.50it/s]"
     ]
    },
    {
     "name": "stdout",
     "output_type": "stream",
     "text": [
      "rouge took 0.05 seconds\n",
      "bleu took 0.00 seconds\n",
      "meteor took 0.00 seconds\n",
      "rouge took 0.05 seconds\n",
      "bleu took 0.00 seconds\n",
      "meteor took 0.01 seconds\n",
      "rouge took 0.07 seconds\n",
      "bleu took 0.00 seconds\n",
      "meteor took 0.01 seconds\n"
     ]
    },
    {
     "name": "stderr",
     "output_type": "stream",
     "text": [
      "Evaluating:  42%|████▏     | 417/1000 [00:35<00:38, 15.21it/s]"
     ]
    },
    {
     "name": "stdout",
     "output_type": "stream",
     "text": [
      "rouge took 0.07 seconds\n",
      "bleu took 0.00 seconds\n",
      "meteor took 0.01 seconds\n",
      "rouge took 0.05 seconds\n",
      "bleu took 0.01 seconds\n",
      "meteor took 0.00 seconds\n",
      "rouge took 0.05 seconds\n",
      "bleu took 0.00 seconds\n",
      "meteor took 0.01 seconds\n",
      "rouge took 0.05 seconds\n",
      "bleu took 0.00 seconds\n",
      "meteor took 0.00 seconds\n"
     ]
    },
    {
     "name": "stderr",
     "output_type": "stream",
     "text": [
      "Evaluating:  42%|████▏     | 421/1000 [00:36<00:34, 16.68it/s]"
     ]
    },
    {
     "name": "stdout",
     "output_type": "stream",
     "text": [
      "rouge took 0.05 seconds\n",
      "bleu took 0.00 seconds\n",
      "meteor took 0.00 seconds\n",
      "rouge took 0.05 seconds\n",
      "bleu took 0.00 seconds\n",
      "meteor took 0.00 seconds\n",
      "rouge took 0.05 seconds\n",
      "bleu took 0.00 seconds\n",
      "meteor took 0.00 seconds\n",
      "rouge took 0.05 seconds\n",
      "bleu took 0.02 seconds\n",
      "meteor took 0.41 seconds\n"
     ]
    },
    {
     "name": "stderr",
     "output_type": "stream",
     "text": [
      "Evaluating:  42%|████▎     | 425/1000 [00:39<03:53,  2.47it/s]"
     ]
    },
    {
     "name": "stdout",
     "output_type": "stream",
     "text": [
      "rouge took 2.94 seconds\n",
      "bleu took 0.00 seconds\n",
      "meteor took 0.00 seconds\n",
      "rouge took 0.05 seconds\n",
      "bleu took 0.00 seconds\n",
      "meteor took 0.00 seconds\n",
      "rouge took 0.05 seconds\n",
      "bleu took 0.00 seconds\n",
      "meteor took 0.00 seconds\n",
      "rouge took 0.05 seconds\n",
      "bleu took 0.00 seconds\n",
      "meteor took 0.01 seconds\n"
     ]
    },
    {
     "name": "stderr",
     "output_type": "stream",
     "text": [
      "Evaluating:  43%|████▎     | 429/1000 [00:39<02:10,  4.36it/s]"
     ]
    },
    {
     "name": "stdout",
     "output_type": "stream",
     "text": [
      "rouge took 0.06 seconds\n",
      "bleu took 0.00 seconds\n",
      "meteor took 0.00 seconds\n",
      "rouge took 0.05 seconds\n",
      "bleu took 0.00 seconds\n",
      "meteor took 0.00 seconds\n",
      "rouge took 0.05 seconds\n",
      "bleu took 0.00 seconds\n",
      "meteor took 0.01 seconds\n",
      "rouge took 0.05 seconds\n",
      "bleu took 0.00 seconds\n",
      "meteor took 0.00 seconds\n"
     ]
    },
    {
     "name": "stderr",
     "output_type": "stream",
     "text": [
      "Evaluating:  43%|████▎     | 431/1000 [00:40<01:46,  5.35it/s]"
     ]
    },
    {
     "name": "stdout",
     "output_type": "stream",
     "text": [
      "rouge took 0.05 seconds\n",
      "bleu took 0.00 seconds\n",
      "meteor took 0.01 seconds\n",
      "rouge took 0.11 seconds\n",
      "bleu took 0.00 seconds\n",
      "meteor took 0.00 seconds\n",
      "rouge took 0.05 seconds\n",
      "bleu took 0.00 seconds\n",
      "meteor took 0.00 seconds\n"
     ]
    },
    {
     "name": "stderr",
     "output_type": "stream",
     "text": [
      "Evaluating:  44%|████▎     | 435/1000 [00:40<01:07,  8.36it/s]"
     ]
    },
    {
     "name": "stdout",
     "output_type": "stream",
     "text": [
      "rouge took 0.05 seconds\n",
      "bleu took 0.00 seconds\n",
      "meteor took 0.00 seconds\n",
      "rouge took 0.05 seconds\n",
      "bleu took 0.00 seconds\n",
      "meteor took 0.00 seconds\n",
      "rouge took 0.05 seconds\n",
      "bleu took 0.00 seconds\n",
      "meteor took 0.00 seconds\n",
      "rouge took 0.05 seconds\n",
      "bleu took 0.00 seconds\n",
      "meteor took 0.00 seconds\n"
     ]
    },
    {
     "name": "stderr",
     "output_type": "stream",
     "text": [
      "Evaluating:  44%|████▍     | 439/1000 [00:40<00:48, 11.65it/s]"
     ]
    },
    {
     "name": "stdout",
     "output_type": "stream",
     "text": [
      "rouge took 0.05 seconds\n",
      "bleu took 0.00 seconds\n",
      "meteor took 0.00 seconds\n",
      "rouge took 0.05 seconds\n",
      "bleu took 0.00 seconds\n",
      "meteor took 0.00 seconds\n",
      "rouge took 0.05 seconds\n",
      "bleu took 0.00 seconds\n",
      "meteor took 0.00 seconds\n",
      "rouge took 0.04 seconds\n",
      "bleu took 0.00 seconds\n",
      "meteor took 0.01 seconds\n"
     ]
    },
    {
     "name": "stderr",
     "output_type": "stream",
     "text": [
      "Evaluating:  44%|████▍     | 443/1000 [00:40<00:41, 13.27it/s]"
     ]
    },
    {
     "name": "stdout",
     "output_type": "stream",
     "text": [
      "rouge took 0.05 seconds\n",
      "bleu took 0.00 seconds\n",
      "meteor took 0.00 seconds\n",
      "rouge took 0.05 seconds\n",
      "bleu took 0.00 seconds\n",
      "meteor took 0.01 seconds\n",
      "rouge took 0.07 seconds\n",
      "bleu took 0.00 seconds\n",
      "meteor took 0.00 seconds\n",
      "rouge took 0.05 seconds\n",
      "bleu took 0.00 seconds\n",
      "meteor took 0.00 seconds\n"
     ]
    },
    {
     "name": "stderr",
     "output_type": "stream",
     "text": [
      "Evaluating:  44%|████▍     | 445/1000 [00:40<00:37, 14.62it/s]"
     ]
    },
    {
     "name": "stdout",
     "output_type": "stream",
     "text": [
      "rouge took 0.05 seconds\n",
      "bleu took 0.01 seconds\n",
      "meteor took 0.09 seconds\n"
     ]
    },
    {
     "name": "stderr",
     "output_type": "stream",
     "text": [
      "Evaluating:  45%|████▍     | 447/1000 [00:41<01:29,  6.21it/s]"
     ]
    },
    {
     "name": "stdout",
     "output_type": "stream",
     "text": [
      "rouge took 0.60 seconds\n",
      "bleu took 0.00 seconds\n",
      "meteor took 0.01 seconds\n",
      "rouge took 0.05 seconds\n",
      "bleu took 0.00 seconds\n",
      "meteor took 0.02 seconds\n",
      "rouge took 0.09 seconds\n",
      "bleu took 0.00 seconds\n",
      "meteor took 0.02 seconds\n"
     ]
    },
    {
     "name": "stderr",
     "output_type": "stream",
     "text": [
      "Evaluating:  45%|████▌     | 451/1000 [00:42<01:07,  8.08it/s]"
     ]
    },
    {
     "name": "stdout",
     "output_type": "stream",
     "text": [
      "rouge took 0.10 seconds\n",
      "bleu took 0.00 seconds\n",
      "meteor took 0.01 seconds\n",
      "rouge took 0.07 seconds\n",
      "bleu took 0.00 seconds\n",
      "meteor took 0.00 seconds\n",
      "rouge took 0.05 seconds\n",
      "bleu took 0.00 seconds\n",
      "meteor took 0.00 seconds\n",
      "rouge took 0.05 seconds\n",
      "bleu took 0.01 seconds\n",
      "meteor took 0.10 seconds\n"
     ]
    },
    {
     "name": "stderr",
     "output_type": "stream",
     "text": [
      "Evaluating:  46%|████▌     | 455/1000 [00:42<01:27,  6.21it/s]"
     ]
    },
    {
     "name": "stdout",
     "output_type": "stream",
     "text": [
      "rouge took 0.62 seconds\n",
      "bleu took 0.00 seconds\n",
      "meteor took 0.00 seconds\n",
      "rouge took 0.05 seconds\n",
      "bleu took 0.00 seconds\n",
      "meteor took 0.01 seconds\n",
      "rouge took 0.06 seconds\n",
      "bleu took 0.00 seconds\n",
      "meteor took 0.01 seconds\n",
      "rouge took 0.05 seconds\n",
      "bleu took 0.00 seconds\n",
      "meteor took 0.00 seconds\n"
     ]
    },
    {
     "name": "stderr",
     "output_type": "stream",
     "text": [
      "Evaluating:  46%|████▌     | 459/1000 [00:43<00:59,  9.14it/s]"
     ]
    },
    {
     "name": "stdout",
     "output_type": "stream",
     "text": [
      "rouge took 0.05 seconds\n",
      "bleu took 0.00 seconds\n",
      "meteor took 0.00 seconds\n",
      "rouge took 0.05 seconds\n",
      "bleu took 0.00 seconds\n",
      "meteor took 0.01 seconds\n",
      "rouge took 0.06 seconds\n",
      "bleu took 0.00 seconds\n",
      "meteor took 0.00 seconds\n",
      "rouge took 0.05 seconds\n",
      "bleu took 0.00 seconds\n"
     ]
    },
    {
     "name": "stderr",
     "output_type": "stream",
     "text": [
      "Evaluating:  46%|████▌     | 461/1000 [00:43<00:58,  9.17it/s]"
     ]
    },
    {
     "name": "stdout",
     "output_type": "stream",
     "text": [
      "meteor took 0.02 seconds\n",
      "rouge took 0.13 seconds\n",
      "bleu took 0.00 seconds\n",
      "meteor took 0.00 seconds\n",
      "rouge took 0.05 seconds\n",
      "bleu took 0.00 seconds\n"
     ]
    },
    {
     "name": "stderr",
     "output_type": "stream",
     "text": [
      "Evaluating:  46%|████▋     | 463/1000 [00:43<00:54,  9.80it/s]"
     ]
    },
    {
     "name": "stdout",
     "output_type": "stream",
     "text": [
      "meteor took 0.00 seconds\n",
      "rouge took 0.10 seconds\n",
      "bleu took 0.00 seconds\n",
      "meteor took 0.01 seconds\n",
      "rouge took 0.05 seconds\n",
      "bleu took 0.00 seconds\n",
      "meteor took 0.00 seconds\n"
     ]
    },
    {
     "name": "stderr",
     "output_type": "stream",
     "text": [
      "Evaluating:  47%|████▋     | 467/1000 [00:43<00:42, 12.55it/s]"
     ]
    },
    {
     "name": "stdout",
     "output_type": "stream",
     "text": [
      "rouge took 0.05 seconds\n",
      "bleu took 0.00 seconds\n",
      "meteor took 0.01 seconds\n",
      "rouge took 0.05 seconds\n",
      "bleu took 0.00 seconds\n",
      "meteor took 0.00 seconds\n",
      "rouge took 0.05 seconds\n",
      "bleu took 0.00 seconds\n",
      "meteor took 0.00 seconds\n",
      "rouge took 0.05 seconds\n",
      "bleu took 0.00 seconds\n",
      "meteor took 0.01 seconds\n"
     ]
    },
    {
     "name": "stderr",
     "output_type": "stream",
     "text": [
      "Evaluating:  47%|████▋     | 471/1000 [00:44<00:36, 14.62it/s]"
     ]
    },
    {
     "name": "stdout",
     "output_type": "stream",
     "text": [
      "rouge took 0.07 seconds\n",
      "bleu took 0.00 seconds\n",
      "meteor took 0.00 seconds\n",
      "rouge took 0.05 seconds\n",
      "bleu took 0.00 seconds\n",
      "meteor took 0.00 seconds\n",
      "rouge took 0.05 seconds\n",
      "bleu took 0.00 seconds\n",
      "meteor took 0.00 seconds\n",
      "rouge took 0.05 seconds\n",
      "bleu took 0.00 seconds\n",
      "meteor took 0.00 seconds\n"
     ]
    },
    {
     "name": "stderr",
     "output_type": "stream",
     "text": [
      "Evaluating:  48%|████▊     | 475/1000 [00:44<00:32, 15.99it/s]"
     ]
    },
    {
     "name": "stdout",
     "output_type": "stream",
     "text": [
      "rouge took 0.05 seconds\n",
      "bleu took 0.00 seconds\n",
      "meteor took 0.01 seconds\n",
      "rouge took 0.05 seconds\n",
      "bleu took 0.00 seconds\n",
      "meteor took 0.01 seconds\n",
      "rouge took 0.05 seconds\n",
      "bleu took 0.00 seconds\n",
      "meteor took 0.00 seconds\n",
      "rouge took 0.05 seconds\n",
      "bleu took 0.00 seconds\n",
      "meteor took 0.01 seconds\n"
     ]
    },
    {
     "name": "stderr",
     "output_type": "stream",
     "text": [
      "Evaluating:  48%|████▊     | 479/1000 [00:44<00:34, 14.93it/s]"
     ]
    },
    {
     "name": "stdout",
     "output_type": "stream",
     "text": [
      "rouge took 0.06 seconds\n",
      "bleu took 0.00 seconds\n",
      "meteor took 0.00 seconds\n",
      "rouge took 0.05 seconds\n",
      "bleu took 0.00 seconds\n",
      "meteor took 0.01 seconds\n",
      "rouge took 0.08 seconds\n",
      "bleu took 0.00 seconds\n",
      "meteor took 0.00 seconds\n"
     ]
    },
    {
     "name": "stderr",
     "output_type": "stream",
     "text": [
      "Evaluating:  48%|████▊     | 483/1000 [00:44<00:32, 15.73it/s]"
     ]
    },
    {
     "name": "stdout",
     "output_type": "stream",
     "text": [
      "rouge took 0.05 seconds\n",
      "bleu took 0.00 seconds\n",
      "meteor took 0.00 seconds\n",
      "rouge took 0.05 seconds\n",
      "bleu took 0.00 seconds\n",
      "meteor took 0.01 seconds\n",
      "rouge took 0.06 seconds\n",
      "bleu took 0.00 seconds\n",
      "meteor took 0.01 seconds\n",
      "rouge took 0.05 seconds\n",
      "bleu took 0.00 seconds\n",
      "meteor took 0.00 seconds\n"
     ]
    },
    {
     "name": "stderr",
     "output_type": "stream",
     "text": [
      "Evaluating:  49%|████▊     | 487/1000 [00:44<00:29, 17.44it/s]"
     ]
    },
    {
     "name": "stdout",
     "output_type": "stream",
     "text": [
      "rouge took 0.05 seconds\n",
      "bleu took 0.00 seconds\n",
      "meteor took 0.00 seconds\n",
      "rouge took 0.05 seconds\n",
      "bleu took 0.00 seconds\n",
      "meteor took 0.00 seconds\n",
      "rouge took 0.05 seconds\n",
      "bleu took 0.00 seconds\n",
      "meteor took 0.00 seconds\n",
      "rouge took 0.05 seconds\n",
      "bleu took 0.00 seconds\n",
      "meteor took 0.00 seconds\n"
     ]
    },
    {
     "name": "stderr",
     "output_type": "stream",
     "text": [
      "Evaluating:  49%|████▉     | 491/1000 [00:45<00:28, 17.58it/s]"
     ]
    },
    {
     "name": "stdout",
     "output_type": "stream",
     "text": [
      "rouge took 0.05 seconds\n",
      "bleu took 0.00 seconds\n",
      "meteor took 0.00 seconds\n",
      "rouge took 0.05 seconds\n",
      "bleu took 0.00 seconds\n",
      "meteor took 0.00 seconds\n",
      "rouge took 0.05 seconds\n",
      "bleu took 0.00 seconds\n",
      "meteor took 0.01 seconds\n",
      "rouge took 0.05 seconds\n",
      "bleu took 0.00 seconds\n",
      "meteor took 0.00 seconds\n"
     ]
    },
    {
     "name": "stderr",
     "output_type": "stream",
     "text": [
      "Evaluating:  50%|████▉     | 495/1000 [00:45<00:31, 16.29it/s]"
     ]
    },
    {
     "name": "stdout",
     "output_type": "stream",
     "text": [
      "rouge took 0.06 seconds\n",
      "bleu took 0.00 seconds\n",
      "meteor took 0.00 seconds\n",
      "rouge took 0.05 seconds\n",
      "bleu took 0.00 seconds\n",
      "meteor took 0.01 seconds\n",
      "rouge took 0.07 seconds\n",
      "bleu took 0.00 seconds\n",
      "meteor took 0.00 seconds\n",
      "rouge took 0.05 seconds\n",
      "bleu took 0.00 seconds\n"
     ]
    },
    {
     "name": "stderr",
     "output_type": "stream",
     "text": [
      "Evaluating:  50%|████▉     | 497/1000 [00:45<00:34, 14.76it/s]"
     ]
    },
    {
     "name": "stdout",
     "output_type": "stream",
     "text": [
      "meteor took 0.01 seconds\n",
      "rouge took 0.07 seconds\n",
      "bleu took 0.00 seconds\n",
      "meteor took 0.01 seconds\n",
      "rouge took 0.07 seconds\n",
      "bleu took 0.00 seconds\n",
      "meteor took 0.00 seconds\n"
     ]
    },
    {
     "name": "stderr",
     "output_type": "stream",
     "text": [
      "Evaluating:  50%|████▉     | 499/1000 [00:45<00:35, 14.15it/s]"
     ]
    },
    {
     "name": "stdout",
     "output_type": "stream",
     "text": [
      "rouge took 0.05 seconds\n",
      "bleu took 0.00 seconds\n",
      "meteor took 0.00 seconds\n",
      "rouge took 0.09 seconds\n",
      "bleu took 0.00 seconds\n",
      "meteor took 0.02 seconds\n"
     ]
    },
    {
     "name": "stderr",
     "output_type": "stream",
     "text": [
      "Evaluating:  50%|█████     | 501/1000 [00:45<00:37, 13.16it/s]"
     ]
    },
    {
     "name": "stdout",
     "output_type": "stream",
     "text": [
      "rouge took 0.10 seconds\n",
      "bleu took 0.00 seconds\n",
      "meteor took 0.00 seconds\n",
      "rouge took 0.05 seconds\n",
      "bleu took 0.00 seconds\n",
      "meteor took 0.01 seconds\n",
      "rouge took 0.08 seconds\n",
      "bleu took 0.00 seconds\n",
      "meteor took 0.00 seconds\n"
     ]
    },
    {
     "name": "stderr",
     "output_type": "stream",
     "text": [
      "Evaluating:  50%|█████     | 505/1000 [00:46<00:34, 14.26it/s]"
     ]
    },
    {
     "name": "stdout",
     "output_type": "stream",
     "text": [
      "rouge took 0.05 seconds\n",
      "bleu took 0.00 seconds\n",
      "meteor took 0.00 seconds\n",
      "rouge took 0.05 seconds\n",
      "bleu took 0.00 seconds\n",
      "meteor took 0.00 seconds\n",
      "rouge took 0.05 seconds\n",
      "bleu took 0.00 seconds\n",
      "meteor took 0.01 seconds\n",
      "rouge took 0.06 seconds\n",
      "bleu took 0.01 seconds\n",
      "meteor took 0.06 seconds\n"
     ]
    },
    {
     "name": "stderr",
     "output_type": "stream",
     "text": [
      "Evaluating:  51%|█████     | 509/1000 [00:46<00:51,  9.61it/s]"
     ]
    },
    {
     "name": "stdout",
     "output_type": "stream",
     "text": [
      "rouge took 0.36 seconds\n",
      "bleu took 0.00 seconds\n",
      "meteor took 0.00 seconds\n",
      "rouge took 0.05 seconds\n",
      "bleu took 0.00 seconds\n",
      "meteor took 0.00 seconds\n",
      "rouge took 0.05 seconds\n",
      "bleu took 0.00 seconds\n",
      "meteor took 0.00 seconds\n",
      "rouge took 0.05 seconds\n",
      "bleu took 0.01 seconds\n",
      "meteor took 0.10 seconds\n"
     ]
    },
    {
     "name": "stderr",
     "output_type": "stream",
     "text": [
      "Evaluating:  51%|█████     | 511/1000 [00:47<01:39,  4.90it/s]"
     ]
    },
    {
     "name": "stdout",
     "output_type": "stream",
     "text": [
      "rouge took 0.72 seconds\n",
      "bleu took 0.02 seconds\n",
      "meteor took 0.01 seconds\n",
      "rouge took 0.17 seconds\n",
      "bleu took 0.02 seconds\n"
     ]
    },
    {
     "name": "stderr",
     "output_type": "stream",
     "text": [
      "Evaluating:  52%|█████▏    | 515/1000 [00:48<01:13,  6.61it/s]"
     ]
    },
    {
     "name": "stdout",
     "output_type": "stream",
     "text": [
      "meteor took 0.02 seconds\n",
      "rouge took 0.07 seconds\n",
      "bleu took 0.01 seconds\n",
      "meteor took 0.00 seconds\n",
      "rouge took 0.06 seconds\n",
      "bleu took 0.00 seconds\n",
      "meteor took 0.01 seconds\n",
      "rouge took 0.05 seconds\n"
     ]
    },
    {
     "name": "stderr",
     "output_type": "stream",
     "text": [
      "Evaluating:  52%|█████▏    | 517/1000 [00:48<00:59,  8.17it/s]"
     ]
    },
    {
     "name": "stdout",
     "output_type": "stream",
     "text": [
      "bleu took 0.00 seconds\n",
      "meteor took 0.00 seconds\n",
      "rouge took 0.05 seconds\n",
      "bleu took 0.00 seconds\n",
      "meteor took 0.00 seconds\n",
      "rouge took 0.05 seconds\n",
      "bleu took 0.00 seconds\n",
      "meteor took 0.00 seconds\n",
      "rouge took 0.05 seconds\n",
      "bleu took 0.00 seconds\n",
      "meteor took 0.00 seconds\n"
     ]
    },
    {
     "name": "stderr",
     "output_type": "stream",
     "text": [
      "Evaluating:  52%|█████▏    | 521/1000 [00:48<00:42, 11.27it/s]"
     ]
    },
    {
     "name": "stdout",
     "output_type": "stream",
     "text": [
      "rouge took 0.05 seconds\n",
      "bleu took 0.00 seconds\n",
      "meteor took 0.00 seconds\n",
      "rouge took 0.05 seconds\n",
      "bleu took 0.00 seconds\n",
      "meteor took 0.00 seconds\n",
      "rouge took 0.05 seconds\n",
      "bleu took 0.00 seconds\n",
      "meteor took 0.00 seconds\n",
      "rouge took 0.05 seconds\n",
      "bleu took 0.01 seconds\n",
      "meteor took 0.02 seconds\n"
     ]
    },
    {
     "name": "stderr",
     "output_type": "stream",
     "text": [
      "Evaluating:  52%|█████▏    | 523/1000 [00:48<00:53,  8.94it/s]"
     ]
    },
    {
     "name": "stdout",
     "output_type": "stream",
     "text": [
      "rouge took 0.25 seconds\n",
      "bleu took 0.00 seconds\n",
      "meteor took 0.01 seconds\n",
      "rouge took 0.08 seconds\n",
      "bleu took 0.00 seconds\n",
      "meteor took 0.03 seconds\n"
     ]
    },
    {
     "name": "stderr",
     "output_type": "stream",
     "text": [
      "Evaluating:  53%|█████▎    | 527/1000 [00:49<00:45, 10.46it/s]"
     ]
    },
    {
     "name": "stdout",
     "output_type": "stream",
     "text": [
      "rouge took 0.08 seconds\n",
      "bleu took 0.00 seconds\n",
      "meteor took 0.00 seconds\n",
      "rouge took 0.06 seconds\n",
      "bleu took 0.00 seconds\n",
      "meteor took 0.01 seconds\n",
      "rouge took 0.05 seconds\n",
      "bleu took 0.00 seconds\n",
      "meteor took 0.00 seconds\n",
      "rouge took 0.05 seconds\n",
      "bleu took 0.00 seconds\n",
      "meteor took 0.01 seconds\n"
     ]
    },
    {
     "name": "stderr",
     "output_type": "stream",
     "text": [
      "Evaluating:  53%|█████▎    | 531/1000 [00:49<00:35, 13.26it/s]"
     ]
    },
    {
     "name": "stdout",
     "output_type": "stream",
     "text": [
      "rouge took 0.05 seconds\n",
      "bleu took 0.00 seconds\n",
      "meteor took 0.00 seconds\n",
      "rouge took 0.05 seconds\n",
      "bleu took 0.00 seconds\n",
      "meteor took 0.00 seconds\n",
      "rouge took 0.05 seconds\n",
      "bleu took 0.00 seconds\n",
      "meteor took 0.00 seconds\n",
      "rouge took 0.05 seconds\n",
      "bleu took 0.00 seconds\n",
      "meteor took 0.02 seconds\n"
     ]
    },
    {
     "name": "stderr",
     "output_type": "stream",
     "text": [
      "Evaluating:  54%|█████▎    | 535/1000 [00:49<00:36, 12.70it/s]"
     ]
    },
    {
     "name": "stdout",
     "output_type": "stream",
     "text": [
      "rouge took 0.13 seconds\n",
      "bleu took 0.00 seconds\n",
      "meteor took 0.01 seconds\n",
      "rouge took 0.06 seconds\n",
      "bleu took 0.00 seconds\n",
      "meteor took 0.00 seconds\n",
      "rouge took 0.06 seconds\n",
      "bleu took 0.00 seconds\n",
      "meteor took 0.00 seconds\n",
      "rouge took 0.05 seconds\n",
      "bleu took 0.00 seconds\n",
      "meteor took 0.00 seconds\n"
     ]
    },
    {
     "name": "stderr",
     "output_type": "stream",
     "text": [
      "Evaluating:  54%|█████▍    | 539/1000 [00:49<00:30, 15.01it/s]"
     ]
    },
    {
     "name": "stdout",
     "output_type": "stream",
     "text": [
      "rouge took 0.05 seconds\n",
      "bleu took 0.00 seconds\n",
      "meteor took 0.00 seconds\n",
      "rouge took 0.05 seconds\n",
      "bleu took 0.00 seconds\n",
      "meteor took 0.00 seconds\n",
      "rouge took 0.05 seconds\n",
      "bleu took 0.00 seconds\n",
      "meteor took 0.00 seconds\n",
      "rouge took 0.06 seconds\n",
      "bleu took 0.01 seconds\n"
     ]
    },
    {
     "name": "stderr",
     "output_type": "stream",
     "text": [
      "Evaluating:  54%|█████▍    | 541/1000 [00:50<00:41, 11.04it/s]"
     ]
    },
    {
     "name": "stdout",
     "output_type": "stream",
     "text": [
      "meteor took 0.05 seconds\n",
      "rouge took 0.18 seconds\n",
      "bleu took 0.00 seconds\n",
      "meteor took 0.00 seconds\n"
     ]
    },
    {
     "name": "stderr",
     "output_type": "stream",
     "text": [
      "Evaluating:  54%|█████▍    | 543/1000 [00:50<00:45,  9.96it/s]"
     ]
    },
    {
     "name": "stdout",
     "output_type": "stream",
     "text": [
      "rouge took 0.06 seconds\n",
      "bleu took 0.00 seconds\n",
      "meteor took 0.00 seconds\n",
      "rouge took 0.17 seconds\n",
      "bleu took 0.01 seconds\n",
      "meteor took 0.02 seconds\n",
      "rouge took 0.11 seconds\n",
      "bleu took 0.00 seconds\n",
      "meteor took 0.01 seconds\n"
     ]
    },
    {
     "name": "stderr",
     "output_type": "stream",
     "text": [
      "Evaluating:  55%|█████▍    | 547/1000 [00:50<00:41, 10.86it/s]"
     ]
    },
    {
     "name": "stdout",
     "output_type": "stream",
     "text": [
      "rouge took 0.10 seconds\n",
      "bleu took 0.00 seconds\n",
      "meteor took 0.00 seconds\n",
      "rouge took 0.05 seconds\n",
      "bleu took 0.00 seconds\n",
      "meteor took 0.00 seconds\n",
      "rouge took 0.04 seconds\n",
      "bleu took 0.00 seconds\n",
      "meteor took 0.00 seconds\n",
      "rouge took 0.05 seconds\n",
      "bleu took 0.00 seconds\n",
      "meteor took 0.00 seconds\n"
     ]
    },
    {
     "name": "stderr",
     "output_type": "stream",
     "text": [
      "Evaluating:  55%|█████▌    | 551/1000 [00:51<00:35, 12.80it/s]"
     ]
    },
    {
     "name": "stdout",
     "output_type": "stream",
     "text": [
      "rouge took 0.05 seconds\n",
      "bleu took 0.00 seconds\n",
      "meteor took 0.00 seconds\n",
      "rouge took 0.09 seconds\n",
      "bleu took 0.00 seconds\n",
      "meteor took 0.00 seconds\n",
      "rouge took 0.05 seconds\n",
      "bleu took 0.00 seconds\n",
      "meteor took 0.00 seconds\n",
      "rouge took 0.05 seconds\n",
      "bleu took 0.00 seconds\n"
     ]
    },
    {
     "name": "stderr",
     "output_type": "stream",
     "text": [
      "Evaluating:  56%|█████▌    | 555/1000 [00:51<00:28, 15.47it/s]"
     ]
    },
    {
     "name": "stdout",
     "output_type": "stream",
     "text": [
      "meteor took 0.00 seconds\n",
      "rouge took 0.05 seconds\n",
      "bleu took 0.00 seconds\n",
      "meteor took 0.00 seconds\n",
      "rouge took 0.05 seconds\n",
      "bleu took 0.00 seconds\n",
      "meteor took 0.00 seconds\n",
      "rouge took 0.05 seconds\n",
      "bleu took 0.00 seconds\n",
      "meteor took 0.00 seconds\n"
     ]
    },
    {
     "name": "stderr",
     "output_type": "stream",
     "text": [
      "Evaluating:  56%|█████▌    | 559/1000 [00:51<00:25, 17.34it/s]"
     ]
    },
    {
     "name": "stdout",
     "output_type": "stream",
     "text": [
      "rouge took 0.05 seconds\n",
      "bleu took 0.00 seconds\n",
      "meteor took 0.00 seconds\n",
      "rouge took 0.05 seconds\n",
      "bleu took 0.00 seconds\n",
      "meteor took 0.00 seconds\n",
      "rouge took 0.05 seconds\n",
      "bleu took 0.00 seconds\n",
      "meteor took 0.00 seconds\n",
      "rouge took 0.05 seconds\n",
      "bleu took 0.00 seconds\n",
      "meteor took 0.00 seconds\n"
     ]
    },
    {
     "name": "stderr",
     "output_type": "stream",
     "text": [
      "Evaluating:  56%|█████▋    | 563/1000 [00:51<00:26, 16.79it/s]"
     ]
    },
    {
     "name": "stdout",
     "output_type": "stream",
     "text": [
      "rouge took 0.05 seconds\n",
      "bleu took 0.00 seconds\n",
      "meteor took 0.01 seconds\n",
      "rouge took 0.07 seconds\n",
      "bleu took 0.00 seconds\n",
      "meteor took 0.00 seconds\n",
      "rouge took 0.05 seconds\n",
      "bleu took 0.00 seconds\n",
      "meteor took 0.00 seconds\n",
      "rouge took 0.05 seconds\n",
      "bleu took 0.00 seconds\n",
      "meteor took 0.01 seconds\n"
     ]
    },
    {
     "name": "stderr",
     "output_type": "stream",
     "text": [
      "Evaluating:  56%|█████▋    | 565/1000 [00:52<00:35, 12.16it/s]"
     ]
    },
    {
     "name": "stdout",
     "output_type": "stream",
     "text": [
      "rouge took 0.12 seconds\n",
      "bleu took 0.00 seconds\n",
      "meteor took 0.02 seconds\n",
      "rouge took 0.11 seconds\n",
      "bleu took 0.00 seconds\n",
      "meteor took 0.00 seconds\n",
      "rouge took 0.05 seconds\n",
      "bleu took 0.00 seconds\n"
     ]
    },
    {
     "name": "stderr",
     "output_type": "stream",
     "text": [
      "Evaluating:  57%|█████▋    | 569/1000 [00:52<00:30, 13.92it/s]"
     ]
    },
    {
     "name": "stdout",
     "output_type": "stream",
     "text": [
      "meteor took 0.01 seconds\n",
      "rouge took 0.06 seconds\n",
      "bleu took 0.00 seconds\n",
      "meteor took 0.01 seconds\n",
      "rouge took 0.06 seconds\n",
      "bleu took 0.00 seconds\n",
      "meteor took 0.01 seconds\n",
      "rouge took 0.05 seconds\n",
      "bleu took 0.00 seconds\n",
      "meteor took 0.00 seconds\n"
     ]
    },
    {
     "name": "stderr",
     "output_type": "stream",
     "text": [
      "Evaluating:  57%|█████▋    | 573/1000 [00:52<00:26, 15.90it/s]"
     ]
    },
    {
     "name": "stdout",
     "output_type": "stream",
     "text": [
      "rouge took 0.05 seconds\n",
      "bleu took 0.00 seconds\n",
      "meteor took 0.00 seconds\n",
      "rouge took 0.05 seconds\n",
      "bleu took 0.00 seconds\n",
      "meteor took 0.00 seconds\n",
      "rouge took 0.05 seconds\n",
      "bleu took 0.00 seconds\n",
      "meteor took 0.00 seconds\n",
      "rouge took 0.05 seconds\n",
      "bleu took 0.00 seconds\n",
      "meteor took 0.00 seconds\n"
     ]
    },
    {
     "name": "stderr",
     "output_type": "stream",
     "text": [
      "Evaluating:  57%|█████▊    | 575/1000 [00:52<00:26, 16.34it/s]"
     ]
    },
    {
     "name": "stdout",
     "output_type": "stream",
     "text": [
      "rouge took 0.05 seconds\n",
      "bleu took 0.00 seconds\n",
      "meteor took 0.01 seconds\n",
      "rouge took 0.05 seconds\n",
      "bleu took 0.00 seconds\n",
      "meteor took 0.00 seconds\n",
      "rouge took 0.05 seconds\n",
      "bleu took 0.01 seconds\n",
      "meteor took 0.04 seconds\n"
     ]
    },
    {
     "name": "stderr",
     "output_type": "stream",
     "text": [
      "Evaluating:  58%|█████▊    | 579/1000 [00:53<00:35, 11.79it/s]"
     ]
    },
    {
     "name": "stdout",
     "output_type": "stream",
     "text": [
      "rouge took 0.27 seconds\n",
      "bleu took 0.00 seconds\n",
      "meteor took 0.00 seconds\n",
      "rouge took 0.05 seconds\n",
      "bleu took 0.00 seconds\n",
      "meteor took 0.00 seconds\n",
      "rouge took 0.05 seconds\n",
      "bleu took 0.00 seconds\n",
      "meteor took 0.01 seconds\n",
      "rouge took 0.06 seconds\n",
      "bleu took 0.00 seconds\n",
      "meteor took 0.00 seconds\n"
     ]
    },
    {
     "name": "stderr",
     "output_type": "stream",
     "text": [
      "Evaluating:  58%|█████▊    | 581/1000 [00:53<00:33, 12.61it/s]"
     ]
    },
    {
     "name": "stdout",
     "output_type": "stream",
     "text": [
      "rouge took 0.05 seconds\n",
      "bleu took 0.00 seconds\n",
      "meteor took 0.00 seconds\n",
      "rouge took 0.05 seconds\n",
      "bleu took 0.01 seconds\n",
      "meteor took 0.04 seconds\n"
     ]
    },
    {
     "name": "stderr",
     "output_type": "stream",
     "text": [
      "Evaluating:  58%|█████▊    | 585/1000 [00:53<00:39, 10.38it/s]"
     ]
    },
    {
     "name": "stdout",
     "output_type": "stream",
     "text": [
      "rouge took 0.25 seconds\n",
      "bleu took 0.00 seconds\n",
      "meteor took 0.01 seconds\n",
      "rouge took 0.07 seconds\n",
      "bleu took 0.00 seconds\n",
      "meteor took 0.00 seconds\n",
      "rouge took 0.05 seconds\n",
      "bleu took 0.00 seconds\n",
      "meteor took 0.01 seconds\n"
     ]
    },
    {
     "name": "stderr",
     "output_type": "stream",
     "text": [
      "Evaluating:  59%|█████▉    | 589/1000 [00:54<00:37, 10.97it/s]"
     ]
    },
    {
     "name": "stdout",
     "output_type": "stream",
     "text": [
      "rouge took 0.16 seconds\n",
      "bleu took 0.02 seconds\n",
      "meteor took 0.01 seconds\n",
      "rouge took 0.05 seconds\n",
      "bleu took 0.00 seconds\n",
      "meteor took 0.00 seconds\n",
      "rouge took 0.05 seconds\n",
      "bleu took 0.00 seconds\n",
      "meteor took 0.01 seconds\n",
      "rouge took 0.05 seconds\n",
      "bleu took 0.00 seconds\n"
     ]
    },
    {
     "name": "stderr",
     "output_type": "stream",
     "text": [
      "Evaluating:  59%|█████▉    | 591/1000 [00:54<00:35, 11.46it/s]"
     ]
    },
    {
     "name": "stdout",
     "output_type": "stream",
     "text": [
      "meteor took 0.01 seconds\n",
      "rouge took 0.05 seconds\n",
      "bleu took 0.00 seconds\n",
      "meteor took 0.01 seconds\n",
      "rouge took 0.08 seconds\n",
      "bleu took 0.00 seconds\n",
      "meteor took 0.00 seconds\n"
     ]
    },
    {
     "name": "stderr",
     "output_type": "stream",
     "text": [
      "Evaluating:  59%|█████▉    | 593/1000 [00:54<00:36, 11.04it/s]"
     ]
    },
    {
     "name": "stdout",
     "output_type": "stream",
     "text": [
      "rouge took 0.05 seconds\n",
      "bleu took 0.01 seconds\n",
      "meteor took 0.02 seconds\n",
      "rouge took 0.11 seconds\n",
      "bleu took 0.00 seconds\n",
      "meteor took 0.00 seconds\n",
      "rouge took 0.05 seconds\n",
      "bleu took 0.00 seconds\n",
      "meteor took 0.00 seconds\n"
     ]
    },
    {
     "name": "stderr",
     "output_type": "stream",
     "text": [
      "Evaluating:  60%|█████▉    | 595/1000 [00:54<00:32, 12.61it/s]"
     ]
    },
    {
     "name": "stdout",
     "output_type": "stream",
     "text": [
      "rouge took 0.05 seconds\n",
      "bleu took 0.00 seconds\n",
      "meteor took 0.00 seconds\n",
      "rouge took 0.05 seconds\n",
      "bleu took 0.01 seconds\n",
      "meteor took 0.07 seconds\n"
     ]
    },
    {
     "name": "stderr",
     "output_type": "stream",
     "text": [
      "Evaluating:  60%|█████▉    | 599/1000 [00:55<00:38, 10.30it/s]"
     ]
    },
    {
     "name": "stdout",
     "output_type": "stream",
     "text": [
      "rouge took 0.28 seconds\n",
      "bleu took 0.01 seconds\n",
      "meteor took 0.00 seconds\n",
      "rouge took 0.05 seconds\n",
      "bleu took 0.00 seconds\n",
      "meteor took 0.00 seconds\n",
      "rouge took 0.05 seconds\n",
      "bleu took 0.00 seconds\n",
      "meteor took 0.00 seconds\n",
      "rouge took 0.05 seconds\n",
      "bleu took 0.00 seconds\n",
      "meteor took 0.01 seconds\n"
     ]
    },
    {
     "name": "stderr",
     "output_type": "stream",
     "text": [
      "Evaluating:  60%|██████    | 601/1000 [00:55<00:34, 11.43it/s]"
     ]
    },
    {
     "name": "stdout",
     "output_type": "stream",
     "text": [
      "rouge took 0.07 seconds\n",
      "bleu took 0.00 seconds\n",
      "meteor took 0.03 seconds\n",
      "rouge took 0.13 seconds\n",
      "bleu took 0.00 seconds\n",
      "meteor took 0.01 seconds\n"
     ]
    },
    {
     "name": "stderr",
     "output_type": "stream",
     "text": [
      "Evaluating:  60%|██████    | 605/1000 [00:55<00:33, 11.92it/s]"
     ]
    },
    {
     "name": "stdout",
     "output_type": "stream",
     "text": [
      "rouge took 0.06 seconds\n",
      "bleu took 0.00 seconds\n",
      "meteor took 0.00 seconds\n",
      "rouge took 0.05 seconds\n",
      "bleu took 0.00 seconds\n",
      "meteor took 0.00 seconds\n",
      "rouge took 0.05 seconds\n",
      "bleu took 0.00 seconds\n",
      "meteor took 0.00 seconds\n",
      "rouge took 0.05 seconds\n",
      "bleu took 0.00 seconds\n",
      "meteor took 0.00 seconds\n"
     ]
    },
    {
     "name": "stderr",
     "output_type": "stream",
     "text": [
      "Evaluating:  61%|██████    | 609/1000 [00:55<00:27, 14.46it/s]"
     ]
    },
    {
     "name": "stdout",
     "output_type": "stream",
     "text": [
      "rouge took 0.05 seconds\n",
      "bleu took 0.00 seconds\n",
      "meteor took 0.00 seconds\n",
      "rouge took 0.05 seconds\n",
      "bleu took 0.00 seconds\n",
      "meteor took 0.01 seconds\n",
      "rouge took 0.05 seconds\n",
      "bleu took 0.00 seconds\n",
      "meteor took 0.00 seconds\n",
      "rouge took 0.05 seconds\n",
      "bleu took 0.00 seconds\n",
      "meteor took 0.01 seconds\n"
     ]
    },
    {
     "name": "stderr",
     "output_type": "stream",
     "text": [
      "Evaluating:  61%|██████▏   | 613/1000 [00:55<00:24, 15.60it/s]"
     ]
    },
    {
     "name": "stdout",
     "output_type": "stream",
     "text": [
      "rouge took 0.06 seconds\n",
      "bleu took 0.00 seconds\n",
      "meteor took 0.00 seconds\n",
      "rouge took 0.05 seconds\n",
      "bleu took 0.00 seconds\n",
      "meteor took 0.00 seconds\n",
      "rouge took 0.06 seconds\n",
      "bleu took 0.01 seconds\n",
      "meteor took 0.13 seconds\n"
     ]
    },
    {
     "name": "stderr",
     "output_type": "stream",
     "text": [
      "Evaluating:  62%|██████▏   | 615/1000 [00:56<01:15,  5.07it/s]"
     ]
    },
    {
     "name": "stdout",
     "output_type": "stream",
     "text": [
      "rouge took 0.80 seconds\n",
      "bleu took 0.00 seconds\n",
      "meteor took 0.01 seconds\n",
      "rouge took 0.06 seconds\n",
      "bleu took 0.00 seconds\n",
      "meteor took 0.00 seconds\n",
      "rouge took 0.05 seconds\n",
      "bleu took 0.00 seconds\n",
      "meteor took 0.01 seconds\n"
     ]
    },
    {
     "name": "stderr",
     "output_type": "stream",
     "text": [
      "Evaluating:  62%|██████▏   | 619/1000 [00:57<00:51,  7.40it/s]"
     ]
    },
    {
     "name": "stdout",
     "output_type": "stream",
     "text": [
      "rouge took 0.06 seconds\n",
      "bleu took 0.00 seconds\n",
      "meteor took 0.00 seconds\n",
      "rouge took 0.05 seconds\n",
      "bleu took 0.00 seconds\n",
      "meteor took 0.02 seconds\n",
      "rouge took 0.09 seconds\n",
      "bleu took 0.00 seconds\n",
      "meteor took 0.00 seconds\n"
     ]
    },
    {
     "name": "stderr",
     "output_type": "stream",
     "text": [
      "Evaluating:  62%|██████▏   | 623/1000 [00:57<00:35, 10.59it/s]"
     ]
    },
    {
     "name": "stdout",
     "output_type": "stream",
     "text": [
      "rouge took 0.05 seconds\n",
      "bleu took 0.00 seconds\n",
      "meteor took 0.00 seconds\n",
      "rouge took 0.05 seconds\n",
      "bleu took 0.00 seconds\n",
      "meteor took 0.00 seconds\n",
      "rouge took 0.05 seconds\n",
      "bleu took 0.00 seconds\n",
      "meteor took 0.00 seconds\n",
      "rouge took 0.05 seconds\n",
      "bleu took 0.00 seconds\n",
      "meteor took 0.00 seconds\n"
     ]
    },
    {
     "name": "stderr",
     "output_type": "stream",
     "text": [
      "Evaluating:  63%|██████▎   | 627/1000 [00:57<00:27, 13.32it/s]"
     ]
    },
    {
     "name": "stdout",
     "output_type": "stream",
     "text": [
      "rouge took 0.05 seconds\n",
      "bleu took 0.00 seconds\n",
      "meteor took 0.00 seconds\n",
      "rouge took 0.05 seconds\n",
      "bleu took 0.00 seconds\n",
      "meteor took 0.01 seconds\n",
      "rouge took 0.05 seconds\n",
      "bleu took 0.00 seconds\n",
      "meteor took 0.00 seconds\n",
      "rouge took 0.05 seconds\n",
      "bleu took 0.00 seconds\n",
      "meteor took 0.01 seconds\n"
     ]
    },
    {
     "name": "stderr",
     "output_type": "stream",
     "text": [
      "Evaluating:  63%|██████▎   | 631/1000 [00:57<00:25, 14.54it/s]"
     ]
    },
    {
     "name": "stdout",
     "output_type": "stream",
     "text": [
      "rouge took 0.06 seconds\n",
      "bleu took 0.00 seconds\n",
      "meteor took 0.00 seconds\n",
      "rouge took 0.05 seconds\n",
      "bleu took 0.00 seconds\n",
      "meteor took 0.01 seconds\n",
      "rouge took 0.06 seconds\n",
      "bleu took 0.00 seconds\n",
      "meteor took 0.00 seconds\n",
      "rouge took 0.05 seconds\n",
      "bleu took 0.00 seconds\n",
      "meteor took 0.00 seconds\n"
     ]
    },
    {
     "name": "stderr",
     "output_type": "stream",
     "text": [
      "Evaluating:  64%|██████▎   | 635/1000 [00:58<00:22, 16.07it/s]"
     ]
    },
    {
     "name": "stdout",
     "output_type": "stream",
     "text": [
      "rouge took 0.06 seconds\n",
      "bleu took 0.00 seconds\n",
      "meteor took 0.00 seconds\n",
      "rouge took 0.05 seconds\n",
      "bleu took 0.00 seconds\n",
      "meteor took 0.00 seconds\n",
      "rouge took 0.05 seconds\n",
      "bleu took 0.00 seconds\n",
      "meteor took 0.00 seconds\n",
      "rouge took 0.05 seconds\n",
      "bleu took 0.00 seconds\n",
      "meteor took 0.00 seconds\n",
      "rouge took 0.06 seconds\n",
      "bleu took 0.07 seconds\n",
      "meteor took 0.08 seconds\n"
     ]
    },
    {
     "name": "stderr",
     "output_type": "stream",
     "text": [
      "Evaluating:  64%|██████▍   | 639/1000 [00:58<00:44,  8.14it/s]"
     ]
    },
    {
     "name": "stdout",
     "output_type": "stream",
     "text": [
      "rouge took 0.41 seconds\n",
      "bleu took 0.00 seconds\n",
      "meteor took 0.02 seconds\n",
      "rouge took 0.10 seconds\n",
      "bleu took 0.00 seconds\n",
      "meteor took 0.01 seconds\n",
      "rouge took 0.05 seconds\n",
      "bleu took 0.00 seconds\n",
      "meteor took 0.01 seconds\n"
     ]
    },
    {
     "name": "stderr",
     "output_type": "stream",
     "text": [
      "Evaluating:  64%|██████▍   | 643/1000 [00:59<00:31, 11.37it/s]"
     ]
    },
    {
     "name": "stdout",
     "output_type": "stream",
     "text": [
      "rouge took 0.06 seconds\n",
      "bleu took 0.00 seconds\n",
      "meteor took 0.00 seconds\n",
      "rouge took 0.05 seconds\n",
      "bleu took 0.00 seconds\n",
      "meteor took 0.00 seconds\n",
      "rouge took 0.05 seconds\n",
      "bleu took 0.00 seconds\n",
      "meteor took 0.00 seconds\n",
      "rouge took 0.05 seconds\n",
      "bleu took 0.00 seconds\n",
      "meteor took 0.00 seconds\n"
     ]
    },
    {
     "name": "stderr",
     "output_type": "stream",
     "text": [
      "Evaluating:  65%|██████▍   | 647/1000 [00:59<00:25, 13.97it/s]"
     ]
    },
    {
     "name": "stdout",
     "output_type": "stream",
     "text": [
      "rouge took 0.05 seconds\n",
      "bleu took 0.00 seconds\n",
      "meteor took 0.00 seconds\n",
      "rouge took 0.05 seconds\n",
      "bleu took 0.00 seconds\n",
      "meteor took 0.00 seconds\n",
      "rouge took 0.05 seconds\n",
      "bleu took 0.01 seconds\n",
      "meteor took 0.00 seconds\n",
      "rouge took 0.05 seconds\n",
      "bleu took 0.00 seconds\n",
      "meteor took 0.00 seconds\n"
     ]
    },
    {
     "name": "stderr",
     "output_type": "stream",
     "text": [
      "Evaluating:  65%|██████▌   | 651/1000 [00:59<00:21, 16.21it/s]"
     ]
    },
    {
     "name": "stdout",
     "output_type": "stream",
     "text": [
      "rouge took 0.05 seconds\n",
      "bleu took 0.00 seconds\n",
      "meteor took 0.00 seconds\n",
      "rouge took 0.05 seconds\n",
      "bleu took 0.00 seconds\n",
      "meteor took 0.00 seconds\n",
      "rouge took 0.05 seconds\n",
      "bleu took 0.00 seconds\n",
      "meteor took 0.00 seconds\n",
      "rouge took 0.05 seconds\n",
      "bleu took 0.00 seconds\n",
      "meteor took 0.00 seconds\n"
     ]
    },
    {
     "name": "stderr",
     "output_type": "stream",
     "text": [
      "Evaluating:  66%|██████▌   | 655/1000 [00:59<00:19, 17.60it/s]"
     ]
    },
    {
     "name": "stdout",
     "output_type": "stream",
     "text": [
      "rouge took 0.05 seconds\n",
      "bleu took 0.00 seconds\n",
      "meteor took 0.00 seconds\n",
      "rouge took 0.05 seconds\n",
      "bleu took 0.00 seconds\n",
      "meteor took 0.00 seconds\n",
      "rouge took 0.05 seconds\n",
      "bleu took 0.00 seconds\n",
      "meteor took 0.00 seconds\n",
      "rouge took 0.04 seconds\n",
      "bleu took 0.00 seconds\n",
      "meteor took 0.00 seconds\n"
     ]
    },
    {
     "name": "stderr",
     "output_type": "stream",
     "text": [
      "Evaluating:  66%|██████▌   | 659/1000 [01:00<00:19, 17.19it/s]"
     ]
    },
    {
     "name": "stdout",
     "output_type": "stream",
     "text": [
      "rouge took 0.05 seconds\n",
      "bleu took 0.00 seconds\n",
      "meteor took 0.01 seconds\n",
      "rouge took 0.06 seconds\n",
      "bleu took 0.00 seconds\n",
      "meteor took 0.00 seconds\n",
      "rouge took 0.05 seconds\n",
      "bleu took 0.00 seconds\n",
      "meteor took 0.01 seconds\n",
      "rouge took 0.05 seconds\n",
      "bleu took 0.00 seconds\n",
      "meteor took 0.00 seconds\n"
     ]
    },
    {
     "name": "stderr",
     "output_type": "stream",
     "text": [
      "Evaluating:  66%|██████▋   | 663/1000 [01:00<00:18, 17.74it/s]"
     ]
    },
    {
     "name": "stdout",
     "output_type": "stream",
     "text": [
      "rouge took 0.05 seconds\n",
      "bleu took 0.00 seconds\n",
      "meteor took 0.00 seconds\n",
      "rouge took 0.05 seconds\n",
      "bleu took 0.00 seconds\n",
      "meteor took 0.00 seconds\n",
      "rouge took 0.05 seconds\n",
      "bleu took 0.00 seconds\n",
      "meteor took 0.00 seconds\n",
      "rouge took 0.05 seconds\n",
      "bleu took 0.00 seconds\n",
      "meteor took 0.01 seconds\n"
     ]
    },
    {
     "name": "stderr",
     "output_type": "stream",
     "text": [
      "Evaluating:  67%|██████▋   | 667/1000 [01:00<00:19, 17.27it/s]"
     ]
    },
    {
     "name": "stdout",
     "output_type": "stream",
     "text": [
      "rouge took 0.06 seconds\n",
      "bleu took 0.00 seconds\n",
      "meteor took 0.00 seconds\n",
      "rouge took 0.05 seconds\n",
      "bleu took 0.00 seconds\n",
      "meteor took 0.01 seconds\n",
      "rouge took 0.06 seconds\n",
      "bleu took 0.00 seconds\n",
      "meteor took 0.00 seconds\n",
      "rouge took 0.04 seconds\n",
      "bleu took 0.00 seconds\n",
      "meteor took 0.00 seconds\n"
     ]
    },
    {
     "name": "stderr",
     "output_type": "stream",
     "text": [
      "Evaluating:  67%|██████▋   | 671/1000 [01:00<00:18, 17.49it/s]"
     ]
    },
    {
     "name": "stdout",
     "output_type": "stream",
     "text": [
      "rouge took 0.05 seconds\n",
      "bleu took 0.00 seconds\n",
      "meteor took 0.00 seconds\n",
      "rouge took 0.05 seconds\n",
      "bleu took 0.00 seconds\n",
      "meteor took 0.00 seconds\n",
      "rouge took 0.05 seconds\n",
      "bleu took 0.00 seconds\n",
      "meteor took 0.01 seconds\n",
      "rouge took 0.05 seconds\n",
      "bleu took 0.01 seconds\n",
      "meteor took 0.03 seconds\n"
     ]
    },
    {
     "name": "stderr",
     "output_type": "stream",
     "text": [
      "Evaluating:  67%|██████▋   | 673/1000 [01:01<00:28, 11.43it/s]"
     ]
    },
    {
     "name": "stdout",
     "output_type": "stream",
     "text": [
      "rouge took 0.22 seconds\n",
      "bleu took 0.00 seconds\n",
      "meteor took 0.01 seconds\n",
      "rouge took 0.06 seconds\n",
      "bleu took 0.00 seconds\n",
      "meteor took 0.00 seconds\n",
      "rouge took 0.05 seconds\n",
      "bleu took 0.00 seconds\n",
      "meteor took 0.02 seconds\n"
     ]
    },
    {
     "name": "stderr",
     "output_type": "stream",
     "text": [
      "Evaluating:  68%|██████▊   | 677/1000 [01:01<00:26, 11.97it/s]"
     ]
    },
    {
     "name": "stdout",
     "output_type": "stream",
     "text": [
      "rouge took 0.13 seconds\n",
      "bleu took 0.00 seconds\n",
      "meteor took 0.01 seconds\n",
      "rouge took 0.06 seconds\n",
      "bleu took 0.00 seconds\n",
      "meteor took 0.00 seconds\n",
      "rouge took 0.05 seconds\n",
      "bleu took 0.00 seconds\n",
      "meteor took 0.01 seconds\n",
      "rouge took 0.05 seconds\n",
      "bleu took 0.00 seconds\n"
     ]
    },
    {
     "name": "stderr",
     "output_type": "stream",
     "text": [
      "Evaluating:  68%|██████▊   | 681/1000 [01:01<00:23, 13.56it/s]"
     ]
    },
    {
     "name": "stdout",
     "output_type": "stream",
     "text": [
      "meteor took 0.01 seconds\n",
      "rouge took 0.08 seconds\n",
      "bleu took 0.00 seconds\n",
      "meteor took 0.00 seconds\n",
      "rouge took 0.05 seconds\n",
      "bleu took 0.00 seconds\n",
      "meteor took 0.00 seconds\n",
      "rouge took 0.05 seconds\n",
      "bleu took 0.00 seconds\n",
      "meteor took 0.00 seconds\n"
     ]
    },
    {
     "name": "stderr",
     "output_type": "stream",
     "text": [
      "Evaluating:  68%|██████▊   | 685/1000 [01:01<00:21, 14.98it/s]"
     ]
    },
    {
     "name": "stdout",
     "output_type": "stream",
     "text": [
      "rouge took 0.05 seconds\n",
      "bleu took 0.00 seconds\n",
      "meteor took 0.00 seconds\n",
      "rouge took 0.05 seconds\n",
      "bleu took 0.00 seconds\n",
      "meteor took 0.00 seconds\n",
      "rouge took 0.05 seconds\n",
      "bleu took 0.00 seconds\n",
      "meteor took 0.01 seconds\n",
      "rouge took 0.06 seconds\n",
      "bleu took 0.00 seconds\n"
     ]
    },
    {
     "name": "stderr",
     "output_type": "stream",
     "text": [
      "Evaluating:  69%|██████▊   | 687/1000 [01:02<00:25, 12.43it/s]"
     ]
    },
    {
     "name": "stdout",
     "output_type": "stream",
     "text": [
      "meteor took 0.02 seconds\n",
      "rouge took 0.14 seconds\n",
      "bleu took 0.00 seconds\n",
      "meteor took 0.00 seconds\n",
      "rouge took 0.05 seconds\n",
      "bleu took 0.00 seconds\n"
     ]
    },
    {
     "name": "stderr",
     "output_type": "stream",
     "text": [
      "Evaluating:  69%|██████▉   | 689/1000 [01:02<00:22, 13.88it/s]"
     ]
    },
    {
     "name": "stdout",
     "output_type": "stream",
     "text": [
      "meteor took 0.00 seconds\n",
      "rouge took 0.05 seconds\n",
      "bleu took 0.00 seconds\n",
      "meteor took 0.00 seconds\n",
      "rouge took 0.05 seconds\n",
      "bleu took 0.00 seconds\n",
      "meteor took 0.00 seconds\n",
      "rouge took 0.05 seconds\n",
      "bleu took 0.01 seconds\n",
      "meteor took 0.08 seconds\n"
     ]
    },
    {
     "name": "stderr",
     "output_type": "stream",
     "text": [
      "Evaluating:  69%|██████▉   | 693/1000 [01:02<00:36,  8.36it/s]"
     ]
    },
    {
     "name": "stdout",
     "output_type": "stream",
     "text": [
      "rouge took 0.49 seconds\n",
      "bleu took 0.00 seconds\n",
      "meteor took 0.01 seconds\n",
      "rouge took 0.06 seconds\n",
      "bleu took 0.00 seconds\n",
      "meteor took 0.00 seconds\n",
      "rouge took 0.05 seconds\n",
      "bleu took 0.00 seconds\n",
      "meteor took 0.00 seconds\n",
      "rouge took 0.05 seconds\n",
      "bleu took 0.00 seconds\n",
      "meteor took 0.00 seconds\n"
     ]
    },
    {
     "name": "stderr",
     "output_type": "stream",
     "text": [
      "Evaluating:  70%|██████▉   | 697/1000 [01:03<00:26, 11.45it/s]"
     ]
    },
    {
     "name": "stdout",
     "output_type": "stream",
     "text": [
      "rouge took 0.06 seconds\n",
      "bleu took 0.00 seconds\n",
      "meteor took 0.00 seconds\n",
      "rouge took 0.05 seconds\n",
      "bleu took 0.00 seconds\n",
      "meteor took 0.00 seconds\n",
      "rouge took 0.05 seconds\n",
      "bleu took 0.00 seconds\n",
      "meteor took 0.00 seconds\n",
      "rouge took 0.05 seconds\n",
      "bleu took 0.00 seconds\n",
      "meteor took 0.00 seconds\n"
     ]
    },
    {
     "name": "stderr",
     "output_type": "stream",
     "text": [
      "Evaluating:  70%|███████   | 701/1000 [01:03<00:21, 13.89it/s]"
     ]
    },
    {
     "name": "stdout",
     "output_type": "stream",
     "text": [
      "rouge took 0.05 seconds\n",
      "bleu took 0.00 seconds\n",
      "meteor took 0.01 seconds\n",
      "rouge took 0.06 seconds\n",
      "bleu took 0.00 seconds\n",
      "meteor took 0.00 seconds\n",
      "rouge took 0.05 seconds\n",
      "bleu took 0.00 seconds\n",
      "meteor took 0.00 seconds\n",
      "rouge took 0.04 seconds\n",
      "bleu took 0.00 seconds\n",
      "meteor took 0.01 seconds\n"
     ]
    },
    {
     "name": "stderr",
     "output_type": "stream",
     "text": [
      "Evaluating:  70%|███████   | 705/1000 [01:03<00:18, 15.80it/s]"
     ]
    },
    {
     "name": "stdout",
     "output_type": "stream",
     "text": [
      "rouge took 0.06 seconds\n",
      "bleu took 0.00 seconds\n",
      "meteor took 0.00 seconds\n",
      "rouge took 0.05 seconds\n",
      "bleu took 0.00 seconds\n",
      "meteor took 0.00 seconds\n",
      "rouge took 0.05 seconds\n",
      "bleu took 0.00 seconds\n",
      "meteor took 0.00 seconds\n",
      "rouge took 0.05 seconds\n",
      "bleu took 0.00 seconds\n",
      "meteor took 0.00 seconds\n"
     ]
    },
    {
     "name": "stderr",
     "output_type": "stream",
     "text": [
      "Evaluating:  71%|███████   | 709/1000 [01:03<00:16, 17.43it/s]"
     ]
    },
    {
     "name": "stdout",
     "output_type": "stream",
     "text": [
      "rouge took 0.05 seconds\n",
      "bleu took 0.00 seconds\n",
      "meteor took 0.00 seconds\n",
      "rouge took 0.05 seconds\n",
      "bleu took 0.00 seconds\n",
      "meteor took 0.00 seconds\n",
      "rouge took 0.05 seconds\n",
      "bleu took 0.00 seconds\n",
      "meteor took 0.00 seconds\n",
      "rouge took 0.05 seconds\n",
      "bleu took 0.00 seconds\n",
      "meteor took 0.01 seconds\n"
     ]
    },
    {
     "name": "stderr",
     "output_type": "stream",
     "text": [
      "Evaluating:  71%|███████▏  | 713/1000 [01:04<00:18, 15.48it/s]"
     ]
    },
    {
     "name": "stdout",
     "output_type": "stream",
     "text": [
      "rouge took 0.06 seconds\n",
      "bleu took 0.00 seconds\n",
      "meteor took 0.00 seconds\n",
      "rouge took 0.10 seconds\n",
      "bleu took 0.00 seconds\n",
      "meteor took 0.00 seconds\n",
      "rouge took 0.05 seconds\n",
      "bleu took 0.01 seconds\n",
      "meteor took 0.02 seconds\n"
     ]
    },
    {
     "name": "stderr",
     "output_type": "stream",
     "text": [
      "Evaluating:  72%|███████▏  | 717/1000 [01:04<00:20, 13.88it/s]"
     ]
    },
    {
     "name": "stdout",
     "output_type": "stream",
     "text": [
      "rouge took 0.13 seconds\n",
      "bleu took 0.00 seconds\n",
      "meteor took 0.00 seconds\n",
      "rouge took 0.05 seconds\n",
      "bleu took 0.00 seconds\n",
      "meteor took 0.00 seconds\n",
      "rouge took 0.05 seconds\n",
      "bleu took 0.00 seconds\n",
      "meteor took 0.01 seconds\n",
      "rouge took 0.06 seconds\n",
      "bleu took 0.00 seconds\n",
      "meteor took 0.01 seconds\n"
     ]
    },
    {
     "name": "stderr",
     "output_type": "stream",
     "text": [
      "Evaluating:  72%|███████▏  | 721/1000 [01:04<00:18, 15.09it/s]"
     ]
    },
    {
     "name": "stdout",
     "output_type": "stream",
     "text": [
      "rouge took 0.06 seconds\n",
      "bleu took 0.00 seconds\n",
      "meteor took 0.00 seconds\n",
      "rouge took 0.05 seconds\n",
      "bleu took 0.00 seconds\n",
      "meteor took 0.00 seconds\n",
      "rouge took 0.05 seconds\n",
      "bleu took 0.00 seconds\n",
      "meteor took 0.01 seconds\n",
      "rouge took 0.06 seconds\n",
      "bleu took 0.00 seconds\n",
      "meteor took 0.01 seconds\n"
     ]
    },
    {
     "name": "stderr",
     "output_type": "stream",
     "text": [
      "Evaluating:  72%|███████▎  | 725/1000 [01:04<00:16, 16.51it/s]"
     ]
    },
    {
     "name": "stdout",
     "output_type": "stream",
     "text": [
      "rouge took 0.06 seconds\n",
      "bleu took 0.00 seconds\n",
      "meteor took 0.00 seconds\n",
      "rouge took 0.05 seconds\n",
      "bleu took 0.00 seconds\n",
      "meteor took 0.00 seconds\n",
      "rouge took 0.05 seconds\n",
      "bleu took 0.00 seconds\n",
      "meteor took 0.00 seconds\n",
      "rouge took 0.05 seconds\n",
      "bleu took 0.00 seconds\n",
      "meteor took 0.01 seconds\n"
     ]
    },
    {
     "name": "stderr",
     "output_type": "stream",
     "text": [
      "Evaluating:  73%|███████▎  | 729/1000 [01:05<00:16, 16.01it/s]"
     ]
    },
    {
     "name": "stdout",
     "output_type": "stream",
     "text": [
      "rouge took 0.06 seconds\n",
      "bleu took 0.00 seconds\n",
      "meteor took 0.01 seconds\n",
      "rouge took 0.06 seconds\n",
      "bleu took 0.00 seconds\n",
      "meteor took 0.01 seconds\n",
      "rouge took 0.05 seconds\n",
      "bleu took 0.00 seconds\n",
      "meteor took 0.01 seconds\n",
      "rouge took 0.05 seconds\n",
      "bleu took 0.00 seconds\n",
      "meteor took 0.00 seconds\n"
     ]
    },
    {
     "name": "stderr",
     "output_type": "stream",
     "text": [
      "Evaluating:  73%|███████▎  | 733/1000 [01:05<00:15, 17.07it/s]"
     ]
    },
    {
     "name": "stdout",
     "output_type": "stream",
     "text": [
      "rouge took 0.05 seconds\n",
      "bleu took 0.00 seconds\n",
      "meteor took 0.00 seconds\n",
      "rouge took 0.04 seconds\n",
      "bleu took 0.00 seconds\n",
      "meteor took 0.01 seconds\n",
      "rouge took 0.05 seconds\n",
      "bleu took 0.00 seconds\n",
      "meteor took 0.00 seconds\n",
      "rouge took 0.05 seconds\n",
      "bleu took 0.00 seconds\n",
      "meteor took 0.00 seconds\n"
     ]
    },
    {
     "name": "stderr",
     "output_type": "stream",
     "text": [
      "Evaluating:  74%|███████▎  | 737/1000 [01:05<00:15, 16.44it/s]"
     ]
    },
    {
     "name": "stdout",
     "output_type": "stream",
     "text": [
      "rouge took 0.05 seconds\n",
      "bleu took 0.00 seconds\n",
      "meteor took 0.01 seconds\n",
      "rouge took 0.06 seconds\n",
      "bleu took 0.00 seconds\n",
      "meteor took 0.00 seconds\n",
      "rouge took 0.05 seconds\n",
      "bleu took 0.00 seconds\n",
      "meteor took 0.01 seconds\n",
      "rouge took 0.06 seconds\n",
      "bleu took 0.00 seconds\n",
      "meteor took 0.00 seconds\n"
     ]
    },
    {
     "name": "stderr",
     "output_type": "stream",
     "text": [
      "Evaluating:  74%|███████▍  | 741/1000 [01:05<00:14, 17.41it/s]"
     ]
    },
    {
     "name": "stdout",
     "output_type": "stream",
     "text": [
      "rouge took 0.05 seconds\n",
      "bleu took 0.00 seconds\n",
      "meteor took 0.00 seconds\n",
      "rouge took 0.05 seconds\n",
      "bleu took 0.00 seconds\n",
      "meteor took 0.00 seconds\n",
      "rouge took 0.05 seconds\n",
      "bleu took 0.00 seconds\n",
      "meteor took 0.00 seconds\n",
      "rouge took 0.05 seconds\n",
      "bleu took 0.00 seconds\n",
      "meteor took 0.00 seconds\n"
     ]
    },
    {
     "name": "stderr",
     "output_type": "stream",
     "text": [
      "Evaluating:  74%|███████▍  | 745/1000 [01:06<00:14, 17.39it/s]"
     ]
    },
    {
     "name": "stdout",
     "output_type": "stream",
     "text": [
      "rouge took 0.05 seconds\n",
      "bleu took 0.00 seconds\n",
      "meteor took 0.00 seconds\n",
      "rouge took 0.07 seconds\n",
      "bleu took 0.00 seconds\n",
      "meteor took 0.00 seconds\n",
      "rouge took 0.05 seconds\n",
      "bleu took 0.00 seconds\n",
      "meteor took 0.00 seconds\n",
      "rouge took 0.04 seconds\n",
      "bleu took 0.00 seconds\n",
      "meteor took 0.00 seconds\n"
     ]
    },
    {
     "name": "stderr",
     "output_type": "stream",
     "text": [
      "Evaluating:  75%|███████▍  | 747/1000 [01:06<00:14, 17.35it/s]"
     ]
    },
    {
     "name": "stdout",
     "output_type": "stream",
     "text": [
      "rouge took 0.06 seconds\n",
      "bleu took 0.00 seconds\n",
      "meteor took 0.00 seconds\n",
      "rouge took 0.05 seconds\n",
      "bleu took 0.00 seconds\n",
      "meteor took 0.01 seconds\n",
      "rouge took 0.10 seconds\n",
      "bleu took 0.00 seconds\n",
      "meteor took 0.00 seconds\n"
     ]
    },
    {
     "name": "stderr",
     "output_type": "stream",
     "text": [
      "Evaluating:  75%|███████▌  | 751/1000 [01:06<00:15, 16.29it/s]"
     ]
    },
    {
     "name": "stdout",
     "output_type": "stream",
     "text": [
      "rouge took 0.05 seconds\n",
      "bleu took 0.00 seconds\n",
      "meteor took 0.00 seconds\n",
      "rouge took 0.05 seconds\n",
      "bleu took 0.00 seconds\n",
      "meteor took 0.00 seconds\n",
      "rouge took 0.04 seconds\n",
      "bleu took 0.00 seconds\n",
      "meteor took 0.00 seconds\n",
      "rouge took 0.05 seconds\n",
      "bleu took 0.00 seconds\n",
      "meteor took 0.00 seconds\n"
     ]
    },
    {
     "name": "stderr",
     "output_type": "stream",
     "text": [
      "Evaluating:  76%|███████▌  | 755/1000 [01:06<00:14, 17.26it/s]"
     ]
    },
    {
     "name": "stdout",
     "output_type": "stream",
     "text": [
      "rouge took 0.04 seconds\n",
      "bleu took 0.00 seconds\n",
      "meteor took 0.01 seconds\n",
      "rouge took 0.05 seconds\n",
      "bleu took 0.00 seconds\n",
      "meteor took 0.00 seconds\n",
      "rouge took 0.05 seconds\n",
      "bleu took 0.00 seconds\n",
      "meteor took 0.01 seconds\n",
      "rouge took 0.07 seconds\n",
      "bleu took 0.00 seconds\n"
     ]
    },
    {
     "name": "stderr",
     "output_type": "stream",
     "text": [
      "Evaluating:  76%|███████▌  | 759/1000 [01:06<00:14, 16.93it/s]"
     ]
    },
    {
     "name": "stdout",
     "output_type": "stream",
     "text": [
      "meteor took 0.00 seconds\n",
      "rouge took 0.05 seconds\n",
      "bleu took 0.00 seconds\n",
      "meteor took 0.00 seconds\n",
      "rouge took 0.05 seconds\n",
      "bleu took 0.00 seconds\n",
      "meteor took 0.01 seconds\n",
      "rouge took 0.05 seconds\n",
      "bleu took 0.00 seconds\n",
      "meteor took 0.00 seconds\n"
     ]
    },
    {
     "name": "stderr",
     "output_type": "stream",
     "text": [
      "Evaluating:  76%|███████▋  | 763/1000 [01:07<00:14, 16.84it/s]"
     ]
    },
    {
     "name": "stdout",
     "output_type": "stream",
     "text": [
      "rouge took 0.05 seconds\n",
      "bleu took 0.00 seconds\n",
      "meteor took 0.00 seconds\n",
      "rouge took 0.05 seconds\n",
      "bleu took 0.00 seconds\n",
      "meteor took 0.00 seconds\n",
      "rouge took 0.05 seconds\n",
      "bleu took 0.00 seconds\n",
      "meteor took 0.01 seconds\n",
      "rouge took 0.06 seconds\n",
      "bleu took 0.00 seconds\n",
      "meteor took 0.00 seconds\n"
     ]
    },
    {
     "name": "stderr",
     "output_type": "stream",
     "text": [
      "Evaluating:  77%|███████▋  | 767/1000 [01:07<00:13, 17.24it/s]"
     ]
    },
    {
     "name": "stdout",
     "output_type": "stream",
     "text": [
      "rouge took 0.06 seconds\n",
      "bleu took 0.00 seconds\n",
      "meteor took 0.01 seconds\n",
      "rouge took 0.05 seconds\n",
      "bleu took 0.00 seconds\n",
      "meteor took 0.00 seconds\n",
      "rouge took 0.05 seconds\n",
      "bleu took 0.00 seconds\n",
      "meteor took 0.00 seconds\n",
      "rouge took 0.04 seconds\n",
      "bleu took 0.00 seconds\n",
      "meteor took 0.01 seconds\n"
     ]
    },
    {
     "name": "stderr",
     "output_type": "stream",
     "text": [
      "Evaluating:  77%|███████▋  | 771/1000 [01:07<00:13, 16.88it/s]"
     ]
    },
    {
     "name": "stdout",
     "output_type": "stream",
     "text": [
      "rouge took 0.06 seconds\n",
      "bleu took 0.00 seconds\n",
      "meteor took 0.00 seconds\n",
      "rouge took 0.05 seconds\n",
      "bleu took 0.00 seconds\n",
      "meteor took 0.01 seconds\n",
      "rouge took 0.06 seconds\n",
      "bleu took 0.00 seconds\n",
      "meteor took 0.00 seconds\n",
      "rouge took 0.04 seconds\n",
      "bleu took 0.00 seconds\n",
      "meteor took 0.00 seconds\n"
     ]
    },
    {
     "name": "stderr",
     "output_type": "stream",
     "text": [
      "Evaluating:  77%|███████▋  | 773/1000 [01:07<00:15, 14.74it/s]"
     ]
    },
    {
     "name": "stdout",
     "output_type": "stream",
     "text": [
      "rouge took 0.05 seconds\n",
      "bleu took 0.00 seconds\n",
      "meteor took 0.02 seconds\n",
      "rouge took 0.10 seconds\n",
      "bleu took 0.00 seconds\n",
      "meteor took 0.00 seconds\n",
      "rouge took 0.05 seconds\n",
      "bleu took 0.00 seconds\n",
      "meteor took 0.00 seconds\n"
     ]
    },
    {
     "name": "stderr",
     "output_type": "stream",
     "text": [
      "Evaluating:  78%|███████▊  | 777/1000 [01:08<00:14, 15.46it/s]"
     ]
    },
    {
     "name": "stdout",
     "output_type": "stream",
     "text": [
      "rouge took 0.05 seconds\n",
      "bleu took 0.00 seconds\n",
      "meteor took 0.00 seconds\n",
      "rouge took 0.05 seconds\n",
      "bleu took 0.00 seconds\n",
      "meteor took 0.01 seconds\n",
      "rouge took 0.06 seconds\n",
      "bleu took 0.00 seconds\n",
      "meteor took 0.00 seconds\n",
      "rouge took 0.05 seconds\n",
      "bleu took 0.00 seconds\n",
      "meteor took 0.01 seconds\n"
     ]
    },
    {
     "name": "stderr",
     "output_type": "stream",
     "text": [
      "Evaluating:  78%|███████▊  | 781/1000 [01:08<00:13, 15.80it/s]"
     ]
    },
    {
     "name": "stdout",
     "output_type": "stream",
     "text": [
      "rouge took 0.07 seconds\n",
      "bleu took 0.00 seconds\n",
      "meteor took 0.01 seconds\n",
      "rouge took 0.05 seconds\n",
      "bleu took 0.00 seconds\n",
      "meteor took 0.00 seconds\n",
      "rouge took 0.05 seconds\n",
      "bleu took 0.00 seconds\n",
      "meteor took 0.00 seconds\n",
      "rouge took 0.05 seconds\n",
      "bleu took 0.00 seconds\n",
      "meteor took 0.00 seconds\n"
     ]
    },
    {
     "name": "stderr",
     "output_type": "stream",
     "text": [
      "Evaluating:  78%|███████▊  | 785/1000 [01:08<00:14, 14.55it/s]"
     ]
    },
    {
     "name": "stdout",
     "output_type": "stream",
     "text": [
      "rouge took 0.05 seconds\n",
      "bleu took 0.00 seconds\n",
      "meteor took 0.02 seconds\n",
      "rouge took 0.10 seconds\n",
      "bleu took 0.00 seconds\n",
      "meteor took 0.00 seconds\n",
      "rouge took 0.04 seconds\n",
      "bleu took 0.00 seconds\n",
      "meteor took 0.00 seconds\n"
     ]
    },
    {
     "name": "stderr",
     "output_type": "stream",
     "text": [
      "Evaluating:  79%|███████▉  | 789/1000 [01:08<00:12, 16.67it/s]"
     ]
    },
    {
     "name": "stdout",
     "output_type": "stream",
     "text": [
      "rouge took 0.05 seconds\n",
      "bleu took 0.00 seconds\n",
      "meteor took 0.00 seconds\n",
      "rouge took 0.05 seconds\n",
      "bleu took 0.00 seconds\n",
      "meteor took 0.00 seconds\n",
      "rouge took 0.05 seconds\n",
      "bleu took 0.00 seconds\n",
      "meteor took 0.00 seconds\n",
      "rouge took 0.05 seconds\n",
      "bleu took 0.00 seconds\n",
      "meteor took 0.00 seconds\n",
      "rouge took 0.04 seconds\n"
     ]
    },
    {
     "name": "stderr",
     "output_type": "stream",
     "text": [
      "Evaluating:  79%|███████▉  | 792/1000 [01:09<00:11, 17.89it/s]"
     ]
    },
    {
     "name": "stdout",
     "output_type": "stream",
     "text": [
      "bleu took 0.00 seconds\n",
      "meteor took 0.00 seconds\n",
      "rouge took 0.05 seconds\n",
      "bleu took 0.00 seconds\n",
      "meteor took 0.00 seconds\n",
      "rouge took 0.04 seconds\n",
      "bleu took 0.00 seconds\n",
      "meteor took 0.00 seconds\n",
      "rouge took 0.05 seconds\n",
      "bleu took 0.00 seconds\n",
      "meteor took 0.00 seconds\n",
      "rouge took 0.04 seconds\n",
      "bleu took 0.00 seconds\n",
      "meteor took 0.00 seconds\n"
     ]
    },
    {
     "name": "stderr",
     "output_type": "stream",
     "text": [
      "Evaluating:  80%|███████▉  | 797/1000 [01:09<00:10, 18.71it/s]"
     ]
    },
    {
     "name": "stdout",
     "output_type": "stream",
     "text": [
      "rouge took 0.05 seconds\n",
      "bleu took 0.00 seconds\n",
      "meteor took 0.00 seconds\n",
      "rouge took 0.05 seconds\n",
      "bleu took 0.00 seconds\n",
      "meteor took 0.00 seconds\n",
      "rouge took 0.04 seconds\n",
      "bleu took 0.00 seconds\n",
      "meteor took 0.00 seconds\n",
      "rouge took 0.05 seconds\n",
      "bleu took 0.00 seconds\n",
      "meteor took 0.00 seconds\n"
     ]
    },
    {
     "name": "stderr",
     "output_type": "stream",
     "text": [
      "Evaluating:  80%|████████  | 801/1000 [01:09<00:11, 17.42it/s]"
     ]
    },
    {
     "name": "stdout",
     "output_type": "stream",
     "text": [
      "rouge took 0.05 seconds\n",
      "bleu took 0.00 seconds\n",
      "meteor took 0.01 seconds\n",
      "rouge took 0.07 seconds\n",
      "bleu took 0.00 seconds\n",
      "meteor took 0.00 seconds\n",
      "rouge took 0.04 seconds\n",
      "bleu took 0.00 seconds\n",
      "meteor took 0.00 seconds\n",
      "rouge took 0.04 seconds\n",
      "bleu took 0.00 seconds\n",
      "meteor took 0.00 seconds\n"
     ]
    },
    {
     "name": "stderr",
     "output_type": "stream",
     "text": [
      "Evaluating:  80%|████████  | 805/1000 [01:09<00:10, 18.28it/s]"
     ]
    },
    {
     "name": "stdout",
     "output_type": "stream",
     "text": [
      "rouge took 0.05 seconds\n",
      "bleu took 0.00 seconds\n",
      "meteor took 0.00 seconds\n",
      "rouge took 0.05 seconds\n",
      "bleu took 0.00 seconds\n",
      "meteor took 0.00 seconds\n",
      "rouge took 0.05 seconds\n",
      "bleu took 0.00 seconds\n",
      "meteor took 0.00 seconds\n",
      "rouge took 0.05 seconds\n",
      "bleu took 0.00 seconds\n",
      "meteor took 0.01 seconds\n"
     ]
    },
    {
     "name": "stderr",
     "output_type": "stream",
     "text": [
      "Evaluating:  81%|████████  | 809/1000 [01:09<00:10, 17.64it/s]"
     ]
    },
    {
     "name": "stdout",
     "output_type": "stream",
     "text": [
      "rouge took 0.06 seconds\n",
      "bleu took 0.00 seconds\n",
      "meteor took 0.00 seconds\n",
      "rouge took 0.05 seconds\n",
      "bleu took 0.00 seconds\n",
      "meteor took 0.01 seconds\n",
      "rouge took 0.05 seconds\n",
      "bleu took 0.00 seconds\n",
      "meteor took 0.00 seconds\n",
      "rouge took 0.04 seconds\n",
      "bleu took 0.00 seconds\n",
      "meteor took 0.00 seconds\n"
     ]
    },
    {
     "name": "stderr",
     "output_type": "stream",
     "text": [
      "Evaluating:  81%|████████  | 811/1000 [01:10<00:10, 17.61it/s]"
     ]
    },
    {
     "name": "stdout",
     "output_type": "stream",
     "text": [
      "rouge took 0.06 seconds\n",
      "bleu took 0.00 seconds\n",
      "meteor took 0.00 seconds\n",
      "rouge took 0.05 seconds\n",
      "bleu took 0.01 seconds\n",
      "meteor took 0.04 seconds\n"
     ]
    },
    {
     "name": "stderr",
     "output_type": "stream",
     "text": [
      "Evaluating:  82%|████████▏ | 815/1000 [01:10<00:15, 12.00it/s]"
     ]
    },
    {
     "name": "stdout",
     "output_type": "stream",
     "text": [
      "rouge took 0.25 seconds\n",
      "bleu took 0.00 seconds\n",
      "meteor took 0.00 seconds\n",
      "rouge took 0.05 seconds\n",
      "bleu took 0.00 seconds\n",
      "meteor took 0.01 seconds\n",
      "rouge took 0.06 seconds\n",
      "bleu took 0.00 seconds\n",
      "meteor took 0.00 seconds\n",
      "rouge took 0.05 seconds\n",
      "bleu took 0.00 seconds\n",
      "meteor took 0.00 seconds\n"
     ]
    },
    {
     "name": "stderr",
     "output_type": "stream",
     "text": [
      "Evaluating:  82%|████████▏ | 819/1000 [01:10<00:12, 14.78it/s]"
     ]
    },
    {
     "name": "stdout",
     "output_type": "stream",
     "text": [
      "rouge took 0.05 seconds\n",
      "bleu took 0.00 seconds\n",
      "meteor took 0.00 seconds\n",
      "rouge took 0.05 seconds\n",
      "bleu took 0.00 seconds\n",
      "meteor took 0.00 seconds\n",
      "rouge took 0.05 seconds\n",
      "bleu took 0.00 seconds\n",
      "meteor took 0.01 seconds\n",
      "rouge took 0.06 seconds\n",
      "bleu took 0.00 seconds\n",
      "meteor took 0.00 seconds\n"
     ]
    },
    {
     "name": "stderr",
     "output_type": "stream",
     "text": [
      "Evaluating:  82%|████████▏ | 821/1000 [01:10<00:11, 15.13it/s]"
     ]
    },
    {
     "name": "stdout",
     "output_type": "stream",
     "text": [
      "rouge took 0.05 seconds\n",
      "bleu took 0.00 seconds\n",
      "meteor took 0.05 seconds\n",
      "rouge took 0.10 seconds\n",
      "bleu took 0.00 seconds\n",
      "meteor took 0.00 seconds\n"
     ]
    },
    {
     "name": "stderr",
     "output_type": "stream",
     "text": [
      "Evaluating:  82%|████████▏ | 823/1000 [01:11<00:13, 12.92it/s]"
     ]
    },
    {
     "name": "stdout",
     "output_type": "stream",
     "text": [
      "rouge took 0.05 seconds\n",
      "bleu took 0.00 seconds\n",
      "meteor took 0.00 seconds\n",
      "rouge took 0.05 seconds\n",
      "bleu took 0.01 seconds\n",
      "meteor took 0.03 seconds\n"
     ]
    },
    {
     "name": "stderr",
     "output_type": "stream",
     "text": [
      "Evaluating:  83%|████████▎ | 827/1000 [01:11<00:14, 11.75it/s]"
     ]
    },
    {
     "name": "stdout",
     "output_type": "stream",
     "text": [
      "rouge took 0.20 seconds\n",
      "bleu took 0.00 seconds\n",
      "meteor took 0.00 seconds\n",
      "rouge took 0.05 seconds\n",
      "bleu took 0.00 seconds\n",
      "meteor took 0.00 seconds\n",
      "rouge took 0.04 seconds\n",
      "bleu took 0.00 seconds\n",
      "meteor took 0.00 seconds\n",
      "rouge took 0.04 seconds\n",
      "bleu took 0.00 seconds\n",
      "meteor took 0.01 seconds\n"
     ]
    },
    {
     "name": "stderr",
     "output_type": "stream",
     "text": [
      "Evaluating:  83%|████████▎ | 829/1000 [01:11<00:13, 12.97it/s]"
     ]
    },
    {
     "name": "stdout",
     "output_type": "stream",
     "text": [
      "rouge took 0.06 seconds\n",
      "bleu took 0.00 seconds\n",
      "meteor took 0.00 seconds\n",
      "rouge took 0.05 seconds\n",
      "bleu took 0.01 seconds\n",
      "meteor took 0.03 seconds\n"
     ]
    },
    {
     "name": "stderr",
     "output_type": "stream",
     "text": [
      "Evaluating:  83%|████████▎ | 833/1000 [01:11<00:13, 12.28it/s]"
     ]
    },
    {
     "name": "stdout",
     "output_type": "stream",
     "text": [
      "rouge took 0.18 seconds\n",
      "bleu took 0.00 seconds\n",
      "meteor took 0.00 seconds\n",
      "rouge took 0.05 seconds\n",
      "bleu took 0.00 seconds\n",
      "meteor took 0.00 seconds\n",
      "rouge took 0.04 seconds\n",
      "bleu took 0.00 seconds\n",
      "meteor took 0.00 seconds\n",
      "rouge took 0.05 seconds\n",
      "bleu took 0.00 seconds\n",
      "meteor took 0.00 seconds\n"
     ]
    },
    {
     "name": "stderr",
     "output_type": "stream",
     "text": [
      "Evaluating:  84%|████████▎ | 837/1000 [01:12<00:10, 14.84it/s]"
     ]
    },
    {
     "name": "stdout",
     "output_type": "stream",
     "text": [
      "rouge took 0.05 seconds\n",
      "bleu took 0.00 seconds\n",
      "meteor took 0.00 seconds\n",
      "rouge took 0.05 seconds\n",
      "bleu took 0.00 seconds\n",
      "meteor took 0.00 seconds\n",
      "rouge took 0.05 seconds\n",
      "bleu took 0.00 seconds\n",
      "meteor took 0.01 seconds\n",
      "rouge took 0.05 seconds\n",
      "bleu took 0.00 seconds\n",
      "meteor took 0.00 seconds\n"
     ]
    },
    {
     "name": "stderr",
     "output_type": "stream",
     "text": [
      "Evaluating:  84%|████████▍ | 841/1000 [01:12<00:09, 16.14it/s]"
     ]
    },
    {
     "name": "stdout",
     "output_type": "stream",
     "text": [
      "rouge took 0.05 seconds\n",
      "bleu took 0.00 seconds\n",
      "meteor took 0.00 seconds\n",
      "rouge took 0.05 seconds\n",
      "bleu took 0.00 seconds\n",
      "meteor took 0.00 seconds\n",
      "rouge took 0.05 seconds\n",
      "bleu took 0.00 seconds\n",
      "meteor took 0.00 seconds\n",
      "rouge took 0.04 seconds\n",
      "bleu took 0.00 seconds\n",
      "meteor took 0.02 seconds\n"
     ]
    },
    {
     "name": "stderr",
     "output_type": "stream",
     "text": [
      "Evaluating:  84%|████████▍ | 845/1000 [01:12<00:10, 15.44it/s]"
     ]
    },
    {
     "name": "stdout",
     "output_type": "stream",
     "text": [
      "rouge took 0.10 seconds\n",
      "bleu took 0.00 seconds\n",
      "meteor took 0.00 seconds\n",
      "rouge took 0.05 seconds\n",
      "bleu took 0.00 seconds\n",
      "meteor took 0.00 seconds\n",
      "rouge took 0.04 seconds\n",
      "bleu took 0.00 seconds\n",
      "meteor took 0.00 seconds\n",
      "rouge took 0.04 seconds\n",
      "bleu took 0.00 seconds\n",
      "meteor took 0.01 seconds\n"
     ]
    },
    {
     "name": "stderr",
     "output_type": "stream",
     "text": [
      "Evaluating:  85%|████████▍ | 849/1000 [01:12<00:09, 15.62it/s]"
     ]
    },
    {
     "name": "stdout",
     "output_type": "stream",
     "text": [
      "rouge took 0.07 seconds\n",
      "bleu took 0.00 seconds\n",
      "meteor took 0.01 seconds\n",
      "rouge took 0.06 seconds\n",
      "bleu took 0.00 seconds\n",
      "meteor took 0.00 seconds\n",
      "rouge took 0.04 seconds\n",
      "bleu took 0.00 seconds\n",
      "meteor took 0.00 seconds\n",
      "rouge took 0.04 seconds\n",
      "bleu took 0.00 seconds\n",
      "meteor took 0.00 seconds\n"
     ]
    },
    {
     "name": "stderr",
     "output_type": "stream",
     "text": [
      "Evaluating:  85%|████████▌ | 851/1000 [01:13<00:09, 16.48it/s]"
     ]
    },
    {
     "name": "stdout",
     "output_type": "stream",
     "text": [
      "rouge took 0.05 seconds\n",
      "bleu took 0.00 seconds\n",
      "meteor took 0.00 seconds\n",
      "rouge took 0.05 seconds\n",
      "bleu took 0.00 seconds\n",
      "meteor took 0.03 seconds\n"
     ]
    },
    {
     "name": "stderr",
     "output_type": "stream",
     "text": [
      "Evaluating:  86%|████████▌ | 855/1000 [01:13<00:11, 12.88it/s]"
     ]
    },
    {
     "name": "stdout",
     "output_type": "stream",
     "text": [
      "rouge took 0.16 seconds\n",
      "bleu took 0.00 seconds\n",
      "meteor took 0.00 seconds\n",
      "rouge took 0.09 seconds\n",
      "bleu took 0.00 seconds\n",
      "meteor took 0.00 seconds\n",
      "rouge took 0.04 seconds\n",
      "bleu took 0.00 seconds\n",
      "meteor took 0.00 seconds\n",
      "rouge took 0.04 seconds\n"
     ]
    },
    {
     "name": "stderr",
     "output_type": "stream",
     "text": [
      "Evaluating:  86%|████████▌ | 859/1000 [01:13<00:09, 15.26it/s]"
     ]
    },
    {
     "name": "stdout",
     "output_type": "stream",
     "text": [
      "bleu took 0.00 seconds\n",
      "meteor took 0.00 seconds\n",
      "rouge took 0.05 seconds\n",
      "bleu took 0.00 seconds\n",
      "meteor took 0.00 seconds\n",
      "rouge took 0.05 seconds\n",
      "bleu took 0.00 seconds\n",
      "meteor took 0.01 seconds\n",
      "rouge took 0.05 seconds\n",
      "bleu took 0.00 seconds\n",
      "meteor took 0.00 seconds\n"
     ]
    },
    {
     "name": "stderr",
     "output_type": "stream",
     "text": [
      "Evaluating:  86%|████████▌ | 861/1000 [01:13<00:09, 14.61it/s]"
     ]
    },
    {
     "name": "stdout",
     "output_type": "stream",
     "text": [
      "rouge took 0.05 seconds\n",
      "bleu took 0.00 seconds\n",
      "meteor took 0.01 seconds\n",
      "rouge took 0.08 seconds\n",
      "bleu took 0.00 seconds\n",
      "meteor took 0.01 seconds\n",
      "rouge took 0.05 seconds\n",
      "bleu took 0.00 seconds\n",
      "meteor took 0.00 seconds\n"
     ]
    },
    {
     "name": "stderr",
     "output_type": "stream",
     "text": [
      "Evaluating:  86%|████████▋ | 865/1000 [01:14<00:08, 16.43it/s]"
     ]
    },
    {
     "name": "stdout",
     "output_type": "stream",
     "text": [
      "rouge took 0.05 seconds\n",
      "bleu took 0.00 seconds\n",
      "meteor took 0.00 seconds\n",
      "rouge took 0.05 seconds\n",
      "bleu took 0.00 seconds\n",
      "meteor took 0.00 seconds\n",
      "rouge took 0.05 seconds\n",
      "bleu took 0.00 seconds\n",
      "meteor took 0.00 seconds\n",
      "rouge took 0.04 seconds\n",
      "bleu took 0.00 seconds\n",
      "meteor took 0.00 seconds\n",
      "rouge took 0.04 seconds\n",
      "bleu took 0.00 seconds\n"
     ]
    },
    {
     "name": "stderr",
     "output_type": "stream",
     "text": [
      "Evaluating:  87%|████████▋ | 868/1000 [01:14<00:07, 17.67it/s]"
     ]
    },
    {
     "name": "stdout",
     "output_type": "stream",
     "text": [
      "meteor took 0.00 seconds\n",
      "rouge took 0.05 seconds\n",
      "bleu took 0.00 seconds\n",
      "meteor took 0.02 seconds\n",
      "rouge took 0.08 seconds\n",
      "bleu took 0.00 seconds\n",
      "meteor took 0.00 seconds\n"
     ]
    },
    {
     "name": "stderr",
     "output_type": "stream",
     "text": [
      "Evaluating:  87%|████████▋ | 872/1000 [01:14<00:08, 15.49it/s]"
     ]
    },
    {
     "name": "stdout",
     "output_type": "stream",
     "text": [
      "rouge took 0.05 seconds\n",
      "bleu took 0.00 seconds\n",
      "meteor took 0.01 seconds\n",
      "rouge took 0.06 seconds\n",
      "bleu took 0.00 seconds\n",
      "meteor took 0.01 seconds\n",
      "rouge took 0.06 seconds\n",
      "bleu took 0.00 seconds\n",
      "meteor took 0.01 seconds\n"
     ]
    },
    {
     "name": "stderr",
     "output_type": "stream",
     "text": [
      "Evaluating:  87%|████████▋ | 874/1000 [01:14<00:08, 14.69it/s]"
     ]
    },
    {
     "name": "stdout",
     "output_type": "stream",
     "text": [
      "rouge took 0.08 seconds\n",
      "bleu took 0.00 seconds\n",
      "meteor took 0.00 seconds\n",
      "rouge took 0.05 seconds\n",
      "bleu took 0.00 seconds\n",
      "meteor took 0.00 seconds\n",
      "rouge took 0.05 seconds\n",
      "bleu took 0.00 seconds\n",
      "meteor took 0.00 seconds\n",
      "rouge took 0.04 seconds\n",
      "bleu took 0.00 seconds\n",
      "meteor took 0.00 seconds\n"
     ]
    },
    {
     "name": "stderr",
     "output_type": "stream",
     "text": [
      "Evaluating:  88%|████████▊ | 879/1000 [01:14<00:07, 17.15it/s]"
     ]
    },
    {
     "name": "stdout",
     "output_type": "stream",
     "text": [
      "rouge took 0.04 seconds\n",
      "bleu took 0.00 seconds\n",
      "meteor took 0.00 seconds\n",
      "rouge took 0.05 seconds\n",
      "bleu took 0.00 seconds\n",
      "meteor took 0.00 seconds\n",
      "rouge took 0.04 seconds\n",
      "bleu took 0.00 seconds\n",
      "meteor took 0.00 seconds\n",
      "rouge took 0.05 seconds\n",
      "bleu took 0.00 seconds\n",
      "meteor took 0.00 seconds\n"
     ]
    },
    {
     "name": "stderr",
     "output_type": "stream",
     "text": [
      "Evaluating:  88%|████████▊ | 883/1000 [01:15<00:07, 16.62it/s]"
     ]
    },
    {
     "name": "stdout",
     "output_type": "stream",
     "text": [
      "rouge took 0.05 seconds\n",
      "bleu took 0.00 seconds\n",
      "meteor took 0.01 seconds\n",
      "rouge took 0.07 seconds\n",
      "bleu took 0.00 seconds\n",
      "meteor took 0.00 seconds\n",
      "rouge took 0.05 seconds\n",
      "bleu took 0.00 seconds\n",
      "meteor took 0.01 seconds\n",
      "rouge took 0.05 seconds\n",
      "bleu took 0.00 seconds\n",
      "meteor took 0.00 seconds\n"
     ]
    },
    {
     "name": "stderr",
     "output_type": "stream",
     "text": [
      "Evaluating:  88%|████████▊ | 885/1000 [01:15<00:06, 16.87it/s]"
     ]
    },
    {
     "name": "stdout",
     "output_type": "stream",
     "text": [
      "rouge took 0.05 seconds\n",
      "bleu took 0.00 seconds\n",
      "meteor took 0.00 seconds\n",
      "rouge took 0.05 seconds\n",
      "bleu took 0.01 seconds\n",
      "meteor took 0.05 seconds\n"
     ]
    },
    {
     "name": "stderr",
     "output_type": "stream",
     "text": [
      "Evaluating:  89%|████████▉ | 889/1000 [01:15<00:09, 11.28it/s]"
     ]
    },
    {
     "name": "stdout",
     "output_type": "stream",
     "text": [
      "rouge took 0.32 seconds\n",
      "bleu took 0.00 seconds\n",
      "meteor took 0.00 seconds\n",
      "rouge took 0.05 seconds\n",
      "bleu took 0.00 seconds\n",
      "meteor took 0.00 seconds\n",
      "rouge took 0.04 seconds\n",
      "bleu took 0.00 seconds\n",
      "meteor took 0.01 seconds\n",
      "rouge took 0.06 seconds\n",
      "bleu took 0.00 seconds\n",
      "meteor took 0.03 seconds\n"
     ]
    },
    {
     "name": "stderr",
     "output_type": "stream",
     "text": [
      "Evaluating:  89%|████████▉ | 891/1000 [01:16<00:12,  8.61it/s]"
     ]
    },
    {
     "name": "stdout",
     "output_type": "stream",
     "text": [
      "rouge took 0.25 seconds\n",
      "bleu took 0.01 seconds\n",
      "meteor took 0.06 seconds\n"
     ]
    },
    {
     "name": "stderr",
     "output_type": "stream",
     "text": [
      "Evaluating:  90%|████████▉ | 895/1000 [01:16<00:14,  7.47it/s]"
     ]
    },
    {
     "name": "stdout",
     "output_type": "stream",
     "text": [
      "rouge took 0.47 seconds\n",
      "bleu took 0.00 seconds\n",
      "meteor took 0.00 seconds\n",
      "rouge took 0.04 seconds\n",
      "bleu took 0.00 seconds\n",
      "meteor took 0.00 seconds\n",
      "rouge took 0.05 seconds\n",
      "bleu took 0.00 seconds\n",
      "meteor took 0.00 seconds\n",
      "rouge took 0.05 seconds\n",
      "bleu took 0.00 seconds\n",
      "meteor took 0.00 seconds\n"
     ]
    },
    {
     "name": "stderr",
     "output_type": "stream",
     "text": [
      "Evaluating:  90%|████████▉ | 897/1000 [01:17<00:13,  7.89it/s]"
     ]
    },
    {
     "name": "stdout",
     "output_type": "stream",
     "text": [
      "rouge took 0.05 seconds\n",
      "bleu took 0.00 seconds\n",
      "meteor took 0.02 seconds\n",
      "rouge took 0.14 seconds\n",
      "bleu took 0.00 seconds\n",
      "meteor took 0.01 seconds\n"
     ]
    },
    {
     "name": "stderr",
     "output_type": "stream",
     "text": [
      "Evaluating:  90%|████████▉ | 899/1000 [01:17<00:10,  9.20it/s]"
     ]
    },
    {
     "name": "stdout",
     "output_type": "stream",
     "text": [
      "rouge took 0.07 seconds\n",
      "bleu took 0.00 seconds\n",
      "meteor took 0.00 seconds\n",
      "rouge took 0.04 seconds\n",
      "bleu took 0.00 seconds\n",
      "meteor took 0.00 seconds\n",
      "rouge took 0.05 seconds\n",
      "bleu took 0.00 seconds\n",
      "meteor took 0.02 seconds\n"
     ]
    },
    {
     "name": "stderr",
     "output_type": "stream",
     "text": [
      "Evaluating:  90%|█████████ | 903/1000 [01:17<00:08, 11.30it/s]"
     ]
    },
    {
     "name": "stdout",
     "output_type": "stream",
     "text": [
      "rouge took 0.10 seconds\n",
      "bleu took 0.00 seconds\n",
      "meteor took 0.00 seconds\n",
      "rouge took 0.05 seconds\n",
      "bleu took 0.00 seconds\n",
      "meteor took 0.01 seconds\n",
      "rouge took 0.05 seconds\n",
      "bleu took 0.00 seconds\n",
      "meteor took 0.00 seconds\n",
      "rouge took 0.04 seconds\n",
      "bleu took 0.00 seconds\n",
      "meteor took 0.00 seconds\n"
     ]
    },
    {
     "name": "stderr",
     "output_type": "stream",
     "text": [
      "Evaluating:  91%|█████████ | 908/1000 [01:17<00:06, 15.16it/s]"
     ]
    },
    {
     "name": "stdout",
     "output_type": "stream",
     "text": [
      "rouge took 0.05 seconds\n",
      "bleu took 0.00 seconds\n",
      "meteor took 0.00 seconds\n",
      "rouge took 0.04 seconds\n",
      "bleu took 0.00 seconds\n",
      "meteor took 0.00 seconds\n",
      "rouge took 0.04 seconds\n",
      "bleu took 0.00 seconds\n",
      "meteor took 0.00 seconds\n",
      "rouge took 0.04 seconds\n",
      "bleu took 0.00 seconds\n",
      "meteor took 0.01 seconds\n"
     ]
    },
    {
     "name": "stderr",
     "output_type": "stream",
     "text": [
      "Evaluating:  91%|█████████ | 910/1000 [01:17<00:06, 14.57it/s]"
     ]
    },
    {
     "name": "stdout",
     "output_type": "stream",
     "text": [
      "rouge took 0.08 seconds\n",
      "bleu took 0.00 seconds\n",
      "meteor took 0.00 seconds\n",
      "rouge took 0.05 seconds\n",
      "bleu took 0.00 seconds\n",
      "meteor took 0.02 seconds\n",
      "rouge took 0.11 seconds\n",
      "bleu took 0.00 seconds\n",
      "meteor took 0.00 seconds\n"
     ]
    },
    {
     "name": "stderr",
     "output_type": "stream",
     "text": [
      "Evaluating:  91%|█████████ | 912/1000 [01:18<00:06, 13.34it/s]"
     ]
    },
    {
     "name": "stdout",
     "output_type": "stream",
     "text": [
      "rouge took 0.05 seconds\n",
      "bleu took 0.00 seconds\n",
      "meteor took 0.02 seconds\n",
      "rouge took 0.12 seconds\n",
      "bleu took 0.00 seconds\n",
      "meteor took 0.01 seconds\n"
     ]
    },
    {
     "name": "stderr",
     "output_type": "stream",
     "text": [
      "Evaluating:  92%|█████████▏| 917/1000 [01:18<00:05, 14.10it/s]"
     ]
    },
    {
     "name": "stdout",
     "output_type": "stream",
     "text": [
      "rouge took 0.06 seconds\n",
      "bleu took 0.00 seconds\n",
      "meteor took 0.00 seconds\n",
      "rouge took 0.04 seconds\n",
      "bleu took 0.00 seconds\n",
      "meteor took 0.00 seconds\n",
      "rouge took 0.04 seconds\n",
      "bleu took 0.00 seconds\n",
      "meteor took 0.00 seconds\n",
      "rouge took 0.04 seconds\n",
      "bleu took 0.00 seconds\n",
      "meteor took 0.00 seconds\n"
     ]
    },
    {
     "name": "stderr",
     "output_type": "stream",
     "text": [
      "Evaluating:  92%|█████████▏| 921/1000 [01:18<00:05, 15.57it/s]"
     ]
    },
    {
     "name": "stdout",
     "output_type": "stream",
     "text": [
      "rouge took 0.05 seconds\n",
      "bleu took 0.00 seconds\n",
      "meteor took 0.00 seconds\n",
      "rouge took 0.05 seconds\n",
      "bleu took 0.01 seconds\n",
      "meteor took 0.00 seconds\n",
      "rouge took 0.05 seconds\n",
      "bleu took 0.00 seconds\n",
      "meteor took 0.01 seconds\n",
      "rouge took 0.05 seconds\n",
      "bleu took 0.00 seconds\n",
      "meteor took 0.00 seconds\n"
     ]
    },
    {
     "name": "stderr",
     "output_type": "stream",
     "text": [
      "Evaluating:  92%|█████████▎| 925/1000 [01:18<00:04, 15.83it/s]"
     ]
    },
    {
     "name": "stdout",
     "output_type": "stream",
     "text": [
      "rouge took 0.05 seconds\n",
      "bleu took 0.00 seconds\n",
      "meteor took 0.00 seconds\n",
      "rouge took 0.05 seconds\n",
      "bleu took 0.00 seconds\n",
      "meteor took 0.01 seconds\n",
      "rouge took 0.07 seconds\n",
      "bleu took 0.00 seconds\n",
      "meteor took 0.00 seconds\n",
      "rouge took 0.04 seconds\n",
      "bleu took 0.00 seconds\n",
      "meteor took 0.00 seconds\n"
     ]
    },
    {
     "name": "stderr",
     "output_type": "stream",
     "text": [
      "Evaluating:  93%|█████████▎| 929/1000 [01:19<00:04, 17.02it/s]"
     ]
    },
    {
     "name": "stdout",
     "output_type": "stream",
     "text": [
      "rouge took 0.05 seconds\n",
      "bleu took 0.00 seconds\n",
      "meteor took 0.00 seconds\n",
      "rouge took 0.05 seconds\n",
      "bleu took 0.00 seconds\n",
      "meteor took 0.00 seconds\n",
      "rouge took 0.05 seconds\n",
      "bleu took 0.00 seconds\n",
      "meteor took 0.00 seconds\n",
      "rouge took 0.05 seconds\n",
      "bleu took 0.00 seconds\n",
      "meteor took 0.02 seconds\n"
     ]
    },
    {
     "name": "stderr",
     "output_type": "stream",
     "text": [
      "Evaluating:  93%|█████████▎| 933/1000 [01:19<00:04, 14.18it/s]"
     ]
    },
    {
     "name": "stdout",
     "output_type": "stream",
     "text": [
      "rouge took 0.16 seconds\n",
      "bleu took 0.00 seconds\n",
      "meteor took 0.00 seconds\n",
      "rouge took 0.04 seconds\n",
      "bleu took 0.00 seconds\n",
      "meteor took 0.00 seconds\n",
      "rouge took 0.05 seconds\n",
      "bleu took 0.00 seconds\n",
      "meteor took 0.01 seconds\n",
      "rouge took 0.05 seconds\n",
      "bleu took 0.00 seconds\n",
      "meteor took 0.01 seconds\n"
     ]
    },
    {
     "name": "stderr",
     "output_type": "stream",
     "text": [
      "Evaluating:  94%|█████████▎| 937/1000 [01:19<00:04, 14.55it/s]"
     ]
    },
    {
     "name": "stdout",
     "output_type": "stream",
     "text": [
      "rouge took 0.09 seconds\n",
      "bleu took 0.00 seconds\n",
      "meteor took 0.00 seconds\n",
      "rouge took 0.04 seconds\n",
      "bleu took 0.00 seconds\n",
      "meteor took 0.01 seconds\n",
      "rouge took 0.06 seconds\n",
      "bleu took 0.00 seconds\n",
      "meteor took 0.00 seconds\n",
      "rouge took 0.04 seconds\n",
      "bleu took 0.00 seconds\n",
      "meteor took 0.00 seconds\n"
     ]
    },
    {
     "name": "stderr",
     "output_type": "stream",
     "text": [
      "Evaluating:  94%|█████████▍| 941/1000 [01:19<00:03, 15.78it/s]"
     ]
    },
    {
     "name": "stdout",
     "output_type": "stream",
     "text": [
      "rouge took 0.05 seconds\n",
      "bleu took 0.00 seconds\n",
      "meteor took 0.01 seconds\n",
      "rouge took 0.07 seconds\n",
      "bleu took 0.00 seconds\n",
      "meteor took 0.00 seconds\n",
      "rouge took 0.04 seconds\n",
      "bleu took 0.00 seconds\n",
      "meteor took 0.00 seconds\n",
      "rouge took 0.05 seconds\n",
      "bleu took 0.00 seconds\n",
      "meteor took 0.00 seconds\n"
     ]
    },
    {
     "name": "stderr",
     "output_type": "stream",
     "text": [
      "Evaluating:  94%|█████████▍| 945/1000 [01:20<00:03, 17.06it/s]"
     ]
    },
    {
     "name": "stdout",
     "output_type": "stream",
     "text": [
      "rouge took 0.05 seconds\n",
      "bleu took 0.00 seconds\n",
      "meteor took 0.00 seconds\n",
      "rouge took 0.05 seconds\n",
      "bleu took 0.00 seconds\n",
      "meteor took 0.00 seconds\n",
      "rouge took 0.05 seconds\n",
      "bleu took 0.00 seconds\n",
      "meteor took 0.00 seconds\n",
      "rouge took 0.05 seconds\n",
      "bleu took 0.00 seconds\n",
      "meteor took 0.00 seconds\n"
     ]
    },
    {
     "name": "stderr",
     "output_type": "stream",
     "text": [
      "Evaluating:  95%|█████████▌| 950/1000 [01:20<00:02, 18.65it/s]"
     ]
    },
    {
     "name": "stdout",
     "output_type": "stream",
     "text": [
      "rouge took 0.05 seconds\n",
      "bleu took 0.00 seconds\n",
      "meteor took 0.00 seconds\n",
      "rouge took 0.05 seconds\n",
      "bleu took 0.00 seconds\n",
      "meteor took 0.00 seconds\n",
      "rouge took 0.04 seconds\n",
      "bleu took 0.00 seconds\n",
      "meteor took 0.00 seconds\n",
      "rouge took 0.04 seconds\n",
      "bleu took 0.00 seconds\n",
      "meteor took 0.00 seconds\n",
      "rouge took 0.04 seconds\n"
     ]
    },
    {
     "name": "stderr",
     "output_type": "stream",
     "text": [
      "Evaluating:  95%|█████████▌| 952/1000 [01:20<00:02, 18.60it/s]"
     ]
    },
    {
     "name": "stdout",
     "output_type": "stream",
     "text": [
      "bleu took 0.00 seconds\n",
      "meteor took 0.00 seconds\n",
      "rouge took 0.05 seconds\n",
      "bleu took 0.00 seconds\n",
      "meteor took 0.00 seconds\n",
      "rouge took 0.05 seconds\n",
      "bleu took 0.00 seconds\n",
      "meteor took 0.00 seconds\n",
      "rouge took 0.05 seconds\n",
      "bleu took 0.00 seconds\n",
      "meteor took 0.00 seconds\n"
     ]
    },
    {
     "name": "stderr",
     "output_type": "stream",
     "text": [
      "Evaluating:  96%|█████████▌| 956/1000 [01:20<00:02, 17.17it/s]"
     ]
    },
    {
     "name": "stdout",
     "output_type": "stream",
     "text": [
      "rouge took 0.05 seconds\n",
      "bleu took 0.00 seconds\n",
      "meteor took 0.00 seconds\n",
      "rouge took 0.05 seconds\n",
      "bleu took 0.00 seconds\n",
      "meteor took 0.01 seconds\n",
      "rouge took 0.06 seconds\n",
      "bleu took 0.00 seconds\n",
      "meteor took 0.00 seconds\n",
      "rouge took 0.04 seconds\n",
      "bleu took 0.00 seconds\n"
     ]
    },
    {
     "name": "stderr",
     "output_type": "stream",
     "text": [
      "Evaluating:  96%|█████████▌| 958/1000 [01:20<00:03, 13.68it/s]"
     ]
    },
    {
     "name": "stdout",
     "output_type": "stream",
     "text": [
      "meteor took 0.03 seconds\n",
      "rouge took 0.14 seconds\n",
      "bleu took 0.00 seconds\n",
      "meteor took 0.00 seconds\n",
      "rouge took 0.04 seconds\n",
      "bleu took 0.00 seconds\n",
      "meteor took 0.00 seconds\n"
     ]
    },
    {
     "name": "stderr",
     "output_type": "stream",
     "text": [
      "Evaluating:  96%|█████████▌| 962/1000 [01:21<00:02, 15.89it/s]"
     ]
    },
    {
     "name": "stdout",
     "output_type": "stream",
     "text": [
      "rouge took 0.05 seconds\n",
      "bleu took 0.00 seconds\n",
      "meteor took 0.00 seconds\n",
      "rouge took 0.05 seconds\n",
      "bleu took 0.00 seconds\n",
      "meteor took 0.00 seconds\n",
      "rouge took 0.05 seconds\n",
      "bleu took 0.00 seconds\n",
      "meteor took 0.00 seconds\n",
      "rouge took 0.04 seconds\n",
      "bleu took 0.00 seconds\n",
      "meteor took 0.00 seconds\n"
     ]
    },
    {
     "name": "stderr",
     "output_type": "stream",
     "text": [
      "Evaluating:  97%|█████████▋| 966/1000 [01:21<00:02, 16.76it/s]"
     ]
    },
    {
     "name": "stdout",
     "output_type": "stream",
     "text": [
      "rouge took 0.05 seconds\n",
      "bleu took 0.00 seconds\n",
      "meteor took 0.00 seconds\n",
      "rouge took 0.05 seconds\n",
      "bleu took 0.00 seconds\n",
      "meteor took 0.01 seconds\n",
      "rouge took 0.06 seconds\n",
      "bleu took 0.00 seconds\n",
      "meteor took 0.01 seconds\n",
      "rouge took 0.06 seconds\n",
      "bleu took 0.00 seconds\n",
      "meteor took 0.00 seconds\n"
     ]
    },
    {
     "name": "stderr",
     "output_type": "stream",
     "text": [
      "Evaluating:  97%|█████████▋| 971/1000 [01:21<00:01, 17.65it/s]"
     ]
    },
    {
     "name": "stdout",
     "output_type": "stream",
     "text": [
      "rouge took 0.05 seconds\n",
      "bleu took 0.00 seconds\n",
      "meteor took 0.00 seconds\n",
      "rouge took 0.05 seconds\n",
      "bleu took 0.00 seconds\n",
      "meteor took 0.00 seconds\n",
      "rouge took 0.04 seconds\n",
      "bleu took 0.00 seconds\n",
      "meteor took 0.00 seconds\n",
      "rouge took 0.05 seconds\n",
      "bleu took 0.00 seconds\n",
      "meteor took 0.01 seconds\n"
     ]
    },
    {
     "name": "stderr",
     "output_type": "stream",
     "text": [
      "Evaluating:  98%|█████████▊| 975/1000 [01:21<00:01, 18.31it/s]"
     ]
    },
    {
     "name": "stdout",
     "output_type": "stream",
     "text": [
      "rouge took 0.05 seconds\n",
      "bleu took 0.00 seconds\n",
      "meteor took 0.00 seconds\n",
      "rouge took 0.04 seconds\n",
      "bleu took 0.00 seconds\n",
      "meteor took 0.00 seconds\n",
      "rouge took 0.05 seconds\n",
      "bleu took 0.00 seconds\n",
      "meteor took 0.00 seconds\n",
      "rouge took 0.05 seconds\n",
      "bleu took 0.00 seconds\n",
      "meteor took 0.00 seconds\n",
      "rouge took 0.04 seconds\n"
     ]
    },
    {
     "name": "stderr",
     "output_type": "stream",
     "text": [
      "Evaluating:  98%|█████████▊| 977/1000 [01:22<00:01, 16.67it/s]"
     ]
    },
    {
     "name": "stdout",
     "output_type": "stream",
     "text": [
      "bleu took 0.00 seconds\n",
      "meteor took 0.00 seconds\n",
      "rouge took 0.09 seconds\n",
      "bleu took 0.00 seconds\n",
      "meteor took 0.00 seconds\n",
      "rouge took 0.04 seconds\n",
      "bleu took 0.00 seconds\n",
      "meteor took 0.01 seconds\n"
     ]
    },
    {
     "name": "stderr",
     "output_type": "stream",
     "text": [
      "Evaluating:  98%|█████████▊| 979/1000 [01:22<00:01, 16.17it/s]"
     ]
    },
    {
     "name": "stdout",
     "output_type": "stream",
     "text": [
      "rouge took 0.07 seconds\n",
      "bleu took 0.01 seconds\n",
      "meteor took 0.04 seconds\n"
     ]
    },
    {
     "name": "stderr",
     "output_type": "stream",
     "text": [
      "Evaluating:  98%|█████████▊| 981/1000 [01:22<00:01, 11.53it/s]"
     ]
    },
    {
     "name": "stdout",
     "output_type": "stream",
     "text": [
      "rouge took 0.20 seconds\n",
      "bleu took 0.00 seconds\n",
      "meteor took 0.00 seconds\n",
      "rouge took 0.04 seconds\n",
      "bleu took 0.00 seconds\n",
      "meteor took 0.00 seconds\n",
      "rouge took 0.05 seconds\n",
      "bleu took 0.00 seconds\n",
      "meteor took 0.00 seconds\n",
      "rouge took 0.04 seconds\n",
      "bleu took 0.00 seconds\n",
      "meteor took 0.00 seconds\n"
     ]
    },
    {
     "name": "stderr",
     "output_type": "stream",
     "text": [
      "Evaluating:  98%|█████████▊| 984/1000 [01:22<00:01, 13.64it/s]"
     ]
    },
    {
     "name": "stdout",
     "output_type": "stream",
     "text": [
      "rouge took 0.05 seconds\n",
      "bleu took 0.00 seconds\n",
      "meteor took 0.00 seconds\n",
      "rouge took 0.05 seconds\n",
      "bleu took 0.01 seconds\n",
      "meteor took 0.08 seconds\n"
     ]
    },
    {
     "name": "stderr",
     "output_type": "stream",
     "text": [
      "Evaluating:  99%|█████████▉| 989/1000 [01:23<00:01,  8.98it/s]"
     ]
    },
    {
     "name": "stdout",
     "output_type": "stream",
     "text": [
      "rouge took 0.54 seconds\n",
      "bleu took 0.00 seconds\n",
      "meteor took 0.00 seconds\n",
      "rouge took 0.05 seconds\n",
      "bleu took 0.00 seconds\n",
      "meteor took 0.00 seconds\n",
      "rouge took 0.04 seconds\n",
      "bleu took 0.00 seconds\n",
      "meteor took 0.01 seconds\n",
      "rouge took 0.05 seconds\n",
      "bleu took 0.00 seconds\n",
      "meteor took 0.00 seconds\n"
     ]
    },
    {
     "name": "stderr",
     "output_type": "stream",
     "text": [
      "Evaluating:  99%|█████████▉| 993/1000 [01:23<00:00, 11.84it/s]"
     ]
    },
    {
     "name": "stdout",
     "output_type": "stream",
     "text": [
      "rouge took 0.05 seconds\n",
      "bleu took 0.00 seconds\n",
      "meteor took 0.00 seconds\n",
      "rouge took 0.04 seconds\n",
      "bleu took 0.00 seconds\n",
      "meteor took 0.00 seconds\n",
      "rouge took 0.04 seconds\n",
      "bleu took 0.00 seconds\n",
      "meteor took 0.00 seconds\n",
      "rouge took 0.05 seconds\n",
      "bleu took 0.00 seconds\n",
      "meteor took 0.00 seconds\n"
     ]
    },
    {
     "name": "stderr",
     "output_type": "stream",
     "text": [
      "Evaluating: 100%|█████████▉| 997/1000 [01:23<00:00, 13.63it/s]"
     ]
    },
    {
     "name": "stdout",
     "output_type": "stream",
     "text": [
      "rouge took 0.05 seconds\n",
      "bleu took 0.00 seconds\n",
      "meteor took 0.00 seconds\n",
      "rouge took 0.05 seconds\n",
      "bleu took 0.00 seconds\n",
      "meteor took 0.00 seconds\n",
      "rouge took 0.05 seconds\n",
      "bleu took 0.00 seconds\n",
      "meteor took 0.01 seconds\n",
      "rouge took 0.06 seconds\n",
      "bleu took 0.00 seconds\n",
      "meteor took 0.01 seconds\n"
     ]
    },
    {
     "name": "stderr",
     "output_type": "stream",
     "text": [
      "Evaluating: 100%|██████████| 1000/1000 [01:24<00:00, 11.88it/s]"
     ]
    },
    {
     "name": "stdout",
     "output_type": "stream",
     "text": [
      "rouge took 0.08 seconds\n",
      "bleu took 0.00 seconds\n",
      "meteor took 0.00 seconds\n",
      "rouge took 0.05 seconds\n",
      "bleu took 0.00 seconds\n",
      "meteor took 0.00 seconds\n",
      "rouge took 0.05 seconds\n",
      "Results saved to /Users/being/Desktop/workspace2024/TranslationEvaluator/data/processed/eval_gpt-4o-mini.csv\n"
     ]
    },
    {
     "name": "stderr",
     "output_type": "stream",
     "text": [
      "\n"
     ]
    }
   ],
   "source": [
    "df_sentence_pair = pd.read_csv('../data/processed/batchoutput_1000_gpt-4o-mini.csv')\n",
    "# df_sentence_pair = df_sentence_pair[:100] # 일단 100개만 테스트\n",
    "\n",
    "# 예측 및 참조 문장 리스트 생성\n",
    "predictions = df_sentence_pair[\"english\"].tolist()\n",
    "references = df_sentence_pair[\"predictions_Eng\"].tolist()\n",
    "\n",
    "# references를 리스트의 리스트로 변환\n",
    "references = [[ref] if isinstance(ref, str) else ref for ref in references]\n",
    "\n",
    "evaluator = TranslationEvaluator(predictions, references, output_path='../data/processed/eval_gpt-4o-mini.csv')\n",
    "evaluator.compute_scores()\n",
    "evaluator.save_to_csv()"
   ]
  },
  {
   "cell_type": "code",
   "execution_count": null,
   "metadata": {},
   "outputs": [],
   "source": []
  }
 ],
 "metadata": {
  "kernelspec": {
   "display_name": "Python 3",
   "language": "python",
   "name": "python3"
  },
  "language_info": {
   "codemirror_mode": {
    "name": "ipython",
    "version": 3
   },
   "file_extension": ".py",
   "mimetype": "text/x-python",
   "name": "python",
   "nbconvert_exporter": "python",
   "pygments_lexer": "ipython3",
   "version": "3.9.6"
  }
 },
 "nbformat": 4,
 "nbformat_minor": 2
}
